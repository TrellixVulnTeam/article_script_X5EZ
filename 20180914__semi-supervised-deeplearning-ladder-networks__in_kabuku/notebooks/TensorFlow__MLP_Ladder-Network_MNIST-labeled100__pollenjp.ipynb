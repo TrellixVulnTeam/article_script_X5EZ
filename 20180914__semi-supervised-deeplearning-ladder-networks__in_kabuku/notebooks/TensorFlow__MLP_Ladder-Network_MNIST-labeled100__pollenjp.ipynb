{
 "cells": [
  {
   "cell_type": "markdown",
   "metadata": {},
   "source": [
    "# TensorFlow__MLP_ladder-network_MNIST-labeled100__pollenjp\n",
    "\n",
    "- 論文\n",
    "  - [Semi-Supervised Learning with Ladder Networks - Antti Rasmus, Harri Valpola, Mikko Honkala, Mathias Berglund, Tapani Raiko](https://arxiv.org/abs/1507.02672)\n",
    "\n",
    "- code\n",
    "  - [rinuboney/ladder](https://github.com/rinuboney/ladder)\n",
    "  - [tarvaina/tensorflow-ladder](https://github.com/tarvaina/tensorflow-ladder)\n"
   ]
  },
  {
   "cell_type": "markdown",
   "metadata": {
    "toc": true
   },
   "source": [
    "<h1>Table of Contents<span class=\"tocSkip\"></span></h1>\n",
    "<div class=\"toc\"><ul class=\"toc-item\"><li><span><a href=\"#Config\" data-toc-modified-id=\"Config-1\"><span class=\"toc-item-num\">1&nbsp;&nbsp;</span>Config</a></span><ul class=\"toc-item\"><li><span><a href=\"#Import\" data-toc-modified-id=\"Import-1.1\"><span class=\"toc-item-num\">1.1&nbsp;&nbsp;</span>Import</a></span></li><li><span><a href=\"#TensorFlow\" data-toc-modified-id=\"TensorFlow-1.2\"><span class=\"toc-item-num\">1.2&nbsp;&nbsp;</span>TensorFlow</a></span></li><li><span><a href=\"#Path\" data-toc-modified-id=\"Path-1.3\"><span class=\"toc-item-num\">1.3&nbsp;&nbsp;</span>Path</a></span></li><li><span><a href=\"#Import-from-Local\" data-toc-modified-id=\"Import-from-Local-1.4\"><span class=\"toc-item-num\">1.4&nbsp;&nbsp;</span>Import from Local</a></span></li></ul></li><li><span><a href=\"#Ladder-Networks\" data-toc-modified-id=\"Ladder-Networks-2\"><span class=\"toc-item-num\">2&nbsp;&nbsp;</span>Ladder Networks</a></span><ul class=\"toc-item\"><li><span><a href=\"#Initialize-Layer's-and-Batch-Normalization's-Weights\" data-toc-modified-id=\"Initialize-Layer's-and-Batch-Normalization's-Weights-2.1\"><span class=\"toc-item-num\">2.1&nbsp;&nbsp;</span>Initialize Layer's and Batch Normalization's Weights</a></span><ul class=\"toc-item\"><li><span><a href=\"#[DEF]-b_i,-w_i\" data-toc-modified-id=\"[DEF]-b_i,-w_i-2.1.1\"><span class=\"toc-item-num\">2.1.1&nbsp;&nbsp;</span>[DEF] b_i, w_i</a></span></li></ul></li><li><span><a href=\"#batch_normalization\" data-toc-modified-id=\"batch_normalization-2.2\"><span class=\"toc-item-num\">2.2&nbsp;&nbsp;</span>batch_normalization</a></span><ul class=\"toc-item\"><li><span><a href=\"#[DEF]-batch_normalization\" data-toc-modified-id=\"[DEF]-batch_normalization-2.2.1\"><span class=\"toc-item-num\">2.2.1&nbsp;&nbsp;</span>[DEF] batch_normalization</a></span></li><li><span><a href=\"#[DEF]-update_batch_normalization\" data-toc-modified-id=\"[DEF]-update_batch_normalization-2.2.2\"><span class=\"toc-item-num\">2.2.2&nbsp;&nbsp;</span>[DEF] update_batch_normalization</a></span></li></ul></li><li><span><a href=\"#Encoder\" data-toc-modified-id=\"Encoder-2.3\"><span class=\"toc-item-num\">2.3&nbsp;&nbsp;</span>Encoder</a></span></li><li><span><a href=\"#Decoder\" data-toc-modified-id=\"Decoder-2.4\"><span class=\"toc-item-num\">2.4&nbsp;&nbsp;</span>Decoder</a></span><ul class=\"toc-item\"><li><span><a href=\"#[DEF]-g_gauss\" data-toc-modified-id=\"[DEF]-g_gauss-2.4.1\"><span class=\"toc-item-num\">2.4.1&nbsp;&nbsp;</span>[DEF] g_gauss</a></span></li><li><span><a href=\"#Decode\" data-toc-modified-id=\"Decode-2.4.2\"><span class=\"toc-item-num\">2.4.2&nbsp;&nbsp;</span>Decode</a></span></li></ul></li><li><span><a href=\"#parameter\" data-toc-modified-id=\"parameter-2.5\"><span class=\"toc-item-num\">2.5&nbsp;&nbsp;</span>parameter</a></span><ul class=\"toc-item\"><li><span><a href=\"#Cost,-Loss\" data-toc-modified-id=\"Cost,-Loss-2.5.1\"><span class=\"toc-item-num\">2.5.1&nbsp;&nbsp;</span>Cost, Loss</a></span></li></ul></li><li><span><a href=\"#Computational-Graph\" data-toc-modified-id=\"Computational-Graph-2.6\"><span class=\"toc-item-num\">2.6&nbsp;&nbsp;</span>Computational Graph</a></span></li><li><span><a href=\"#Load-MNIST\" data-toc-modified-id=\"Load-MNIST-2.7\"><span class=\"toc-item-num\">2.7&nbsp;&nbsp;</span>Load MNIST</a></span></li><li><span><a href=\"#Session\" data-toc-modified-id=\"Session-2.8\"><span class=\"toc-item-num\">2.8&nbsp;&nbsp;</span>Session</a></span></li></ul></li><li><span><a href=\"#show-Result\" data-toc-modified-id=\"show-Result-3\"><span class=\"toc-item-num\">3&nbsp;&nbsp;</span>show Result</a></span></li><li><span><a href=\"#End\" data-toc-modified-id=\"End-4\"><span class=\"toc-item-num\">4&nbsp;&nbsp;</span>End</a></span></li></ul></div>"
   ]
  },
  {
   "cell_type": "markdown",
   "metadata": {},
   "source": [
    "## Config"
   ]
  },
  {
   "cell_type": "markdown",
   "metadata": {},
   "source": [
    "### Import"
   ]
  },
  {
   "cell_type": "code",
   "execution_count": 2,
   "metadata": {
    "ExecuteTime": {
     "end_time": "2018-09-19T05:14:55.810898Z",
     "start_time": "2018-09-19T05:14:55.801420Z"
    }
   },
   "outputs": [
    {
     "name": "stdout",
     "output_type": "stream",
     "text": [
      "3.5.2 (default, Nov 23 2017, 16:37:01) \n",
      "[GCC 5.4.0 20160609]\n"
     ]
    }
   ],
   "source": [
    "import os,sys\n",
    "print(sys.version)\n",
    "\n",
    "import re\n",
    "from pathlib import Path\n",
    "import math"
   ]
  },
  {
   "cell_type": "code",
   "execution_count": 3,
   "metadata": {
    "ExecuteTime": {
     "end_time": "2018-09-19T05:14:56.403075Z",
     "start_time": "2018-09-19T05:14:55.912570Z"
    },
    "scrolled": false
   },
   "outputs": [
    {
     "name": "stdout",
     "output_type": "stream",
     "text": [
      "Modules to reload:\n",
      "all-except-skipped\n",
      "\n",
      "Modules to skip:\n",
      "\n",
      "numpy ver: 1.15.1\n",
      "scikit-learn ver: 0.19.2\n",
      "pandas ver: 0.23.4\n"
     ]
    }
   ],
   "source": [
    "# OPTIONAL: Load the \"autoreload\" extension so that code can change\n",
    "%load_ext autoreload\n",
    "# OPTIONAL: always reload modules so that as you change code in src, it gets loaded\n",
    "%autoreload 2\n",
    "# If you want to reload manually, add a below line head.\n",
    "%aimport\n",
    "# ref: https://ipython.org/ipython-doc/3/config/extensions/autoreload.html\n",
    "\n",
    "import matplotlib.pyplot as plt\n",
    "%matplotlib inline\n",
    "\n",
    "import numpy as np\n",
    "import sklearn\n",
    "from sklearn import datasets\n",
    "import tqdm\n",
    "import csv\n",
    "import pandas as pd\n",
    "\n",
    "seed = None\n",
    "np.random.seed(seed=seed)\n",
    "\n",
    "print(\"numpy ver: {}\".format(np.__version__))\n",
    "print(\"scikit-learn ver: {}\".format(sklearn.__version__))\n",
    "print(\"pandas ver: {}\".format(pd.__version__))"
   ]
  },
  {
   "cell_type": "markdown",
   "metadata": {},
   "source": [
    "### TensorFlow"
   ]
  },
  {
   "cell_type": "code",
   "execution_count": 4,
   "metadata": {
    "ExecuteTime": {
     "end_time": "2018-09-19T05:15:04.072882Z",
     "start_time": "2018-09-19T05:15:03.021123Z"
    }
   },
   "outputs": [
    {
     "name": "stdout",
     "output_type": "stream",
     "text": [
      "tensorflow ver: 1.10.1\n",
      "tf.executing_eagerly(): False\n",
      "\n",
      "________________________________________\n",
      "Visible GPUs from TensorFlow\n",
      "________________________________________\n",
      "\n",
      "(CPU:0)\n",
      "(GPU:0: pci_bus_id: 0000:01:00.0)\n",
      "________________________________________\n"
     ]
    }
   ],
   "source": [
    "#____________________________________________________________________________________________________\n",
    "#  TensorFlow and Keras GPU configures\n",
    "##________________________________________________________________________________\n",
    "##  OPTIONAL : set a GPU viewed by TensorFlow\n",
    "###____________________________________________________________\n",
    "###  - https://stackoverflow.com/questions/37893755/tensorflow-set-cuda-visible-devices-within-jupyter\n",
    "import os\n",
    "os.environ[\"CUDA_DEVICE_ORDER\"]=\"PCI_BUS_ID\"   # see issue #152\n",
    "os.environ[\"CUDA_VISIBLE_DEVICES\"]=\"0\"\n",
    "##________________________________________________________________________________\n",
    "\n",
    "\n",
    "##________________________________________________________________________________\n",
    "##  TensorFlow\n",
    "###____________________________________________________________\n",
    "import tensorflow as tf\n",
    "print(\"tensorflow ver: {}\".format(tf.__version__))\n",
    "###  eager mode\n",
    "#tf.enable_eager_execution()\n",
    "print(\"tf.executing_eagerly(): {}\".format(tf.executing_eagerly()))\n",
    "\n",
    "# You can double check that you have the correct devices visible to TF\n",
    "#   - https://stackoverflow.com/questions/37893755/tensorflow-set-cuda-visible-devices-within-jupyter\n",
    "from tensorflow.python.client import device_lib\n",
    "print(\"\"\"\n",
    "________________________________________\n",
    "Visible GPUs from TensorFlow\n",
    "________________________________________\"\"\")\n",
    "for _device in device_lib.list_local_devices():\n",
    "    match = re.search(pattern=r'name: \"/device:(?P<name>[A-Z]{3}):(?P<device_num>\\d{1})*',\n",
    "                      string=str(_device))\n",
    "    if match is None:\n",
    "        print(\"Not Match\")\n",
    "        continue\n",
    "    if match.group(\"name\") == \"CPU\":\n",
    "        name, device_num = match.group(\"name\", \"device_num\")\n",
    "        print()\n",
    "        print(\"({}:{})\".format(name, device_num))\n",
    "        continue\n",
    "    name, device_num = match.group(\"name\", \"device_num\")\n",
    "    match = re.search(pattern=r'.*pci bus id: (?P<pci_bus_id>\\d{4}:\\d{2}:\\d{2}.\\d{1}).*',\n",
    "                      string=str(_device))\n",
    "    if match is None:\n",
    "        print(\"No GPUs\")\n",
    "        continue\n",
    "    print(\"({}:{}: pci_bus_id: {})\".format(name, device_num, match.group(\"pci_bus_id\")))\n",
    "print(\"________________________________________\")\n",
    "\n",
    "###____________________________________________________________\n",
    "###  sessioin\n",
    "global _SESSION\n",
    "config = tf.ConfigProto(allow_soft_placement=True,\n",
    "                        log_device_placement=True)\n",
    "config.gpu_options.allow_growth = True\n",
    "#_SESSION = tf.Session(config=config)\n",
    "###____________________________________________________________\n",
    "##________________________________________________________________________________\n",
    "#____________________________________________________________________________________________________"
   ]
  },
  {
   "cell_type": "markdown",
   "metadata": {},
   "source": [
    "### Path"
   ]
  },
  {
   "cell_type": "code",
   "execution_count": 5,
   "metadata": {
    "ExecuteTime": {
     "end_time": "2018-09-19T05:15:04.086613Z",
     "start_time": "2018-09-19T05:15:04.074152Z"
    }
   },
   "outputs": [
    {
     "name": "stdout",
     "output_type": "stream",
     "text": [
      "/home/pollenjp/workdir/git/article_script/20180914__semi-supervised-deeplearning-ladder-networks__in_kabuku\n"
     ]
    }
   ],
   "source": [
    "HOME = Path(os.getcwd()).parent\n",
    "print(HOME)"
   ]
  },
  {
   "cell_type": "code",
   "execution_count": 6,
   "metadata": {
    "ExecuteTime": {
     "end_time": "2018-09-19T05:15:04.102182Z",
     "start_time": "2018-09-19T05:15:04.087895Z"
    }
   },
   "outputs": [
    {
     "name": "stdout",
     "output_type": "stream",
     "text": [
      "True :  /home/pollenjp/workdir/git/article_script/20180914__semi-supervised-deeplearning-ladder-networks__in_kabuku/data\n",
      "True :  /home/pollenjp/workdir/git/article_script/20180914__semi-supervised-deeplearning-ladder-networks__in_kabuku/data/raw\n",
      "True :  /home/pollenjp/workdir/git/article_script/20180914__semi-supervised-deeplearning-ladder-networks__in_kabuku/data/plot_images\n",
      "True :  /home/pollenjp/workdir/git/article_script/20180914__semi-supervised-deeplearning-ladder-networks__in_kabuku/src\n"
     ]
    }
   ],
   "source": [
    "path_list = []\n",
    "data_Path = HOME / \"data\"\n",
    "path_list.append(data_Path)\n",
    "raw_Path = data_Path / \"raw\"\n",
    "path_list.append(raw_Path)\n",
    "plot_images_Path = data_Path / \"plot_images\"\n",
    "path_list.append(plot_images_Path)\n",
    "src_Path = HOME / \"src\"\n",
    "path_list.append(src_Path)\n",
    "\n",
    "for _Path in path_list:\n",
    "    _path = str(_Path)\n",
    "    if not os.path.exists(_path):\n",
    "        os.makedirs(name=_path)\n",
    "        print(\"make a directory: \\n\\t\", _path)\n",
    "    else:\n",
    "        print(os.path.exists(_path), \": \", _path)"
   ]
  },
  {
   "cell_type": "markdown",
   "metadata": {},
   "source": [
    "### Import from Local"
   ]
  },
  {
   "cell_type": "code",
   "execution_count": 7,
   "metadata": {
    "ExecuteTime": {
     "end_time": "2018-09-19T05:15:04.115662Z",
     "start_time": "2018-09-19T05:15:04.103442Z"
    }
   },
   "outputs": [],
   "source": [
    "sys.path.append(str(src_Path))"
   ]
  },
  {
   "cell_type": "code",
   "execution_count": 8,
   "metadata": {
    "ExecuteTime": {
     "end_time": "2018-09-19T05:15:04.130600Z",
     "start_time": "2018-09-19T05:15:04.116914Z"
    }
   },
   "outputs": [],
   "source": [
    "from data import mnist_input_data\n",
    "from utils_tensorflow.tensorflow_graph_in_jupyer import show_computational_graph"
   ]
  },
  {
   "cell_type": "markdown",
   "metadata": {},
   "source": [
    "## Ladder Networks"
   ]
  },
  {
   "cell_type": "code",
   "execution_count": 9,
   "metadata": {
    "ExecuteTime": {
     "end_time": "2018-09-19T05:15:04.144527Z",
     "start_time": "2018-09-19T05:15:04.131848Z"
    }
   },
   "outputs": [],
   "source": [
    "tf.reset_default_graph()"
   ]
  },
  {
   "cell_type": "code",
   "execution_count": 10,
   "metadata": {
    "ExecuteTime": {
     "end_time": "2018-09-19T05:15:04.159247Z",
     "start_time": "2018-09-19T05:15:04.146031Z"
    }
   },
   "outputs": [],
   "source": [
    "layer_sizes = [784, 1000, 500, 250, 250, 250, 10]\n",
    "L = len(layer_sizes) - 1  # number of layers\n",
    "\n",
    "num_examples = 60000\n",
    "num_epochs = 150\n",
    "num_labeled = 100\n",
    "\n",
    "starter_learning_rate = 0.02\n",
    "decay_after = 15  # epoch after which to begin learning rate decay\n",
    "batch_size = 100\n",
    "num_iter = (num_examples//batch_size) * num_epochs # number of loop iterations"
   ]
  },
  {
   "cell_type": "code",
   "execution_count": 11,
   "metadata": {
    "ExecuteTime": {
     "end_time": "2018-09-19T05:15:04.182124Z",
     "start_time": "2018-09-19T05:15:04.160593Z"
    }
   },
   "outputs": [],
   "source": [
    "with tf.name_scope(name=\"PLACEHOLDER\"):\n",
    "    inputs = tf.placeholder(tf.float32, shape=(None, layer_sizes[0]))\n",
    "    outputs = tf.placeholder(tf.float32)"
   ]
  },
  {
   "cell_type": "markdown",
   "metadata": {},
   "source": [
    "### Initialize Layer's and Batch Normalization's Weights"
   ]
  },
  {
   "cell_type": "markdown",
   "metadata": {},
   "source": [
    "#### [DEF] b_i, w_i"
   ]
  },
  {
   "cell_type": "code",
   "execution_count": 12,
   "metadata": {
    "ExecuteTime": {
     "end_time": "2018-09-19T05:15:04.196460Z",
     "start_time": "2018-09-19T05:15:04.183406Z"
    }
   },
   "outputs": [],
   "source": [
    "def b_i(inits, size, name):\n",
    "    return tf.Variable(inits * tf.ones([size]), name=name)\n",
    "def w_i(shape, name):\n",
    "    return tf.Variable(tf.random_normal(shape, name=name)) / math.sqrt(shape[0])"
   ]
  },
  {
   "cell_type": "code",
   "execution_count": 13,
   "metadata": {
    "ExecuteTime": {
     "end_time": "2018-09-19T05:15:04.301128Z",
     "start_time": "2018-09-19T05:15:04.197695Z"
    }
   },
   "outputs": [],
   "source": [
    "shapes = list(zip(list(layer_sizes)[:-1], list(layer_sizes[1:])))\n",
    "weights = {\n",
    "    'W': [w_i(s, \"W\") for s in shapes],  # Encoder weights\n",
    "    'V': [w_i(s[::-1], \"V\") for s in shapes],  # Decoder weights\n",
    "    # batch normalization parameter to shift the normalized value\n",
    "    'beta': [b_i(0.0, layer_sizes[l+1], \"beta\") for l in range(L)],\n",
    "    # batch normalization parameter to scale the normalized value\n",
    "    'gamma': [b_i(1.0, layer_sizes[l+1], \"beta\") for l in range(L)],\n",
    "}"
   ]
  },
  {
   "cell_type": "code",
   "execution_count": 14,
   "metadata": {
    "ExecuteTime": {
     "end_time": "2018-09-19T05:15:04.314348Z",
     "start_time": "2018-09-19T05:15:04.302261Z"
    }
   },
   "outputs": [],
   "source": [
    "noise_std = 0.3  # scaling factor for noise used in corrupted encoder\n",
    "# hyperparameters that denote the importance of each layer\n",
    "denoising_cost = [1000.0, 10.0, 0.10, 0.10, 0.10, 0.10, 0.10]"
   ]
  },
  {
   "cell_type": "code",
   "execution_count": 15,
   "metadata": {
    "ExecuteTime": {
     "end_time": "2018-09-19T05:15:04.328654Z",
     "start_time": "2018-09-19T05:15:04.315617Z"
    }
   },
   "outputs": [],
   "source": [
    "join      = lambda l, u: tf.concat([l, u], 0)\n",
    "labeled   = lambda x   : tf.slice(x, [0, 0], [batch_size, -1]) if x is not None else x\n",
    "unlabeled = lambda x   : tf.slice(x, [batch_size, 0], [-1, -1]) if x is not None else x\n",
    "split_lu  = lambda x   : (labeled(x), unlabeled(x))"
   ]
  },
  {
   "cell_type": "code",
   "execution_count": 16,
   "metadata": {
    "ExecuteTime": {
     "end_time": "2018-09-19T05:15:04.342967Z",
     "start_time": "2018-09-19T05:15:04.329997Z"
    }
   },
   "outputs": [],
   "source": [
    "training = tf.placeholder(tf.bool)\n",
    "ewma = tf.train.ExponentialMovingAverage(decay=0.99)  # to calculate the moving averages of mean and variance\n",
    "bn_assigns= []  # this list stores the updates to be made to average mean and variance"
   ]
  },
  {
   "cell_type": "markdown",
   "metadata": {},
   "source": [
    "### batch_normalization"
   ]
  },
  {
   "cell_type": "markdown",
   "metadata": {},
   "source": [
    "#### [DEF] batch_normalization"
   ]
  },
  {
   "cell_type": "code",
   "execution_count": 17,
   "metadata": {
    "ExecuteTime": {
     "end_time": "2018-09-19T05:15:04.357128Z",
     "start_time": "2018-09-19T05:15:04.344240Z"
    }
   },
   "outputs": [],
   "source": [
    "def batch_normalization(batch, mean=None, var=None):\n",
    "    \"\"\"\n",
    "    Parameters\n",
    "    ----------\n",
    "    batch :\n",
    "    mean :\n",
    "    var :\n",
    "\n",
    "    Returns\n",
    "    -------\n",
    "    normalized batch :\n",
    "    \"\"\"\n",
    "    if mean is None or var is None:  # まだ平均と分散を計算していない場合\n",
    "        mean, var = tf.nn.moments(batch, axes=[0])\n",
    "    return (batch - mean) / tf.sqrt(var + tf.constant(1e-10))"
   ]
  },
  {
   "cell_type": "code",
   "execution_count": 18,
   "metadata": {
    "ExecuteTime": {
     "end_time": "2018-09-19T05:15:04.394172Z",
     "start_time": "2018-09-19T05:15:04.358223Z"
    }
   },
   "outputs": [],
   "source": [
    "# average mean and variance of all layers\n",
    "running_mean = [tf.Variable(tf.constant(0.0, shape=[l]), trainable=False) for l in layer_sizes[1:]]\n",
    "running_var = [tf.Variable(tf.constant(1.0, shape=[l]), trainable=False) for l in layer_sizes[1:]]"
   ]
  },
  {
   "cell_type": "markdown",
   "metadata": {},
   "source": [
    "#### [DEF] update_batch_normalization"
   ]
  },
  {
   "cell_type": "code",
   "execution_count": 19,
   "metadata": {
    "ExecuteTime": {
     "end_time": "2018-09-19T05:15:04.563923Z",
     "start_time": "2018-09-19T05:15:04.517458Z"
    }
   },
   "outputs": [],
   "source": [
    "def update_batch_normalization(batch, l):\n",
    "    \"\"\"\n",
    "    batch normalize + update average mean and variance of layer l\n",
    "\n",
    "    Parameters\n",
    "    ----------\n",
    "    batch :\n",
    "    l : layer\n",
    "\n",
    "    Globals\n",
    "    -------\n",
    "    running_mean, running_var : list, These list stores average mean and variance of all layers\n",
    "    ewma : tf.train.ExponentialMovingAverage, Calculate the moving averages of mean and variance\n",
    "    bn_assigns : list, This list stores the updates to be made to average mean and variance\n",
    "\n",
    "    Returns\n",
    "    -------\n",
    "    normalized batch\n",
    "    \"\"\"\n",
    "    mean, var = tf.nn.moments(batch, axes=[0])\n",
    "    assign_mean = running_mean[l-1].assign(mean)  # Update\n",
    "    assign_var = running_var[l-1].assign(var)     # Update\n",
    "    bn_assigns.append(ewma.apply([running_mean[l-1], running_var[l-1]])) # Store moving averages\n",
    "    with tf.control_dependencies([assign_mean, assign_var]): # return after assign\n",
    "        return (batch - mean) / tf.sqrt(var + 1e-10)"
   ]
  },
  {
   "cell_type": "markdown",
   "metadata": {},
   "source": [
    "### Encoder"
   ]
  },
  {
   "cell_type": "code",
   "execution_count": 20,
   "metadata": {
    "ExecuteTime": {
     "end_time": "2018-09-19T05:15:04.847345Z",
     "start_time": "2018-09-19T05:15:04.797101Z"
    }
   },
   "outputs": [],
   "source": [
    "def encoder(inputs, noise_std):\n",
    "    \"\"\"\n",
    "    Parameters\n",
    "    ----------\n",
    "    inputs :\n",
    "    noised_std : float,\n",
    "        noised_std != 0.0 --> Corrupted Encoder\n",
    "        noised_std == 0.0 --> Clear Encoder\n",
    "\n",
    "    Globals\n",
    "    -------\n",
    "    split_lu : func\n",
    "    layer_sizes : list\n",
    "    weights : dict\n",
    "    join : func\n",
    "    batch_normalization : func\n",
    "    running_mean, running_var : list, These list stores average mean and variance of all layers\n",
    "\n",
    "    Returns\n",
    "    -------\n",
    "    \"\"\"\n",
    "    h = inputs + tf.random_normal(tf.shape(inputs)) * noise_std  # add noise to input\n",
    "    d = {}  # to store the pre-activation, activation, mean and variance for each layer\n",
    "    # The data for labeled and unlabeled examples are stored separately\n",
    "    d['labeled']   = {'z': {}, 'm': {}, 'v': {}, 'h': {}} # m=mean, v=variance\n",
    "    d['unlabeled'] = {'z': {}, 'm': {}, 'v': {}, 'h': {}} # m=mean, v=variance\n",
    "    d['labeled']['z'][0], d['unlabeled']['z'][0] = split_lu(h)\n",
    "    for l in range(1, L+1):\n",
    "        print( \"Layer {:>3}: {:>5} -> {:>5}\".format(l,layer_sizes[l-1], layer_sizes[l]) )\n",
    "        d['labeled']['h'][l-1], d['unlabeled']['h'][l-1] = split_lu(h)\n",
    "        z_pre = tf.matmul(h, weights['W'][l-1])  # pre-activation\n",
    "        z_pre_l, z_pre_u = split_lu(z_pre)  # split labeled and unlabeled examples\n",
    "\n",
    "        m, v = tf.nn.moments(z_pre_u, axes=[0]) # compute mean, variance using twice later (efficiency)\n",
    "\n",
    "        #----------------------------------------\n",
    "        # if training:\n",
    "        def training_batch_norm():\n",
    "            # Training batch normalization\n",
    "            # batch normalization for labeled and unlabeled examples is performed separately\n",
    "            if noise_std > 0:  # Corrupted Encoder\n",
    "                # Corrupted encoder\n",
    "                # batch normalization + noise\n",
    "                z = join(batch_normalization(z_pre_l), batch_normalization(z_pre_u, m, v))\n",
    "                z += tf.random_normal(tf.shape(z_pre)) * noise_std\n",
    "            else:  # Clear Encoder\n",
    "                # Clean encoder\n",
    "                # batch normalization + update the average mean and variance using batch mean and variance of labeled examples\n",
    "                z = join(update_batch_normalization(z_pre_l, l), batch_normalization(z_pre_u, m, v))\n",
    "            return z\n",
    "        # else:\n",
    "        def eval_batch_norm():\n",
    "            # Evaluation batch normalization\n",
    "            # obtain average mean and variance and use it to normalize the batch\n",
    "            mean, var = ewma.average(running_mean[l-1]), ewma.average(running_var[l-1])\n",
    "            z = batch_normalization(z_pre, mean, var)\n",
    "            # Instead of the above statement, the use of the following 2 statements containing a typo\n",
    "            # consistently produces a 0.2% higher accuracy for unclear reasons.\n",
    "            # m_l, v_l = tf.nn.moments(z_pre_l, axes=[0])\n",
    "            # z = join(batch_normalization(z_pre_l, m_l, mean, var), batch_normalization(z_pre_u, mean, var))\n",
    "            return z\n",
    "        # perform batch normalization according to value of boolean \"training\" placeholder:\n",
    "        z = tf.cond(pred=training, true_fn=training_batch_norm, false_fn=eval_batch_norm)\n",
    "        #----------------------------------------\n",
    "\n",
    "        if l == L:\n",
    "            # use softmax activation in output layer\n",
    "            h = tf.nn.softmax(weights['gamma'][l-1] * (z + weights[\"beta\"][l-1]))\n",
    "        else:\n",
    "            # use ReLU activation in hidden layers\n",
    "            h = tf.nn.relu(z + weights[\"beta\"][l-1])\n",
    "        d['labeled']['z'][l]  , d['unlabeled']['z'][l] = split_lu(z)\n",
    "        d['unlabeled']['m'][l], d['unlabeled']['v'][l] = m, v  # save mean and variance of unlabeled examples for decoding\n",
    "    d['labeled']['h'][l], d['unlabeled']['h'][l] = split_lu(h)\n",
    "    return h, d"
   ]
  },
  {
   "cell_type": "code",
   "execution_count": 21,
   "metadata": {
    "ExecuteTime": {
     "end_time": "2018-09-19T05:15:05.533382Z",
     "start_time": "2018-09-19T05:15:04.848995Z"
    },
    "scrolled": false
   },
   "outputs": [
    {
     "name": "stdout",
     "output_type": "stream",
     "text": [
      "=== Corrupted Encoder ===\n",
      "Layer   1:   784 ->  1000\n",
      "Layer   2:  1000 ->   500\n",
      "Layer   3:   500 ->   250\n",
      "Layer   4:   250 ->   250\n",
      "Layer   5:   250 ->   250\n",
      "Layer   6:   250 ->    10\n",
      "=== Clean Encoder ===\n",
      "Layer   1:   784 ->  1000\n",
      "Layer   2:  1000 ->   500\n",
      "Layer   3:   500 ->   250\n",
      "Layer   4:   250 ->   250\n",
      "Layer   5:   250 ->   250\n",
      "Layer   6:   250 ->    10\n"
     ]
    }
   ],
   "source": [
    "print( \"=== Corrupted Encoder ===\")\n",
    "y_c, corr = encoder(inputs, noise_std)\n",
    "\n",
    "print( \"=== Clean Encoder ===\" )\n",
    "y, clean = encoder(inputs, 0.0)  # 0.0 -> do not add noise"
   ]
  },
  {
   "cell_type": "markdown",
   "metadata": {},
   "source": [
    "### Decoder"
   ]
  },
  {
   "cell_type": "code",
   "execution_count": 22,
   "metadata": {
    "ExecuteTime": {
     "end_time": "2018-09-19T05:15:05.547524Z",
     "start_time": "2018-09-19T05:15:05.534725Z"
    }
   },
   "outputs": [
    {
     "name": "stdout",
     "output_type": "stream",
     "text": [
      "=== Decoder ===\n"
     ]
    }
   ],
   "source": [
    "print( \"=== Decoder ===\" )"
   ]
  },
  {
   "cell_type": "markdown",
   "metadata": {},
   "source": [
    "#### [DEF] g_gauss"
   ]
  },
  {
   "cell_type": "code",
   "execution_count": 23,
   "metadata": {
    "ExecuteTime": {
     "end_time": "2018-09-19T05:15:05.562993Z",
     "start_time": "2018-09-19T05:15:05.548912Z"
    }
   },
   "outputs": [],
   "source": [
    "def g_gauss(z_c, u, size):\n",
    "    \"\"\"\n",
    "    gaussian denoising function proposed in the original paper\n",
    "\n",
    "    Parameters\n",
    "    ----------\n",
    "    z_c : z in Corrupted Layer\n",
    "    u : batch normalized h~(l) (l=0,...,L)\n",
    "    size :\n",
    "\n",
    "    Returns\n",
    "    -------\n",
    "    \"\"\"\n",
    "    w_i = lambda inits, name: tf.Variable(inits * tf.ones([size]), name=name)\n",
    "    a1 = w_i(0., 'a1')\n",
    "    a2 = w_i(1., 'a2')\n",
    "    a3 = w_i(0., 'a3')\n",
    "    a4 = w_i(0., 'a4')\n",
    "    a5 = w_i(0., 'a5')\n",
    "\n",
    "    a6 = w_i(0., 'a6')\n",
    "    a7 = w_i(1., 'a7')\n",
    "    a8 = w_i(0., 'a8')\n",
    "    a9 = w_i(0., 'a9')\n",
    "    a10 = w_i(0., 'a10')\n",
    "\n",
    "    mu = a1 * tf.sigmoid(a2 * u + a3) + a4 * u + a5\n",
    "    v  = a6 * tf.sigmoid(a7 * u + a8) + a9 * u + a10\n",
    "\n",
    "    z_est = (z_c - mu) * v + mu\n",
    "    return z_est"
   ]
  },
  {
   "cell_type": "markdown",
   "metadata": {},
   "source": [
    "#### Decode"
   ]
  },
  {
   "cell_type": "code",
   "execution_count": 24,
   "metadata": {
    "ExecuteTime": {
     "end_time": "2018-09-19T05:15:05.894264Z",
     "start_time": "2018-09-19T05:15:05.564429Z"
    }
   },
   "outputs": [
    {
     "name": "stdout",
     "output_type": "stream",
     "text": [
      "Layer  6:  None ->    10, denoising cost:     0.1\n",
      "Layer  5:    10 ->   250, denoising cost:     0.1\n",
      "Layer  4:   250 ->   250, denoising cost:     0.1\n",
      "Layer  3:   250 ->   250, denoising cost:     0.1\n",
      "Layer  2:   250 ->   500, denoising cost:     0.1\n",
      "Layer  1:   500 ->  1000, denoising cost:    10.0\n",
      "Layer  0:  1000 ->   784, denoising cost:  1000.0\n"
     ]
    }
   ],
   "source": [
    "# Decoder\n",
    "z_est = {}\n",
    "d_cost = []  # to store the denoising cost of all layers\n",
    "for l in range(L, -1, -1):\n",
    "    print( \"Layer {:>2}: {:>5} -> {:>5}, denoising cost: {:>7.1f}\".format(l, layer_sizes[l+1] if l+1 < len(layer_sizes) else \"None\", layer_sizes[l], denoising_cost[l]))\n",
    "    z, z_c = clean['unlabeled']['z'][l], corr['unlabeled']['z'][l]\n",
    "    m, v = clean['unlabeled']['m'].get(l, 0), clean['unlabeled']['v'].get(l, 1-1e-10)\n",
    "    if l == L:\n",
    "        u = unlabeled(y_c)\n",
    "    else:\n",
    "        u = tf.matmul(z_est[l+1], weights['V'][l])\n",
    "    u = batch_normalization(u)\n",
    "    z_est[l] = g_gauss(z_c, u, layer_sizes[l])\n",
    "    z_est_bn = (z_est[l] - m) / v\n",
    "    # append the cost of this layer to d_cost\n",
    "    d_cost.append((tf.reduce_mean(tf.reduce_sum(tf.square(z_est_bn - z), 1)) / layer_sizes[l]) * denoising_cost[l])"
   ]
  },
  {
   "cell_type": "markdown",
   "metadata": {},
   "source": [
    "### parameter"
   ]
  },
  {
   "cell_type": "markdown",
   "metadata": {},
   "source": [
    "#### Cost, Loss"
   ]
  },
  {
   "cell_type": "code",
   "execution_count": 25,
   "metadata": {
    "ExecuteTime": {
     "end_time": "2018-09-19T05:15:05.915427Z",
     "start_time": "2018-09-19T05:15:05.895458Z"
    }
   },
   "outputs": [],
   "source": [
    "# calculate total unsupervised cost by adding the denoising cost of all layers\n",
    "u_cost = tf.add_n(d_cost)\n",
    "\n",
    "y_N = labeled(y_c)\n",
    "cost = -tf.reduce_mean(tf.reduce_sum(outputs*tf.log(y_N), 1))  # supervised cost\n",
    "loss = cost + u_cost  # total cost"
   ]
  },
  {
   "cell_type": "code",
   "execution_count": null,
   "metadata": {
    "ExecuteTime": {
     "start_time": "2018-09-19T04:02:24.153Z"
    }
   },
   "outputs": [],
   "source": [
    "pred_cost = -tf.reduce_mean(tf.reduce_sum(outputs*tf.log(y), 1))  # cost used for prediction\n",
    "\n",
    "correct_prediction = tf.equal(tf.argmax(y, 1), tf.argmax(outputs, 1))  # no of correct predictions\n",
    "accuracy = tf.reduce_mean(tf.cast(correct_prediction, \"float\")) * tf.constant(100.0)"
   ]
  },
  {
   "cell_type": "code",
   "execution_count": null,
   "metadata": {
    "ExecuteTime": {
     "start_time": "2018-09-19T04:02:24.155Z"
    }
   },
   "outputs": [],
   "source": [
    "learning_rate = tf.Variable(starter_learning_rate, trainable=False)\n",
    "train_step = tf.train.AdamOptimizer(learning_rate).minimize(loss)"
   ]
  },
  {
   "cell_type": "code",
   "execution_count": null,
   "metadata": {
    "ExecuteTime": {
     "start_time": "2018-09-19T04:02:24.157Z"
    }
   },
   "outputs": [],
   "source": [
    "# add the updates of batch normalization statistics to train_step\n",
    "bn_updates = tf.group(*bn_assigns)\n",
    "with tf.control_dependencies([train_step]):\n",
    "    train_step = tf.group(bn_updates)"
   ]
  },
  {
   "cell_type": "markdown",
   "metadata": {},
   "source": [
    "### Computational Graph"
   ]
  },
  {
   "cell_type": "code",
   "execution_count": null,
   "metadata": {
    "ExecuteTime": {
     "start_time": "2018-09-19T04:02:24.301Z"
    }
   },
   "outputs": [],
   "source": [
    "show_computational_graph(tf.get_default_graph())"
   ]
  },
  {
   "cell_type": "markdown",
   "metadata": {},
   "source": [
    "### Load MNIST"
   ]
  },
  {
   "cell_type": "code",
   "execution_count": null,
   "metadata": {
    "ExecuteTime": {
     "start_time": "2018-09-19T04:02:24.451Z"
    }
   },
   "outputs": [],
   "source": [
    "print( \"===  Loading Data ===\" )\n",
    "mnist = mnist_input_data.read_data_sets(train_dir=str(raw_Path / \"MNIST_data\"), n_labeled=num_labeled,\n",
    "                                        fake_data=False, one_hot=True)"
   ]
  },
  {
   "cell_type": "code",
   "execution_count": null,
   "metadata": {
    "ExecuteTime": {
     "start_time": "2018-09-19T04:02:24.454Z"
    }
   },
   "outputs": [],
   "source": [
    "saver = tf.train.Saver()"
   ]
  },
  {
   "cell_type": "markdown",
   "metadata": {},
   "source": [
    "### Session"
   ]
  },
  {
   "cell_type": "code",
   "execution_count": null,
   "metadata": {
    "ExecuteTime": {
     "start_time": "2018-09-19T04:02:24.604Z"
    }
   },
   "outputs": [],
   "source": [
    "print( \"===  Starting Session ===\" )\n",
    "sess = tf.Session()"
   ]
  },
  {
   "cell_type": "code",
   "execution_count": 1,
   "metadata": {
    "ExecuteTime": {
     "end_time": "2018-09-19T04:54:30.973298Z",
     "start_time": "2018-09-19T04:54:30.967756Z"
    }
   },
   "outputs": [],
   "source": [
    "i_iter = 0"
   ]
  },
  {
   "cell_type": "code",
   "execution_count": null,
   "metadata": {
    "ExecuteTime": {
     "start_time": "2018-09-19T04:02:24.606Z"
    }
   },
   "outputs": [],
   "source": [
    "ckpt = tf.train.get_checkpoint_state('checkpoints/')  # get latest checkpoint (if any)\n",
    "if ckpt and ckpt.model_checkpoint_path:\n",
    "    # if checkpoint exists, restore the parameters and set epoch_n and i_iter\n",
    "    saver.restore(sess, ckpt.model_checkpoint_path)\n",
    "    epoch_n = int(ckpt.model_checkpoint_path.split('-')[1])\n",
    "    i_iter = (epoch_n+1) * (num_examples//batch_size)\n",
    "    print( \"Restored Epoch \", epoch_n )\n",
    "else:\n",
    "    # no checkpoint exists. create checkpoints directory if it does not exist.\n",
    "    if not os.path.exists('checkpoints'):\n",
    "        os.makedirs('checkpoints')\n",
    "    init = tf.global_variables_initializer()\n",
    "    sess.run(init)"
   ]
  },
  {
   "cell_type": "code",
   "execution_count": null,
   "metadata": {},
   "outputs": [],
   "source": [
    "print( \"=== Training ===\" )\n",
    "print( \"Initial Accuracy: \", sess.run(accuracy,\n",
    "                                      feed_dict={\n",
    "                                          inputs: mnist.semi_test.images,\n",
    "                                          outputs: mnist.semi_test.labels,\n",
    "                                          training: False}), \"%\" )"
   ]
  },
  {
   "cell_type": "code",
   "execution_count": null,
   "metadata": {
    "ExecuteTime": {
     "start_time": "2018-09-19T04:02:24.609Z"
    }
   },
   "outputs": [],
   "source": [
    "for i in tqdm.tqdm(range(i_iter, num_iter)):\n",
    "    images, labels = mnist.semi_train.next_batch(batch_size)\n",
    "    sess.run(train_step, feed_dict={inputs: images,\n",
    "                                    outputs: labels,\n",
    "                                    training: True})\n",
    "    if (i > 1) and ((i+1) % (num_iter//num_epochs) == 0):\n",
    "        epoch_n = i//(num_examples//batch_size)\n",
    "        if (epoch_n+1) >= decay_after:\n",
    "            # decay learning rate\n",
    "            # learning_rate = starter_learning_rate * ((num_epochs - epoch_n) / (num_epochs - decay_after))\n",
    "            ratio = 1.0 * (num_epochs - (epoch_n+1))  # epoch_n + 1 because learning rate is set for next epoch\n",
    "            ratio = max(0, ratio / (num_epochs - decay_after))\n",
    "            sess.run(learning_rate.assign(starter_learning_rate * ratio))\n",
    "        #saver.save(sess, 'checkpoints/model.ckpt', epoch_n)\n",
    "        # print( \"Epoch \", epoch_n, \", Accuracy: \", sess.run(accuracy, feed_dict={inputs: mnist.test.images, outputs:mnist.test.labels, training: False}), \"%\" )\n",
    "        #with open('train_log', 'a') as train_log:\n",
    "        #    # write test accuracy to file \"train_log\"\n",
    "        #    train_log_w = csv.writer(train_log)\n",
    "        #    log_i = [epoch_n] + sess.run([accuracy], feed_dict={inputs: mnist.test.images, outputs: mnist.test.labels, training: False})\n",
    "        #    train_log_w.writerow(log_i)"
   ]
  },
  {
   "cell_type": "code",
   "execution_count": null,
   "metadata": {},
   "outputs": [],
   "source": [
    "print( \"Final Accuracy: {}\".format(sess.run(accuracy,\n",
    "                                            feed_dict={\n",
    "                                                inputs: mnist.semi_test.images,\n",
    "                                                outputs: mnist.semi_test.labels,\n",
    "                                                training: False}), \"%\" ) )\n",
    "\n",
    "sess.close()"
   ]
  },
  {
   "cell_type": "markdown",
   "metadata": {},
   "source": [
    "## show Result"
   ]
  },
  {
   "cell_type": "code",
   "execution_count": null,
   "metadata": {},
   "outputs": [],
   "source": []
  },
  {
   "cell_type": "code",
   "execution_count": null,
   "metadata": {},
   "outputs": [],
   "source": []
  },
  {
   "cell_type": "code",
   "execution_count": null,
   "metadata": {},
   "outputs": [],
   "source": []
  },
  {
   "cell_type": "code",
   "execution_count": null,
   "metadata": {},
   "outputs": [],
   "source": []
  },
  {
   "cell_type": "code",
   "execution_count": null,
   "metadata": {},
   "outputs": [],
   "source": []
  },
  {
   "cell_type": "markdown",
   "metadata": {},
   "source": [
    "## End"
   ]
  }
 ],
 "metadata": {
  "kernelspec": {
   "display_name": "Python 3",
   "language": "python",
   "name": "python3"
  },
  "language_info": {
   "codemirror_mode": {
    "name": "ipython",
    "version": 3
   },
   "file_extension": ".py",
   "mimetype": "text/x-python",
   "name": "python",
   "nbconvert_exporter": "python",
   "pygments_lexer": "ipython3",
   "version": "3.5.2"
  },
  "toc": {
   "base_numbering": 1,
   "nav_menu": {},
   "number_sections": true,
   "sideBar": true,
   "skip_h1_title": true,
   "title_cell": "Table of Contents",
   "title_sidebar": "Contents",
   "toc_cell": true,
   "toc_position": {
    "height": "511px",
    "left": "23px",
    "top": "110px",
    "width": "220px"
   },
   "toc_section_display": true,
   "toc_window_display": true
  }
 },
 "nbformat": 4,
 "nbformat_minor": 2
}
