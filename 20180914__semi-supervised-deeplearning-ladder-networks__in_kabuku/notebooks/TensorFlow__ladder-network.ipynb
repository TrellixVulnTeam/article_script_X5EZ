{
 "cells": [
  {
   "cell_type": "markdown",
   "metadata": {},
   "source": [
    "# TensorFlow__ladder-network\n",
    "\n",
    "- 論文\n",
    "  - [Semi-Supervised Learning with Ladder Networks - Antti Rasmus, Harri Valpola, Mikko Honkala, Mathias Berglund, Tapani Raiko]](https://arxiv.org/abs/1507.02672)\n",
    "\n",
    "- code\n",
    "  - [rinuboney/ladder](https://github.com/rinuboney/ladder)\n",
    "  - [tarvaina/tensorflow-ladder](https://github.com/tarvaina/tensorflow-ladder)\n"
   ]
  },
  {
   "cell_type": "markdown",
   "metadata": {
    "toc": true
   },
   "source": [
    "<h1>Table of Contents<span class=\"tocSkip\"></span></h1>\n",
    "<div class=\"toc\"><ul class=\"toc-item\"><li><span><a href=\"#Config\" data-toc-modified-id=\"Config-1\"><span class=\"toc-item-num\">1&nbsp;&nbsp;</span>Config</a></span><ul class=\"toc-item\"><li><span><a href=\"#Import\" data-toc-modified-id=\"Import-1.1\"><span class=\"toc-item-num\">1.1&nbsp;&nbsp;</span>Import</a></span></li><li><span><a href=\"#TensorFlow\" data-toc-modified-id=\"TensorFlow-1.2\"><span class=\"toc-item-num\">1.2&nbsp;&nbsp;</span>TensorFlow</a></span></li><li><span><a href=\"#Path\" data-toc-modified-id=\"Path-1.3\"><span class=\"toc-item-num\">1.3&nbsp;&nbsp;</span>Path</a></span></li><li><span><a href=\"#Import-2\" data-toc-modified-id=\"Import-2-1.4\"><span class=\"toc-item-num\">1.4&nbsp;&nbsp;</span>Import 2</a></span></li></ul></li><li><span><a href=\"#Ladder-Networks\" data-toc-modified-id=\"Ladder-Networks-2\"><span class=\"toc-item-num\">2&nbsp;&nbsp;</span>Ladder Networks</a></span><ul class=\"toc-item\"><li><span><a href=\"#bi,-wi\" data-toc-modified-id=\"bi,-wi-2.1\"><span class=\"toc-item-num\">2.1&nbsp;&nbsp;</span>bi, wi</a></span></li><li><span><a href=\"#batch_normalization\" data-toc-modified-id=\"batch_normalization-2.2\"><span class=\"toc-item-num\">2.2&nbsp;&nbsp;</span>batch_normalization</a></span></li><li><span><a href=\"#Encoder\" data-toc-modified-id=\"Encoder-2.3\"><span class=\"toc-item-num\">2.3&nbsp;&nbsp;</span>Encoder</a></span></li><li><span><a href=\"#g_gauss\" data-toc-modified-id=\"g_gauss-2.4\"><span class=\"toc-item-num\">2.4&nbsp;&nbsp;</span>g_gauss</a></span></li><li><span><a href=\"#Decoder\" data-toc-modified-id=\"Decoder-2.5\"><span class=\"toc-item-num\">2.5&nbsp;&nbsp;</span>Decoder</a></span></li><li><span><a href=\"#parameter\" data-toc-modified-id=\"parameter-2.6\"><span class=\"toc-item-num\">2.6&nbsp;&nbsp;</span>parameter</a></span></li></ul></li><li><span><a href=\"#End\" data-toc-modified-id=\"End-3\"><span class=\"toc-item-num\">3&nbsp;&nbsp;</span>End</a></span></li></ul></div>"
   ]
  },
  {
   "cell_type": "markdown",
   "metadata": {},
   "source": [
    "## Config"
   ]
  },
  {
   "cell_type": "markdown",
   "metadata": {},
   "source": [
    "### Import"
   ]
  },
  {
   "cell_type": "code",
   "execution_count": 1,
   "metadata": {
    "ExecuteTime": {
     "end_time": "2018-09-14T08:23:40.794565Z",
     "start_time": "2018-09-14T08:23:40.788733Z"
    }
   },
   "outputs": [
    {
     "name": "stdout",
     "output_type": "stream",
     "text": [
      "3.5.2 (default, Nov 23 2017, 16:37:01) \n",
      "[GCC 5.4.0 20160609]\n"
     ]
    }
   ],
   "source": [
    "import os,sys\n",
    "print(sys.version)\n",
    "\n",
    "import re\n",
    "from pathlib import Path\n",
    "import math"
   ]
  },
  {
   "cell_type": "code",
   "execution_count": 2,
   "metadata": {
    "ExecuteTime": {
     "end_time": "2018-09-14T08:23:41.153841Z",
     "start_time": "2018-09-14T08:23:40.796044Z"
    },
    "scrolled": false
   },
   "outputs": [
    {
     "name": "stdout",
     "output_type": "stream",
     "text": [
      "Modules to reload:\n",
      "all-except-skipped\n",
      "\n",
      "Modules to skip:\n",
      "\n",
      "numpy ver: 1.15.0\n",
      "scikit-learn ver: 0.19.2\n"
     ]
    },
    {
     "name": "stderr",
     "output_type": "stream",
     "text": [
      "/usr/lib/python3.5/importlib/_bootstrap.py:222: RuntimeWarning: numpy.dtype size changed, may indicate binary incompatibility. Expected 96, got 88\n",
      "  return f(*args, **kwds)\n",
      "/usr/lib/python3.5/importlib/_bootstrap.py:222: RuntimeWarning: numpy.dtype size changed, may indicate binary incompatibility. Expected 96, got 88\n",
      "  return f(*args, **kwds)\n",
      "/usr/lib/python3.5/importlib/_bootstrap.py:222: RuntimeWarning: numpy.dtype size changed, may indicate binary incompatibility. Expected 96, got 88\n",
      "  return f(*args, **kwds)\n",
      "/usr/lib/python3.5/importlib/_bootstrap.py:222: RuntimeWarning: numpy.dtype size changed, may indicate binary incompatibility. Expected 96, got 88\n",
      "  return f(*args, **kwds)\n"
     ]
    }
   ],
   "source": [
    "# OPTIONAL: Load the \"autoreload\" extension so that code can change\n",
    "%load_ext autoreload\n",
    "# OPTIONAL: always reload modules so that as you change code in src, it gets loaded\n",
    "%autoreload 2\n",
    "# If you want to reload manually, add a below line head.\n",
    "%aimport\n",
    "# ref: https://ipython.org/ipython-doc/3/config/extensions/autoreload.html\n",
    "\n",
    "import matplotlib.pyplot as plt\n",
    "%matplotlib inline\n",
    "\n",
    "import numpy as np\n",
    "import sklearn\n",
    "from sklearn import datasets\n",
    "import tqdm\n",
    "import csv\n",
    "\n",
    "seed = None\n",
    "np.random.seed(seed=seed)\n",
    "\n",
    "print(\"numpy ver: {}\".format(np.__version__))\n",
    "print(\"scikit-learn ver: {}\".format(sklearn.__version__))"
   ]
  },
  {
   "cell_type": "markdown",
   "metadata": {},
   "source": [
    "### TensorFlow"
   ]
  },
  {
   "cell_type": "code",
   "execution_count": 3,
   "metadata": {
    "ExecuteTime": {
     "end_time": "2018-09-14T08:23:42.275907Z",
     "start_time": "2018-09-14T08:23:41.154787Z"
    }
   },
   "outputs": [
    {
     "name": "stderr",
     "output_type": "stream",
     "text": [
      "/usr/lib/python3.5/importlib/_bootstrap.py:222: RuntimeWarning: numpy.dtype size changed, may indicate binary incompatibility. Expected 96, got 88\n",
      "  return f(*args, **kwds)\n",
      "/usr/lib/python3.5/importlib/_bootstrap.py:222: RuntimeWarning: numpy.dtype size changed, may indicate binary incompatibility. Expected 96, got 88\n",
      "  return f(*args, **kwds)\n"
     ]
    },
    {
     "name": "stdout",
     "output_type": "stream",
     "text": [
      "tensorflow ver: 1.9.0\n",
      "tf.executing_eagerly(): False\n",
      "\n",
      "________________________________________\n",
      "Visible GPUs from TensorFlow\n",
      "________________________________________\n",
      "\n",
      "(CPU:0)\n",
      "(GPU:0: pci_bus_id: 0000:02:00.0)\n",
      "________________________________________\n"
     ]
    }
   ],
   "source": [
    "#____________________________________________________________________________________________________\n",
    "#  TensorFlow and Keras GPU configures\n",
    "##________________________________________________________________________________\n",
    "##  OPTIONAL : set a GPU viewed by TensorFlow\n",
    "###____________________________________________________________\n",
    "###  - https://stackoverflow.com/questions/37893755/tensorflow-set-cuda-visible-devices-within-jupyter\n",
    "import os\n",
    "os.environ[\"CUDA_DEVICE_ORDER\"]=\"PCI_BUS_ID\"   # see issue #152\n",
    "os.environ[\"CUDA_VISIBLE_DEVICES\"]=\"1\"\n",
    "##________________________________________________________________________________\n",
    "\n",
    "\n",
    "##________________________________________________________________________________\n",
    "##  TensorFlow\n",
    "###____________________________________________________________\n",
    "import tensorflow as tf\n",
    "print(\"tensorflow ver: {}\".format(tf.__version__))\n",
    "###  eager mode\n",
    "#tf.enable_eager_execution()\n",
    "print(\"tf.executing_eagerly(): {}\".format(tf.executing_eagerly()))\n",
    "\n",
    "# You can double check that you have the correct devices visible to TF\n",
    "#   - https://stackoverflow.com/questions/37893755/tensorflow-set-cuda-visible-devices-within-jupyter\n",
    "from tensorflow.python.client import device_lib\n",
    "print(\"\"\"\n",
    "________________________________________\n",
    "Visible GPUs from TensorFlow\n",
    "________________________________________\"\"\")\n",
    "for _device in device_lib.list_local_devices():\n",
    "    match = re.search(pattern=r'name: \"/device:(?P<name>[A-Z]{3}):(?P<device_num>\\d{1})*',\n",
    "                      string=str(_device))\n",
    "    if match is None:\n",
    "        print(\"Not Match\")\n",
    "        continue\n",
    "    if match.group(\"name\") == \"CPU\":\n",
    "        name, device_num = match.group(\"name\", \"device_num\")\n",
    "        print()\n",
    "        print(\"({}:{})\".format(name, device_num))\n",
    "        continue\n",
    "    name, device_num = match.group(\"name\", \"device_num\")\n",
    "    match = re.search(pattern=r'.*pci bus id: (?P<pci_bus_id>\\d{4}:\\d{2}:\\d{2}.\\d{1}).*',\n",
    "                      string=str(_device))\n",
    "    if match is None:\n",
    "        print(\"No GPUs\")\n",
    "        continue\n",
    "    print(\"({}:{}: pci_bus_id: {})\".format(name, device_num, match.group(\"pci_bus_id\")))\n",
    "print(\"________________________________________\")\n",
    "\n",
    "###____________________________________________________________\n",
    "###  sessioin\n",
    "global _SESSION\n",
    "config = tf.ConfigProto(allow_soft_placement=True,\n",
    "                        log_device_placement=True)\n",
    "config.gpu_options.allow_growth = True\n",
    "#_SESSION = tf.Session(config=config)\n",
    "###____________________________________________________________\n",
    "##________________________________________________________________________________\n",
    "#____________________________________________________________________________________________________"
   ]
  },
  {
   "cell_type": "markdown",
   "metadata": {},
   "source": [
    "### Path"
   ]
  },
  {
   "cell_type": "code",
   "execution_count": 4,
   "metadata": {
    "ExecuteTime": {
     "end_time": "2018-09-14T08:23:42.289789Z",
     "start_time": "2018-09-14T08:23:42.277071Z"
    }
   },
   "outputs": [
    {
     "name": "stdout",
     "output_type": "stream",
     "text": [
      "/home/pollenjp/workdir/git/article_script/20180914__semi-supervised-deeplearning-ladder-networks__in_kabuku\n"
     ]
    }
   ],
   "source": [
    "HOME = Path(os.getcwd()).parent\n",
    "print(HOME)"
   ]
  },
  {
   "cell_type": "code",
   "execution_count": 5,
   "metadata": {
    "ExecuteTime": {
     "end_time": "2018-09-14T08:23:42.305728Z",
     "start_time": "2018-09-14T08:23:42.291139Z"
    }
   },
   "outputs": [
    {
     "name": "stdout",
     "output_type": "stream",
     "text": [
      "True :  /home/pollenjp/workdir/git/article_script/20180914__semi-supervised-deeplearning-ladder-networks__in_kabuku/data\n",
      "True :  /home/pollenjp/workdir/git/article_script/20180914__semi-supervised-deeplearning-ladder-networks__in_kabuku/data/raw\n",
      "True :  /home/pollenjp/workdir/git/article_script/20180914__semi-supervised-deeplearning-ladder-networks__in_kabuku/data/plot_images\n",
      "True :  /home/pollenjp/workdir/git/article_script/20180914__semi-supervised-deeplearning-ladder-networks__in_kabuku/src\n"
     ]
    }
   ],
   "source": [
    "path_list = []\n",
    "data_Path = HOME / \"data\"\n",
    "path_list.append(data_Path)\n",
    "raw_Path = data_Path / \"raw\"\n",
    "path_list.append(raw_Path)\n",
    "plot_images_Path = data_Path / \"plot_images\"\n",
    "path_list.append(plot_images_Path)\n",
    "src_Path = HOME / \"src\"\n",
    "path_list.append(src_Path)\n",
    "\n",
    "for _Path in path_list:\n",
    "    _path = str(_Path)\n",
    "    if not os.path.exists(_path):\n",
    "        os.makedirs(name=_path)\n",
    "        print(\"make a directory: \\n\\t\", _path)\n",
    "    else:\n",
    "        print(os.path.exists(_path), \": \", _path)"
   ]
  },
  {
   "cell_type": "markdown",
   "metadata": {},
   "source": [
    "### Import 2"
   ]
  },
  {
   "cell_type": "code",
   "execution_count": 6,
   "metadata": {
    "ExecuteTime": {
     "end_time": "2018-09-14T08:23:42.320180Z",
     "start_time": "2018-09-14T08:23:42.307048Z"
    }
   },
   "outputs": [],
   "source": [
    "sys.path.append(str(src_Path / \"data\"))"
   ]
  },
  {
   "cell_type": "code",
   "execution_count": 7,
   "metadata": {
    "ExecuteTime": {
     "end_time": "2018-09-14T08:23:42.334208Z",
     "start_time": "2018-09-14T08:23:42.321272Z"
    }
   },
   "outputs": [],
   "source": [
    "import mnist_input_data"
   ]
  },
  {
   "cell_type": "markdown",
   "metadata": {},
   "source": [
    "## Ladder Networks"
   ]
  },
  {
   "cell_type": "code",
   "execution_count": 8,
   "metadata": {
    "ExecuteTime": {
     "end_time": "2018-09-14T08:23:42.358117Z",
     "start_time": "2018-09-14T08:23:42.335326Z"
    }
   },
   "outputs": [],
   "source": [
    "layer_sizes = [784, 1000, 500, 250, 250, 250, 10]\n",
    "\n",
    "L = len(layer_sizes) - 1  # number of layers\n",
    "\n",
    "num_examples = 60000\n",
    "num_epochs = 150\n",
    "num_labeled = 100\n",
    "\n",
    "starter_learning_rate = 0.02\n",
    "\n",
    "decay_after = 15  # epoch after which to begin learning rate decay\n",
    "\n",
    "batch_size = 100\n",
    "# EDITED\n",
    "# https://github.com/rinuboney/ladder/issues/12#issuecomment-332497271\n",
    "#num_iter = (num_examples/batch_size) * num_epochs  # number of loop iterations\n",
    "num_iter = (num_examples//batch_size) * num_epochs # number of loop iterations\n",
    "\n",
    "inputs = tf.placeholder(tf.float32, shape=(None, layer_sizes[0]))\n",
    "outputs = tf.placeholder(tf.float32)"
   ]
  },
  {
   "cell_type": "markdown",
   "metadata": {},
   "source": [
    "### bi, wi"
   ]
  },
  {
   "cell_type": "code",
   "execution_count": 9,
   "metadata": {
    "ExecuteTime": {
     "end_time": "2018-09-14T08:23:42.371993Z",
     "start_time": "2018-09-14T08:23:42.359348Z"
    }
   },
   "outputs": [],
   "source": [
    "def bi(inits, size, name):\n",
    "    return tf.Variable(inits * tf.ones([size]), name=name)\n",
    "def wi(shape, name):\n",
    "    return tf.Variable(tf.random_normal(shape, name=name)) / math.sqrt(shape[0])"
   ]
  },
  {
   "cell_type": "code",
   "execution_count": 10,
   "metadata": {
    "ExecuteTime": {
     "end_time": "2018-09-14T08:23:42.471335Z",
     "start_time": "2018-09-14T08:23:42.373186Z"
    }
   },
   "outputs": [],
   "source": [
    "# EDITED\n",
    "#shapes = zip(layer_sizes[:-1], layer_sizes[1:])  # shapes of linear layers\n",
    "shapes = list(zip(list(layer_sizes)[:-1], list(layer_sizes[1:])))\n",
    "weights = {'W': [wi(s, \"W\") for s in shapes],  # Encoder weights\n",
    "           'V': [wi(s[::-1], \"V\") for s in shapes],  # Decoder weights\n",
    "           # batch normalization parameter to shift the normalized value\n",
    "           'beta': [bi(0.0, layer_sizes[l+1], \"beta\") for l in range(L)],\n",
    "           # batch normalization parameter to scale the normalized value\n",
    "           'gamma': [bi(1.0, layer_sizes[l+1], \"beta\") for l in range(L)]}"
   ]
  },
  {
   "cell_type": "code",
   "execution_count": 11,
   "metadata": {
    "ExecuteTime": {
     "end_time": "2018-09-14T08:23:42.484862Z",
     "start_time": "2018-09-14T08:23:42.472434Z"
    }
   },
   "outputs": [],
   "source": [
    "noise_std = 0.3  # scaling factor for noise used in corrupted encoder\n",
    "# hyperparameters that denote the importance of each layer\n",
    "denoising_cost = [1000.0, 10.0, 0.10, 0.10, 0.10, 0.10, 0.10]"
   ]
  },
  {
   "cell_type": "code",
   "execution_count": 12,
   "metadata": {
    "ExecuteTime": {
     "end_time": "2018-09-14T08:23:42.499236Z",
     "start_time": "2018-09-14T08:23:42.486045Z"
    }
   },
   "outputs": [],
   "source": [
    "join      = lambda l, u: tf.concat([l, u], 0)\n",
    "labeled   = lambda x   : tf.slice(x, [0, 0], [batch_size, -1]) if x is not None else x\n",
    "unlabeled = lambda x   : tf.slice(x, [batch_size, 0], [-1, -1]) if x is not None else x\n",
    "split_lu  = lambda x   : (labeled(x), unlabeled(x))"
   ]
  },
  {
   "cell_type": "code",
   "execution_count": 13,
   "metadata": {
    "ExecuteTime": {
     "end_time": "2018-09-14T08:23:42.513735Z",
     "start_time": "2018-09-14T08:23:42.500356Z"
    }
   },
   "outputs": [],
   "source": [
    "training = tf.placeholder(tf.bool)\n",
    "ewma = tf.train.ExponentialMovingAverage(decay=0.99)  # to calculate the moving averages of mean and variance\n",
    "bn_assigns = []  # this list stores the updates to be made to average mean and variance"
   ]
  },
  {
   "cell_type": "markdown",
   "metadata": {},
   "source": [
    "### batch_normalization"
   ]
  },
  {
   "cell_type": "code",
   "execution_count": 14,
   "metadata": {
    "ExecuteTime": {
     "end_time": "2018-09-14T08:23:42.527816Z",
     "start_time": "2018-09-14T08:23:42.514995Z"
    }
   },
   "outputs": [],
   "source": [
    "def batch_normalization(batch, mean=None, var=None):\n",
    "    if mean is None or var is None:\n",
    "        mean, var = tf.nn.moments(batch, axes=[0])\n",
    "    return (batch - mean) / tf.sqrt(var + tf.constant(1e-10))"
   ]
  },
  {
   "cell_type": "code",
   "execution_count": 15,
   "metadata": {
    "ExecuteTime": {
     "end_time": "2018-09-14T08:23:42.561242Z",
     "start_time": "2018-09-14T08:23:42.529000Z"
    }
   },
   "outputs": [],
   "source": [
    "# average mean and variance of all layers\n",
    "running_mean = [tf.Variable(tf.constant(0.0, shape=[l]), trainable=False) for l in layer_sizes[1:]]\n",
    "running_var = [tf.Variable(tf.constant(1.0, shape=[l]), trainable=False) for l in layer_sizes[1:]]"
   ]
  },
  {
   "cell_type": "code",
   "execution_count": 16,
   "metadata": {
    "ExecuteTime": {
     "end_time": "2018-09-14T08:23:42.575369Z",
     "start_time": "2018-09-14T08:23:42.562436Z"
    }
   },
   "outputs": [],
   "source": [
    "def update_batch_normalization(batch, l):\n",
    "    \"batch normalize + update average mean and variance of layer l\"\n",
    "    mean, var = tf.nn.moments(batch, axes=[0])\n",
    "    assign_mean = running_mean[l-1].assign(mean)\n",
    "    assign_var = running_var[l-1].assign(var)\n",
    "    bn_assigns.append(ewma.apply([running_mean[l-1], running_var[l-1]]))\n",
    "    with tf.control_dependencies([assign_mean, assign_var]):\n",
    "        return (batch - mean) / tf.sqrt(var + 1e-10)"
   ]
  },
  {
   "cell_type": "markdown",
   "metadata": {},
   "source": [
    "### Encoder"
   ]
  },
  {
   "cell_type": "code",
   "execution_count": 17,
   "metadata": {
    "ExecuteTime": {
     "end_time": "2018-09-14T08:23:42.593261Z",
     "start_time": "2018-09-14T08:23:42.576645Z"
    }
   },
   "outputs": [],
   "source": [
    "def encoder(inputs, noise_std):\n",
    "    h = inputs + tf.random_normal(tf.shape(inputs)) * noise_std  # add noise to input\n",
    "    d = {}  # to store the pre-activation, activation, mean and variance for each layer\n",
    "    # The data for labeled and unlabeled examples are stored separately\n",
    "    d['labeled'] = {'z': {}, 'm': {}, 'v': {}, 'h': {}}\n",
    "    d['unlabeled'] = {'z': {}, 'm': {}, 'v': {}, 'h': {}}\n",
    "    d['labeled']['z'][0], d['unlabeled']['z'][0] = split_lu(h)\n",
    "    for l in range(1, L+1):\n",
    "        print( \"Layer \", l, \": \", layer_sizes[l-1], \" -> \", layer_sizes[l] )\n",
    "        d['labeled']['h'][l-1], d['unlabeled']['h'][l-1] = split_lu(h)\n",
    "        z_pre = tf.matmul(h, weights['W'][l-1])  # pre-activation\n",
    "        z_pre_l, z_pre_u = split_lu(z_pre)  # split labeled and unlabeled examples\n",
    "\n",
    "        m, v = tf.nn.moments(z_pre_u, axes=[0])\n",
    "\n",
    "        # if training:\n",
    "        def training_batch_norm():\n",
    "            # Training batch normalization\n",
    "            # batch normalization for labeled and unlabeled examples is performed separately\n",
    "            if noise_std > 0:\n",
    "                # Corrupted encoder\n",
    "                # batch normalization + noise\n",
    "                z = join(batch_normalization(z_pre_l), batch_normalization(z_pre_u, m, v))\n",
    "                z += tf.random_normal(tf.shape(z_pre)) * noise_std\n",
    "            else:\n",
    "                # Clean encoder\n",
    "                # batch normalization + update the average mean and variance using batch mean and variance of labeled examples\n",
    "                z = join(update_batch_normalization(z_pre_l, l), batch_normalization(z_pre_u, m, v))\n",
    "            return z\n",
    "\n",
    "        # else:\n",
    "        def eval_batch_norm():\n",
    "            # Evaluation batch normalization\n",
    "            # obtain average mean and variance and use it to normalize the batch\n",
    "            mean = ewma.average(running_mean[l-1])\n",
    "            var = ewma.average(running_var[l-1])\n",
    "            z = batch_normalization(z_pre, mean, var)\n",
    "            # Instead of the above statement, the use of the following 2 statements containing a typo\n",
    "            # consistently produces a 0.2% higher accuracy for unclear reasons.\n",
    "            # m_l, v_l = tf.nn.moments(z_pre_l, axes=[0])\n",
    "            # z = join(batch_normalization(z_pre_l, m_l, mean, var), batch_normalization(z_pre_u, mean, var))\n",
    "            return z\n",
    "\n",
    "        # perform batch normalization according to value of boolean \"training\" placeholder:\n",
    "        z = tf.cond(training, training_batch_norm, eval_batch_norm)\n",
    "\n",
    "        if l == L:\n",
    "            # use softmax activation in output layer\n",
    "            h = tf.nn.softmax(weights['gamma'][l-1] * (z + weights[\"beta\"][l-1]))\n",
    "        else:\n",
    "            # use ReLU activation in hidden layers\n",
    "            h = tf.nn.relu(z + weights[\"beta\"][l-1])\n",
    "        d['labeled']['z'][l], d['unlabeled']['z'][l] = split_lu(z)\n",
    "        d['unlabeled']['m'][l], d['unlabeled']['v'][l] = m, v  # save mean and variance of unlabeled examples for decoding\n",
    "    d['labeled']['h'][l], d['unlabeled']['h'][l] = split_lu(h)\n",
    "    return h, d"
   ]
  },
  {
   "cell_type": "code",
   "execution_count": 18,
   "metadata": {
    "ExecuteTime": {
     "end_time": "2018-09-14T08:23:43.286469Z",
     "start_time": "2018-09-14T08:23:42.594451Z"
    }
   },
   "outputs": [
    {
     "name": "stdout",
     "output_type": "stream",
     "text": [
      "=== Corrupted Encoder ===\n",
      "Layer  1 :  784  ->  1000\n",
      "Layer  2 :  1000  ->  500\n",
      "Layer  3 :  500  ->  250\n",
      "Layer  4 :  250  ->  250\n",
      "Layer  5 :  250  ->  250\n",
      "Layer  6 :  250  ->  10\n",
      "=== Clean Encoder ===\n",
      "Layer  1 :  784  ->  1000\n",
      "Layer  2 :  1000  ->  500\n",
      "Layer  3 :  500  ->  250\n",
      "Layer  4 :  250  ->  250\n",
      "Layer  5 :  250  ->  250\n",
      "Layer  6 :  250  ->  10\n"
     ]
    }
   ],
   "source": [
    "print( \"=== Corrupted Encoder ===\")\n",
    "y_c, corr = encoder(inputs, noise_std)\n",
    "\n",
    "print( \"=== Clean Encoder ===\" )\n",
    "y, clean = encoder(inputs, 0.0)  # 0.0 -> do not add noise"
   ]
  },
  {
   "cell_type": "markdown",
   "metadata": {},
   "source": [
    "### g_gauss"
   ]
  },
  {
   "cell_type": "code",
   "execution_count": 19,
   "metadata": {
    "ExecuteTime": {
     "end_time": "2018-09-14T08:23:43.301668Z",
     "start_time": "2018-09-14T08:23:43.287657Z"
    }
   },
   "outputs": [
    {
     "name": "stdout",
     "output_type": "stream",
     "text": [
      "=== Decoder ===\n"
     ]
    }
   ],
   "source": [
    "print( \"=== Decoder ===\" )\n",
    "def g_gauss(z_c, u, size):\n",
    "    \"gaussian denoising function proposed in the original paper\"\n",
    "    wi = lambda inits, name: tf.Variable(inits * tf.ones([size]), name=name)\n",
    "    a1 = wi(0., 'a1')\n",
    "    a2 = wi(1., 'a2')\n",
    "    a3 = wi(0., 'a3')\n",
    "    a4 = wi(0., 'a4')\n",
    "    a5 = wi(0., 'a5')\n",
    "\n",
    "    a6 = wi(0., 'a6')\n",
    "    a7 = wi(1., 'a7')\n",
    "    a8 = wi(0., 'a8')\n",
    "    a9 = wi(0., 'a9')\n",
    "    a10 = wi(0., 'a10')\n",
    "\n",
    "    mu = a1 * tf.sigmoid(a2 * u + a3) + a4 * u + a5\n",
    "    v = a6 * tf.sigmoid(a7 * u + a8) + a9 * u + a10\n",
    "\n",
    "    z_est = (z_c - mu) * v + mu\n",
    "    return z_est"
   ]
  },
  {
   "cell_type": "markdown",
   "metadata": {},
   "source": [
    "### Decoder"
   ]
  },
  {
   "cell_type": "code",
   "execution_count": 20,
   "metadata": {
    "ExecuteTime": {
     "end_time": "2018-09-14T08:23:43.653358Z",
     "start_time": "2018-09-14T08:23:43.302950Z"
    }
   },
   "outputs": [
    {
     "name": "stdout",
     "output_type": "stream",
     "text": [
      "Layer  6 :  None  ->  10 , denoising cost:  0.1\n",
      "Layer  5 :  10  ->  250 , denoising cost:  0.1\n",
      "Layer  4 :  250  ->  250 , denoising cost:  0.1\n",
      "Layer  3 :  250  ->  250 , denoising cost:  0.1\n",
      "Layer  2 :  250  ->  500 , denoising cost:  0.1\n",
      "Layer  1 :  500  ->  1000 , denoising cost:  10.0\n",
      "Layer  0 :  1000  ->  784 , denoising cost:  1000.0\n"
     ]
    }
   ],
   "source": [
    "# Decoder\n",
    "z_est = {}\n",
    "d_cost = []  # to store the denoising cost of all layers\n",
    "for l in range(L, -1, -1):\n",
    "    print( \"Layer \", l, \": \", layer_sizes[l+1] if l+1 < len(layer_sizes) else None, \" -> \", layer_sizes[l], \", denoising cost: \", denoising_cost[l] )\n",
    "    z, z_c = clean['unlabeled']['z'][l], corr['unlabeled']['z'][l]\n",
    "    m, v = clean['unlabeled']['m'].get(l, 0), clean['unlabeled']['v'].get(l, 1-1e-10)\n",
    "    if l == L:\n",
    "        u = unlabeled(y_c)\n",
    "    else:\n",
    "        u = tf.matmul(z_est[l+1], weights['V'][l])\n",
    "    u = batch_normalization(u)\n",
    "    z_est[l] = g_gauss(z_c, u, layer_sizes[l])\n",
    "    z_est_bn = (z_est[l] - m) / v\n",
    "    # append the cost of this layer to d_cost\n",
    "    d_cost.append((tf.reduce_mean(tf.reduce_sum(tf.square(z_est_bn - z), 1)) / layer_sizes[l]) * denoising_cost[l])"
   ]
  },
  {
   "cell_type": "markdown",
   "metadata": {},
   "source": [
    "### parameter"
   ]
  },
  {
   "cell_type": "code",
   "execution_count": 21,
   "metadata": {
    "ExecuteTime": {
     "end_time": "2018-09-14T08:23:48.444590Z",
     "start_time": "2018-09-14T08:23:43.654523Z"
    }
   },
   "outputs": [],
   "source": [
    "# calculate total unsupervised cost by adding the denoising cost of all layers\n",
    "u_cost = tf.add_n(d_cost)\n",
    "\n",
    "y_N = labeled(y_c)\n",
    "cost = -tf.reduce_mean(tf.reduce_sum(outputs*tf.log(y_N), 1))  # supervised cost\n",
    "loss = cost + u_cost  # total cost\n",
    "\n",
    "pred_cost = -tf.reduce_mean(tf.reduce_sum(outputs*tf.log(y), 1))  # cost used for prediction\n",
    "\n",
    "correct_prediction = tf.equal(tf.argmax(y, 1), tf.argmax(outputs, 1))  # no of correct predictions\n",
    "accuracy = tf.reduce_mean(tf.cast(correct_prediction, \"float\")) * tf.constant(100.0)\n",
    "\n",
    "learning_rate = tf.Variable(starter_learning_rate, trainable=False)\n",
    "train_step = tf.train.AdamOptimizer(learning_rate).minimize(loss)\n",
    "\n",
    "# add the updates of batch normalization statistics to train_step\n",
    "bn_updates = tf.group(*bn_assigns)\n",
    "with tf.control_dependencies([train_step]):\n",
    "    train_step = tf.group(bn_updates)"
   ]
  },
  {
   "cell_type": "code",
   "execution_count": 22,
   "metadata": {
    "ExecuteTime": {
     "end_time": "2018-09-14T08:23:48.974893Z",
     "start_time": "2018-09-14T08:23:48.445805Z"
    }
   },
   "outputs": [
    {
     "name": "stdout",
     "output_type": "stream",
     "text": [
      "===  Loading Data ===\n",
      "Extracting MNIST_data/train-images-idx3-ubyte.gz\n",
      "Extracting MNIST_data/train-labels-idx1-ubyte.gz\n",
      "Extracting MNIST_data/t10k-images-idx3-ubyte.gz\n",
      "Extracting MNIST_data/t10k-labels-idx1-ubyte.gz\n"
     ]
    }
   ],
   "source": [
    "print( \"===  Loading Data ===\" )\n",
    "mnist = mnist_input_data.read_data_sets(train_dir=\"MNIST_data\", n_labeled=num_labeled, one_hot=True)"
   ]
  },
  {
   "cell_type": "code",
   "execution_count": 23,
   "metadata": {
    "ExecuteTime": {
     "end_time": "2018-09-14T08:23:49.155179Z",
     "start_time": "2018-09-14T08:23:48.976170Z"
    }
   },
   "outputs": [],
   "source": [
    "saver = tf.train.Saver()"
   ]
  },
  {
   "cell_type": "code",
   "execution_count": 24,
   "metadata": {
    "ExecuteTime": {
     "end_time": "2018-09-14T08:23:49.168907Z",
     "start_time": "2018-09-14T08:23:49.156283Z"
    }
   },
   "outputs": [
    {
     "name": "stdout",
     "output_type": "stream",
     "text": [
      "===  Starting Session ===\n"
     ]
    }
   ],
   "source": [
    "print( \"===  Starting Session ===\" )\n",
    "sess = tf.Session()"
   ]
  },
  {
   "cell_type": "code",
   "execution_count": 25,
   "metadata": {
    "ExecuteTime": {
     "end_time": "2018-09-14T08:23:49.677010Z",
     "start_time": "2018-09-14T08:23:49.170010Z"
    }
   },
   "outputs": [
    {
     "name": "stdout",
     "output_type": "stream",
     "text": [
      "INFO:tensorflow:Restoring parameters from checkpoints/model.ckpt-0\n",
      "Restored Epoch  0\n",
      "=== Training ===\n",
      "Initial Accuracy:  86.9 %\n"
     ]
    }
   ],
   "source": [
    "i_iter = 0\n",
    "\n",
    "ckpt = tf.train.get_checkpoint_state('checkpoints/')  # get latest checkpoint (if any)\n",
    "if ckpt and ckpt.model_checkpoint_path:\n",
    "    # if checkpoint exists, restore the parameters and set epoch_n and i_iter\n",
    "    saver.restore(sess, ckpt.model_checkpoint_path)\n",
    "    epoch_n = int(ckpt.model_checkpoint_path.split('-')[1])\n",
    "    # EDITED\n",
    "    # https://github.com/rinuboney/ladder/issues/12#issuecomment-332497271\n",
    "    #i_iter = (epoch_n+1) * (num_examples/batch_size)\n",
    "    i_iter = (epoch_n+1) * (num_examples//batch_size)\n",
    "    print( \"Restored Epoch \", epoch_n )\n",
    "else:\n",
    "    # no checkpoint exists. create checkpoints directory if it does not exist.\n",
    "    if not os.path.exists('checkpoints'):\n",
    "        os.makedirs('checkpoints')\n",
    "    init = tf.global_variables_initializer()\n",
    "    sess.run(init)\n",
    "\n",
    "print( \"=== Training ===\" )\n",
    "print( \"Initial Accuracy: \", sess.run(accuracy, feed_dict={inputs: mnist.test.images, outputs: mnist.test.labels, training: False}), \"%\" )"
   ]
  },
  {
   "cell_type": "code",
   "execution_count": null,
   "metadata": {
    "ExecuteTime": {
     "start_time": "2018-09-14T08:23:40.166Z"
    }
   },
   "outputs": [
    {
     "name": "stderr",
     "output_type": "stream",
     "text": [
      " 64%|██████▍   | 56993/89400 [15:30<08:48, 61.27it/s]"
     ]
    }
   ],
   "source": [
    "for i in tqdm.tqdm(range(i_iter, num_iter)):\n",
    "    images, labels = mnist.train.next_batch(batch_size)\n",
    "    sess.run(train_step, feed_dict={inputs: images, outputs: labels, training: True})\n",
    "    # EDITED\n",
    "    # https://github.com/rinuboney/ladder/issues/12#issuecomment-332497271\n",
    "    #if (i > 1) and ((i+1) % (num_iter/num_epochs) == 0):\n",
    "    if (i > 1) and ((i+1) % (num_iter//num_epochs) == 0):\n",
    "        # EDITED\n",
    "        # https://github.com/rinuboney/ladder/issues/12#issuecomment-332497271\n",
    "        #epoch_n = i/(num_examples/batch_size)\n",
    "        epoch_n = i//(num_examples//batch_size)\n",
    "        if (epoch_n+1) >= decay_after:\n",
    "            # decay learning rate\n",
    "            # learning_rate = starter_learning_rate * ((num_epochs - epoch_n) / (num_epochs - decay_after))\n",
    "            ratio = 1.0 * (num_epochs - (epoch_n+1))  # epoch_n + 1 because learning rate is set for next epoch\n",
    "            ratio = max(0, ratio / (num_epochs - decay_after))\n",
    "            sess.run(learning_rate.assign(starter_learning_rate * ratio))\n",
    "        saver.save(sess, 'checkpoints/model.ckpt', epoch_n)\n",
    "        # print( \"Epoch \", epoch_n, \", Accuracy: \", sess.run(accuracy, feed_dict={inputs: mnist.test.images, outputs:mnist.test.labels, training: False}), \"%\" )\n",
    "        # EDITED\n",
    "        # https://github.com/rinuboney/ladder/issues/12#issuecomment-332497271\n",
    "        #with open('train_log', 'ab') as train_log:\n",
    "        with open('train_log', 'a') as train_log:\n",
    "            # write test accuracy to file \"train_log\"\n",
    "            train_log_w = csv.writer(train_log)\n",
    "            log_i = [epoch_n] + sess.run([accuracy], feed_dict={inputs: mnist.test.images, outputs: mnist.test.labels, training: False})\n",
    "            train_log_w.writerow(log_i)\n",
    "\n",
    "print( \"Final Accuracy: \", sess.run(accuracy, feed_dict={inputs: mnist.test.images, outputs: mnist.test.labels, training: False}), \"%\" )\n",
    "\n",
    "sess.close()"
   ]
  },
  {
   "cell_type": "code",
   "execution_count": null,
   "metadata": {},
   "outputs": [],
   "source": []
  },
  {
   "cell_type": "code",
   "execution_count": null,
   "metadata": {},
   "outputs": [],
   "source": []
  },
  {
   "cell_type": "code",
   "execution_count": null,
   "metadata": {},
   "outputs": [],
   "source": []
  },
  {
   "cell_type": "code",
   "execution_count": null,
   "metadata": {},
   "outputs": [],
   "source": []
  },
  {
   "cell_type": "code",
   "execution_count": null,
   "metadata": {},
   "outputs": [],
   "source": []
  },
  {
   "cell_type": "code",
   "execution_count": null,
   "metadata": {},
   "outputs": [],
   "source": []
  },
  {
   "cell_type": "markdown",
   "metadata": {},
   "source": [
    "## End"
   ]
  }
 ],
 "metadata": {
  "kernelspec": {
   "display_name": "Python 3",
   "language": "python",
   "name": "python3"
  },
  "toc": {
   "base_numbering": 1,
   "nav_menu": {},
   "number_sections": true,
   "sideBar": true,
   "skip_h1_title": true,
   "title_cell": "Table of Contents",
   "title_sidebar": "Contents",
   "toc_cell": true,
   "toc_position": {
    "height": "511px",
    "left": "40px",
    "top": "136px",
    "width": "220px"
   },
   "toc_section_display": true,
   "toc_window_display": true
  }
 },
 "nbformat": 4,
 "nbformat_minor": 2
}
