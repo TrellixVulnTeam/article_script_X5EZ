{
 "cells": [
  {
   "cell_type": "markdown",
   "metadata": {},
   "source": [
    "# nnPU_TensorFlow\n",
    "\n",
    "- 論文\n",
    "    - [Positive-Unlabeled Learning with Non-Negative Risk Estimator](https://arxiv.org/abs/1703.00593)\n",
    "- code\n",
    "    - [nnPUlearning/pu_loss.py at master · kiryor/nnPUlearning](\n",
    "        https://github.com/kiryor/nnPUlearning/blob/master/pu_loss.py)"
   ]
  },
  {
   "cell_type": "markdown",
   "metadata": {
    "toc": true
   },
   "source": [
    "<h1>Table of Contents<span class=\"tocSkip\"></span></h1>\n",
    "<div class=\"toc\"><ul class=\"toc-item\"><li><span><a href=\"#Config\" data-toc-modified-id=\"Config-1\"><span class=\"toc-item-num\">1&nbsp;&nbsp;</span>Config</a></span><ul class=\"toc-item\"><li><span><a href=\"#Import\" data-toc-modified-id=\"Import-1.1\"><span class=\"toc-item-num\">1.1&nbsp;&nbsp;</span>Import</a></span></li><li><span><a href=\"#TensorFlow\" data-toc-modified-id=\"TensorFlow-1.2\"><span class=\"toc-item-num\">1.2&nbsp;&nbsp;</span>TensorFlow</a></span></li><li><span><a href=\"#Path\" data-toc-modified-id=\"Path-1.3\"><span class=\"toc-item-num\">1.3&nbsp;&nbsp;</span>Path</a></span></li><li><span><a href=\"#Import-2\" data-toc-modified-id=\"Import-2-1.4\"><span class=\"toc-item-num\">1.4&nbsp;&nbsp;</span>Import 2</a></span></li></ul></li><li><span><a href=\"#PU-Learning\" data-toc-modified-id=\"PU-Learning-2\"><span class=\"toc-item-num\">2&nbsp;&nbsp;</span>PU Learning</a></span><ul class=\"toc-item\"><li><span><a href=\"#Data-Plot\" data-toc-modified-id=\"Data-Plot-2.1\"><span class=\"toc-item-num\">2.1&nbsp;&nbsp;</span>Data Plot</a></span></li><li><span><a href=\"#Softmax-with-Regression\" data-toc-modified-id=\"Softmax-with-Regression-2.2\"><span class=\"toc-item-num\">2.2&nbsp;&nbsp;</span>Softmax with Regression</a></span></li></ul></li><li><span><a href=\"#PU_loss\" data-toc-modified-id=\"PU_loss-3\"><span class=\"toc-item-num\">3&nbsp;&nbsp;</span>PU_loss</a></span><ul class=\"toc-item\"><li><span><a href=\"#Try\" data-toc-modified-id=\"Try-3.1\"><span class=\"toc-item-num\">3.1&nbsp;&nbsp;</span>Try</a></span></li><li><span><a href=\"#def\" data-toc-modified-id=\"def-3.2\"><span class=\"toc-item-num\">3.2&nbsp;&nbsp;</span>def</a></span></li></ul></li><li><span><a href=\"#End\" data-toc-modified-id=\"End-4\"><span class=\"toc-item-num\">4&nbsp;&nbsp;</span>End</a></span></li></ul></div>"
   ]
  },
  {
   "cell_type": "markdown",
   "metadata": {},
   "source": [
    "## Config"
   ]
  },
  {
   "cell_type": "markdown",
   "metadata": {},
   "source": [
    "### Import"
   ]
  },
  {
   "cell_type": "code",
   "execution_count": 1,
   "metadata": {
    "ExecuteTime": {
     "end_time": "2018-08-30T07:36:33.105344Z",
     "start_time": "2018-08-30T07:36:32.719087Z"
    },
    "scrolled": true
   },
   "outputs": [
    {
     "name": "stdout",
     "output_type": "stream",
     "text": [
      "numpy ver: 1.15.0\n",
      "scikit-learn ver: 0.19.2\n"
     ]
    },
    {
     "name": "stderr",
     "output_type": "stream",
     "text": [
      "/usr/lib/python3.5/importlib/_bootstrap.py:222: RuntimeWarning: numpy.dtype size changed, may indicate binary incompatibility. Expected 96, got 88\n",
      "  return f(*args, **kwds)\n",
      "/usr/lib/python3.5/importlib/_bootstrap.py:222: RuntimeWarning: numpy.dtype size changed, may indicate binary incompatibility. Expected 96, got 88\n",
      "  return f(*args, **kwds)\n",
      "/usr/lib/python3.5/importlib/_bootstrap.py:222: RuntimeWarning: numpy.dtype size changed, may indicate binary incompatibility. Expected 96, got 88\n",
      "  return f(*args, **kwds)\n",
      "/usr/lib/python3.5/importlib/_bootstrap.py:222: RuntimeWarning: numpy.dtype size changed, may indicate binary incompatibility. Expected 96, got 88\n",
      "  return f(*args, **kwds)\n"
     ]
    }
   ],
   "source": [
    "import os,sys\n",
    "import re\n",
    "from pathlib import Path\n",
    "import matplotlib.pyplot as plt\n",
    "%matplotlib inline\n",
    "\n",
    "import numpy as np\n",
    "import sklearn\n",
    "from sklearn import datasets\n",
    "\n",
    "seed = 0\n",
    "np.random.seed(seed=seed)\n",
    "\n",
    "print(\"numpy ver: {}\".format(np.__version__))\n",
    "print(\"scikit-learn ver: {}\".format(sklearn.__version__))"
   ]
  },
  {
   "cell_type": "markdown",
   "metadata": {},
   "source": [
    "### TensorFlow"
   ]
  },
  {
   "cell_type": "code",
   "execution_count": 2,
   "metadata": {
    "ExecuteTime": {
     "end_time": "2018-08-30T07:36:34.366698Z",
     "start_time": "2018-08-30T07:36:33.234384Z"
    }
   },
   "outputs": [
    {
     "name": "stderr",
     "output_type": "stream",
     "text": [
      "/usr/lib/python3.5/importlib/_bootstrap.py:222: RuntimeWarning: numpy.dtype size changed, may indicate binary incompatibility. Expected 96, got 88\n",
      "  return f(*args, **kwds)\n",
      "/usr/lib/python3.5/importlib/_bootstrap.py:222: RuntimeWarning: numpy.dtype size changed, may indicate binary incompatibility. Expected 96, got 88\n",
      "  return f(*args, **kwds)\n"
     ]
    },
    {
     "name": "stdout",
     "output_type": "stream",
     "text": [
      "tensorflow ver: 1.9.0\n",
      "tf.executing_eagerly(): True\n",
      "\n",
      "________________________________________\n",
      "Visible GPUs from TensorFlow\n",
      "________________________________________\n",
      "\n",
      "(CPU:0)\n",
      "(GPU:0: pci_bus_id: 0000:02:00.0)\n",
      "________________________________________\n"
     ]
    }
   ],
   "source": [
    "#____________________________________________________________________________________________________\n",
    "#  TensorFlow and Keras GPU configures\n",
    "##________________________________________________________________________________\n",
    "##  OPTIONAL : set a GPU viewed by TensorFlow\n",
    "###____________________________________________________________\n",
    "###  - https://stackoverflow.com/questions/37893755/tensorflow-set-cuda-visible-devices-within-jupyter\n",
    "import os\n",
    "os.environ[\"CUDA_DEVICE_ORDER\"]=\"PCI_BUS_ID\"   # see issue #152\n",
    "os.environ[\"CUDA_VISIBLE_DEVICES\"]=\"1\"\n",
    "##________________________________________________________________________________\n",
    "\n",
    "\n",
    "##________________________________________________________________________________\n",
    "##  TensorFlow\n",
    "###____________________________________________________________\n",
    "import tensorflow as tf\n",
    "print(\"tensorflow ver: {}\".format(tf.__version__))\n",
    "###  eager mode\n",
    "tf.enable_eager_execution()\n",
    "print(\"tf.executing_eagerly(): {}\".format(tf.executing_eagerly()))\n",
    "\n",
    "# You can double check that you have the correct devices visible to TF\n",
    "#   - https://stackoverflow.com/questions/37893755/tensorflow-set-cuda-visible-devices-within-jupyter\n",
    "from tensorflow.python.client import device_lib\n",
    "print(\"\"\"\n",
    "________________________________________\n",
    "Visible GPUs from TensorFlow\n",
    "________________________________________\"\"\")\n",
    "for _device in device_lib.list_local_devices():\n",
    "    match = re.search(pattern=r'name: \"/device:(?P<name>[A-Z]{3}):(?P<device_num>\\d{1})*',\n",
    "                      string=str(_device))\n",
    "    if match is None:\n",
    "        print(\"Not Match\")\n",
    "        continue\n",
    "    if match.group(\"name\") == \"CPU\":\n",
    "        name, device_num = match.group(\"name\", \"device_num\")\n",
    "        print()\n",
    "        print(\"({}:{})\".format(name, device_num))\n",
    "        continue\n",
    "    name, device_num = match.group(\"name\", \"device_num\")\n",
    "    match = re.search(pattern=r'.*pci bus id: (?P<pci_bus_id>\\d{4}:\\d{2}:\\d{2}.\\d{1}).*',\n",
    "                      string=str(_device))\n",
    "    if match is None:\n",
    "        print(\"No GPUs\")\n",
    "        continue\n",
    "    print(\"({}:{}: pci_bus_id: {})\".format(name, device_num, match.group(\"pci_bus_id\")))\n",
    "print(\"________________________________________\")\n",
    "\n",
    "###____________________________________________________________\n",
    "###  Computational Graph\n",
    "def reset_graph(seed=42):\n",
    "    tf.reset_default_graph()\n",
    "    tf.set_random_seed(seed)\n",
    "    np.random.seed(seed)\n",
    "\n",
    "###____________________________________________________________\n",
    "###  sessioin\n",
    "global _SESSION\n",
    "config = tf.ConfigProto(allow_soft_placement=True,\n",
    "                        log_device_placement=True)\n",
    "config.gpu_options.allow_growth = True\n",
    "#_SESSION = tf.Session(config=config)\n",
    "###____________________________________________________________\n",
    "##________________________________________________________________________________\n",
    "#____________________________________________________________________________________________________"
   ]
  },
  {
   "cell_type": "markdown",
   "metadata": {},
   "source": [
    "### Path"
   ]
  },
  {
   "cell_type": "code",
   "execution_count": 3,
   "metadata": {
    "ExecuteTime": {
     "end_time": "2018-08-30T07:36:34.370308Z",
     "start_time": "2018-08-30T07:36:34.368063Z"
    }
   },
   "outputs": [
    {
     "name": "stdout",
     "output_type": "stream",
     "text": [
      "/home/pollenjp/workdir/git/article_script/20180821__semi-supervised_learning__in_kabuku\n"
     ]
    }
   ],
   "source": [
    "HOME = Path(os.getcwd()).parent\n",
    "print(HOME)"
   ]
  },
  {
   "cell_type": "code",
   "execution_count": 4,
   "metadata": {
    "ExecuteTime": {
     "end_time": "2018-08-30T07:36:34.375465Z",
     "start_time": "2018-08-30T07:36:34.371570Z"
    }
   },
   "outputs": [
    {
     "name": "stdout",
     "output_type": "stream",
     "text": [
      "True :  /home/pollenjp/workdir/git/article_script/20180821__semi-supervised_learning__in_kabuku/data\n",
      "True :  /home/pollenjp/workdir/git/article_script/20180821__semi-supervised_learning__in_kabuku/data/raw\n",
      "True :  /home/pollenjp/workdir/git/article_script/20180821__semi-supervised_learning__in_kabuku/data/plot_images\n",
      "True :  /home/pollenjp/workdir/git/article_script/20180821__semi-supervised_learning__in_kabuku/src\n"
     ]
    }
   ],
   "source": [
    "path_list = []\n",
    "data_Path = HOME / \"data\"\n",
    "path_list.append(data_Path)\n",
    "raw_Path = data_Path / \"raw\"\n",
    "path_list.append(raw_Path)\n",
    "plot_images_Path = data_Path / \"plot_images\"\n",
    "path_list.append(plot_images_Path)\n",
    "src_Path = HOME / \"src\"\n",
    "path_list.append(src_Path)\n",
    "\n",
    "for _Path in path_list:\n",
    "    _path = str(_Path)\n",
    "    if not os.path.exists(_path):\n",
    "        os.makedirs(name=_path)\n",
    "        print(\"make a directory: \\n\\t\", _path)\n",
    "    else:\n",
    "        print(os.path.exists(_path), \": \", _path)"
   ]
  },
  {
   "cell_type": "markdown",
   "metadata": {},
   "source": [
    "### Import 2"
   ]
  },
  {
   "cell_type": "code",
   "execution_count": 5,
   "metadata": {
    "ExecuteTime": {
     "end_time": "2018-08-30T07:36:34.381820Z",
     "start_time": "2018-08-30T07:36:34.379921Z"
    }
   },
   "outputs": [],
   "source": [
    "sys.path.append(str(src_Path / \"models\"))\n",
    "sys.path.append(str(src_Path / \"utils\"))"
   ]
  },
  {
   "cell_type": "code",
   "execution_count": 6,
   "metadata": {
    "ExecuteTime": {
     "end_time": "2018-08-30T07:33:15.422570Z",
     "start_time": "2018-08-30T07:33:15.416717Z"
    }
   },
   "outputs": [],
   "source": [
    "from softmax_regression import SoftmaxRegression\n",
    "from softmax_regression_pu import (WeightedUnlabelledSoftmaxRegression, HardBootstrappingSoftmaxRegression,\n",
    "                                    UnlabelledExponentialLossSoftmaxRegression)\n",
    "from utils import (fit_and_plot, synthesize_pu_labels)"
   ]
  },
  {
   "cell_type": "code",
   "execution_count": null,
   "metadata": {},
   "outputs": [],
   "source": []
  },
  {
   "cell_type": "markdown",
   "metadata": {},
   "source": [
    "## PU Learning"
   ]
  },
  {
   "cell_type": "code",
   "execution_count": 7,
   "metadata": {
    "ExecuteTime": {
     "end_time": "2018-08-30T06:49:06.290423Z",
     "start_time": "2018-08-30T06:49:06.285067Z"
    }
   },
   "outputs": [],
   "source": [
    "X, y = datasets.make_blobs(n_samples=100, n_features=2, centers=[[-3,0], [3,0]], random_state=seed)\n",
    "Y = np.eye(2)[y]"
   ]
  },
  {
   "cell_type": "markdown",
   "metadata": {},
   "source": [
    "### Data Plot"
   ]
  },
  {
   "cell_type": "code",
   "execution_count": 8,
   "metadata": {
    "ExecuteTime": {
     "end_time": "2018-08-30T06:49:08.196637Z",
     "start_time": "2018-08-30T06:49:07.850680Z"
    },
    "scrolled": false
   },
   "outputs": [
    {
     "data": {
      "text/plain": [
       "<module 'matplotlib.pyplot' from '/usr/local/lib/python3.5/dist-packages/matplotlib/pyplot.py'>"
      ]
     },
     "execution_count": 8,
     "metadata": {},
     "output_type": "execute_result"
    },
    {
     "data": {
      "image/png": "[encoded data removed]",
      "text/plain": [
       "<Figure size 720x576 with 1 Axes>"
      ]
     },
     "metadata": {},
     "output_type": "display_data"
    }
   ],
   "source": [
    "fit_and_plot(X, Y, classifier=None, marker_size=None, Y_true=None)"
   ]
  },
  {
   "cell_type": "code",
   "execution_count": 9,
   "metadata": {
    "ExecuteTime": {
     "end_time": "2018-08-30T06:49:08.656947Z",
     "start_time": "2018-08-30T06:49:08.520688Z"
    }
   },
   "outputs": [
    {
     "ename": "NameError",
     "evalue": "name 'classifier' is not defined",
     "output_type": "error",
     "traceback": [
      "\u001b[0;31m---------------------------------------------------------------------------\u001b[0m",
      "\u001b[0;31mNameError\u001b[0m                                 Traceback (most recent call last)",
      "\u001b[0;32m<ipython-input-9-07667c02dfd3>\u001b[0m in \u001b[0;36m<module>\u001b[0;34m()\u001b[0m\n\u001b[1;32m     20\u001b[0m \u001b[0;31m#____________________________________________________________\u001b[0m\u001b[0;34m\u001b[0m\u001b[0;34m\u001b[0m\u001b[0m\n\u001b[1;32m     21\u001b[0m \u001b[0;31m#  Classifier\u001b[0m\u001b[0;34m\u001b[0m\u001b[0;34m\u001b[0m\u001b[0m\n\u001b[0;32m---> 22\u001b[0;31m \u001b[0;32mif\u001b[0m \u001b[0mclassifier\u001b[0m\u001b[0;34m:\u001b[0m\u001b[0;34m\u001b[0m\u001b[0m\n\u001b[0m\u001b[1;32m     23\u001b[0m     \u001b[0mx_min\u001b[0m\u001b[0;34m,\u001b[0m \u001b[0mx_max\u001b[0m \u001b[0;34m=\u001b[0m \u001b[0mX\u001b[0m\u001b[0;34m[\u001b[0m\u001b[0;34m:\u001b[0m\u001b[0;34m,\u001b[0m \u001b[0;36m0\u001b[0m\u001b[0;34m]\u001b[0m\u001b[0;34m.\u001b[0m\u001b[0mmin\u001b[0m\u001b[0;34m(\u001b[0m\u001b[0;34m)\u001b[0m \u001b[0;34m-\u001b[0m \u001b[0;36m.5\u001b[0m\u001b[0;34m,\u001b[0m \u001b[0mX\u001b[0m\u001b[0;34m[\u001b[0m\u001b[0;34m:\u001b[0m\u001b[0;34m,\u001b[0m \u001b[0;36m0\u001b[0m\u001b[0;34m]\u001b[0m\u001b[0;34m.\u001b[0m\u001b[0mmax\u001b[0m\u001b[0;34m(\u001b[0m\u001b[0;34m)\u001b[0m \u001b[0;34m+\u001b[0m \u001b[0;36m.5\u001b[0m\u001b[0;34m\u001b[0m\u001b[0m\n\u001b[1;32m     24\u001b[0m     \u001b[0my_min\u001b[0m\u001b[0;34m,\u001b[0m \u001b[0my_max\u001b[0m \u001b[0;34m=\u001b[0m \u001b[0mX\u001b[0m\u001b[0;34m[\u001b[0m\u001b[0;34m:\u001b[0m\u001b[0;34m,\u001b[0m \u001b[0;36m1\u001b[0m\u001b[0;34m]\u001b[0m\u001b[0;34m.\u001b[0m\u001b[0mmin\u001b[0m\u001b[0;34m(\u001b[0m\u001b[0;34m)\u001b[0m \u001b[0;34m-\u001b[0m \u001b[0;36m.5\u001b[0m\u001b[0;34m,\u001b[0m \u001b[0mX\u001b[0m\u001b[0;34m[\u001b[0m\u001b[0;34m:\u001b[0m\u001b[0;34m,\u001b[0m \u001b[0;36m1\u001b[0m\u001b[0;34m]\u001b[0m\u001b[0;34m.\u001b[0m\u001b[0mmax\u001b[0m\u001b[0;34m(\u001b[0m\u001b[0;34m)\u001b[0m \u001b[0;34m+\u001b[0m \u001b[0;36m.5\u001b[0m\u001b[0;34m\u001b[0m\u001b[0m\n",
      "\u001b[0;31mNameError\u001b[0m: name 'classifier' is not defined"
     ]
    }
   ],
   "source": [
    "#____________________\n",
    "marker_size = None\n",
    "figsize = None\n",
    "resolution = 0.02\n",
    "#____________________\n",
    "min_size, max_size = 5, 30  # min and max mark size\n",
    "default_size = 10\n",
    "if marker_size is None:\n",
    "    marker_size = [\"default\"]\n",
    "if not isinstance(marker_size, list):\n",
    "    marker_size = [marker_size]\n",
    "\n",
    "n_samples, n_classes = Y.shape\n",
    "n_rows = len(marker_size)\n",
    "n_cols = n_classes - 1\n",
    "#S = np.ones((X.shape[0], n_rows)) * default_size  # default maker size\n",
    "S = np.full(shape=(X.shape[0], n_rows), fill_value=default_size)\n",
    "\n",
    "\n",
    "#____________________________________________________________\n",
    "#  Classifier\n",
    "if classifier:\n",
    "    x_min, x_max = X[:, 0].min() - .5, X[:, 0].max() + .5\n",
    "    y_min, y_max = X[:, 1].min() - .5, X[:, 1].max() + .5\n",
    "    xx, yy = np.meshgrid(np.arange(x_min, x_max, resolution),\n",
    "                         np.arange(y_min, y_max, resolution))\n",
    "    # we create an instance of Neighbe the number of bootstrap resamples\n",
    "    # (n_boot) or set ci to None.ours Classifier and fit the data.\n",
    "    classifier.fit(X, Y)\n",
    "    Z = classifier.predict_proba(np.c_[xx.ravel(), yy.ravel()])\n",
    "\n",
    "    def normalize_size(s, y_enc, min_size=5, max_size=30):\n",
    "        \"\"\"Normalize S to (min_size, max_size).\"\"\"\n",
    "        N, K = y_enc.shape\n",
    "        for k in range(K):\n",
    "            is_k = y_enc[:, k] > 0.\n",
    "            s_k = s[is_k]\n",
    "            s_k = (s_k - np.min(s_k)) / (np.max(s_k) - np.min(s_k))\n",
    "            s[is_k] = s_k * (max_size - min_size) + min_size\n",
    "        return s\n",
    "\n",
    "    for j in range(n_rows):\n",
    "        cmaps = [plt.cm.RdBu, plt.cm.RdYlGn]\n",
    "        for k in range(1, n_classes):\n",
    "            z = Z[:, k]\n",
    "            # Put the result into a color plot\n",
    "            zz = z.reshape(xx.shape)\n",
    "            axs[j, k - 1].contourf(xx, yy, zz,\n",
    "                                   cmap=cmaps[k - 1], alpha=.6)\n",
    "            # axs[j, k - 1].set_title(\n",
    "            #     'Class {} probabilty, per instance {}'.format(\n",
    "            #         k, marker_size[j]))\n",
    "\n",
    "        if marker_size[j] == \"gradient\":\n",
    "            G = classifier.calc_gradient(X, Y)\n",
    "            G = np.abs(G)\n",
    "            y = np.argmax(Y, axis=1)\n",
    "            s = G[np.arange(n_samples), y]\n",
    "            s = normalize_size(s, Y, min_size, max_size)\n",
    "        elif marker_size[j] == \"loss\":\n",
    "            L = classifier.calc_loss(X, Y)\n",
    "            s = L.copy()\n",
    "            s = normalize_size(s, Y, min_size, max_size)\n",
    "        S[:, j] = s.copy()\n",
    "#____________________________________________________________\n",
    "\n",
    "#____________________________________________________________\n",
    "#  Plot Data\n",
    "##________________________________________\n",
    "##  - different marker sizes and colors\n",
    "if figsize is None:\n",
    "    figsize=(7 * n_cols, 5 * n_rows)\n",
    "f, axs = plt.subplots(n_rows, n_cols, figsize=figsize)\n",
    "#print(axs.shape)\n",
    "#if isinstance(axs, matplotlib.axes.SubplotBase):\n",
    "axs = np.array([axs])\n",
    "if n_rows == 1:\n",
    "    axs = np.expand_dims(axs, 0)\n",
    "elif n_cols == 1:\n",
    "    axs = np.expand_dims(axs, 1)\n",
    "\n",
    "n_samples = Y.shape[0]\n",
    "y = np.argmax(Y, axis=1)\n",
    "y_flip = np.zeros(shape=n_samples, dtype=bool)\n",
    "\n",
    "for k in range(1, n_classes):\n",
    "    for j in range(n_rows):\n",
    "        for idx in range(n_samples):\n",
    "            if y_flip[idx] > 0:\n",
    "                axs[j, k - 1].scatter(x=X[idx, 0], y=X[idx, 1], c=colors[y[idx]], marker=markers[y[idx]],\n",
    "                                      s=10 * S[idx, j], edgecolor='black', linewidth='2', linestyle='dotted',\n",
    "                                      label=\"{}番目のクラス\".format(k) )\n",
    "            else:\n",
    "                axs[j, k - 1].scatter(x=X[idx, 0], y=X[idx, 1], c=colors[y[idx]], marker=markers[y[idx]],\n",
    "                                      s=10 * S[idx, j], edgecolor='black', linewidth='2', linestyle='solid')\n",
    "                                      #label=\"{}番目のクラス\".format(k) )\n",
    "                #axs[j, k - 1].scatter(X[idx, 0], X[idx, 1], c=colors[y[idx]],marker=markers[y[idx]],\n",
    "                #                      s=10 * S[idx, j], edgecolor='black', linewidth='2', linestyle='solid')\n",
    "        axs[k - 1, j].set_xlabel('$x_0$')\n",
    "        axs[k - 1, j].set_ylabel('$x_1$')\n",
    "\n",
    "        axs[j, k - 1].set_xlim(xx.min(), xx.max())\n",
    "        axs[j, k - 1].set_ylim(yy.min(), yy.max())\n",
    "        axs[j, k - 1].set_xticks(())\n",
    "        axs[j, k - 1].set_yticks(())\n",
    "        axs[j, k - 1].legend()\n",
    "#____________________________________________________________\n",
    "plt.tight_layout(w_pad=1.0, h_pad=1.0)"
   ]
  },
  {
   "cell_type": "code",
   "execution_count": null,
   "metadata": {},
   "outputs": [],
   "source": [
    "\n",
    "if classifier:\n",
    "    # we create an instance of Neighbe the number of bootstrap resamples\n",
    "    # (n_boot) or set ci to None.ours Classifier and fit the data.\n",
    "    classifier.fit(X, Y)\n",
    "    Z = classifier.predict_proba(np.c_[xx.ravel(), yy.ravel()])\n",
    "\n",
    "    def normalize_size(s, y_enc, min_size=5, max_size=30):\n",
    "        \"\"\"Normalize S to (min_size, max_size).\"\"\"\n",
    "        N, K = y_enc.shape\n",
    "        for k in range(K):\n",
    "            is_k = y_enc[:, k] > 0.\n",
    "            s_k = s[is_k]\n",
    "            s_k = (s_k - np.min(s_k)) / (np.max(s_k) - np.min(s_k))\n",
    "            s[is_k] = s_k * (max_size - min_size) + min_size\n",
    "        return s\n",
    "\n",
    "    for j in range(n_rows):\n",
    "        cmaps = [plt.cm.RdBu, plt.cm.RdYlGn]\n",
    "        for k in range(1, n_classes):\n",
    "            z = Z[:, k]\n",
    "            # Put the result into a color plot\n",
    "            zz = z.reshape(xx.shape)\n",
    "            axs[j, k - 1].contourf(xx, yy, zz,\n",
    "                                   cmap=cmaps[k - 1], alpha=.6)\n",
    "            # axs[j, k - 1].set_title(\n",
    "            #     'Class {} probabilty, per instance {}'.format(\n",
    "            #         k, marker_size[j]))\n",
    "\n",
    "        if marker_size[j] == \"gradient\":\n",
    "            G = classifier.calc_gradient(X, Y)\n",
    "            G = np.abs(G)\n",
    "            y = np.argmax(Y, axis=1)\n",
    "            s = G[np.arange(n_samples), y]\n",
    "            s = normalize_size(s, Y, min_size, max_size)\n",
    "        elif marker_size[j] == \"loss\":\n",
    "            L = classifier.calc_loss(X, Y)\n",
    "            s = L.copy()\n",
    "            s = normalize_size(s, Y, min_size, max_size)\n",
    "        S[:, j] = s.copy()\n",
    "\n",
    "# Plot also the training points\n",
    "ms = ['o', 's', '^']\n",
    "cs = ['r', 'b', 'g']\n",
    "\n",
    "n_samples = Y.shape[0]\n",
    "y = np.argmax(Y, axis=1)\n",
    "if Y_true is None:\n",
    "    y_flip = np.zeros(n_samples, dtype=bool)\n",
    "else:\n",
    "    y_true = np.argmax(Y_true, axis=1)\n",
    "    y_flip = np.logical_and(y == 0, y_true != 0)\n",
    "\n",
    "for k in range(1, n_classes):\n",
    "    for j in range(n_rows):\n",
    "        for idx in range(n_samples):\n",
    "            if y_flip[idx] > 0:\n",
    "                axs[j, k - 1].scatter(X[idx, 0], X[idx, 1], c=cs[y[idx]],\n",
    "                                      marker=ms[y[idx]], s=10 * S[idx, j],\n",
    "                                      edgecolor='black', linewidth='2',\n",
    "                                      linestyle='dotted')\n",
    "            else:\n",
    "                axs[j, k - 1].scatter(X[idx, 0], X[idx, 1], c=cs[y[idx]],\n",
    "                                      marker=ms[y[idx]], s=10 * S[idx, j],\n",
    "                                      edgecolor='black', linewidth='2',\n",
    "                                      linestyle='solid')\n",
    "        # axs[k - 1, j].set_xlabel('$x_0$')\n",
    "        # axs[k - 1, j].set_ylabel('$x_1$')\n",
    "\n",
    "        axs[j, k - 1].set_xlim(xx.min(), xx.max())\n",
    "        axs[j, k - 1].set_ylim(yy.min(), yy.max())\n",
    "        axs[j, k - 1].set_xticks(())\n",
    "        axs[j, k - 1].set_yticks(())\n",
    "# plt.show()\n",
    "plt.tight_layout(w_pad=1.0, h_pad=1.0)"
   ]
  },
  {
   "cell_type": "markdown",
   "metadata": {},
   "source": [
    "### Softmax with Regression"
   ]
  },
  {
   "cell_type": "code",
   "execution_count": 65,
   "metadata": {
    "ExecuteTime": {
     "end_time": "2018-08-30T03:47:06.509004Z",
     "start_time": "2018-08-30T03:47:06.495733Z"
    }
   },
   "outputs": [],
   "source": [
    "def layer1(X, n_neurons=1, name=None, activation=None):\n",
    "    \"\"\"\n",
    "    X : shape(n_batch, features)\n",
    "    \"\"\"\n",
    "    with tf.name_scope(name=name):\n",
    "        n_inputs = int(X.shape[1])\n",
    "        stddev = 2 / np.sqrt(n_inputs + n_neurons)\n",
    "        init = tf.truncated_normal(shape=(n_inputs, n_neurons), stddev=stddev)\n",
    "        W = tf.Variable(initial_value=init, name=\"kernel\")\n",
    "        b = tf.Variable(initial_value=tf.zeros(shape=[n_neurons], dtype=tf.float32), name=\"bias\")\n",
    "        Z = tf.matmul(a=X, b=W) + b\n",
    "        if activation is not None:\n",
    "            return activation(Z)\n",
    "        else:\n",
    "            return Z"
   ]
  },
  {
   "cell_type": "code",
   "execution_count": 66,
   "metadata": {
    "ExecuteTime": {
     "end_time": "2018-08-30T03:47:56.320253Z",
     "start_time": "2018-08-30T03:47:56.310467Z"
    }
   },
   "outputs": [
    {
     "data": {
      "text/plain": [
       "<function __main__.reset_graph(seed=42)>"
      ]
     },
     "execution_count": 66,
     "metadata": {},
     "output_type": "execute_result"
    }
   ],
   "source": [
    "reset_graph"
   ]
  },
  {
   "cell_type": "code",
   "execution_count": 67,
   "metadata": {
    "ExecuteTime": {
     "end_time": "2018-08-30T03:47:59.015758Z",
     "start_time": "2018-08-30T03:47:59.009595Z"
    }
   },
   "outputs": [],
   "source": [
    "with tf.name_scope(name=\"input\"):\n",
    "    X = tf.placeholder(dtype=tf.float32, shape=[None, 2], name=\"X_train\")\n",
    "    y = tf.placeholder(dtype=tf.int16,   shape=[None],    name=\"y_train\")"
   ]
  },
  {
   "cell_type": "code",
   "execution_count": 68,
   "metadata": {
    "ExecuteTime": {
     "end_time": "2018-08-30T03:49:36.090119Z",
     "start_time": "2018-08-30T03:49:36.059532Z"
    }
   },
   "outputs": [],
   "source": [
    "with tf.name_scope(\"network\"):\n",
    "    logits = layer1(X=X, n_neurons=2, name=\"linear\")"
   ]
  },
  {
   "cell_type": "code",
   "execution_count": null,
   "metadata": {},
   "outputs": [],
   "source": [
    "with tf.name_scope(\"loss\"):\n",
    "    "
   ]
  },
  {
   "cell_type": "code",
   "execution_count": null,
   "metadata": {},
   "outputs": [],
   "source": []
  },
  {
   "cell_type": "code",
   "execution_count": null,
   "metadata": {},
   "outputs": [],
   "source": []
  },
  {
   "cell_type": "code",
   "execution_count": null,
   "metadata": {},
   "outputs": [],
   "source": []
  },
  {
   "cell_type": "markdown",
   "metadata": {},
   "source": [
    "## PU_loss\n",
    "\n",
    "ここではラベルを論文やスライド資料に合わせて\n",
    "\n",
    "```\n",
    "- Positive  :  1\n",
    "- Unlabeled : -1\n",
    "```\n",
    "\n",
    "として考える"
   ]
  },
  {
   "cell_type": "markdown",
   "metadata": {},
   "source": [
    "### Try"
   ]
  },
  {
   "cell_type": "code",
   "execution_count": 96,
   "metadata": {
    "ExecuteTime": {
     "end_time": "2018-08-30T10:20:32.045478Z",
     "start_time": "2018-08-30T10:20:32.038967Z"
    }
   },
   "outputs": [
    {
     "name": "stdout",
     "output_type": "stream",
     "text": [
      "[1 0 0]\n",
      "tf.Tensor(\n",
      "[[0.7]\n",
      " [0.2]\n",
      " [0.4]], shape=(3, 1), dtype=float32)\n"
     ]
    }
   ],
   "source": [
    "#y_true = tf.constant(value=[[1, 0],\n",
    "#                            [0, 1],\n",
    "#                            [0, 1]], dtype=tf.int16)\n",
    "#y_pred = tf.constant(value=[[0.7, 0.3],\n",
    "#                            [0.2, 0.8],\n",
    "#                            [0.4, 0.6]], dtype=tf.float32)\n",
    "\n",
    "y_true = tf.constant(value=[1, 0, 0], dtype=tf.int16)\n",
    "print(np.array(y_true))\n",
    "#y_true = tf.cast(x=y_true, dtype=tf.float32)\n",
    "#print(y_true)\n",
    "\n",
    "y_pred = tf.constant(value=[[0.7],\n",
    "                            [0.2],\n",
    "                            [0.4]], dtype=tf.float32)\n",
    "print(y_pred)"
   ]
  },
  {
   "cell_type": "code",
   "execution_count": 97,
   "metadata": {
    "ExecuteTime": {
     "end_time": "2018-08-30T10:20:32.258218Z",
     "start_time": "2018-08-30T10:20:32.224352Z"
    }
   },
   "outputs": [],
   "source": [
    "logits = y_pred\n",
    "labels = y_true\n",
    "# positive and negative percentage is known beforehand\n",
    "positive_pct = 0.2\n",
    "loss_func = lambda x: tf.sigmoid(x=x)  # sigmoid: y = 1 / (1 + exp(-x))\n",
    "\n",
    "logits  = tf.reshape(tensor=logits, shape=[-1])\n",
    "y_label = tf.cast(x=tf.reshape(tensor=y_true, shape=[-1]), dtype=tf.float32)\n",
    "assert logits.shape == y_label.shape\n",
    "\n",
    "bool_positive, bool_unlabeled = tf.equal(x=y_label, y=1), tf.equal(x=y_label, y=0)\n",
    "\n",
    "#  count positive and unlabel (Only Support |P| + |U| = |X| or |U| = |X| )\n",
    "n_positive  = tf.cast(x=tf.maximum(x=tf.reduce_sum(input_tensor=y_label), y=1), dtype=tf.float32)  # y_label has 0 or 1\n",
    "#  n_unlabeled =  \"batch\" - n_positive\n",
    "n_unlabeled = tf.subtract(x=tf.cast(x=y_true.shape[0], dtype=tf.float32), y=n_positive)\n",
    "\n",
    "#________________________________________\n",
    "#  LOSS function like \"Sigmoid Loss\"\n",
    "#positive_loss = self.loss_func(self.x_in)\n",
    "positive_loss = loss_func(y_pred)\n",
    "#unlabeled_loss = self.loss_func(-self.x_in)\n",
    "unlabeled_loss = loss_func(-y_pred)\n",
    "#________________________________________\n",
    "\n",
    "\n",
    "#________________________________________\n",
    "#  Compute Emperical Risk (経験損失)\n",
    "##________________________________________\n",
    "##  Use Only TensorFrow Operator for Automatic differentiation\n",
    "###____________________\n",
    "###  sum(positive_pct * bool_positive / n_positive * positive_loss)\n",
    "positive_risk = tf.reduce_sum(\n",
    "    input_tensor=tf.multiply(\n",
    "        x=tf.divide(x=tf.multiply(x=positive_pct,\n",
    "                                  y=tf.cast(x=bool_positive, dtype=tf.float32)),\n",
    "                    y=n_positive),\n",
    "        y=positive_loss), axis=None)\n",
    "###____________________\n",
    "###  sum((bool_unlabeled / n_unlabeled - positive_pct * bool_positive / n_positive) * unlabeled_loss)\n",
    "negative_risk = tf.reduce_sum(\n",
    "    input_tensor=tf.multiply(\n",
    "        x=tf.subtract(x=tf.divide(x=tf.cast(x=bool_unlabeled, dtype=tf.float32),\n",
    "                                  y=n_unlabeled),\n",
    "                      y=tf.divide(x=tf.multiply(x=positive_pct,\n",
    "                                                y=tf.cast(x=bool_positive, dtype=tf.float32)),\n",
    "                                  y=tf.cast(n_positive, dtype=tf.float32))),\n",
    "        y=unlabeled_loss), axis=None)\n",
    "#________________________________________"
   ]
  },
  {
   "cell_type": "code",
   "execution_count": 98,
   "metadata": {
    "ExecuteTime": {
     "end_time": "2018-08-30T10:20:32.575864Z",
     "start_time": "2018-08-30T10:20:32.567031Z"
    }
   },
   "outputs": [
    {
     "name": "stdout",
     "output_type": "stream",
     "text": [
      "tf.Tensor(0.3633419, shape=(), dtype=float32)\n",
      "tf.Tensor(0.9466325, shape=(), dtype=float32)\n"
     ]
    }
   ],
   "source": [
    "print(positive_risk)\n",
    "print(negative_risk)"
   ]
  },
  {
   "cell_type": "code",
   "execution_count": 99,
   "metadata": {
    "ExecuteTime": {
     "end_time": "2018-08-30T10:20:33.668433Z",
     "start_time": "2018-08-30T10:20:33.664098Z"
    }
   },
   "outputs": [],
   "source": [
    "nnPU = True\n",
    "beta = 0.\n",
    "gamma = 1.\n",
    "total_risk = tf.add( x=positive_risk, y=negative_risk )\n",
    "\n",
    "if nnPU:\n",
    "    if negative_risk < -beta:\n",
    "        print(\"negative_risk < -beta:\")\n",
    "        total_risk = tf.subtract( x=positive_risk, y=beta )\n",
    "        loss = -gamma * negative_risk\n",
    "    else:\n",
    "        loss = total_risk\n",
    "else:\n",
    "    loss = total_risk"
   ]
  },
  {
   "cell_type": "code",
   "execution_count": 100,
   "metadata": {
    "ExecuteTime": {
     "end_time": "2018-08-30T10:20:33.877073Z",
     "start_time": "2018-08-30T10:20:33.868959Z"
    }
   },
   "outputs": [
    {
     "name": "stdout",
     "output_type": "stream",
     "text": [
      "tf.Tensor(1.3099744, shape=(), dtype=float32)\n"
     ]
    }
   ],
   "source": [
    "print(loss)"
   ]
  },
  {
   "cell_type": "markdown",
   "metadata": {},
   "source": [
    "### def"
   ]
  },
  {
   "cell_type": "code",
   "execution_count": 82,
   "metadata": {
    "ExecuteTime": {
     "end_time": "2018-08-30T09:56:38.079721Z",
     "start_time": "2018-08-30T09:56:38.046019Z"
    }
   },
   "outputs": [],
   "source": [
    "def nnPU_loss():\n",
    "    # inputs =  [logits, y_label]\n",
    "    # logits : shape(batch, 1)_0or1\n",
    "    #      - [label]\n",
    "    #      - ex: [P,U,P] -->  [[0],\n",
    "    #                          [1],\n",
    "    #                          [0]]\n",
    "    # y_pred : shape(batch, 1)_Positive_Probability\n",
    "    # classes: unlabel, positive\n",
    "    #____________________________________________________________\n",
    "    # positive and negative percentage is known beforehand\n",
    "    positive_pct = 0.2\n",
    "    loss_func = lambda x: tf.sigmoid(x=x)  # sigmoid: y = 1 / (1 + exp(-x))\n",
    "\n",
    "\n",
    "    #y_label = tf.argmax(input=y_true, axis=1)\n",
    "    y_label = tf.cast(x=tf.reshape(tensor=y_true, shape=[-1]), dtype=tf.float32)\n",
    "    bool_positive, bool_unlabeled = tf.equal(x=y_label, y=1), tf.equal(x=y_label, y=0)\n",
    "\n",
    "    #  count positive and unlabel (Only Support |P| + |U| = |X| or |U| = |X| )\n",
    "    n_positive  = tf.cast(x=tf.maximum(x=tf.reduce_sum(input_tensor=y_label), y=1), dtype=tf.float32)  # y_label has 0 or 1\n",
    "    #  n_unlabeled =  \"batch\" - n_positive\n",
    "    n_unlabeled = tf.subtract(x=tf.cast(x=y_true.shape[0], dtype=tf.float32), y=n_positive)\n",
    "\n",
    "    #________________________________________\n",
    "    #  LOSS function like \"Sigmoid Loss\"\n",
    "    #positive_loss = self.loss_func(self.x_in)\n",
    "    positive_loss = loss_func(y_pred)\n",
    "    #unlabeled_loss = self.loss_func(-self.x_in)\n",
    "    unlabeled_loss = loss_func(-y_pred)\n",
    "    #________________________________________\n",
    "\n",
    "\n",
    "    #________________________________________\n",
    "    #  Compute Emperical Risk (経験損失)\n",
    "    ##________________________________________\n",
    "    ##  Use Only TensorFrow Operator for Automatic differentiation\n",
    "    ###____________________\n",
    "    ###  sum(positive_pct * bool_positive / n_positive * positive_loss)\n",
    "    positive_risk = tf.reduce_sum(\n",
    "        input_tensor=tf.multiply(\n",
    "            x=tf.divide(x=tf.multiply(x=positive_pct,\n",
    "                                      y=tf.cast(x=bool_positive, dtype=tf.float32)),\n",
    "                        y=n_positive),\n",
    "            y=positive_loss), axis=None)\n",
    "    ###____________________\n",
    "    ###  sum((bool_unlabeled / n_unlabeled - positive_pct * bool_positive / n_positive) * unlabeled_loss)\n",
    "    negative_risk = tf.reduce_sum(\n",
    "        input_tensor=tf.multiply(\n",
    "            x=tf.subtract(x=tf.divide(x=tf.cast(x=bool_unlabeled, dtype=tf.float32),\n",
    "                                      y=n_unlabeled),\n",
    "                          y=tf.divide(x=tf.multiply(x=positive_pct,\n",
    "                                                    y=tf.cast(x=bool_positive, dtype=tf.float32)),\n",
    "                                      y=tf.cast(n_positive, dtype=tf.float32))),\n",
    "            y=unlabeled_loss), axis=None)\n",
    "    #________________________________________\n",
    "\n",
    "    nnPU = True\n",
    "    beta = 0.\n",
    "    gamma = 1.\n",
    "    total_risk = tf.add( x=positive_risk, y=negative_risk )\n",
    "\n",
    "    if nnPU:\n",
    "        if negative_risk < -beta:\n",
    "            print(\"negative_risk < -beta:\")\n",
    "            total_risk = tf.subtract( x=positive_risk, y=beta )\n",
    "            loss = -gamma * negative_risk\n",
    "        else:\n",
    "            loss = total_risk\n",
    "    else:\n",
    "        loss = total_risk"
   ]
  },
  {
   "cell_type": "code",
   "execution_count": null,
   "metadata": {},
   "outputs": [],
   "source": []
  },
  {
   "cell_type": "code",
   "execution_count": null,
   "metadata": {},
   "outputs": [],
   "source": []
  },
  {
   "cell_type": "code",
   "execution_count": null,
   "metadata": {},
   "outputs": [],
   "source": []
  },
  {
   "cell_type": "code",
   "execution_count": null,
   "metadata": {},
   "outputs": [],
   "source": []
  },
  {
   "cell_type": "code",
   "execution_count": null,
   "metadata": {},
   "outputs": [],
   "source": []
  },
  {
   "cell_type": "markdown",
   "metadata": {},
   "source": [
    "## End"
   ]
  },
  {
   "cell_type": "code",
   "execution_count": null,
   "metadata": {},
   "outputs": [],
   "source": []
  }
 ],
 "metadata": {
  "kernelspec": {
   "display_name": "Python 3",
   "language": "python",
   "name": "python3"
  },
  "language_info": {
   "codemirror_mode": {
    "name": "ipython",
    "version": 3
   },
   "file_extension": ".py",
   "mimetype": "text/x-python",
   "name": "python",
   "nbconvert_exporter": "python",
   "pygments_lexer": "ipython3",
   "version": "3.5.2"
  },
  "toc": {
   "base_numbering": 1,
   "nav_menu": {},
   "number_sections": true,
   "sideBar": true,
   "skip_h1_title": true,
   "title_cell": "Table of Contents",
   "title_sidebar": "Contents",
   "toc_cell": true,
   "toc_position": {
    "height": "calc(100% - 180px)",
    "left": "10px",
    "top": "150px",
    "width": "265px"
   },
   "toc_section_display": true,
   "toc_window_display": true
  }
 },
 "nbformat": 4,
 "nbformat_minor": 2
}
