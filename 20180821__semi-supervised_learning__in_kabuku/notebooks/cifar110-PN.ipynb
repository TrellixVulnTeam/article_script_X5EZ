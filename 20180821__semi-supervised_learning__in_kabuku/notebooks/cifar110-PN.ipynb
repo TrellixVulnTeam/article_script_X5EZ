{
 "cells": [
  {
   "cell_type": "markdown",
   "metadata": {},
   "source": [
    "# cifar110-PN\n",
    "\n",
    "- slide: http://www.ms.k.u-tokyo.ac.jp/~gang/paper/niu_ibisml030.pdf\n",
    "- ipynb: https://github.com/JihongJu/deep-pu-learning/blob/master/experiments/cifar/cifar110-PN.ipynb"
   ]
  },
  {
   "cell_type": "markdown",
   "metadata": {
    "toc": true
   },
   "source": [
    "<h1>Table of Contents<span class=\"tocSkip\"></span></h1>\n",
    "<div class=\"toc\"><ul class=\"toc-item\"><li><span><a href=\"#Import\" data-toc-modified-id=\"Import-1\"><span class=\"toc-item-num\">1&nbsp;&nbsp;</span>Import</a></span></li><li><span><a href=\"#CIFAR110\" data-toc-modified-id=\"CIFAR110-2\"><span class=\"toc-item-num\">2&nbsp;&nbsp;</span>CIFAR110</a></span><ul class=\"toc-item\"><li><span><a href=\"#Load-Dataset\" data-toc-modified-id=\"Load-Dataset-2.1\"><span class=\"toc-item-num\">2.1&nbsp;&nbsp;</span>Load Dataset</a></span></li><li><span><a href=\"#Normalize\" data-toc-modified-id=\"Normalize-2.2\"><span class=\"toc-item-num\">2.2&nbsp;&nbsp;</span>Normalize</a></span><ul class=\"toc-item\"><li><span><a href=\"#[Def]-normalize\" data-toc-modified-id=\"[Def]-normalize-2.2.1\"><span class=\"toc-item-num\">2.2.1&nbsp;&nbsp;</span>[Def] normalize</a></span></li><li><span><a href=\"#exe\" data-toc-modified-id=\"exe-2.2.2\"><span class=\"toc-item-num\">2.2.2&nbsp;&nbsp;</span>exe</a></span></li></ul></li><li><span><a href=\"#Percentage-of-Missing-data\" data-toc-modified-id=\"Percentage-of-Missing-data-2.3\"><span class=\"toc-item-num\">2.3&nbsp;&nbsp;</span>Percentage of Missing data</a></span><ul class=\"toc-item\"><li><span><a href=\"#[Def]-synthesize_pu_labels\" data-toc-modified-id=\"[Def]-synthesize_pu_labels-2.3.1\"><span class=\"toc-item-num\">2.3.1&nbsp;&nbsp;</span>[Def] synthesize_pu_labels</a></span></li><li><span><a href=\"#[Def]-synthesize_pn_labels\" data-toc-modified-id=\"[Def]-synthesize_pn_labels-2.3.2\"><span class=\"toc-item-num\">2.3.2&nbsp;&nbsp;</span>[Def] synthesize_pn_labels</a></span></li><li><span><a href=\"#exe\" data-toc-modified-id=\"exe-2.3.3\"><span class=\"toc-item-num\">2.3.3&nbsp;&nbsp;</span>exe</a></span></li></ul></li></ul></li></ul></div>"
   ]
  },
  {
   "cell_type": "markdown",
   "metadata": {},
   "source": [
    "## Import"
   ]
  },
  {
   "cell_type": "code",
   "execution_count": 1,
   "metadata": {
    "ExecuteTime": {
     "end_time": "2018-08-22T06:19:48.316926Z",
     "start_time": "2018-08-22T06:19:46.991794Z"
    }
   },
   "outputs": [
    {
     "name": "stdout",
     "output_type": "stream",
     "text": [
      "numpy ver: 1.15.0\n",
      "pandas ver: 0.23.3\n"
     ]
    },
    {
     "name": "stderr",
     "output_type": "stream",
     "text": [
      "/usr/lib/python3.5/importlib/_bootstrap.py:222: RuntimeWarning: numpy.dtype size changed, may indicate binary incompatibility. Expected 96, got 88\n",
      "  return f(*args, **kwds)\n",
      "/usr/lib/python3.5/importlib/_bootstrap.py:222: RuntimeWarning: numpy.dtype size changed, may indicate binary incompatibility. Expected 96, got 88\n",
      "  return f(*args, **kwds)\n",
      "/usr/lib/python3.5/importlib/_bootstrap.py:222: RuntimeWarning: numpy.dtype size changed, may indicate binary incompatibility. Expected 96, got 88\n",
      "  return f(*args, **kwds)\n",
      "Using TensorFlow backend.\n",
      "/usr/lib/python3.5/importlib/_bootstrap.py:222: RuntimeWarning: numpy.dtype size changed, may indicate binary incompatibility. Expected 96, got 88\n",
      "  return f(*args, **kwds)\n",
      "/usr/lib/python3.5/importlib/_bootstrap.py:222: RuntimeWarning: numpy.dtype size changed, may indicate binary incompatibility. Expected 96, got 88\n",
      "  return f(*args, **kwds)\n"
     ]
    },
    {
     "name": "stdout",
     "output_type": "stream",
     "text": [
      "keras ver: 2.2.2\n",
      "tensorflow ver: 1.9.0\n",
      "\n",
      "________________________________________\n",
      "Visible GPUs from TensorFlow\n",
      "________________________________________\n",
      "\n",
      "(CPU:0)\n",
      "(GPU:0: pci_bus_id: 0000:01:00.0)\n",
      "________________________________________\n"
     ]
    }
   ],
   "source": [
    "from __future__ import (print_function, absolute_import)\n",
    "\n",
    "import os\n",
    "#-------------------------------------------------------------------------------\n",
    "#  OPTIONAL\n",
    "#  set a GPU viewed by TensorFlow\n",
    "##---------------------------------------\n",
    "##  - https://stackoverflow.com/questions/37893755/tensorflow-set-cuda-visible-devices-within-jupyter\n",
    "os.environ[\"CUDA_DEVICE_ORDER\"]=\"PCI_BUS_ID\"   # see issue #152\n",
    "os.environ[\"CUDA_VISIBLE_DEVICES\"]=\"0\"\n",
    "##---------------------------------------\n",
    "\n",
    "import re\n",
    "\n",
    "import numpy as np\n",
    "print(\"numpy ver: {}\".format(np.__version__))\n",
    "\n",
    "import pandas as pd\n",
    "print(\"pandas ver: {}\".format(pd.__version__))\n",
    "\n",
    "import keras\n",
    "print(\"keras ver: {}\".format(keras.__version__))\n",
    "import keras.backend as K\n",
    "from keras import datasets\n",
    "from keras.preprocessing.image import ImageDataGenerator\n",
    "from keras.models import load_model\n",
    "from keras.callbacks import (\n",
    "    ReduceLROnPlateau,\n",
    "    LearningRateScheduler,\n",
    "    CSVLogger,\n",
    "    EarlyStopping,\n",
    "    ModelCheckpoint)\n",
    "\n",
    "import tensorflow as tf\n",
    "print(\"tensorflow ver: {}\".format(tf.__version__))\n",
    "# You can double check that you have the correct devices visible to TF\n",
    "#   - https://stackoverflow.com/questions/37893755/tensorflow-set-cuda-visible-devices-within-jupyter\n",
    "from tensorflow.python.client import device_lib\n",
    "print(\"\"\"\n",
    "________________________________________\n",
    "Visible GPUs from TensorFlow\n",
    "________________________________________\"\"\")\n",
    "for _device in device_lib.list_local_devices():\n",
    "    match = re.search(pattern=r'name: \"/device:(?P<name>[A-Z]{3}):(?P<device_num>\\d{1})*',\n",
    "                      string=str(_device))\n",
    "    if match is None:\n",
    "        print(\"Not Match\")\n",
    "        continue\n",
    "    if match.group(\"name\") == \"CPU\":\n",
    "        name, device_num = match.group(\"name\", \"device_num\")\n",
    "        print()\n",
    "        print(\"({}:{})\".format(name, device_num))\n",
    "        continue\n",
    "    name, device_num = match.group(\"name\", \"device_num\")\n",
    "    match = re.search(pattern=r'.*pci bus id: (?P<pci_bus_id>\\d{4}:\\d{2}:\\d{2}.\\d{1}).*',\n",
    "                      string=str(_device))\n",
    "    if match is None:\n",
    "        print(\"No GPUs\")\n",
    "        continue\n",
    "    print(\"({}:{}: pci_bus_id: {})\".format(name, device_num, match.group(\"pci_bus_id\")))\n",
    "print(\"________________________________________\")\n",
    "\n",
    "global _SESSION\n",
    "config = tf.ConfigProto(allow_soft_placement=True,\n",
    "                        log_device_placement=True)\n",
    "config.gpu_options.allow_growth = True\n",
    "_SESSION = tf.Session(config=config)\n",
    "K.set_session(_SESSION)\n",
    "\n",
    "\n",
    "import keras_tqdm\n",
    "from keras_tqdm import TQDMNotebookCallback\n",
    "#print(\"keras_tqdm ver: {}\".format(keras_tqdm.__version__))"
   ]
  },
  {
   "cell_type": "markdown",
   "metadata": {},
   "source": [
    "## CIFAR110"
   ]
  },
  {
   "cell_type": "code",
   "execution_count": 2,
   "metadata": {
    "ExecuteTime": {
     "end_time": "2018-08-22T06:19:48.320051Z",
     "start_time": "2018-08-22T06:19:48.317999Z"
    }
   },
   "outputs": [],
   "source": [
    "num_classes = 11\n",
    "batch_size = 128\n",
    "epochs = 200\n",
    "data_augmentation = True\n",
    "checkpoint = None\n",
    "# checkpoint = 'model_checkpoint_cifar10_wide_resnet.h5'\n",
    "title = 'cifar110_vgg8'\n",
    "# title = 'cifar110_wide_resnet'"
   ]
  },
  {
   "cell_type": "markdown",
   "metadata": {},
   "source": [
    "### Load Dataset"
   ]
  },
  {
   "cell_type": "code",
   "execution_count": 3,
   "metadata": {
    "ExecuteTime": {
     "end_time": "2018-08-22T06:19:48.581246Z",
     "start_time": "2018-08-22T06:19:48.321177Z"
    }
   },
   "outputs": [],
   "source": [
    "(x_train_10, y_train_10), (x_test_10, y_test_10) = datasets.cifar10.load_data()\n",
    "(x_train_100, y_train_100), (x_test_100, y_test_100) = datasets.cifar100.load_data()\n",
    "\n",
    "y_train_10 = y_train_10 + 1\n",
    "y_test_10 = y_test_10 + 1\n",
    "y_train_100[...] = 0\n",
    "y_test_100[...] = 0"
   ]
  },
  {
   "cell_type": "code",
   "execution_count": 4,
   "metadata": {
    "ExecuteTime": {
     "end_time": "2018-08-22T06:19:49.631893Z",
     "start_time": "2018-08-22T06:19:48.582714Z"
    }
   },
   "outputs": [],
   "source": [
    "x_train = np.concatenate((x_train_10, x_train_100), axis=0).astype('float32')\n",
    "y_train = np.concatenate((y_train_10, y_train_100), axis=0).astype('int8')\n",
    "x_test = np.concatenate((x_test_10, x_test_100), axis=0).astype('float32')\n",
    "y_test = np.concatenate((y_test_10, y_test_100), axis=0).astype('int8')\n",
    "\n",
    "x_train = x_train.astype(K.floatx())\n",
    "x_test = x_test.astype(K.floatx())\n",
    "\n",
    "# one-hot\n",
    "y_train = keras.utils.to_categorical(y_train, num_classes)\n",
    "y_test = keras.utils.to_categorical(y_test, num_classes)"
   ]
  },
  {
   "cell_type": "markdown",
   "metadata": {},
   "source": [
    "### Normalize"
   ]
  },
  {
   "cell_type": "markdown",
   "metadata": {},
   "source": [
    "#### [Def] normalize"
   ]
  },
  {
   "cell_type": "code",
   "execution_count": 5,
   "metadata": {
    "ExecuteTime": {
     "end_time": "2018-08-22T06:19:49.636011Z",
     "start_time": "2018-08-22T06:19:49.633195Z"
    }
   },
   "outputs": [],
   "source": [
    "def normalize(x, mean, std):\n",
    "    \"\"\"\n",
    "    各チャネルの平均・標準偏差を用いて標準化\n",
    "    \"\"\"\n",
    "    import copy\n",
    "    x = copy.deepcopy(x)\n",
    "\n",
    "    x -= np.array(object=mean, dtype=K.floatx())\n",
    "    x /= np.array(object=std, dtype=K.floatx())\n",
    "    return x"
   ]
  },
  {
   "cell_type": "markdown",
   "metadata": {},
   "source": [
    "#### exe"
   ]
  },
  {
   "cell_type": "code",
   "execution_count": 6,
   "metadata": {
    "ExecuteTime": {
     "end_time": "2018-08-22T06:19:51.254212Z",
     "start_time": "2018-08-22T06:19:49.637375Z"
    }
   },
   "outputs": [
    {
     "name": "stdout",
     "output_type": "stream",
     "text": [
      "(100000, 32, 32, 3)\n",
      "[127.3043  123.50989 113.14998]\n",
      "[65.66327 63.76426 68.59032]\n"
     ]
    }
   ],
   "source": [
    "print(x_train.shape)\n",
    "\n",
    "mean = x_train.mean(axis=(0, 1, 2))\n",
    "print(mean)\n",
    "std = x_train.std(axis=(0, 1, 2))\n",
    "print(std)\n",
    "\n",
    "x_train = normalize(x=x_train, mean=mean, std=std)\n",
    "x_test = normalize(x=x_test, mean=mean, std=std)"
   ]
  },
  {
   "cell_type": "code",
   "execution_count": 7,
   "metadata": {
    "ExecuteTime": {
     "end_time": "2018-08-22T06:19:51.258417Z",
     "start_time": "2018-08-22T06:19:51.255583Z"
    }
   },
   "outputs": [
    {
     "name": "stdout",
     "output_type": "stream",
     "text": [
      "(100000, 32, 32, 3) (100000, 11)\n",
      "(20000, 32, 32, 3) (20000, 11)\n"
     ]
    }
   ],
   "source": [
    "print(x_train.shape, y_train.shape)\n",
    "print(x_test.shape, y_test.shape)"
   ]
  },
  {
   "cell_type": "markdown",
   "metadata": {},
   "source": [
    "### Percentage of Missing data"
   ]
  },
  {
   "cell_type": "markdown",
   "metadata": {},
   "source": [
    "#### [Def] synthesize_pu_labels"
   ]
  },
  {
   "cell_type": "code",
   "execution_count": 8,
   "metadata": {
    "ExecuteTime": {
     "end_time": "2018-08-22T06:19:51.264117Z",
     "start_time": "2018-08-22T06:19:51.259992Z"
    }
   },
   "outputs": [],
   "source": [
    "def synthesize_pu_labels(Y, pct_missings=None, random_state=None,\n",
    "                         verbose=False):\n",
    "    \"\"\"\n",
    "    Synthesize PU labels.\n",
    "    reference:\n",
    "      - https://github.com/JihongJu/deep-pu-learning/blob/master/pulearn/utils.py\n",
    "      - https://github.com/JihongJu/deep-pu-learning/blob/d896ca838e9629d9d418fd36f1138b9084c97bea/pulearn/utils.py\n",
    "    \"\"\"\n",
    "    # To PU\n",
    "    if pct_missings is None:\n",
    "        pct_missings = np.arange(0., 1 + 1e-8, 0.1)\n",
    "    Y_pu = {}\n",
    "    np.random.seed(random_state)\n",
    "    n_samples = len(Y)\n",
    "    for pct in pct_missings:\n",
    "        y = np.argmax(Y, 1)\n",
    "        flip = np.random.rand(n_samples)\n",
    "        y[(y != 0) & (flip < pct)] = 0\n",
    "        Y_pu[pct] = np.eye(Y.shape[1])[y]\n",
    "        if verbose is True:\n",
    "            print('Positive (pct_missing={}):'.format(pct),\n",
    "                  np.sum(np.argmax(Y, 1)>0), ' -> ', np.sum(y>0))\n",
    "    return Y_pu"
   ]
  },
  {
   "cell_type": "markdown",
   "metadata": {},
   "source": [
    "#### [Def] synthesize_pn_labels"
   ]
  },
  {
   "cell_type": "code",
   "execution_count": 9,
   "metadata": {
    "ExecuteTime": {
     "end_time": "2018-08-22T06:19:51.270259Z",
     "start_time": "2018-08-22T06:19:51.265735Z"
    }
   },
   "outputs": [],
   "source": [
    "def synthesize_pn_labels(Y, pct_missings=None, random_state=None,\n",
    "                         verbose=False):\n",
    "    \"\"\"\n",
    "    Synthesize PN labels.\n",
    "    reference:\n",
    "      - https://github.com/JihongJu/deep-pu-learning/blob/master/pulearn/utils.py\n",
    "      - https://github.com/JihongJu/deep-pu-learning/blob/d896ca838e9629d9d418fd36f1138b9084c97bea/pulearn/utils.py\n",
    "    \"\"\"\n",
    "    # To PN\n",
    "    if pct_missings is None:\n",
    "        pct_missings = np.arange(0., 1 + 1e-8, 0.1)\n",
    "    idx = {}\n",
    "    np.random.seed(random_state)\n",
    "    n_samples = len(Y)\n",
    "    for pct in pct_missings:\n",
    "        y = np.argmax(Y, 1)\n",
    "        flip = np.random.rand(n_samples)\n",
    "        mask = flip < pct\n",
    "        y[mask] = -1\n",
    "        idx[pct] = np.where(np.invert(mask))[0]\n",
    "        if verbose is True:\n",
    "            print('Positive vs. Negative (pct={}):'.format(pct),\n",
    "                  np.sum(y > 0), ' vs.', np.sum(y == 0))\n",
    "    return idx"
   ]
  },
  {
   "cell_type": "markdown",
   "metadata": {},
   "source": [
    "#### exe"
   ]
  },
  {
   "cell_type": "code",
   "execution_count": 20,
   "metadata": {
    "ExecuteTime": {
     "end_time": "2018-08-22T07:48:05.438842Z",
     "start_time": "2018-08-22T07:48:05.022703Z"
    }
   },
   "outputs": [
    {
     "name": "stdout",
     "output_type": "stream",
     "text": [
      "Positive (pct_missing=0.0): 50000  ->  50000\n",
      "Positive (pct_missing=0.1): 50000  ->  44990\n",
      "Positive (pct_missing=0.2): 50000  ->  39992\n",
      "Positive (pct_missing=0.30000000000000004): 50000  ->  34902\n",
      "Positive (pct_missing=0.4): 50000  ->  30043\n",
      "Positive (pct_missing=0.5): 50000  ->  24968\n",
      "Positive (pct_missing=0.6000000000000001): 50000  ->  19937\n",
      "Positive (pct_missing=0.7000000000000001): 50000  ->  14896\n",
      "Positive (pct_missing=0.8): 50000  ->  10153\n",
      "Positive (pct_missing=0.9): 50000  ->  4902\n",
      "Positive (pct_missing=1.0): 50000  ->  0\n",
      "Positive vs. Negative (pct=0.0): 50000  vs. 50000\n",
      "Positive vs. Negative (pct=0.1): 44990  vs. 45014\n",
      "Positive vs. Negative (pct=0.2): 39992  vs. 40104\n",
      "Positive vs. Negative (pct=0.30000000000000004): 34902  vs. 34988\n",
      "Positive vs. Negative (pct=0.4): 30043  vs. 30178\n",
      "Positive vs. Negative (pct=0.5): 24968  vs. 24841\n",
      "Positive vs. Negative (pct=0.6000000000000001): 19937  vs. 20106\n",
      "Positive vs. Negative (pct=0.7000000000000001): 14896  vs. 15058\n",
      "Positive vs. Negative (pct=0.8): 10153  vs. 10164\n",
      "Positive vs. Negative (pct=0.9): 4902  vs. 5033\n",
      "Positive vs. Negative (pct=1.0): 0  vs. 0\n",
      "(80096, 32, 32, 3) (80096, 11)\n"
     ]
    }
   ],
   "source": [
    "pct_missing = 0.2\n",
    "y_train_pu = synthesize_pu_labels(y_train, random_state=42, verbose=True)\n",
    "y_train_pn = synthesize_pn_labels(y_train, random_state=42, verbose=True)\n",
    "x_train_enc = x_train[y_train_pn[pct_missing],...]\n",
    "y_train_enc = y_train[y_train_pn[pct_missing],...]\n",
    "print(x_train_enc.shape, y_train_enc.shape)"
   ]
  },
  {
   "cell_type": "code",
   "execution_count": 28,
   "metadata": {
    "ExecuteTime": {
     "end_time": "2018-08-22T08:54:10.068892Z",
     "start_time": "2018-08-22T08:54:10.052671Z"
    }
   },
   "outputs": [
    {
     "name": "stdout",
     "output_type": "stream",
     "text": [
      "(80096, 11)\n",
      "(80096,)\n"
     ]
    }
   ],
   "source": [
    "from sklearn.utils import class_weight\n",
    "\n",
    "print(y_train_enc.shape)\n",
    "y_train_dec = 1 - y_train_enc[:, 0]  # unlabel(クラスラベル:0) の one-hot encoding 表記を反転\n",
    "print(y_train_dec.shape)\n",
    "class_weights = class_weight.compute_class_weight('balanced',\n",
    "                                                 [0, 1],\n",
    "                                                 y_train_dec)"
   ]
  },
  {
   "cell_type": "code",
   "execution_count": 43,
   "metadata": {
    "ExecuteTime": {
     "end_time": "2018-08-22T09:22:16.278705Z",
     "start_time": "2018-08-22T09:22:16.273369Z"
    }
   },
   "outputs": [
    {
     "name": "stdout",
     "output_type": "stream",
     "text": [
      "negative = unlabeled (0) : 40104\n",
      "positive = labeled   (1) : 39992\n"
     ]
    }
   ],
   "source": [
    "unlabel, label = np.bincount(y_train_dec.astype(\"int64\"))\n",
    "print(\"\"\"\\\n",
    "negative = unlabeled (0) : {}\n",
    "positive = labeled   (1) : {}\"\"\".format( unlabel, label) )"
   ]
  },
  {
   "cell_type": "code",
   "execution_count": 25,
   "metadata": {
    "ExecuteTime": {
     "end_time": "2018-08-22T08:52:14.836896Z",
     "start_time": "2018-08-22T08:52:14.831737Z"
    }
   },
   "outputs": [
    {
     "data": {
      "text/plain": [
       "array([0.99860363, 1.00140028])"
      ]
     },
     "execution_count": 25,
     "metadata": {},
     "output_type": "execute_result"
    }
   ],
   "source": [
    "class_weights"
   ]
  },
  {
   "cell_type": "code",
   "execution_count": 12,
   "metadata": {
    "ExecuteTime": {
     "end_time": "2018-08-22T06:19:51.807048Z",
     "start_time": "2018-08-22T06:19:51.804093Z"
    }
   },
   "outputs": [
    {
     "name": "stdout",
     "output_type": "stream",
     "text": [
      "class_weight {0: 0.9986036305605426, 1: 1.0014002800560111, 2: 1.0014002800560111, 3: 1.0014002800560111, 4: 1.0014002800560111, 5: 1.0014002800560111, 6: 1.0014002800560111, 7: 1.0014002800560111, 8: 1.0014002800560111, 9: 1.0014002800560111, 10: 1.0014002800560111}\n"
     ]
    }
   ],
   "source": [
    "# class_weights = [1., 2.]\n",
    "class_weight = {}\n",
    "class_weight[0] = class_weights[0]\n",
    "for k in range(1, num_classes):\n",
    "    class_weight[k] = class_weights[1]\n",
    "\n",
    "\n",
    "print('class_weight', class_weight)"
   ]
  },
  {
   "cell_type": "code",
   "execution_count": 13,
   "metadata": {
    "ExecuteTime": {
     "end_time": "2018-08-22T06:19:51.813651Z",
     "start_time": "2018-08-22T06:19:51.808211Z"
    }
   },
   "outputs": [],
   "source": [
    "def VGG8(input_shape, num_classes, t_vec=None):\n",
    "    from keras.models import Sequential\n",
    "    from keras.layers import Dense, Dropout, Activation, Flatten, Lambda\n",
    "    from keras.layers import Conv2D, MaxPooling2D\n",
    "    from keras.layers.advanced_activations import LeakyReLU\n",
    "\n",
    "    model = Sequential()\n",
    "\n",
    "    model.add(Conv2D(32, (3, 3), padding='same', kernel_initializer='he_normal',\n",
    "                                input_shape=input_shape))\n",
    "    model.add(LeakyReLU(alpha=0.2))\n",
    "    model.add(Conv2D(32, (3, 3), padding='same', kernel_initializer='he_normal'))\n",
    "    model.add(LeakyReLU(alpha=0.2))\n",
    "    model.add(MaxPooling2D(pool_size=(2,2)))\n",
    "    model.add(Dropout(0.2))\n",
    "\n",
    "    model.add(Conv2D(64, (3, 3), padding='same', kernel_initializer='he_normal'))\n",
    "    model.add(LeakyReLU(alpha=0.2))\n",
    "    model.add(Conv2D(64, (3, 3), padding='same', kernel_initializer='he_normal'))\n",
    "    model.add(LeakyReLU(alpha=0.2))\n",
    "    model.add(MaxPooling2D(pool_size=(2, 2)))\n",
    "    model.add(Dropout(0.3))\n",
    "\n",
    "    model.add(Conv2D(128, (3, 3), padding='same', kernel_initializer='he_normal'))\n",
    "    model.add(LeakyReLU(alpha=0.2))\n",
    "    model.add(Conv2D(128, (3, 3), padding='same', kernel_initializer='he_normal'))\n",
    "    model.add(LeakyReLU(alpha=0.2))\n",
    "    model.add(MaxPooling2D(pool_size=(2, 2)))\n",
    "    model.add(Dropout(0.4))\n",
    "\n",
    "    model.add(Flatten())\n",
    "    model.add(Dense(512, kernel_initializer='he_normal'))\n",
    "    model.add(Activation('relu'))\n",
    "    model.add(Dropout(0.5))\n",
    "\n",
    "    model.add(Dense(num_classes, kernel_initializer='he_normal'))\n",
    "    # output translate (tensorflow only)\n",
    "    if t_vec is not None:\n",
    "        def translate(x):\n",
    "            return x - t_vec\n",
    "        model.add(Lambda(lambda x: translate(x)))\n",
    "    model.add(Activation('softmax'))\n",
    "\n",
    "    return model"
   ]
  },
  {
   "cell_type": "code",
   "execution_count": 14,
   "metadata": {
    "ExecuteTime": {
     "end_time": "2018-08-22T06:19:51.970440Z",
     "start_time": "2018-08-22T06:19:51.814744Z"
    }
   },
   "outputs": [
    {
     "name": "stdout",
     "output_type": "stream",
     "text": [
      "_________________________________________________________________\n",
      "Layer (type)                 Output Shape              Param #   \n",
      "=================================================================\n",
      "conv2d_1 (Conv2D)            (None, 32, 32, 32)        896       \n",
      "_________________________________________________________________\n",
      "leaky_re_lu_1 (LeakyReLU)    (None, 32, 32, 32)        0         \n",
      "_________________________________________________________________\n",
      "conv2d_2 (Conv2D)            (None, 32, 32, 32)        9248      \n",
      "_________________________________________________________________\n",
      "leaky_re_lu_2 (LeakyReLU)    (None, 32, 32, 32)        0         \n",
      "_________________________________________________________________\n",
      "max_pooling2d_1 (MaxPooling2 (None, 16, 16, 32)        0         \n",
      "_________________________________________________________________\n",
      "dropout_1 (Dropout)          (None, 16, 16, 32)        0         \n",
      "_________________________________________________________________\n",
      "conv2d_3 (Conv2D)            (None, 16, 16, 64)        18496     \n",
      "_________________________________________________________________\n",
      "leaky_re_lu_3 (LeakyReLU)    (None, 16, 16, 64)        0         \n",
      "_________________________________________________________________\n",
      "conv2d_4 (Conv2D)            (None, 16, 16, 64)        36928     \n",
      "_________________________________________________________________\n",
      "leaky_re_lu_4 (LeakyReLU)    (None, 16, 16, 64)        0         \n",
      "_________________________________________________________________\n",
      "max_pooling2d_2 (MaxPooling2 (None, 8, 8, 64)          0         \n",
      "_________________________________________________________________\n",
      "dropout_2 (Dropout)          (None, 8, 8, 64)          0         \n",
      "_________________________________________________________________\n",
      "conv2d_5 (Conv2D)            (None, 8, 8, 128)         73856     \n",
      "_________________________________________________________________\n",
      "leaky_re_lu_5 (LeakyReLU)    (None, 8, 8, 128)         0         \n",
      "_________________________________________________________________\n",
      "conv2d_6 (Conv2D)            (None, 8, 8, 128)         147584    \n",
      "_________________________________________________________________\n",
      "leaky_re_lu_6 (LeakyReLU)    (None, 8, 8, 128)         0         \n",
      "_________________________________________________________________\n",
      "max_pooling2d_3 (MaxPooling2 (None, 4, 4, 128)         0         \n",
      "_________________________________________________________________\n",
      "dropout_3 (Dropout)          (None, 4, 4, 128)         0         \n",
      "_________________________________________________________________\n",
      "flatten_1 (Flatten)          (None, 2048)              0         \n",
      "_________________________________________________________________\n",
      "dense_1 (Dense)              (None, 512)               1049088   \n",
      "_________________________________________________________________\n",
      "activation_1 (Activation)    (None, 512)               0         \n",
      "_________________________________________________________________\n",
      "dropout_4 (Dropout)          (None, 512)               0         \n",
      "_________________________________________________________________\n",
      "dense_2 (Dense)              (None, 11)                5643      \n",
      "_________________________________________________________________\n",
      "activation_2 (Activation)    (None, 11)                0         \n",
      "=================================================================\n",
      "Total params: 1,341,739\n",
      "Trainable params: 1,341,739\n",
      "Non-trainable params: 0\n",
      "_________________________________________________________________\n"
     ]
    }
   ],
   "source": [
    "if title == 'cifar110_vgg8':\n",
    "    model = VGG8(input_shape=x_train_enc.shape[1:], num_classes=num_classes)\n",
    "elif title == 'cifar110_wide_resnet':\n",
    "    model = WideResidualNetwork(depth=28, width=8, dropout_rate=0.5,\n",
    "                                classes=num_classes, include_top=True,\n",
    "                                weights=None)\n",
    "if checkpoint is not None:\n",
    "    model = load_model(checkpoint)\n",
    "    \n",
    "\n",
    "model.compile(loss='categorical_crossentropy',\n",
    "              optimizer='adam',\n",
    "              metrics=['accuracy'])\n",
    "model.summary()"
   ]
  },
  {
   "cell_type": "code",
   "execution_count": 15,
   "metadata": {
    "ExecuteTime": {
     "end_time": "2018-08-22T06:19:51.977138Z",
     "start_time": "2018-08-22T06:19:51.972479Z"
    }
   },
   "outputs": [],
   "source": [
    "# Checkpoint\n",
    "checkpointer = ModelCheckpoint(\n",
    "    filepath=\"model_checkpoint_{}_pn_{}.h5\".format(title, pct_missing),\n",
    "    verbose=1,\n",
    "    save_best_only=True)\n",
    "\n",
    "# csvlogger\n",
    "csv_logger = CSVLogger(\n",
    "    'csv_logger_{}_pn_{}.csv'.format(title, pct_missing))\n",
    "\n",
    "# EarlyStopping\n",
    "early_stopper = EarlyStopping(monitor='val_loss',\n",
    "                              min_delta=0.001,\n",
    "                              patience=50)\n",
    "# Reduce lr with schedule\n",
    "# def schedule(epoch):\n",
    "#     lr = K.get_value(model.optimizer.lr)\n",
    "#     if epoch in [60, 120, 160]:\n",
    "#         lr = lr * np.sqrt(0.1)\n",
    "#     return lr\n",
    "# lr_scheduler = LearningRateScheduler(schedule)\n",
    "\n",
    "# Reduce lr on plateau\n",
    "lr_reducer = ReduceLROnPlateau(factor=np.sqrt(0.1),\n",
    "                               cooldown=0,\n",
    "                               patience=20,\n",
    "                               min_lr=0.3e-6)"
   ]
  },
  {
   "cell_type": "code",
   "execution_count": 19,
   "metadata": {
    "ExecuteTime": {
     "end_time": "2018-08-22T07:48:05.021545Z",
     "start_time": "2018-08-22T06:20:22.961607Z"
    },
    "scrolled": false
   },
   "outputs": [
    {
     "name": "stdout",
     "output_type": "stream",
     "text": [
      "Training 80096 samples\n",
      "Using real-time data augmentation.\n"
     ]
    },
    {
     "data": {
      "application/vnd.jupyter.widget-view+json": {
       "model_id": "8450655d89814eee98426f174f24f7a8",
       "version_major": 2,
       "version_minor": 0
      },
      "text/plain": [
       "HBox(children=(IntProgress(value=0, description='Training', max=200), HTML(value='')))"
      ]
     },
     "metadata": {},
     "output_type": "display_data"
    },
    {
     "name": "stdout",
     "output_type": "stream",
     "text": [
      "Epoch 1/200\n"
     ]
    },
    {
     "data": {
      "application/vnd.jupyter.widget-view+json": {
       "model_id": "",
       "version_major": 2,
       "version_minor": 0
      },
      "text/plain": [
       "HBox(children=(IntProgress(value=0, description='Epoch 0', max=781), HTML(value='')))"
      ]
     },
     "metadata": {},
     "output_type": "display_data"
    },
    {
     "name": "stdout",
     "output_type": "stream",
     "text": [
      "781/781 [==============================] - 28s 36ms/step - loss: 1.4905 - acc: 0.5349 - val_loss: 1.2444 - val_acc: 0.5904\n",
      "\n",
      "Epoch 00001: val_loss improved from inf to 1.24440, saving model to model_checkpoint_cifar110_vgg8_pn_0.2.h5\n",
      "Epoch 2/200\n"
     ]
    },
    {
     "data": {
      "application/vnd.jupyter.widget-view+json": {
       "model_id": "",
       "version_major": 2,
       "version_minor": 0
      },
      "text/plain": [
       "HBox(children=(IntProgress(value=0, description='Epoch 1', max=781), HTML(value='')))"
      ]
     },
     "metadata": {},
     "output_type": "display_data"
    },
    {
     "name": "stdout",
     "output_type": "stream",
     "text": [
      "781/781 [==============================] - 27s 34ms/step - loss: 1.1971 - acc: 0.6001 - val_loss: 0.9938 - val_acc: 0.6654\n",
      "\n",
      "Epoch 00002: val_loss improved from 1.24440 to 0.99378, saving model to model_checkpoint_cifar110_vgg8_pn_0.2.h5\n",
      "Epoch 3/200\n"
     ]
    },
    {
     "data": {
      "application/vnd.jupyter.widget-view+json": {
       "model_id": "",
       "version_major": 2,
       "version_minor": 0
      },
      "text/plain": [
       "HBox(children=(IntProgress(value=0, description='Epoch 2', max=781), HTML(value='')))"
      ]
     },
     "metadata": {},
     "output_type": "display_data"
    },
    {
     "name": "stdout",
     "output_type": "stream",
     "text": [
      "781/781 [==============================] - 27s 35ms/step - loss: 1.0823 - acc: 0.6332 - val_loss: 0.9261 - val_acc: 0.6867\n",
      "\n",
      "Epoch 00003: val_loss improved from 0.99378 to 0.92607, saving model to model_checkpoint_cifar110_vgg8_pn_0.2.h5\n",
      "Epoch 4/200\n"
     ]
    },
    {
     "data": {
      "application/vnd.jupyter.widget-view+json": {
       "model_id": "",
       "version_major": 2,
       "version_minor": 0
      },
      "text/plain": [
       "HBox(children=(IntProgress(value=0, description='Epoch 3', max=781), HTML(value='')))"
      ]
     },
     "metadata": {},
     "output_type": "display_data"
    },
    {
     "name": "stdout",
     "output_type": "stream",
     "text": [
      "781/781 [==============================] - 27s 34ms/step - loss: 1.0157 - acc: 0.6550 - val_loss: 0.9396 - val_acc: 0.6741\n",
      "\n",
      "Epoch 00004: val_loss did not improve from 0.92607\n",
      "Epoch 5/200\n"
     ]
    },
    {
     "data": {
      "application/vnd.jupyter.widget-view+json": {
       "model_id": "",
       "version_major": 2,
       "version_minor": 0
      },
      "text/plain": [
       "HBox(children=(IntProgress(value=0, description='Epoch 4', max=781), HTML(value='')))"
      ]
     },
     "metadata": {},
     "output_type": "display_data"
    },
    {
     "name": "stdout",
     "output_type": "stream",
     "text": [
      "781/781 [==============================] - 27s 35ms/step - loss: 0.9668 - acc: 0.6709 - val_loss: 0.8478 - val_acc: 0.7090\n",
      "\n",
      "Epoch 00005: val_loss improved from 0.92607 to 0.84784, saving model to model_checkpoint_cifar110_vgg8_pn_0.2.h5\n",
      "Epoch 6/200\n"
     ]
    },
    {
     "data": {
      "application/vnd.jupyter.widget-view+json": {
       "model_id": "",
       "version_major": 2,
       "version_minor": 0
      },
      "text/plain": [
       "HBox(children=(IntProgress(value=0, description='Epoch 5', max=781), HTML(value='')))"
      ]
     },
     "metadata": {},
     "output_type": "display_data"
    },
    {
     "name": "stdout",
     "output_type": "stream",
     "text": [
      "781/781 [==============================] - 27s 34ms/step - loss: 0.9407 - acc: 0.6808 - val_loss: 0.8253 - val_acc: 0.7208\n",
      "\n",
      "Epoch 00006: val_loss improved from 0.84784 to 0.82529, saving model to model_checkpoint_cifar110_vgg8_pn_0.2.h5\n",
      "Epoch 7/200\n"
     ]
    },
    {
     "data": {
      "application/vnd.jupyter.widget-view+json": {
       "model_id": "",
       "version_major": 2,
       "version_minor": 0
      },
      "text/plain": [
       "HBox(children=(IntProgress(value=0, description='Epoch 6', max=781), HTML(value='')))"
      ]
     },
     "metadata": {},
     "output_type": "display_data"
    },
    {
     "name": "stdout",
     "output_type": "stream",
     "text": [
      "781/781 [==============================] - 27s 35ms/step - loss: 0.9143 - acc: 0.6885 - val_loss: 0.8079 - val_acc: 0.7279\n",
      "\n",
      "Epoch 00007: val_loss improved from 0.82529 to 0.80794, saving model to model_checkpoint_cifar110_vgg8_pn_0.2.h5\n",
      "Epoch 8/200\n"
     ]
    },
    {
     "data": {
      "application/vnd.jupyter.widget-view+json": {
       "model_id": "",
       "version_major": 2,
       "version_minor": 0
      },
      "text/plain": [
       "HBox(children=(IntProgress(value=0, description='Epoch 7', max=781), HTML(value='')))"
      ]
     },
     "metadata": {},
     "output_type": "display_data"
    },
    {
     "name": "stdout",
     "output_type": "stream",
     "text": [
      "781/781 [==============================] - 27s 35ms/step - loss: 0.8924 - acc: 0.6954 - val_loss: 0.8051 - val_acc: 0.7250\n",
      "\n",
      "Epoch 00008: val_loss improved from 0.80794 to 0.80510, saving model to model_checkpoint_cifar110_vgg8_pn_0.2.h5\n",
      "Epoch 9/200\n"
     ]
    },
    {
     "data": {
      "application/vnd.jupyter.widget-view+json": {
       "model_id": "",
       "version_major": 2,
       "version_minor": 0
      },
      "text/plain": [
       "HBox(children=(IntProgress(value=0, description='Epoch 8', max=781), HTML(value='')))"
      ]
     },
     "metadata": {},
     "output_type": "display_data"
    },
    {
     "name": "stdout",
     "output_type": "stream",
     "text": [
      "781/781 [==============================] - 27s 35ms/step - loss: 0.8755 - acc: 0.7008 - val_loss: 0.7775 - val_acc: 0.7399\n",
      "\n",
      "Epoch 00009: val_loss improved from 0.80510 to 0.77749, saving model to model_checkpoint_cifar110_vgg8_pn_0.2.h5\n",
      "Epoch 10/200\n"
     ]
    },
    {
     "data": {
      "application/vnd.jupyter.widget-view+json": {
       "model_id": "",
       "version_major": 2,
       "version_minor": 0
      },
      "text/plain": [
       "HBox(children=(IntProgress(value=0, description='Epoch 9', max=781), HTML(value='')))"
      ]
     },
     "metadata": {},
     "output_type": "display_data"
    },
    {
     "name": "stdout",
     "output_type": "stream",
     "text": [
      "781/781 [==============================] - 27s 34ms/step - loss: 0.8631 - acc: 0.7074 - val_loss: 0.8289 - val_acc: 0.7125\n",
      "\n",
      "Epoch 00010: val_loss did not improve from 0.77749\n",
      "Epoch 11/200\n"
     ]
    },
    {
     "data": {
      "application/vnd.jupyter.widget-view+json": {
       "model_id": "",
       "version_major": 2,
       "version_minor": 0
      },
      "text/plain": [
       "HBox(children=(IntProgress(value=0, description='Epoch 10', max=781), HTML(value='')))"
      ]
     },
     "metadata": {},
     "output_type": "display_data"
    },
    {
     "name": "stdout",
     "output_type": "stream",
     "text": [
      "781/781 [==============================] - 27s 34ms/step - loss: 0.8510 - acc: 0.7109 - val_loss: 0.7360 - val_acc: 0.7504\n",
      "\n",
      "Epoch 00011: val_loss improved from 0.77749 to 0.73596, saving model to model_checkpoint_cifar110_vgg8_pn_0.2.h5\n",
      "Epoch 12/200\n"
     ]
    },
    {
     "data": {
      "application/vnd.jupyter.widget-view+json": {
       "model_id": "",
       "version_major": 2,
       "version_minor": 0
      },
      "text/plain": [
       "HBox(children=(IntProgress(value=0, description='Epoch 11', max=781), HTML(value='')))"
      ]
     },
     "metadata": {},
     "output_type": "display_data"
    },
    {
     "name": "stdout",
     "output_type": "stream",
     "text": [
      "781/781 [==============================] - 27s 34ms/step - loss: 0.8432 - acc: 0.7129 - val_loss: 0.7115 - val_acc: 0.7568\n",
      "\n",
      "Epoch 00012: val_loss improved from 0.73596 to 0.71154, saving model to model_checkpoint_cifar110_vgg8_pn_0.2.h5\n",
      "Epoch 13/200\n"
     ]
    },
    {
     "data": {
      "application/vnd.jupyter.widget-view+json": {
       "model_id": "",
       "version_major": 2,
       "version_minor": 0
      },
      "text/plain": [
       "HBox(children=(IntProgress(value=0, description='Epoch 12', max=781), HTML(value='')))"
      ]
     },
     "metadata": {},
     "output_type": "display_data"
    },
    {
     "name": "stdout",
     "output_type": "stream",
     "text": [
      "781/781 [==============================] - 27s 34ms/step - loss: 0.8310 - acc: 0.7170 - val_loss: 0.7426 - val_acc: 0.7490\n",
      "\n",
      "Epoch 00013: val_loss did not improve from 0.71154\n",
      "Epoch 14/200\n"
     ]
    },
    {
     "data": {
      "application/vnd.jupyter.widget-view+json": {
       "model_id": "",
       "version_major": 2,
       "version_minor": 0
      },
      "text/plain": [
       "HBox(children=(IntProgress(value=0, description='Epoch 13', max=781), HTML(value='')))"
      ]
     },
     "metadata": {},
     "output_type": "display_data"
    },
    {
     "name": "stdout",
     "output_type": "stream",
     "text": [
      "781/781 [==============================] - 27s 34ms/step - loss: 0.8247 - acc: 0.7188 - val_loss: 0.7255 - val_acc: 0.7536\n",
      "\n",
      "Epoch 00014: val_loss did not improve from 0.71154\n",
      "Epoch 15/200\n"
     ]
    },
    {
     "data": {
      "application/vnd.jupyter.widget-view+json": {
       "model_id": "",
       "version_major": 2,
       "version_minor": 0
      },
      "text/plain": [
       "HBox(children=(IntProgress(value=0, description='Epoch 14', max=781), HTML(value='')))"
      ]
     },
     "metadata": {},
     "output_type": "display_data"
    },
    {
     "name": "stdout",
     "output_type": "stream",
     "text": [
      "781/781 [==============================] - 27s 34ms/step - loss: 0.8168 - acc: 0.7235 - val_loss: 0.7227 - val_acc: 0.7544\n",
      "\n",
      "Epoch 00015: val_loss did not improve from 0.71154\n",
      "Epoch 16/200\n"
     ]
    },
    {
     "data": {
      "application/vnd.jupyter.widget-view+json": {
       "model_id": "",
       "version_major": 2,
       "version_minor": 0
      },
      "text/plain": [
       "HBox(children=(IntProgress(value=0, description='Epoch 15', max=781), HTML(value='')))"
      ]
     },
     "metadata": {},
     "output_type": "display_data"
    },
    {
     "name": "stdout",
     "output_type": "stream",
     "text": [
      "781/781 [==============================] - 27s 34ms/step - loss: 0.8072 - acc: 0.7268 - val_loss: 0.7271 - val_acc: 0.7517\n",
      "\n",
      "Epoch 00016: val_loss did not improve from 0.71154\n",
      "Epoch 17/200\n"
     ]
    },
    {
     "data": {
      "application/vnd.jupyter.widget-view+json": {
       "model_id": "",
       "version_major": 2,
       "version_minor": 0
      },
      "text/plain": [
       "HBox(children=(IntProgress(value=0, description='Epoch 16', max=781), HTML(value='')))"
      ]
     },
     "metadata": {},
     "output_type": "display_data"
    },
    {
     "name": "stdout",
     "output_type": "stream",
     "text": [
      "781/781 [==============================] - 27s 34ms/step - loss: 0.7962 - acc: 0.7295 - val_loss: 0.7088 - val_acc: 0.7633\n",
      "\n",
      "Epoch 00017: val_loss improved from 0.71154 to 0.70882, saving model to model_checkpoint_cifar110_vgg8_pn_0.2.h5\n",
      "Epoch 18/200\n"
     ]
    },
    {
     "data": {
      "application/vnd.jupyter.widget-view+json": {
       "model_id": "",
       "version_major": 2,
       "version_minor": 0
      },
      "text/plain": [
       "HBox(children=(IntProgress(value=0, description='Epoch 17', max=781), HTML(value='')))"
      ]
     },
     "metadata": {},
     "output_type": "display_data"
    },
    {
     "name": "stdout",
     "output_type": "stream",
     "text": [
      "781/781 [==============================] - 27s 34ms/step - loss: 0.7998 - acc: 0.7293 - val_loss: 0.6936 - val_acc: 0.7652\n",
      "\n",
      "Epoch 00018: val_loss improved from 0.70882 to 0.69357, saving model to model_checkpoint_cifar110_vgg8_pn_0.2.h5\n",
      "Epoch 19/200\n"
     ]
    },
    {
     "data": {
      "application/vnd.jupyter.widget-view+json": {
       "model_id": "",
       "version_major": 2,
       "version_minor": 0
      },
      "text/plain": [
       "HBox(children=(IntProgress(value=0, description='Epoch 18', max=781), HTML(value='')))"
      ]
     },
     "metadata": {},
     "output_type": "display_data"
    },
    {
     "name": "stdout",
     "output_type": "stream",
     "text": [
      "781/781 [==============================] - 27s 34ms/step - loss: 0.7887 - acc: 0.7318 - val_loss: 0.7085 - val_acc: 0.7578\n",
      "\n",
      "Epoch 00019: val_loss did not improve from 0.69357\n",
      "Epoch 20/200\n"
     ]
    },
    {
     "data": {
      "application/vnd.jupyter.widget-view+json": {
       "model_id": "",
       "version_major": 2,
       "version_minor": 0
      },
      "text/plain": [
       "HBox(children=(IntProgress(value=0, description='Epoch 19', max=781), HTML(value='')))"
      ]
     },
     "metadata": {},
     "output_type": "display_data"
    },
    {
     "name": "stdout",
     "output_type": "stream",
     "text": [
      "781/781 [==============================] - 27s 34ms/step - loss: 0.7853 - acc: 0.7324 - val_loss: 0.6858 - val_acc: 0.7700\n",
      "\n",
      "Epoch 00020: val_loss improved from 0.69357 to 0.68577, saving model to model_checkpoint_cifar110_vgg8_pn_0.2.h5\n",
      "Epoch 21/200\n"
     ]
    },
    {
     "data": {
      "application/vnd.jupyter.widget-view+json": {
       "model_id": "",
       "version_major": 2,
       "version_minor": 0
      },
      "text/plain": [
       "HBox(children=(IntProgress(value=0, description='Epoch 20', max=781), HTML(value='')))"
      ]
     },
     "metadata": {},
     "output_type": "display_data"
    },
    {
     "name": "stdout",
     "output_type": "stream",
     "text": [
      "781/781 [==============================] - 27s 34ms/step - loss: 0.7780 - acc: 0.7353 - val_loss: 0.6795 - val_acc: 0.7695\n",
      "\n",
      "Epoch 00021: val_loss improved from 0.68577 to 0.67947, saving model to model_checkpoint_cifar110_vgg8_pn_0.2.h5\n",
      "Epoch 22/200\n"
     ]
    },
    {
     "data": {
      "application/vnd.jupyter.widget-view+json": {
       "model_id": "",
       "version_major": 2,
       "version_minor": 0
      },
      "text/plain": [
       "HBox(children=(IntProgress(value=0, description='Epoch 21', max=781), HTML(value='')))"
      ]
     },
     "metadata": {},
     "output_type": "display_data"
    },
    {
     "name": "stdout",
     "output_type": "stream",
     "text": [
      "781/781 [==============================] - 27s 34ms/step - loss: 0.7745 - acc: 0.7358 - val_loss: 0.7263 - val_acc: 0.7557\n",
      "\n",
      "Epoch 00022: val_loss did not improve from 0.67947\n",
      "Epoch 23/200\n"
     ]
    },
    {
     "data": {
      "application/vnd.jupyter.widget-view+json": {
       "model_id": "",
       "version_major": 2,
       "version_minor": 0
      },
      "text/plain": [
       "HBox(children=(IntProgress(value=0, description='Epoch 22', max=781), HTML(value='')))"
      ]
     },
     "metadata": {},
     "output_type": "display_data"
    },
    {
     "name": "stdout",
     "output_type": "stream",
     "text": [
      "781/781 [==============================] - 27s 34ms/step - loss: 0.7706 - acc: 0.7389 - val_loss: 0.6254 - val_acc: 0.7895\n",
      "\n",
      "Epoch 00023: val_loss improved from 0.67947 to 0.62545, saving model to model_checkpoint_cifar110_vgg8_pn_0.2.h5\n",
      "Epoch 24/200\n"
     ]
    },
    {
     "data": {
      "application/vnd.jupyter.widget-view+json": {
       "model_id": "",
       "version_major": 2,
       "version_minor": 0
      },
      "text/plain": [
       "HBox(children=(IntProgress(value=0, description='Epoch 23', max=781), HTML(value='')))"
      ]
     },
     "metadata": {},
     "output_type": "display_data"
    },
    {
     "name": "stdout",
     "output_type": "stream",
     "text": [
      "781/781 [==============================] - 27s 34ms/step - loss: 0.7656 - acc: 0.7404 - val_loss: 0.6548 - val_acc: 0.7776\n",
      "\n",
      "Epoch 00024: val_loss did not improve from 0.62545\n",
      "Epoch 25/200\n"
     ]
    },
    {
     "data": {
      "application/vnd.jupyter.widget-view+json": {
       "model_id": "",
       "version_major": 2,
       "version_minor": 0
      },
      "text/plain": [
       "HBox(children=(IntProgress(value=0, description='Epoch 24', max=781), HTML(value='')))"
      ]
     },
     "metadata": {},
     "output_type": "display_data"
    },
    {
     "name": "stdout",
     "output_type": "stream",
     "text": [
      "781/781 [==============================] - 27s 34ms/step - loss: 0.7599 - acc: 0.7429 - val_loss: 0.6334 - val_acc: 0.7825\n",
      "\n",
      "Epoch 00025: val_loss did not improve from 0.62545\n",
      "Epoch 26/200\n"
     ]
    },
    {
     "data": {
      "application/vnd.jupyter.widget-view+json": {
       "model_id": "",
       "version_major": 2,
       "version_minor": 0
      },
      "text/plain": [
       "HBox(children=(IntProgress(value=0, description='Epoch 25', max=781), HTML(value='')))"
      ]
     },
     "metadata": {},
     "output_type": "display_data"
    },
    {
     "name": "stdout",
     "output_type": "stream",
     "text": [
      "781/781 [==============================] - 27s 34ms/step - loss: 0.7654 - acc: 0.7409 - val_loss: 0.6697 - val_acc: 0.7741\n",
      "\n",
      "Epoch 00026: val_loss did not improve from 0.62545\n",
      "Epoch 27/200\n"
     ]
    },
    {
     "data": {
      "application/vnd.jupyter.widget-view+json": {
       "model_id": "",
       "version_major": 2,
       "version_minor": 0
      },
      "text/plain": [
       "HBox(children=(IntProgress(value=0, description='Epoch 26', max=781), HTML(value='')))"
      ]
     },
     "metadata": {},
     "output_type": "display_data"
    },
    {
     "name": "stdout",
     "output_type": "stream",
     "text": [
      "781/781 [==============================] - 27s 34ms/step - loss: 0.7550 - acc: 0.7445 - val_loss: 0.6446 - val_acc: 0.7864\n",
      "\n",
      "Epoch 00027: val_loss did not improve from 0.62545\n",
      "Epoch 28/200\n"
     ]
    },
    {
     "data": {
      "application/vnd.jupyter.widget-view+json": {
       "model_id": "",
       "version_major": 2,
       "version_minor": 0
      },
      "text/plain": [
       "HBox(children=(IntProgress(value=0, description='Epoch 27', max=781), HTML(value='')))"
      ]
     },
     "metadata": {},
     "output_type": "display_data"
    },
    {
     "name": "stdout",
     "output_type": "stream",
     "text": [
      "781/781 [==============================] - 27s 34ms/step - loss: 0.7571 - acc: 0.7429 - val_loss: 0.6503 - val_acc: 0.7783\n",
      "\n",
      "Epoch 00028: val_loss did not improve from 0.62545\n",
      "Epoch 29/200\n"
     ]
    },
    {
     "data": {
      "application/vnd.jupyter.widget-view+json": {
       "model_id": "",
       "version_major": 2,
       "version_minor": 0
      },
      "text/plain": [
       "HBox(children=(IntProgress(value=0, description='Epoch 28', max=781), HTML(value='')))"
      ]
     },
     "metadata": {},
     "output_type": "display_data"
    },
    {
     "name": "stdout",
     "output_type": "stream",
     "text": [
      "781/781 [==============================] - 27s 34ms/step - loss: 0.7530 - acc: 0.7447 - val_loss: 0.6429 - val_acc: 0.7859\n",
      "\n",
      "Epoch 00029: val_loss did not improve from 0.62545\n",
      "Epoch 30/200\n"
     ]
    },
    {
     "data": {
      "application/vnd.jupyter.widget-view+json": {
       "model_id": "",
       "version_major": 2,
       "version_minor": 0
      },
      "text/plain": [
       "HBox(children=(IntProgress(value=0, description='Epoch 29', max=781), HTML(value='')))"
      ]
     },
     "metadata": {},
     "output_type": "display_data"
    },
    {
     "name": "stdout",
     "output_type": "stream",
     "text": [
      "781/781 [==============================] - 27s 34ms/step - loss: 0.7495 - acc: 0.7449 - val_loss: 0.6399 - val_acc: 0.7856\n",
      "\n",
      "Epoch 00030: val_loss did not improve from 0.62545\n",
      "Epoch 31/200\n"
     ]
    },
    {
     "data": {
      "application/vnd.jupyter.widget-view+json": {
       "model_id": "",
       "version_major": 2,
       "version_minor": 0
      },
      "text/plain": [
       "HBox(children=(IntProgress(value=0, description='Epoch 30', max=781), HTML(value='')))"
      ]
     },
     "metadata": {},
     "output_type": "display_data"
    },
    {
     "name": "stdout",
     "output_type": "stream",
     "text": [
      "781/781 [==============================] - 27s 34ms/step - loss: 0.7485 - acc: 0.7467 - val_loss: 0.6387 - val_acc: 0.7791\n",
      "\n",
      "Epoch 00031: val_loss did not improve from 0.62545\n",
      "Epoch 32/200\n"
     ]
    },
    {
     "data": {
      "application/vnd.jupyter.widget-view+json": {
       "model_id": "",
       "version_major": 2,
       "version_minor": 0
      },
      "text/plain": [
       "HBox(children=(IntProgress(value=0, description='Epoch 31', max=781), HTML(value='')))"
      ]
     },
     "metadata": {},
     "output_type": "display_data"
    },
    {
     "name": "stdout",
     "output_type": "stream",
     "text": [
      "781/781 [==============================] - 27s 34ms/step - loss: 0.7433 - acc: 0.7486 - val_loss: 0.6858 - val_acc: 0.7724\n",
      "\n",
      "Epoch 00032: val_loss did not improve from 0.62545\n",
      "Epoch 33/200\n"
     ]
    },
    {
     "data": {
      "application/vnd.jupyter.widget-view+json": {
       "model_id": "",
       "version_major": 2,
       "version_minor": 0
      },
      "text/plain": [
       "HBox(children=(IntProgress(value=0, description='Epoch 32', max=781), HTML(value='')))"
      ]
     },
     "metadata": {},
     "output_type": "display_data"
    },
    {
     "name": "stdout",
     "output_type": "stream",
     "text": [
      "781/781 [==============================] - 27s 34ms/step - loss: 0.7468 - acc: 0.7486 - val_loss: 0.6387 - val_acc: 0.7895\n",
      "\n",
      "Epoch 00033: val_loss did not improve from 0.62545\n",
      "Epoch 34/200\n"
     ]
    },
    {
     "data": {
      "application/vnd.jupyter.widget-view+json": {
       "model_id": "",
       "version_major": 2,
       "version_minor": 0
      },
      "text/plain": [
       "HBox(children=(IntProgress(value=0, description='Epoch 33', max=781), HTML(value='')))"
      ]
     },
     "metadata": {},
     "output_type": "display_data"
    },
    {
     "name": "stdout",
     "output_type": "stream",
     "text": [
      "781/781 [==============================] - 27s 34ms/step - loss: 0.7469 - acc: 0.7463 - val_loss: 0.6222 - val_acc: 0.7920\n",
      "\n",
      "Epoch 00034: val_loss improved from 0.62545 to 0.62219, saving model to model_checkpoint_cifar110_vgg8_pn_0.2.h5\n",
      "Epoch 35/200\n"
     ]
    },
    {
     "data": {
      "application/vnd.jupyter.widget-view+json": {
       "model_id": "",
       "version_major": 2,
       "version_minor": 0
      },
      "text/plain": [
       "HBox(children=(IntProgress(value=0, description='Epoch 34', max=781), HTML(value='')))"
      ]
     },
     "metadata": {},
     "output_type": "display_data"
    },
    {
     "name": "stdout",
     "output_type": "stream",
     "text": [
      "781/781 [==============================] - 27s 34ms/step - loss: 0.7369 - acc: 0.7510 - val_loss: 0.6179 - val_acc: 0.7877\n",
      "\n",
      "Epoch 00035: val_loss improved from 0.62219 to 0.61790, saving model to model_checkpoint_cifar110_vgg8_pn_0.2.h5\n",
      "Epoch 36/200\n"
     ]
    },
    {
     "data": {
      "application/vnd.jupyter.widget-view+json": {
       "model_id": "",
       "version_major": 2,
       "version_minor": 0
      },
      "text/plain": [
       "HBox(children=(IntProgress(value=0, description='Epoch 35', max=781), HTML(value='')))"
      ]
     },
     "metadata": {},
     "output_type": "display_data"
    },
    {
     "name": "stdout",
     "output_type": "stream",
     "text": [
      "781/781 [==============================] - 27s 34ms/step - loss: 0.7379 - acc: 0.7505 - val_loss: 0.7056 - val_acc: 0.7648\n",
      "\n",
      "Epoch 00036: val_loss did not improve from 0.61790\n",
      "Epoch 37/200\n"
     ]
    },
    {
     "data": {
      "application/vnd.jupyter.widget-view+json": {
       "model_id": "",
       "version_major": 2,
       "version_minor": 0
      },
      "text/plain": [
       "HBox(children=(IntProgress(value=0, description='Epoch 36', max=781), HTML(value='')))"
      ]
     },
     "metadata": {},
     "output_type": "display_data"
    },
    {
     "name": "stdout",
     "output_type": "stream",
     "text": [
      "781/781 [==============================] - 27s 34ms/step - loss: 0.7400 - acc: 0.7497 - val_loss: 0.6473 - val_acc: 0.7817\n",
      "\n",
      "Epoch 00037: val_loss did not improve from 0.61790\n",
      "Epoch 38/200\n"
     ]
    },
    {
     "data": {
      "application/vnd.jupyter.widget-view+json": {
       "model_id": "",
       "version_major": 2,
       "version_minor": 0
      },
      "text/plain": [
       "HBox(children=(IntProgress(value=0, description='Epoch 37', max=781), HTML(value='')))"
      ]
     },
     "metadata": {},
     "output_type": "display_data"
    },
    {
     "name": "stdout",
     "output_type": "stream",
     "text": [
      "781/781 [==============================] - 27s 34ms/step - loss: 0.7362 - acc: 0.7514 - val_loss: 0.6339 - val_acc: 0.7849\n",
      "\n",
      "Epoch 00038: val_loss did not improve from 0.61790\n",
      "Epoch 39/200\n"
     ]
    },
    {
     "data": {
      "application/vnd.jupyter.widget-view+json": {
       "model_id": "",
       "version_major": 2,
       "version_minor": 0
      },
      "text/plain": [
       "HBox(children=(IntProgress(value=0, description='Epoch 38', max=781), HTML(value='')))"
      ]
     },
     "metadata": {},
     "output_type": "display_data"
    },
    {
     "name": "stdout",
     "output_type": "stream",
     "text": [
      "781/781 [==============================] - 27s 34ms/step - loss: 0.7298 - acc: 0.7519 - val_loss: 0.6484 - val_acc: 0.7837\n",
      "\n",
      "Epoch 00039: val_loss did not improve from 0.61790\n",
      "Epoch 40/200\n"
     ]
    },
    {
     "data": {
      "application/vnd.jupyter.widget-view+json": {
       "model_id": "",
       "version_major": 2,
       "version_minor": 0
      },
      "text/plain": [
       "HBox(children=(IntProgress(value=0, description='Epoch 39', max=781), HTML(value='')))"
      ]
     },
     "metadata": {},
     "output_type": "display_data"
    },
    {
     "name": "stdout",
     "output_type": "stream",
     "text": [
      "781/781 [==============================] - 27s 34ms/step - loss: 0.7359 - acc: 0.7516 - val_loss: 0.6317 - val_acc: 0.7863\n",
      "\n",
      "Epoch 00040: val_loss did not improve from 0.61790\n",
      "Epoch 41/200\n"
     ]
    },
    {
     "data": {
      "application/vnd.jupyter.widget-view+json": {
       "model_id": "",
       "version_major": 2,
       "version_minor": 0
      },
      "text/plain": [
       "HBox(children=(IntProgress(value=0, description='Epoch 40', max=781), HTML(value='')))"
      ]
     },
     "metadata": {},
     "output_type": "display_data"
    },
    {
     "name": "stdout",
     "output_type": "stream",
     "text": [
      "781/781 [==============================] - 27s 34ms/step - loss: 0.7326 - acc: 0.7532 - val_loss: 0.6263 - val_acc: 0.7921\n",
      "\n",
      "Epoch 00041: val_loss did not improve from 0.61790\n",
      "Epoch 42/200\n"
     ]
    },
    {
     "data": {
      "application/vnd.jupyter.widget-view+json": {
       "model_id": "",
       "version_major": 2,
       "version_minor": 0
      },
      "text/plain": [
       "HBox(children=(IntProgress(value=0, description='Epoch 41', max=781), HTML(value='')))"
      ]
     },
     "metadata": {},
     "output_type": "display_data"
    },
    {
     "name": "stdout",
     "output_type": "stream",
     "text": [
      "781/781 [==============================] - 27s 34ms/step - loss: 0.7298 - acc: 0.7539 - val_loss: 0.6591 - val_acc: 0.7844\n",
      "\n",
      "Epoch 00042: val_loss did not improve from 0.61790\n",
      "Epoch 43/200\n"
     ]
    },
    {
     "data": {
      "application/vnd.jupyter.widget-view+json": {
       "model_id": "",
       "version_major": 2,
       "version_minor": 0
      },
      "text/plain": [
       "HBox(children=(IntProgress(value=0, description='Epoch 42', max=781), HTML(value='')))"
      ]
     },
     "metadata": {},
     "output_type": "display_data"
    },
    {
     "name": "stdout",
     "output_type": "stream",
     "text": [
      "781/781 [==============================] - 27s 34ms/step - loss: 0.7303 - acc: 0.7534 - val_loss: 0.6046 - val_acc: 0.7992\n",
      "\n",
      "Epoch 00043: val_loss improved from 0.61790 to 0.60458, saving model to model_checkpoint_cifar110_vgg8_pn_0.2.h5\n",
      "Epoch 44/200\n"
     ]
    },
    {
     "data": {
      "application/vnd.jupyter.widget-view+json": {
       "model_id": "",
       "version_major": 2,
       "version_minor": 0
      },
      "text/plain": [
       "HBox(children=(IntProgress(value=0, description='Epoch 43', max=781), HTML(value='')))"
      ]
     },
     "metadata": {},
     "output_type": "display_data"
    },
    {
     "name": "stdout",
     "output_type": "stream",
     "text": [
      "781/781 [==============================] - 27s 34ms/step - loss: 0.7271 - acc: 0.7533 - val_loss: 0.6169 - val_acc: 0.7903\n",
      "\n",
      "Epoch 00044: val_loss did not improve from 0.60458\n",
      "Epoch 45/200\n"
     ]
    },
    {
     "data": {
      "application/vnd.jupyter.widget-view+json": {
       "model_id": "",
       "version_major": 2,
       "version_minor": 0
      },
      "text/plain": [
       "HBox(children=(IntProgress(value=0, description='Epoch 44', max=781), HTML(value='')))"
      ]
     },
     "metadata": {},
     "output_type": "display_data"
    },
    {
     "name": "stdout",
     "output_type": "stream",
     "text": [
      "781/781 [==============================] - 27s 34ms/step - loss: 0.7262 - acc: 0.7552 - val_loss: 0.6454 - val_acc: 0.7809\n",
      "\n",
      "Epoch 00045: val_loss did not improve from 0.60458\n",
      "Epoch 46/200\n"
     ]
    },
    {
     "data": {
      "application/vnd.jupyter.widget-view+json": {
       "model_id": "",
       "version_major": 2,
       "version_minor": 0
      },
      "text/plain": [
       "HBox(children=(IntProgress(value=0, description='Epoch 45', max=781), HTML(value='')))"
      ]
     },
     "metadata": {},
     "output_type": "display_data"
    },
    {
     "name": "stdout",
     "output_type": "stream",
     "text": [
      "781/781 [==============================] - 27s 34ms/step - loss: 0.7201 - acc: 0.7571 - val_loss: 0.6016 - val_acc: 0.7966\n",
      "\n",
      "Epoch 00046: val_loss improved from 0.60458 to 0.60160, saving model to model_checkpoint_cifar110_vgg8_pn_0.2.h5\n",
      "Epoch 47/200\n"
     ]
    },
    {
     "data": {
      "application/vnd.jupyter.widget-view+json": {
       "model_id": "",
       "version_major": 2,
       "version_minor": 0
      },
      "text/plain": [
       "HBox(children=(IntProgress(value=0, description='Epoch 46', max=781), HTML(value='')))"
      ]
     },
     "metadata": {},
     "output_type": "display_data"
    },
    {
     "name": "stdout",
     "output_type": "stream",
     "text": [
      "781/781 [==============================] - 27s 34ms/step - loss: 0.7287 - acc: 0.7552 - val_loss: 0.6052 - val_acc: 0.7934\n",
      "\n",
      "Epoch 00047: val_loss did not improve from 0.60160\n",
      "Epoch 48/200\n"
     ]
    },
    {
     "data": {
      "application/vnd.jupyter.widget-view+json": {
       "model_id": "",
       "version_major": 2,
       "version_minor": 0
      },
      "text/plain": [
       "HBox(children=(IntProgress(value=0, description='Epoch 47', max=781), HTML(value='')))"
      ]
     },
     "metadata": {},
     "output_type": "display_data"
    },
    {
     "name": "stdout",
     "output_type": "stream",
     "text": [
      "781/781 [==============================] - 27s 34ms/step - loss: 0.7205 - acc: 0.7565 - val_loss: 0.6164 - val_acc: 0.7917\n",
      "\n",
      "Epoch 00048: val_loss did not improve from 0.60160\n",
      "Epoch 49/200\n"
     ]
    },
    {
     "data": {
      "application/vnd.jupyter.widget-view+json": {
       "model_id": "",
       "version_major": 2,
       "version_minor": 0
      },
      "text/plain": [
       "HBox(children=(IntProgress(value=0, description='Epoch 48', max=781), HTML(value='')))"
      ]
     },
     "metadata": {},
     "output_type": "display_data"
    },
    {
     "name": "stdout",
     "output_type": "stream",
     "text": [
      "781/781 [==============================] - 27s 35ms/step - loss: 0.7207 - acc: 0.7559 - val_loss: 0.6049 - val_acc: 0.7917\n",
      "\n",
      "Epoch 00049: val_loss did not improve from 0.60160\n",
      "Epoch 50/200\n"
     ]
    },
    {
     "data": {
      "application/vnd.jupyter.widget-view+json": {
       "model_id": "",
       "version_major": 2,
       "version_minor": 0
      },
      "text/plain": [
       "HBox(children=(IntProgress(value=0, description='Epoch 49', max=781), HTML(value='')))"
      ]
     },
     "metadata": {},
     "output_type": "display_data"
    },
    {
     "name": "stdout",
     "output_type": "stream",
     "text": [
      "781/781 [==============================] - 27s 34ms/step - loss: 0.7127 - acc: 0.7604 - val_loss: 0.5968 - val_acc: 0.7967\n",
      "\n",
      "Epoch 00050: val_loss improved from 0.60160 to 0.59683, saving model to model_checkpoint_cifar110_vgg8_pn_0.2.h5\n",
      "Epoch 51/200\n"
     ]
    },
    {
     "data": {
      "application/vnd.jupyter.widget-view+json": {
       "model_id": "",
       "version_major": 2,
       "version_minor": 0
      },
      "text/plain": [
       "HBox(children=(IntProgress(value=0, description='Epoch 50', max=781), HTML(value='')))"
      ]
     },
     "metadata": {},
     "output_type": "display_data"
    },
    {
     "name": "stdout",
     "output_type": "stream",
     "text": [
      "781/781 [==============================] - 27s 34ms/step - loss: 0.7235 - acc: 0.7565 - val_loss: 0.6232 - val_acc: 0.7932\n",
      "\n",
      "Epoch 00051: val_loss did not improve from 0.59683\n",
      "Epoch 52/200\n"
     ]
    },
    {
     "data": {
      "application/vnd.jupyter.widget-view+json": {
       "model_id": "",
       "version_major": 2,
       "version_minor": 0
      },
      "text/plain": [
       "HBox(children=(IntProgress(value=0, description='Epoch 51', max=781), HTML(value='')))"
      ]
     },
     "metadata": {},
     "output_type": "display_data"
    },
    {
     "name": "stdout",
     "output_type": "stream",
     "text": [
      "781/781 [==============================] - 27s 34ms/step - loss: 0.7159 - acc: 0.7594 - val_loss: 0.6169 - val_acc: 0.7929\n",
      "\n",
      "Epoch 00052: val_loss did not improve from 0.59683\n",
      "Epoch 53/200\n"
     ]
    },
    {
     "data": {
      "application/vnd.jupyter.widget-view+json": {
       "model_id": "",
       "version_major": 2,
       "version_minor": 0
      },
      "text/plain": [
       "HBox(children=(IntProgress(value=0, description='Epoch 52', max=781), HTML(value='')))"
      ]
     },
     "metadata": {},
     "output_type": "display_data"
    },
    {
     "name": "stdout",
     "output_type": "stream",
     "text": [
      "781/781 [==============================] - 27s 34ms/step - loss: 0.7216 - acc: 0.7565 - val_loss: 0.6023 - val_acc: 0.7954\n",
      "\n",
      "Epoch 00053: val_loss did not improve from 0.59683\n",
      "Epoch 54/200\n"
     ]
    },
    {
     "data": {
      "application/vnd.jupyter.widget-view+json": {
       "model_id": "",
       "version_major": 2,
       "version_minor": 0
      },
      "text/plain": [
       "HBox(children=(IntProgress(value=0, description='Epoch 53', max=781), HTML(value='')))"
      ]
     },
     "metadata": {},
     "output_type": "display_data"
    },
    {
     "name": "stdout",
     "output_type": "stream",
     "text": [
      "781/781 [==============================] - 27s 34ms/step - loss: 0.7171 - acc: 0.7589 - val_loss: 0.6003 - val_acc: 0.8004\n",
      "\n",
      "Epoch 00054: val_loss did not improve from 0.59683\n",
      "Epoch 55/200\n"
     ]
    },
    {
     "data": {
      "application/vnd.jupyter.widget-view+json": {
       "model_id": "",
       "version_major": 2,
       "version_minor": 0
      },
      "text/plain": [
       "HBox(children=(IntProgress(value=0, description='Epoch 54', max=781), HTML(value='')))"
      ]
     },
     "metadata": {},
     "output_type": "display_data"
    },
    {
     "name": "stdout",
     "output_type": "stream",
     "text": [
      "781/781 [==============================] - 27s 34ms/step - loss: 0.7168 - acc: 0.7585 - val_loss: 0.5961 - val_acc: 0.8005\n",
      "\n",
      "Epoch 00055: val_loss improved from 0.59683 to 0.59612, saving model to model_checkpoint_cifar110_vgg8_pn_0.2.h5\n",
      "Epoch 56/200\n"
     ]
    },
    {
     "data": {
      "application/vnd.jupyter.widget-view+json": {
       "model_id": "",
       "version_major": 2,
       "version_minor": 0
      },
      "text/plain": [
       "HBox(children=(IntProgress(value=0, description='Epoch 55', max=781), HTML(value='')))"
      ]
     },
     "metadata": {},
     "output_type": "display_data"
    },
    {
     "name": "stdout",
     "output_type": "stream",
     "text": [
      "781/781 [==============================] - 27s 34ms/step - loss: 0.7117 - acc: 0.7609 - val_loss: 0.6256 - val_acc: 0.7873\n",
      "\n",
      "Epoch 00056: val_loss did not improve from 0.59612\n",
      "Epoch 57/200\n"
     ]
    },
    {
     "data": {
      "application/vnd.jupyter.widget-view+json": {
       "model_id": "",
       "version_major": 2,
       "version_minor": 0
      },
      "text/plain": [
       "HBox(children=(IntProgress(value=0, description='Epoch 56', max=781), HTML(value='')))"
      ]
     },
     "metadata": {},
     "output_type": "display_data"
    },
    {
     "name": "stdout",
     "output_type": "stream",
     "text": [
      "781/781 [==============================] - 27s 34ms/step - loss: 0.7112 - acc: 0.7612 - val_loss: 0.6010 - val_acc: 0.8027\n",
      "\n",
      "Epoch 00057: val_loss did not improve from 0.59612\n",
      "Epoch 58/200\n"
     ]
    },
    {
     "data": {
      "application/vnd.jupyter.widget-view+json": {
       "model_id": "",
       "version_major": 2,
       "version_minor": 0
      },
      "text/plain": [
       "HBox(children=(IntProgress(value=0, description='Epoch 57', max=781), HTML(value='')))"
      ]
     },
     "metadata": {},
     "output_type": "display_data"
    },
    {
     "name": "stdout",
     "output_type": "stream",
     "text": [
      "781/781 [==============================] - 27s 35ms/step - loss: 0.7175 - acc: 0.7580 - val_loss: 0.6022 - val_acc: 0.7965\n",
      "\n",
      "Epoch 00058: val_loss did not improve from 0.59612\n",
      "Epoch 59/200\n"
     ]
    },
    {
     "data": {
      "application/vnd.jupyter.widget-view+json": {
       "model_id": "",
       "version_major": 2,
       "version_minor": 0
      },
      "text/plain": [
       "HBox(children=(IntProgress(value=0, description='Epoch 58', max=781), HTML(value='')))"
      ]
     },
     "metadata": {},
     "output_type": "display_data"
    },
    {
     "name": "stdout",
     "output_type": "stream",
     "text": [
      "781/781 [==============================] - 27s 34ms/step - loss: 0.7115 - acc: 0.7604 - val_loss: 0.6129 - val_acc: 0.7976\n",
      "\n",
      "Epoch 00059: val_loss did not improve from 0.59612\n",
      "Epoch 60/200\n"
     ]
    },
    {
     "data": {
      "application/vnd.jupyter.widget-view+json": {
       "model_id": "",
       "version_major": 2,
       "version_minor": 0
      },
      "text/plain": [
       "HBox(children=(IntProgress(value=0, description='Epoch 59', max=781), HTML(value='')))"
      ]
     },
     "metadata": {},
     "output_type": "display_data"
    },
    {
     "name": "stdout",
     "output_type": "stream",
     "text": [
      "781/781 [==============================] - 27s 34ms/step - loss: 0.7080 - acc: 0.7613 - val_loss: 0.5951 - val_acc: 0.8016\n",
      "\n",
      "Epoch 00060: val_loss improved from 0.59612 to 0.59509, saving model to model_checkpoint_cifar110_vgg8_pn_0.2.h5\n",
      "Epoch 61/200\n"
     ]
    },
    {
     "data": {
      "application/vnd.jupyter.widget-view+json": {
       "model_id": "",
       "version_major": 2,
       "version_minor": 0
      },
      "text/plain": [
       "HBox(children=(IntProgress(value=0, description='Epoch 60', max=781), HTML(value='')))"
      ]
     },
     "metadata": {},
     "output_type": "display_data"
    },
    {
     "name": "stdout",
     "output_type": "stream",
     "text": [
      "781/781 [==============================] - 27s 34ms/step - loss: 0.7117 - acc: 0.7613 - val_loss: 0.5993 - val_acc: 0.7943\n",
      "\n",
      "Epoch 00061: val_loss did not improve from 0.59509\n",
      "Epoch 62/200\n"
     ]
    },
    {
     "data": {
      "application/vnd.jupyter.widget-view+json": {
       "model_id": "",
       "version_major": 2,
       "version_minor": 0
      },
      "text/plain": [
       "HBox(children=(IntProgress(value=0, description='Epoch 61', max=781), HTML(value='')))"
      ]
     },
     "metadata": {},
     "output_type": "display_data"
    },
    {
     "name": "stdout",
     "output_type": "stream",
     "text": [
      "781/781 [==============================] - 27s 34ms/step - loss: 0.7056 - acc: 0.7618 - val_loss: 0.5888 - val_acc: 0.7992\n",
      "\n",
      "Epoch 00062: val_loss improved from 0.59509 to 0.58883, saving model to model_checkpoint_cifar110_vgg8_pn_0.2.h5\n",
      "Epoch 63/200\n"
     ]
    },
    {
     "data": {
      "application/vnd.jupyter.widget-view+json": {
       "model_id": "",
       "version_major": 2,
       "version_minor": 0
      },
      "text/plain": [
       "HBox(children=(IntProgress(value=0, description='Epoch 62', max=781), HTML(value='')))"
      ]
     },
     "metadata": {},
     "output_type": "display_data"
    },
    {
     "name": "stdout",
     "output_type": "stream",
     "text": [
      "781/781 [==============================] - 27s 34ms/step - loss: 0.7051 - acc: 0.7618 - val_loss: 0.5851 - val_acc: 0.8065\n",
      "\n",
      "Epoch 00063: val_loss improved from 0.58883 to 0.58507, saving model to model_checkpoint_cifar110_vgg8_pn_0.2.h5\n",
      "Epoch 64/200\n"
     ]
    },
    {
     "data": {
      "application/vnd.jupyter.widget-view+json": {
       "model_id": "",
       "version_major": 2,
       "version_minor": 0
      },
      "text/plain": [
       "HBox(children=(IntProgress(value=0, description='Epoch 63', max=781), HTML(value='')))"
      ]
     },
     "metadata": {},
     "output_type": "display_data"
    },
    {
     "name": "stdout",
     "output_type": "stream",
     "text": [
      "781/781 [==============================] - 27s 34ms/step - loss: 0.7083 - acc: 0.7623 - val_loss: 0.6300 - val_acc: 0.7895\n",
      "\n",
      "Epoch 00064: val_loss did not improve from 0.58507\n",
      "Epoch 65/200\n"
     ]
    },
    {
     "data": {
      "application/vnd.jupyter.widget-view+json": {
       "model_id": "",
       "version_major": 2,
       "version_minor": 0
      },
      "text/plain": [
       "HBox(children=(IntProgress(value=0, description='Epoch 64', max=781), HTML(value='')))"
      ]
     },
     "metadata": {},
     "output_type": "display_data"
    },
    {
     "name": "stdout",
     "output_type": "stream",
     "text": [
      "781/781 [==============================] - 27s 34ms/step - loss: 0.7129 - acc: 0.7607 - val_loss: 0.5856 - val_acc: 0.8025\n",
      "\n",
      "Epoch 00065: val_loss did not improve from 0.58507\n",
      "Epoch 66/200\n"
     ]
    },
    {
     "data": {
      "application/vnd.jupyter.widget-view+json": {
       "model_id": "",
       "version_major": 2,
       "version_minor": 0
      },
      "text/plain": [
       "HBox(children=(IntProgress(value=0, description='Epoch 65', max=781), HTML(value='')))"
      ]
     },
     "metadata": {},
     "output_type": "display_data"
    },
    {
     "name": "stdout",
     "output_type": "stream",
     "text": [
      "781/781 [==============================] - 27s 34ms/step - loss: 0.7075 - acc: 0.7623 - val_loss: 0.6101 - val_acc: 0.7968\n",
      "\n",
      "Epoch 00066: val_loss did not improve from 0.58507\n",
      "Epoch 67/200\n"
     ]
    },
    {
     "data": {
      "application/vnd.jupyter.widget-view+json": {
       "model_id": "",
       "version_major": 2,
       "version_minor": 0
      },
      "text/plain": [
       "HBox(children=(IntProgress(value=0, description='Epoch 66', max=781), HTML(value='')))"
      ]
     },
     "metadata": {},
     "output_type": "display_data"
    },
    {
     "name": "stdout",
     "output_type": "stream",
     "text": [
      "781/781 [==============================] - 27s 34ms/step - loss: 0.7001 - acc: 0.7647 - val_loss: 0.6031 - val_acc: 0.7996\n",
      "\n",
      "Epoch 00067: val_loss did not improve from 0.58507\n",
      "Epoch 68/200\n"
     ]
    },
    {
     "data": {
      "application/vnd.jupyter.widget-view+json": {
       "model_id": "",
       "version_major": 2,
       "version_minor": 0
      },
      "text/plain": [
       "HBox(children=(IntProgress(value=0, description='Epoch 67', max=781), HTML(value='')))"
      ]
     },
     "metadata": {},
     "output_type": "display_data"
    },
    {
     "name": "stdout",
     "output_type": "stream",
     "text": [
      "781/781 [==============================] - 27s 34ms/step - loss: 0.7080 - acc: 0.7614 - val_loss: 0.6041 - val_acc: 0.7982\n",
      "\n",
      "Epoch 00068: val_loss did not improve from 0.58507\n",
      "Epoch 69/200\n"
     ]
    },
    {
     "data": {
      "application/vnd.jupyter.widget-view+json": {
       "model_id": "",
       "version_major": 2,
       "version_minor": 0
      },
      "text/plain": [
       "HBox(children=(IntProgress(value=0, description='Epoch 68', max=781), HTML(value='')))"
      ]
     },
     "metadata": {},
     "output_type": "display_data"
    },
    {
     "name": "stdout",
     "output_type": "stream",
     "text": [
      "781/781 [==============================] - 27s 34ms/step - loss: 0.7038 - acc: 0.7654 - val_loss: 0.6255 - val_acc: 0.7968\n",
      "\n",
      "Epoch 00069: val_loss did not improve from 0.58507\n",
      "Epoch 70/200\n"
     ]
    },
    {
     "data": {
      "application/vnd.jupyter.widget-view+json": {
       "model_id": "",
       "version_major": 2,
       "version_minor": 0
      },
      "text/plain": [
       "HBox(children=(IntProgress(value=0, description='Epoch 69', max=781), HTML(value='')))"
      ]
     },
     "metadata": {},
     "output_type": "display_data"
    },
    {
     "name": "stdout",
     "output_type": "stream",
     "text": [
      "781/781 [==============================] - 26s 34ms/step - loss: 0.7012 - acc: 0.7643 - val_loss: 0.6292 - val_acc: 0.7904\n",
      "\n",
      "Epoch 00070: val_loss did not improve from 0.58507\n",
      "Epoch 71/200\n"
     ]
    },
    {
     "data": {
      "application/vnd.jupyter.widget-view+json": {
       "model_id": "",
       "version_major": 2,
       "version_minor": 0
      },
      "text/plain": [
       "HBox(children=(IntProgress(value=0, description='Epoch 70', max=781), HTML(value='')))"
      ]
     },
     "metadata": {},
     "output_type": "display_data"
    },
    {
     "name": "stdout",
     "output_type": "stream",
     "text": [
      "781/781 [==============================] - 27s 34ms/step - loss: 0.7032 - acc: 0.7637 - val_loss: 0.6115 - val_acc: 0.7998\n",
      "\n",
      "Epoch 00071: val_loss did not improve from 0.58507\n",
      "Epoch 72/200\n"
     ]
    },
    {
     "data": {
      "application/vnd.jupyter.widget-view+json": {
       "model_id": "",
       "version_major": 2,
       "version_minor": 0
      },
      "text/plain": [
       "HBox(children=(IntProgress(value=0, description='Epoch 71', max=781), HTML(value='')))"
      ]
     },
     "metadata": {},
     "output_type": "display_data"
    },
    {
     "name": "stdout",
     "output_type": "stream",
     "text": [
      "781/781 [==============================] - 27s 34ms/step - loss: 0.7066 - acc: 0.7643 - val_loss: 0.5968 - val_acc: 0.8019\n",
      "\n",
      "Epoch 00072: val_loss did not improve from 0.58507\n",
      "Epoch 73/200\n"
     ]
    },
    {
     "data": {
      "application/vnd.jupyter.widget-view+json": {
       "model_id": "",
       "version_major": 2,
       "version_minor": 0
      },
      "text/plain": [
       "HBox(children=(IntProgress(value=0, description='Epoch 72', max=781), HTML(value='')))"
      ]
     },
     "metadata": {},
     "output_type": "display_data"
    },
    {
     "name": "stdout",
     "output_type": "stream",
     "text": [
      "781/781 [==============================] - 27s 35ms/step - loss: 0.7060 - acc: 0.7647 - val_loss: 0.6339 - val_acc: 0.7885\n",
      "\n",
      "Epoch 00073: val_loss did not improve from 0.58507\n",
      "Epoch 74/200\n"
     ]
    },
    {
     "data": {
      "application/vnd.jupyter.widget-view+json": {
       "model_id": "",
       "version_major": 2,
       "version_minor": 0
      },
      "text/plain": [
       "HBox(children=(IntProgress(value=0, description='Epoch 73', max=781), HTML(value='')))"
      ]
     },
     "metadata": {},
     "output_type": "display_data"
    },
    {
     "name": "stdout",
     "output_type": "stream",
     "text": [
      "781/781 [==============================] - 27s 34ms/step - loss: 0.6957 - acc: 0.7667 - val_loss: 0.6110 - val_acc: 0.7999\n",
      "\n",
      "Epoch 00074: val_loss did not improve from 0.58507\n",
      "Epoch 75/200\n"
     ]
    },
    {
     "data": {
      "application/vnd.jupyter.widget-view+json": {
       "model_id": "",
       "version_major": 2,
       "version_minor": 0
      },
      "text/plain": [
       "HBox(children=(IntProgress(value=0, description='Epoch 74', max=781), HTML(value='')))"
      ]
     },
     "metadata": {},
     "output_type": "display_data"
    },
    {
     "name": "stdout",
     "output_type": "stream",
     "text": [
      "781/781 [==============================] - 27s 34ms/step - loss: 0.6965 - acc: 0.7662 - val_loss: 0.6214 - val_acc: 0.7950\n",
      "\n",
      "Epoch 00075: val_loss did not improve from 0.58507\n",
      "Epoch 76/200\n"
     ]
    },
    {
     "data": {
      "application/vnd.jupyter.widget-view+json": {
       "model_id": "",
       "version_major": 2,
       "version_minor": 0
      },
      "text/plain": [
       "HBox(children=(IntProgress(value=0, description='Epoch 75', max=781), HTML(value='')))"
      ]
     },
     "metadata": {},
     "output_type": "display_data"
    },
    {
     "name": "stdout",
     "output_type": "stream",
     "text": [
      "781/781 [==============================] - 27s 34ms/step - loss: 0.6927 - acc: 0.7670 - val_loss: 0.6277 - val_acc: 0.7929\n",
      "\n",
      "Epoch 00076: val_loss did not improve from 0.58507\n",
      "Epoch 77/200\n"
     ]
    },
    {
     "data": {
      "application/vnd.jupyter.widget-view+json": {
       "model_id": "",
       "version_major": 2,
       "version_minor": 0
      },
      "text/plain": [
       "HBox(children=(IntProgress(value=0, description='Epoch 76', max=781), HTML(value='')))"
      ]
     },
     "metadata": {},
     "output_type": "display_data"
    },
    {
     "name": "stdout",
     "output_type": "stream",
     "text": [
      "781/781 [==============================] - 27s 34ms/step - loss: 0.7098 - acc: 0.7627 - val_loss: 0.5653 - val_acc: 0.8115\n",
      "\n",
      "Epoch 00077: val_loss improved from 0.58507 to 0.56525, saving model to model_checkpoint_cifar110_vgg8_pn_0.2.h5\n",
      "Epoch 78/200\n"
     ]
    },
    {
     "data": {
      "application/vnd.jupyter.widget-view+json": {
       "model_id": "",
       "version_major": 2,
       "version_minor": 0
      },
      "text/plain": [
       "HBox(children=(IntProgress(value=0, description='Epoch 77', max=781), HTML(value='')))"
      ]
     },
     "metadata": {},
     "output_type": "display_data"
    },
    {
     "name": "stdout",
     "output_type": "stream",
     "text": [
      "781/781 [==============================] - 27s 34ms/step - loss: 0.7022 - acc: 0.7657 - val_loss: 0.6134 - val_acc: 0.7904\n",
      "\n",
      "Epoch 00078: val_loss did not improve from 0.56525\n",
      "Epoch 79/200\n"
     ]
    },
    {
     "data": {
      "application/vnd.jupyter.widget-view+json": {
       "model_id": "",
       "version_major": 2,
       "version_minor": 0
      },
      "text/plain": [
       "HBox(children=(IntProgress(value=0, description='Epoch 78', max=781), HTML(value='')))"
      ]
     },
     "metadata": {},
     "output_type": "display_data"
    },
    {
     "name": "stdout",
     "output_type": "stream",
     "text": [
      "781/781 [==============================] - 27s 34ms/step - loss: 0.6949 - acc: 0.7664 - val_loss: 0.5828 - val_acc: 0.8042\n",
      "\n",
      "Epoch 00079: val_loss did not improve from 0.56525\n",
      "Epoch 80/200\n"
     ]
    },
    {
     "data": {
      "application/vnd.jupyter.widget-view+json": {
       "model_id": "",
       "version_major": 2,
       "version_minor": 0
      },
      "text/plain": [
       "HBox(children=(IntProgress(value=0, description='Epoch 79', max=781), HTML(value='')))"
      ]
     },
     "metadata": {},
     "output_type": "display_data"
    },
    {
     "name": "stdout",
     "output_type": "stream",
     "text": [
      "781/781 [==============================] - 27s 34ms/step - loss: 0.6941 - acc: 0.7674 - val_loss: 0.6107 - val_acc: 0.8019\n",
      "\n",
      "Epoch 00080: val_loss did not improve from 0.56525\n",
      "Epoch 81/200\n"
     ]
    },
    {
     "data": {
      "application/vnd.jupyter.widget-view+json": {
       "model_id": "",
       "version_major": 2,
       "version_minor": 0
      },
      "text/plain": [
       "HBox(children=(IntProgress(value=0, description='Epoch 80', max=781), HTML(value='')))"
      ]
     },
     "metadata": {},
     "output_type": "display_data"
    },
    {
     "name": "stdout",
     "output_type": "stream",
     "text": [
      "781/781 [==============================] - 27s 34ms/step - loss: 0.7008 - acc: 0.7648 - val_loss: 0.5627 - val_acc: 0.8106\n",
      "\n",
      "Epoch 00081: val_loss improved from 0.56525 to 0.56274, saving model to model_checkpoint_cifar110_vgg8_pn_0.2.h5\n",
      "Epoch 82/200\n"
     ]
    },
    {
     "data": {
      "application/vnd.jupyter.widget-view+json": {
       "model_id": "",
       "version_major": 2,
       "version_minor": 0
      },
      "text/plain": [
       "HBox(children=(IntProgress(value=0, description='Epoch 81', max=781), HTML(value='')))"
      ]
     },
     "metadata": {},
     "output_type": "display_data"
    },
    {
     "name": "stdout",
     "output_type": "stream",
     "text": [
      "781/781 [==============================] - 27s 34ms/step - loss: 0.7016 - acc: 0.7666 - val_loss: 0.6028 - val_acc: 0.7994\n",
      "\n",
      "Epoch 00082: val_loss did not improve from 0.56274\n",
      "Epoch 83/200\n"
     ]
    },
    {
     "data": {
      "application/vnd.jupyter.widget-view+json": {
       "model_id": "",
       "version_major": 2,
       "version_minor": 0
      },
      "text/plain": [
       "HBox(children=(IntProgress(value=0, description='Epoch 82', max=781), HTML(value='')))"
      ]
     },
     "metadata": {},
     "output_type": "display_data"
    },
    {
     "name": "stdout",
     "output_type": "stream",
     "text": [
      "781/781 [==============================] - 27s 34ms/step - loss: 0.7001 - acc: 0.7652 - val_loss: 0.5799 - val_acc: 0.8046\n",
      "\n",
      "Epoch 00083: val_loss did not improve from 0.56274\n",
      "Epoch 84/200\n"
     ]
    },
    {
     "data": {
      "application/vnd.jupyter.widget-view+json": {
       "model_id": "",
       "version_major": 2,
       "version_minor": 0
      },
      "text/plain": [
       "HBox(children=(IntProgress(value=0, description='Epoch 83', max=781), HTML(value='')))"
      ]
     },
     "metadata": {},
     "output_type": "display_data"
    },
    {
     "name": "stdout",
     "output_type": "stream",
     "text": [
      "781/781 [==============================] - 27s 34ms/step - loss: 0.6931 - acc: 0.7678 - val_loss: 0.5844 - val_acc: 0.8082\n",
      "\n",
      "Epoch 00084: val_loss did not improve from 0.56274\n",
      "Epoch 85/200\n"
     ]
    },
    {
     "data": {
      "application/vnd.jupyter.widget-view+json": {
       "model_id": "",
       "version_major": 2,
       "version_minor": 0
      },
      "text/plain": [
       "HBox(children=(IntProgress(value=0, description='Epoch 84', max=781), HTML(value='')))"
      ]
     },
     "metadata": {},
     "output_type": "display_data"
    },
    {
     "name": "stdout",
     "output_type": "stream",
     "text": [
      "781/781 [==============================] - 27s 34ms/step - loss: 0.6923 - acc: 0.7682 - val_loss: 0.5901 - val_acc: 0.8055\n",
      "\n",
      "Epoch 00085: val_loss did not improve from 0.56274\n",
      "Epoch 86/200\n"
     ]
    },
    {
     "data": {
      "application/vnd.jupyter.widget-view+json": {
       "model_id": "",
       "version_major": 2,
       "version_minor": 0
      },
      "text/plain": [
       "HBox(children=(IntProgress(value=0, description='Epoch 85', max=781), HTML(value='')))"
      ]
     },
     "metadata": {},
     "output_type": "display_data"
    },
    {
     "name": "stdout",
     "output_type": "stream",
     "text": [
      "781/781 [==============================] - 27s 34ms/step - loss: 0.6954 - acc: 0.7686 - val_loss: 0.5836 - val_acc: 0.8051\n",
      "\n",
      "Epoch 00086: val_loss did not improve from 0.56274\n",
      "Epoch 87/200\n"
     ]
    },
    {
     "data": {
      "application/vnd.jupyter.widget-view+json": {
       "model_id": "",
       "version_major": 2,
       "version_minor": 0
      },
      "text/plain": [
       "HBox(children=(IntProgress(value=0, description='Epoch 86', max=781), HTML(value='')))"
      ]
     },
     "metadata": {},
     "output_type": "display_data"
    },
    {
     "name": "stdout",
     "output_type": "stream",
     "text": [
      "781/781 [==============================] - 27s 34ms/step - loss: 0.6964 - acc: 0.7653 - val_loss: 0.5614 - val_acc: 0.8102\n",
      "\n",
      "Epoch 00087: val_loss improved from 0.56274 to 0.56143, saving model to model_checkpoint_cifar110_vgg8_pn_0.2.h5\n",
      "Epoch 88/200\n"
     ]
    },
    {
     "data": {
      "application/vnd.jupyter.widget-view+json": {
       "model_id": "",
       "version_major": 2,
       "version_minor": 0
      },
      "text/plain": [
       "HBox(children=(IntProgress(value=0, description='Epoch 87', max=781), HTML(value='')))"
      ]
     },
     "metadata": {},
     "output_type": "display_data"
    },
    {
     "name": "stdout",
     "output_type": "stream",
     "text": [
      "781/781 [==============================] - 27s 34ms/step - loss: 0.6991 - acc: 0.7667 - val_loss: 0.5720 - val_acc: 0.8076\n",
      "\n",
      "Epoch 00088: val_loss did not improve from 0.56143\n",
      "Epoch 89/200\n"
     ]
    },
    {
     "data": {
      "application/vnd.jupyter.widget-view+json": {
       "model_id": "",
       "version_major": 2,
       "version_minor": 0
      },
      "text/plain": [
       "HBox(children=(IntProgress(value=0, description='Epoch 88', max=781), HTML(value='')))"
      ]
     },
     "metadata": {},
     "output_type": "display_data"
    },
    {
     "name": "stdout",
     "output_type": "stream",
     "text": [
      "781/781 [==============================] - 27s 34ms/step - loss: 0.6890 - acc: 0.7685 - val_loss: 0.5971 - val_acc: 0.8048\n",
      "\n",
      "Epoch 00089: val_loss did not improve from 0.56143\n",
      "Epoch 90/200\n"
     ]
    },
    {
     "data": {
      "application/vnd.jupyter.widget-view+json": {
       "model_id": "",
       "version_major": 2,
       "version_minor": 0
      },
      "text/plain": [
       "HBox(children=(IntProgress(value=0, description='Epoch 89', max=781), HTML(value='')))"
      ]
     },
     "metadata": {},
     "output_type": "display_data"
    },
    {
     "name": "stdout",
     "output_type": "stream",
     "text": [
      "781/781 [==============================] - 27s 35ms/step - loss: 0.6938 - acc: 0.7668 - val_loss: 0.6069 - val_acc: 0.7978\n",
      "\n",
      "Epoch 00090: val_loss did not improve from 0.56143\n",
      "Epoch 91/200\n"
     ]
    },
    {
     "data": {
      "application/vnd.jupyter.widget-view+json": {
       "model_id": "",
       "version_major": 2,
       "version_minor": 0
      },
      "text/plain": [
       "HBox(children=(IntProgress(value=0, description='Epoch 90', max=781), HTML(value='')))"
      ]
     },
     "metadata": {},
     "output_type": "display_data"
    },
    {
     "name": "stdout",
     "output_type": "stream",
     "text": [
      "781/781 [==============================] - 27s 34ms/step - loss: 0.6934 - acc: 0.7683 - val_loss: 0.5970 - val_acc: 0.8012\n",
      "\n",
      "Epoch 00091: val_loss did not improve from 0.56143\n",
      "Epoch 92/200\n"
     ]
    },
    {
     "data": {
      "application/vnd.jupyter.widget-view+json": {
       "model_id": "",
       "version_major": 2,
       "version_minor": 0
      },
      "text/plain": [
       "HBox(children=(IntProgress(value=0, description='Epoch 91', max=781), HTML(value='')))"
      ]
     },
     "metadata": {},
     "output_type": "display_data"
    },
    {
     "name": "stdout",
     "output_type": "stream",
     "text": [
      "781/781 [==============================] - 27s 35ms/step - loss: 0.6969 - acc: 0.7684 - val_loss: 0.5818 - val_acc: 0.8073\n",
      "\n",
      "Epoch 00092: val_loss did not improve from 0.56143\n",
      "Epoch 93/200\n"
     ]
    },
    {
     "data": {
      "application/vnd.jupyter.widget-view+json": {
       "model_id": "",
       "version_major": 2,
       "version_minor": 0
      },
      "text/plain": [
       "HBox(children=(IntProgress(value=0, description='Epoch 92', max=781), HTML(value='')))"
      ]
     },
     "metadata": {},
     "output_type": "display_data"
    },
    {
     "name": "stdout",
     "output_type": "stream",
     "text": [
      "781/781 [==============================] - 27s 34ms/step - loss: 0.6947 - acc: 0.7680 - val_loss: 0.5895 - val_acc: 0.8041\n",
      "\n",
      "Epoch 00093: val_loss did not improve from 0.56143\n",
      "Epoch 94/200\n"
     ]
    },
    {
     "data": {
      "application/vnd.jupyter.widget-view+json": {
       "model_id": "",
       "version_major": 2,
       "version_minor": 0
      },
      "text/plain": [
       "HBox(children=(IntProgress(value=0, description='Epoch 93', max=781), HTML(value='')))"
      ]
     },
     "metadata": {},
     "output_type": "display_data"
    },
    {
     "name": "stdout",
     "output_type": "stream",
     "text": [
      "781/781 [==============================] - 27s 34ms/step - loss: 0.6953 - acc: 0.7677 - val_loss: 0.5741 - val_acc: 0.8125\n",
      "\n",
      "Epoch 00094: val_loss did not improve from 0.56143\n",
      "Epoch 95/200\n"
     ]
    },
    {
     "data": {
      "application/vnd.jupyter.widget-view+json": {
       "model_id": "",
       "version_major": 2,
       "version_minor": 0
      },
      "text/plain": [
       "HBox(children=(IntProgress(value=0, description='Epoch 94', max=781), HTML(value='')))"
      ]
     },
     "metadata": {},
     "output_type": "display_data"
    },
    {
     "name": "stdout",
     "output_type": "stream",
     "text": [
      "781/781 [==============================] - 27s 34ms/step - loss: 0.6911 - acc: 0.7694 - val_loss: 0.5623 - val_acc: 0.8153\n",
      "\n",
      "Epoch 00095: val_loss did not improve from 0.56143\n",
      "Epoch 96/200\n"
     ]
    },
    {
     "data": {
      "application/vnd.jupyter.widget-view+json": {
       "model_id": "",
       "version_major": 2,
       "version_minor": 0
      },
      "text/plain": [
       "HBox(children=(IntProgress(value=0, description='Epoch 95', max=781), HTML(value='')))"
      ]
     },
     "metadata": {},
     "output_type": "display_data"
    },
    {
     "name": "stdout",
     "output_type": "stream",
     "text": [
      "781/781 [==============================] - 27s 34ms/step - loss: 0.6911 - acc: 0.7695 - val_loss: 0.5766 - val_acc: 0.8066\n",
      "\n",
      "Epoch 00096: val_loss did not improve from 0.56143\n",
      "Epoch 97/200\n"
     ]
    },
    {
     "data": {
      "application/vnd.jupyter.widget-view+json": {
       "model_id": "",
       "version_major": 2,
       "version_minor": 0
      },
      "text/plain": [
       "HBox(children=(IntProgress(value=0, description='Epoch 96', max=781), HTML(value='')))"
      ]
     },
     "metadata": {},
     "output_type": "display_data"
    },
    {
     "name": "stdout",
     "output_type": "stream",
     "text": [
      "781/781 [==============================] - 27s 34ms/step - loss: 0.6908 - acc: 0.7696 - val_loss: 0.5734 - val_acc: 0.8083\n",
      "\n",
      "Epoch 00097: val_loss did not improve from 0.56143\n",
      "Epoch 98/200\n"
     ]
    },
    {
     "data": {
      "application/vnd.jupyter.widget-view+json": {
       "model_id": "",
       "version_major": 2,
       "version_minor": 0
      },
      "text/plain": [
       "HBox(children=(IntProgress(value=0, description='Epoch 97', max=781), HTML(value='')))"
      ]
     },
     "metadata": {},
     "output_type": "display_data"
    },
    {
     "name": "stdout",
     "output_type": "stream",
     "text": [
      "781/781 [==============================] - 27s 34ms/step - loss: 0.6901 - acc: 0.7695 - val_loss: 0.5535 - val_acc: 0.8164\n",
      "\n",
      "Epoch 00098: val_loss improved from 0.56143 to 0.55354, saving model to model_checkpoint_cifar110_vgg8_pn_0.2.h5\n",
      "Epoch 99/200\n"
     ]
    },
    {
     "data": {
      "application/vnd.jupyter.widget-view+json": {
       "model_id": "",
       "version_major": 2,
       "version_minor": 0
      },
      "text/plain": [
       "HBox(children=(IntProgress(value=0, description='Epoch 98', max=781), HTML(value='')))"
      ]
     },
     "metadata": {},
     "output_type": "display_data"
    },
    {
     "name": "stdout",
     "output_type": "stream",
     "text": [
      "781/781 [==============================] - 27s 35ms/step - loss: 0.6850 - acc: 0.7718 - val_loss: 0.5795 - val_acc: 0.8099\n",
      "\n",
      "Epoch 00099: val_loss did not improve from 0.55354\n",
      "Epoch 100/200\n"
     ]
    },
    {
     "data": {
      "application/vnd.jupyter.widget-view+json": {
       "model_id": "",
       "version_major": 2,
       "version_minor": 0
      },
      "text/plain": [
       "HBox(children=(IntProgress(value=0, description='Epoch 99', max=781), HTML(value='')))"
      ]
     },
     "metadata": {},
     "output_type": "display_data"
    },
    {
     "name": "stdout",
     "output_type": "stream",
     "text": [
      "781/781 [==============================] - 27s 34ms/step - loss: 0.6930 - acc: 0.7691 - val_loss: 0.5705 - val_acc: 0.8030\n",
      "\n",
      "Epoch 00100: val_loss did not improve from 0.55354\n",
      "Epoch 101/200\n"
     ]
    },
    {
     "data": {
      "application/vnd.jupyter.widget-view+json": {
       "model_id": "",
       "version_major": 2,
       "version_minor": 0
      },
      "text/plain": [
       "HBox(children=(IntProgress(value=0, description='Epoch 100', max=781), HTML(value='')))"
      ]
     },
     "metadata": {},
     "output_type": "display_data"
    },
    {
     "name": "stdout",
     "output_type": "stream",
     "text": [
      "781/781 [==============================] - 27s 34ms/step - loss: 0.6916 - acc: 0.7701 - val_loss: 0.5911 - val_acc: 0.8039\n",
      "\n",
      "Epoch 00101: val_loss did not improve from 0.55354\n",
      "Epoch 102/200\n"
     ]
    },
    {
     "data": {
      "application/vnd.jupyter.widget-view+json": {
       "model_id": "",
       "version_major": 2,
       "version_minor": 0
      },
      "text/plain": [
       "HBox(children=(IntProgress(value=0, description='Epoch 101', max=781), HTML(value='')))"
      ]
     },
     "metadata": {},
     "output_type": "display_data"
    },
    {
     "name": "stdout",
     "output_type": "stream",
     "text": [
      "781/781 [==============================] - 26s 34ms/step - loss: 0.6917 - acc: 0.7702 - val_loss: 0.5627 - val_acc: 0.8162\n",
      "\n",
      "Epoch 00102: val_loss did not improve from 0.55354\n",
      "Epoch 103/200\n"
     ]
    },
    {
     "data": {
      "application/vnd.jupyter.widget-view+json": {
       "model_id": "",
       "version_major": 2,
       "version_minor": 0
      },
      "text/plain": [
       "HBox(children=(IntProgress(value=0, description='Epoch 102', max=781), HTML(value='')))"
      ]
     },
     "metadata": {},
     "output_type": "display_data"
    },
    {
     "name": "stdout",
     "output_type": "stream",
     "text": [
      "781/781 [==============================] - 27s 34ms/step - loss: 0.6877 - acc: 0.7707 - val_loss: 0.5633 - val_acc: 0.8125\n",
      "\n",
      "Epoch 00103: val_loss did not improve from 0.55354\n",
      "Epoch 104/200\n"
     ]
    },
    {
     "data": {
      "application/vnd.jupyter.widget-view+json": {
       "model_id": "",
       "version_major": 2,
       "version_minor": 0
      },
      "text/plain": [
       "HBox(children=(IntProgress(value=0, description='Epoch 103', max=781), HTML(value='')))"
      ]
     },
     "metadata": {},
     "output_type": "display_data"
    },
    {
     "name": "stdout",
     "output_type": "stream",
     "text": [
      "781/781 [==============================] - 27s 34ms/step - loss: 0.6900 - acc: 0.7694 - val_loss: 0.5704 - val_acc: 0.8090\n",
      "\n",
      "Epoch 00104: val_loss did not improve from 0.55354\n",
      "Epoch 105/200\n"
     ]
    },
    {
     "data": {
      "application/vnd.jupyter.widget-view+json": {
       "model_id": "",
       "version_major": 2,
       "version_minor": 0
      },
      "text/plain": [
       "HBox(children=(IntProgress(value=0, description='Epoch 104', max=781), HTML(value='')))"
      ]
     },
     "metadata": {},
     "output_type": "display_data"
    },
    {
     "name": "stdout",
     "output_type": "stream",
     "text": [
      "781/781 [==============================] - 27s 34ms/step - loss: 0.6945 - acc: 0.7673 - val_loss: 0.5890 - val_acc: 0.8042\n",
      "\n",
      "Epoch 00105: val_loss did not improve from 0.55354\n",
      "Epoch 106/200\n"
     ]
    },
    {
     "data": {
      "application/vnd.jupyter.widget-view+json": {
       "model_id": "",
       "version_major": 2,
       "version_minor": 0
      },
      "text/plain": [
       "HBox(children=(IntProgress(value=0, description='Epoch 105', max=781), HTML(value='')))"
      ]
     },
     "metadata": {},
     "output_type": "display_data"
    },
    {
     "name": "stdout",
     "output_type": "stream",
     "text": [
      "781/781 [==============================] - 27s 35ms/step - loss: 0.6876 - acc: 0.7716 - val_loss: 0.5789 - val_acc: 0.8077\n",
      "\n",
      "Epoch 00106: val_loss did not improve from 0.55354\n",
      "Epoch 107/200\n"
     ]
    },
    {
     "data": {
      "application/vnd.jupyter.widget-view+json": {
       "model_id": "",
       "version_major": 2,
       "version_minor": 0
      },
      "text/plain": [
       "HBox(children=(IntProgress(value=0, description='Epoch 106', max=781), HTML(value='')))"
      ]
     },
     "metadata": {},
     "output_type": "display_data"
    },
    {
     "name": "stdout",
     "output_type": "stream",
     "text": [
      "781/781 [==============================] - 27s 34ms/step - loss: 0.6844 - acc: 0.7718 - val_loss: 0.5739 - val_acc: 0.8103\n",
      "\n",
      "Epoch 00107: val_loss did not improve from 0.55354\n",
      "Epoch 108/200\n"
     ]
    },
    {
     "data": {
      "application/vnd.jupyter.widget-view+json": {
       "model_id": "",
       "version_major": 2,
       "version_minor": 0
      },
      "text/plain": [
       "HBox(children=(IntProgress(value=0, description='Epoch 107', max=781), HTML(value='')))"
      ]
     },
     "metadata": {},
     "output_type": "display_data"
    },
    {
     "name": "stdout",
     "output_type": "stream",
     "text": [
      "781/781 [==============================] - 27s 34ms/step - loss: 0.6935 - acc: 0.7692 - val_loss: 0.5632 - val_acc: 0.8158\n",
      "\n",
      "Epoch 00108: val_loss did not improve from 0.55354\n",
      "Epoch 109/200\n"
     ]
    },
    {
     "data": {
      "application/vnd.jupyter.widget-view+json": {
       "model_id": "",
       "version_major": 2,
       "version_minor": 0
      },
      "text/plain": [
       "HBox(children=(IntProgress(value=0, description='Epoch 108', max=781), HTML(value='')))"
      ]
     },
     "metadata": {},
     "output_type": "display_data"
    },
    {
     "name": "stdout",
     "output_type": "stream",
     "text": [
      "781/781 [==============================] - 27s 34ms/step - loss: 0.6908 - acc: 0.7705 - val_loss: 0.5796 - val_acc: 0.8077\n",
      "\n",
      "Epoch 00109: val_loss did not improve from 0.55354\n",
      "Epoch 110/200\n"
     ]
    },
    {
     "data": {
      "application/vnd.jupyter.widget-view+json": {
       "model_id": "",
       "version_major": 2,
       "version_minor": 0
      },
      "text/plain": [
       "HBox(children=(IntProgress(value=0, description='Epoch 109', max=781), HTML(value='')))"
      ]
     },
     "metadata": {},
     "output_type": "display_data"
    },
    {
     "name": "stdout",
     "output_type": "stream",
     "text": [
      "781/781 [==============================] - 27s 35ms/step - loss: 0.6874 - acc: 0.7710 - val_loss: 0.5740 - val_acc: 0.8097\n",
      "\n",
      "Epoch 00110: val_loss did not improve from 0.55354\n",
      "Epoch 111/200\n"
     ]
    },
    {
     "data": {
      "application/vnd.jupyter.widget-view+json": {
       "model_id": "",
       "version_major": 2,
       "version_minor": 0
      },
      "text/plain": [
       "HBox(children=(IntProgress(value=0, description='Epoch 110', max=781), HTML(value='')))"
      ]
     },
     "metadata": {},
     "output_type": "display_data"
    },
    {
     "name": "stdout",
     "output_type": "stream",
     "text": [
      "781/781 [==============================] - 27s 34ms/step - loss: 0.6859 - acc: 0.7723 - val_loss: 0.5714 - val_acc: 0.8051\n",
      "\n",
      "Epoch 00111: val_loss did not improve from 0.55354\n",
      "Epoch 112/200\n"
     ]
    },
    {
     "data": {
      "application/vnd.jupyter.widget-view+json": {
       "model_id": "",
       "version_major": 2,
       "version_minor": 0
      },
      "text/plain": [
       "HBox(children=(IntProgress(value=0, description='Epoch 111', max=781), HTML(value='')))"
      ]
     },
     "metadata": {},
     "output_type": "display_data"
    },
    {
     "name": "stdout",
     "output_type": "stream",
     "text": [
      "781/781 [==============================] - 27s 34ms/step - loss: 0.6830 - acc: 0.7726 - val_loss: 0.5465 - val_acc: 0.8172\n",
      "\n",
      "Epoch 00112: val_loss improved from 0.55354 to 0.54654, saving model to model_checkpoint_cifar110_vgg8_pn_0.2.h5\n",
      "Epoch 113/200\n"
     ]
    },
    {
     "data": {
      "application/vnd.jupyter.widget-view+json": {
       "model_id": "",
       "version_major": 2,
       "version_minor": 0
      },
      "text/plain": [
       "HBox(children=(IntProgress(value=0, description='Epoch 112', max=781), HTML(value='')))"
      ]
     },
     "metadata": {},
     "output_type": "display_data"
    },
    {
     "name": "stdout",
     "output_type": "stream",
     "text": [
      "781/781 [==============================] - 27s 34ms/step - loss: 0.6876 - acc: 0.7722 - val_loss: 0.5695 - val_acc: 0.8120\n",
      "\n",
      "Epoch 00113: val_loss did not improve from 0.54654\n",
      "Epoch 114/200\n"
     ]
    },
    {
     "data": {
      "application/vnd.jupyter.widget-view+json": {
       "model_id": "",
       "version_major": 2,
       "version_minor": 0
      },
      "text/plain": [
       "HBox(children=(IntProgress(value=0, description='Epoch 113', max=781), HTML(value='')))"
      ]
     },
     "metadata": {},
     "output_type": "display_data"
    },
    {
     "name": "stdout",
     "output_type": "stream",
     "text": [
      "781/781 [==============================] - 27s 35ms/step - loss: 0.6856 - acc: 0.7718 - val_loss: 0.6178 - val_acc: 0.8043\n",
      "\n",
      "Epoch 00114: val_loss did not improve from 0.54654\n",
      "Epoch 115/200\n"
     ]
    },
    {
     "data": {
      "application/vnd.jupyter.widget-view+json": {
       "model_id": "",
       "version_major": 2,
       "version_minor": 0
      },
      "text/plain": [
       "HBox(children=(IntProgress(value=0, description='Epoch 114', max=781), HTML(value='')))"
      ]
     },
     "metadata": {},
     "output_type": "display_data"
    },
    {
     "name": "stdout",
     "output_type": "stream",
     "text": [
      "781/781 [==============================] - 27s 34ms/step - loss: 0.6827 - acc: 0.7725 - val_loss: 0.6179 - val_acc: 0.7933\n",
      "\n",
      "Epoch 00115: val_loss did not improve from 0.54654\n",
      "Epoch 116/200\n"
     ]
    },
    {
     "data": {
      "application/vnd.jupyter.widget-view+json": {
       "model_id": "",
       "version_major": 2,
       "version_minor": 0
      },
      "text/plain": [
       "HBox(children=(IntProgress(value=0, description='Epoch 115', max=781), HTML(value='')))"
      ]
     },
     "metadata": {},
     "output_type": "display_data"
    },
    {
     "name": "stdout",
     "output_type": "stream",
     "text": [
      "781/781 [==============================] - 27s 34ms/step - loss: 0.6879 - acc: 0.7698 - val_loss: 0.6239 - val_acc: 0.7960\n",
      "\n",
      "Epoch 00116: val_loss did not improve from 0.54654\n",
      "Epoch 117/200\n"
     ]
    },
    {
     "data": {
      "application/vnd.jupyter.widget-view+json": {
       "model_id": "",
       "version_major": 2,
       "version_minor": 0
      },
      "text/plain": [
       "HBox(children=(IntProgress(value=0, description='Epoch 116', max=781), HTML(value='')))"
      ]
     },
     "metadata": {},
     "output_type": "display_data"
    },
    {
     "name": "stdout",
     "output_type": "stream",
     "text": [
      "781/781 [==============================] - 27s 34ms/step - loss: 0.6876 - acc: 0.7721 - val_loss: 0.5698 - val_acc: 0.8141\n",
      "\n",
      "Epoch 00117: val_loss did not improve from 0.54654\n",
      "Epoch 118/200\n"
     ]
    },
    {
     "data": {
      "application/vnd.jupyter.widget-view+json": {
       "model_id": "",
       "version_major": 2,
       "version_minor": 0
      },
      "text/plain": [
       "HBox(children=(IntProgress(value=0, description='Epoch 117', max=781), HTML(value='')))"
      ]
     },
     "metadata": {},
     "output_type": "display_data"
    },
    {
     "name": "stdout",
     "output_type": "stream",
     "text": [
      "781/781 [==============================] - 27s 34ms/step - loss: 0.6869 - acc: 0.7734 - val_loss: 0.5941 - val_acc: 0.8023\n",
      "\n",
      "Epoch 00118: val_loss did not improve from 0.54654\n",
      "Epoch 119/200\n"
     ]
    },
    {
     "data": {
      "application/vnd.jupyter.widget-view+json": {
       "model_id": "",
       "version_major": 2,
       "version_minor": 0
      },
      "text/plain": [
       "HBox(children=(IntProgress(value=0, description='Epoch 118', max=781), HTML(value='')))"
      ]
     },
     "metadata": {},
     "output_type": "display_data"
    },
    {
     "name": "stdout",
     "output_type": "stream",
     "text": [
      "781/781 [==============================] - 27s 34ms/step - loss: 0.6858 - acc: 0.7717 - val_loss: 0.5717 - val_acc: 0.8133\n",
      "\n",
      "Epoch 00119: val_loss did not improve from 0.54654\n",
      "Epoch 120/200\n"
     ]
    },
    {
     "data": {
      "application/vnd.jupyter.widget-view+json": {
       "model_id": "",
       "version_major": 2,
       "version_minor": 0
      },
      "text/plain": [
       "HBox(children=(IntProgress(value=0, description='Epoch 119', max=781), HTML(value='')))"
      ]
     },
     "metadata": {},
     "output_type": "display_data"
    },
    {
     "name": "stdout",
     "output_type": "stream",
     "text": [
      "781/781 [==============================] - 26s 34ms/step - loss: 0.6835 - acc: 0.7722 - val_loss: 0.5762 - val_acc: 0.8038\n",
      "\n",
      "Epoch 00120: val_loss did not improve from 0.54654\n",
      "Epoch 121/200\n"
     ]
    },
    {
     "data": {
      "application/vnd.jupyter.widget-view+json": {
       "model_id": "",
       "version_major": 2,
       "version_minor": 0
      },
      "text/plain": [
       "HBox(children=(IntProgress(value=0, description='Epoch 120', max=781), HTML(value='')))"
      ]
     },
     "metadata": {},
     "output_type": "display_data"
    },
    {
     "name": "stdout",
     "output_type": "stream",
     "text": [
      "781/781 [==============================] - 25s 33ms/step - loss: 0.6885 - acc: 0.7705 - val_loss: 0.5497 - val_acc: 0.8147\n",
      "\n",
      "Epoch 00121: val_loss did not improve from 0.54654\n",
      "Epoch 122/200\n"
     ]
    },
    {
     "data": {
      "application/vnd.jupyter.widget-view+json": {
       "model_id": "",
       "version_major": 2,
       "version_minor": 0
      },
      "text/plain": [
       "HBox(children=(IntProgress(value=0, description='Epoch 121', max=781), HTML(value='')))"
      ]
     },
     "metadata": {},
     "output_type": "display_data"
    },
    {
     "name": "stdout",
     "output_type": "stream",
     "text": [
      "781/781 [==============================] - 26s 33ms/step - loss: 0.6860 - acc: 0.7723 - val_loss: 0.5609 - val_acc: 0.8099\n",
      "\n",
      "Epoch 00122: val_loss did not improve from 0.54654\n",
      "Epoch 123/200\n"
     ]
    },
    {
     "data": {
      "application/vnd.jupyter.widget-view+json": {
       "model_id": "",
       "version_major": 2,
       "version_minor": 0
      },
      "text/plain": [
       "HBox(children=(IntProgress(value=0, description='Epoch 122', max=781), HTML(value='')))"
      ]
     },
     "metadata": {},
     "output_type": "display_data"
    },
    {
     "name": "stdout",
     "output_type": "stream",
     "text": [
      "781/781 [==============================] - 25s 33ms/step - loss: 0.6876 - acc: 0.7715 - val_loss: 0.5880 - val_acc: 0.8036\n",
      "\n",
      "Epoch 00123: val_loss did not improve from 0.54654\n",
      "Epoch 124/200\n"
     ]
    },
    {
     "data": {
      "application/vnd.jupyter.widget-view+json": {
       "model_id": "",
       "version_major": 2,
       "version_minor": 0
      },
      "text/plain": [
       "HBox(children=(IntProgress(value=0, description='Epoch 123', max=781), HTML(value='')))"
      ]
     },
     "metadata": {},
     "output_type": "display_data"
    },
    {
     "name": "stdout",
     "output_type": "stream",
     "text": [
      "781/781 [==============================] - 25s 33ms/step - loss: 0.6793 - acc: 0.7742 - val_loss: 0.5656 - val_acc: 0.8101\n",
      "\n",
      "Epoch 00124: val_loss did not improve from 0.54654\n",
      "Epoch 125/200\n"
     ]
    },
    {
     "data": {
      "application/vnd.jupyter.widget-view+json": {
       "model_id": "",
       "version_major": 2,
       "version_minor": 0
      },
      "text/plain": [
       "HBox(children=(IntProgress(value=0, description='Epoch 124', max=781), HTML(value='')))"
      ]
     },
     "metadata": {},
     "output_type": "display_data"
    },
    {
     "name": "stdout",
     "output_type": "stream",
     "text": [
      "781/781 [==============================] - 25s 33ms/step - loss: 0.6856 - acc: 0.7699 - val_loss: 0.6058 - val_acc: 0.8061\n",
      "\n",
      "Epoch 00125: val_loss did not improve from 0.54654\n",
      "Epoch 126/200\n"
     ]
    },
    {
     "data": {
      "application/vnd.jupyter.widget-view+json": {
       "model_id": "",
       "version_major": 2,
       "version_minor": 0
      },
      "text/plain": [
       "HBox(children=(IntProgress(value=0, description='Epoch 125', max=781), HTML(value='')))"
      ]
     },
     "metadata": {},
     "output_type": "display_data"
    },
    {
     "name": "stdout",
     "output_type": "stream",
     "text": [
      "781/781 [==============================] - 25s 33ms/step - loss: 0.6912 - acc: 0.7707 - val_loss: 0.6050 - val_acc: 0.8013\n",
      "\n",
      "Epoch 00126: val_loss did not improve from 0.54654\n",
      "Epoch 127/200\n"
     ]
    },
    {
     "data": {
      "application/vnd.jupyter.widget-view+json": {
       "model_id": "",
       "version_major": 2,
       "version_minor": 0
      },
      "text/plain": [
       "HBox(children=(IntProgress(value=0, description='Epoch 126', max=781), HTML(value='')))"
      ]
     },
     "metadata": {},
     "output_type": "display_data"
    },
    {
     "name": "stdout",
     "output_type": "stream",
     "text": [
      "781/781 [==============================] - 25s 32ms/step - loss: 0.6814 - acc: 0.7723 - val_loss: 0.5519 - val_acc: 0.8177\n",
      "\n",
      "Epoch 00127: val_loss did not improve from 0.54654\n",
      "Epoch 128/200\n"
     ]
    },
    {
     "data": {
      "application/vnd.jupyter.widget-view+json": {
       "model_id": "",
       "version_major": 2,
       "version_minor": 0
      },
      "text/plain": [
       "HBox(children=(IntProgress(value=0, description='Epoch 127', max=781), HTML(value='')))"
      ]
     },
     "metadata": {},
     "output_type": "display_data"
    },
    {
     "name": "stdout",
     "output_type": "stream",
     "text": [
      "781/781 [==============================] - 26s 33ms/step - loss: 0.6878 - acc: 0.7727 - val_loss: 0.5645 - val_acc: 0.8107\n",
      "\n",
      "Epoch 00128: val_loss did not improve from 0.54654\n",
      "Epoch 129/200\n"
     ]
    },
    {
     "data": {
      "application/vnd.jupyter.widget-view+json": {
       "model_id": "",
       "version_major": 2,
       "version_minor": 0
      },
      "text/plain": [
       "HBox(children=(IntProgress(value=0, description='Epoch 128', max=781), HTML(value='')))"
      ]
     },
     "metadata": {},
     "output_type": "display_data"
    },
    {
     "name": "stdout",
     "output_type": "stream",
     "text": [
      "781/781 [==============================] - 25s 32ms/step - loss: 0.6815 - acc: 0.7737 - val_loss: 0.5701 - val_acc: 0.8100\n",
      "\n",
      "Epoch 00129: val_loss did not improve from 0.54654\n",
      "Epoch 130/200\n"
     ]
    },
    {
     "data": {
      "application/vnd.jupyter.widget-view+json": {
       "model_id": "",
       "version_major": 2,
       "version_minor": 0
      },
      "text/plain": [
       "HBox(children=(IntProgress(value=0, description='Epoch 129', max=781), HTML(value='')))"
      ]
     },
     "metadata": {},
     "output_type": "display_data"
    },
    {
     "name": "stdout",
     "output_type": "stream",
     "text": [
      "781/781 [==============================] - 25s 33ms/step - loss: 0.6855 - acc: 0.7723 - val_loss: 0.5712 - val_acc: 0.8128\n",
      "\n",
      "Epoch 00130: val_loss did not improve from 0.54654\n",
      "Epoch 131/200\n"
     ]
    },
    {
     "data": {
      "application/vnd.jupyter.widget-view+json": {
       "model_id": "",
       "version_major": 2,
       "version_minor": 0
      },
      "text/plain": [
       "HBox(children=(IntProgress(value=0, description='Epoch 130', max=781), HTML(value='')))"
      ]
     },
     "metadata": {},
     "output_type": "display_data"
    },
    {
     "name": "stdout",
     "output_type": "stream",
     "text": [
      "781/781 [==============================] - 25s 32ms/step - loss: 0.6782 - acc: 0.7759 - val_loss: 0.5547 - val_acc: 0.8193\n",
      "\n",
      "Epoch 00131: val_loss did not improve from 0.54654\n",
      "Epoch 132/200\n"
     ]
    },
    {
     "data": {
      "application/vnd.jupyter.widget-view+json": {
       "model_id": "",
       "version_major": 2,
       "version_minor": 0
      },
      "text/plain": [
       "HBox(children=(IntProgress(value=0, description='Epoch 131', max=781), HTML(value='')))"
      ]
     },
     "metadata": {},
     "output_type": "display_data"
    },
    {
     "name": "stdout",
     "output_type": "stream",
     "text": [
      "781/781 [==============================] - 25s 32ms/step - loss: 0.6824 - acc: 0.7727 - val_loss: 0.5621 - val_acc: 0.8154\n",
      "\n",
      "Epoch 00132: val_loss did not improve from 0.54654\n",
      "Epoch 133/200\n"
     ]
    },
    {
     "data": {
      "application/vnd.jupyter.widget-view+json": {
       "model_id": "",
       "version_major": 2,
       "version_minor": 0
      },
      "text/plain": [
       "HBox(children=(IntProgress(value=0, description='Epoch 132', max=781), HTML(value='')))"
      ]
     },
     "metadata": {},
     "output_type": "display_data"
    },
    {
     "name": "stdout",
     "output_type": "stream",
     "text": [
      "781/781 [==============================] - 25s 32ms/step - loss: 0.5910 - acc: 0.8012 - val_loss: 0.5329 - val_acc: 0.8253\n",
      "\n",
      "Epoch 00133: val_loss improved from 0.54654 to 0.53290, saving model to model_checkpoint_cifar110_vgg8_pn_0.2.h5\n",
      "Epoch 134/200\n"
     ]
    },
    {
     "data": {
      "application/vnd.jupyter.widget-view+json": {
       "model_id": "",
       "version_major": 2,
       "version_minor": 0
      },
      "text/plain": [
       "HBox(children=(IntProgress(value=0, description='Epoch 133', max=781), HTML(value='')))"
      ]
     },
     "metadata": {},
     "output_type": "display_data"
    },
    {
     "name": "stdout",
     "output_type": "stream",
     "text": [
      "781/781 [==============================] - 25s 33ms/step - loss: 0.5619 - acc: 0.8098 - val_loss: 0.4833 - val_acc: 0.8393\n",
      "\n",
      "Epoch 00134: val_loss improved from 0.53290 to 0.48325, saving model to model_checkpoint_cifar110_vgg8_pn_0.2.h5\n",
      "Epoch 135/200\n"
     ]
    },
    {
     "data": {
      "application/vnd.jupyter.widget-view+json": {
       "model_id": "",
       "version_major": 2,
       "version_minor": 0
      },
      "text/plain": [
       "HBox(children=(IntProgress(value=0, description='Epoch 134', max=781), HTML(value='')))"
      ]
     },
     "metadata": {},
     "output_type": "display_data"
    },
    {
     "name": "stdout",
     "output_type": "stream",
     "text": [
      "781/781 [==============================] - 25s 32ms/step - loss: 0.5536 - acc: 0.8123 - val_loss: 0.4963 - val_acc: 0.8337\n",
      "\n",
      "Epoch 00135: val_loss did not improve from 0.48325\n",
      "Epoch 136/200\n"
     ]
    },
    {
     "data": {
      "application/vnd.jupyter.widget-view+json": {
       "model_id": "",
       "version_major": 2,
       "version_minor": 0
      },
      "text/plain": [
       "HBox(children=(IntProgress(value=0, description='Epoch 135', max=781), HTML(value='')))"
      ]
     },
     "metadata": {},
     "output_type": "display_data"
    },
    {
     "name": "stdout",
     "output_type": "stream",
     "text": [
      "781/781 [==============================] - 25s 33ms/step - loss: 0.5435 - acc: 0.8143 - val_loss: 0.4984 - val_acc: 0.8356\n",
      "\n",
      "Epoch 00136: val_loss did not improve from 0.48325\n",
      "Epoch 137/200\n"
     ]
    },
    {
     "data": {
      "application/vnd.jupyter.widget-view+json": {
       "model_id": "",
       "version_major": 2,
       "version_minor": 0
      },
      "text/plain": [
       "HBox(children=(IntProgress(value=0, description='Epoch 136', max=781), HTML(value='')))"
      ]
     },
     "metadata": {},
     "output_type": "display_data"
    },
    {
     "name": "stdout",
     "output_type": "stream",
     "text": [
      "781/781 [==============================] - 25s 33ms/step - loss: 0.5411 - acc: 0.8157 - val_loss: 0.4893 - val_acc: 0.8402\n",
      "\n",
      "Epoch 00137: val_loss did not improve from 0.48325\n",
      "Epoch 138/200\n"
     ]
    },
    {
     "data": {
      "application/vnd.jupyter.widget-view+json": {
       "model_id": "",
       "version_major": 2,
       "version_minor": 0
      },
      "text/plain": [
       "HBox(children=(IntProgress(value=0, description='Epoch 137', max=781), HTML(value='')))"
      ]
     },
     "metadata": {},
     "output_type": "display_data"
    },
    {
     "name": "stdout",
     "output_type": "stream",
     "text": [
      "781/781 [==============================] - 25s 33ms/step - loss: 0.5324 - acc: 0.8169 - val_loss: 0.4832 - val_acc: 0.8431\n",
      "\n",
      "Epoch 00138: val_loss improved from 0.48325 to 0.48315, saving model to model_checkpoint_cifar110_vgg8_pn_0.2.h5\n",
      "Epoch 139/200\n"
     ]
    },
    {
     "data": {
      "application/vnd.jupyter.widget-view+json": {
       "model_id": "",
       "version_major": 2,
       "version_minor": 0
      },
      "text/plain": [
       "HBox(children=(IntProgress(value=0, description='Epoch 138', max=781), HTML(value='')))"
      ]
     },
     "metadata": {},
     "output_type": "display_data"
    },
    {
     "name": "stdout",
     "output_type": "stream",
     "text": [
      "781/781 [==============================] - 25s 32ms/step - loss: 0.5334 - acc: 0.8182 - val_loss: 0.4937 - val_acc: 0.8351\n",
      "\n",
      "Epoch 00139: val_loss did not improve from 0.48315\n",
      "Epoch 140/200\n"
     ]
    },
    {
     "data": {
      "application/vnd.jupyter.widget-view+json": {
       "model_id": "",
       "version_major": 2,
       "version_minor": 0
      },
      "text/plain": [
       "HBox(children=(IntProgress(value=0, description='Epoch 139', max=781), HTML(value='')))"
      ]
     },
     "metadata": {},
     "output_type": "display_data"
    },
    {
     "name": "stdout",
     "output_type": "stream",
     "text": [
      "781/781 [==============================] - 25s 33ms/step - loss: 0.5252 - acc: 0.8201 - val_loss: 0.4720 - val_acc: 0.8460\n",
      "\n",
      "Epoch 00140: val_loss improved from 0.48315 to 0.47201, saving model to model_checkpoint_cifar110_vgg8_pn_0.2.h5\n",
      "Epoch 141/200\n"
     ]
    },
    {
     "data": {
      "application/vnd.jupyter.widget-view+json": {
       "model_id": "",
       "version_major": 2,
       "version_minor": 0
      },
      "text/plain": [
       "HBox(children=(IntProgress(value=0, description='Epoch 140', max=781), HTML(value='')))"
      ]
     },
     "metadata": {},
     "output_type": "display_data"
    },
    {
     "name": "stdout",
     "output_type": "stream",
     "text": [
      "781/781 [==============================] - 25s 32ms/step - loss: 0.5268 - acc: 0.8203 - val_loss: 0.4881 - val_acc: 0.8385\n",
      "\n",
      "Epoch 00141: val_loss did not improve from 0.47201\n",
      "Epoch 142/200\n"
     ]
    },
    {
     "data": {
      "application/vnd.jupyter.widget-view+json": {
       "model_id": "",
       "version_major": 2,
       "version_minor": 0
      },
      "text/plain": [
       "HBox(children=(IntProgress(value=0, description='Epoch 141', max=781), HTML(value='')))"
      ]
     },
     "metadata": {},
     "output_type": "display_data"
    },
    {
     "name": "stdout",
     "output_type": "stream",
     "text": [
      "781/781 [==============================] - 26s 33ms/step - loss: 0.5210 - acc: 0.8225 - val_loss: 0.4867 - val_acc: 0.8399\n",
      "\n",
      "Epoch 00142: val_loss did not improve from 0.47201\n",
      "Epoch 143/200\n"
     ]
    },
    {
     "data": {
      "application/vnd.jupyter.widget-view+json": {
       "model_id": "",
       "version_major": 2,
       "version_minor": 0
      },
      "text/plain": [
       "HBox(children=(IntProgress(value=0, description='Epoch 142', max=781), HTML(value='')))"
      ]
     },
     "metadata": {},
     "output_type": "display_data"
    },
    {
     "name": "stdout",
     "output_type": "stream",
     "text": [
      "781/781 [==============================] - 25s 32ms/step - loss: 0.5183 - acc: 0.8233 - val_loss: 0.4724 - val_acc: 0.8438\n",
      "\n",
      "Epoch 00143: val_loss did not improve from 0.47201\n",
      "Epoch 144/200\n"
     ]
    },
    {
     "data": {
      "application/vnd.jupyter.widget-view+json": {
       "model_id": "",
       "version_major": 2,
       "version_minor": 0
      },
      "text/plain": [
       "HBox(children=(IntProgress(value=0, description='Epoch 143', max=781), HTML(value='')))"
      ]
     },
     "metadata": {},
     "output_type": "display_data"
    },
    {
     "name": "stdout",
     "output_type": "stream",
     "text": [
      "781/781 [==============================] - 25s 32ms/step - loss: 0.5190 - acc: 0.8240 - val_loss: 0.4734 - val_acc: 0.8438\n",
      "\n",
      "Epoch 00144: val_loss did not improve from 0.47201\n",
      "Epoch 145/200\n"
     ]
    },
    {
     "data": {
      "application/vnd.jupyter.widget-view+json": {
       "model_id": "",
       "version_major": 2,
       "version_minor": 0
      },
      "text/plain": [
       "HBox(children=(IntProgress(value=0, description='Epoch 144', max=781), HTML(value='')))"
      ]
     },
     "metadata": {},
     "output_type": "display_data"
    },
    {
     "name": "stdout",
     "output_type": "stream",
     "text": [
      "781/781 [==============================] - 25s 33ms/step - loss: 0.5160 - acc: 0.8238 - val_loss: 0.4732 - val_acc: 0.8465\n",
      "\n",
      "Epoch 00145: val_loss did not improve from 0.47201\n",
      "Epoch 146/200\n"
     ]
    },
    {
     "data": {
      "application/vnd.jupyter.widget-view+json": {
       "model_id": "",
       "version_major": 2,
       "version_minor": 0
      },
      "text/plain": [
       "HBox(children=(IntProgress(value=0, description='Epoch 145', max=781), HTML(value='')))"
      ]
     },
     "metadata": {},
     "output_type": "display_data"
    },
    {
     "name": "stdout",
     "output_type": "stream",
     "text": [
      "781/781 [==============================] - 25s 33ms/step - loss: 0.5145 - acc: 0.8240 - val_loss: 0.4851 - val_acc: 0.8395\n",
      "\n",
      "Epoch 00146: val_loss did not improve from 0.47201\n",
      "Epoch 147/200\n"
     ]
    },
    {
     "data": {
      "application/vnd.jupyter.widget-view+json": {
       "model_id": "",
       "version_major": 2,
       "version_minor": 0
      },
      "text/plain": [
       "HBox(children=(IntProgress(value=0, description='Epoch 146', max=781), HTML(value='')))"
      ]
     },
     "metadata": {},
     "output_type": "display_data"
    },
    {
     "name": "stdout",
     "output_type": "stream",
     "text": [
      "781/781 [==============================] - 25s 32ms/step - loss: 0.5130 - acc: 0.8230 - val_loss: 0.4727 - val_acc: 0.8448\n",
      "\n",
      "Epoch 00147: val_loss did not improve from 0.47201\n",
      "Epoch 148/200\n"
     ]
    },
    {
     "data": {
      "application/vnd.jupyter.widget-view+json": {
       "model_id": "",
       "version_major": 2,
       "version_minor": 0
      },
      "text/plain": [
       "HBox(children=(IntProgress(value=0, description='Epoch 147', max=781), HTML(value='')))"
      ]
     },
     "metadata": {},
     "output_type": "display_data"
    },
    {
     "name": "stdout",
     "output_type": "stream",
     "text": [
      "781/781 [==============================] - 25s 32ms/step - loss: 0.5072 - acc: 0.8260 - val_loss: 0.4767 - val_acc: 0.8426\n",
      "\n",
      "Epoch 00148: val_loss did not improve from 0.47201\n",
      "Epoch 149/200\n"
     ]
    },
    {
     "data": {
      "application/vnd.jupyter.widget-view+json": {
       "model_id": "",
       "version_major": 2,
       "version_minor": 0
      },
      "text/plain": [
       "HBox(children=(IntProgress(value=0, description='Epoch 148', max=781), HTML(value='')))"
      ]
     },
     "metadata": {},
     "output_type": "display_data"
    },
    {
     "name": "stdout",
     "output_type": "stream",
     "text": [
      "781/781 [==============================] - 25s 32ms/step - loss: 0.5093 - acc: 0.8253 - val_loss: 0.4739 - val_acc: 0.8440\n",
      "\n",
      "Epoch 00149: val_loss did not improve from 0.47201\n",
      "Epoch 150/200\n"
     ]
    },
    {
     "data": {
      "application/vnd.jupyter.widget-view+json": {
       "model_id": "",
       "version_major": 2,
       "version_minor": 0
      },
      "text/plain": [
       "HBox(children=(IntProgress(value=0, description='Epoch 149', max=781), HTML(value='')))"
      ]
     },
     "metadata": {},
     "output_type": "display_data"
    },
    {
     "name": "stdout",
     "output_type": "stream",
     "text": [
      "781/781 [==============================] - 26s 33ms/step - loss: 0.5052 - acc: 0.8279 - val_loss: 0.4964 - val_acc: 0.8367\n",
      "\n",
      "Epoch 00150: val_loss did not improve from 0.47201\n",
      "Epoch 151/200\n"
     ]
    },
    {
     "data": {
      "application/vnd.jupyter.widget-view+json": {
       "model_id": "",
       "version_major": 2,
       "version_minor": 0
      },
      "text/plain": [
       "HBox(children=(IntProgress(value=0, description='Epoch 150', max=781), HTML(value='')))"
      ]
     },
     "metadata": {},
     "output_type": "display_data"
    },
    {
     "name": "stdout",
     "output_type": "stream",
     "text": [
      "781/781 [==============================] - 25s 32ms/step - loss: 0.5044 - acc: 0.8268 - val_loss: 0.4649 - val_acc: 0.8471\n",
      "\n",
      "Epoch 00151: val_loss improved from 0.47201 to 0.46491, saving model to model_checkpoint_cifar110_vgg8_pn_0.2.h5\n",
      "Epoch 152/200\n"
     ]
    },
    {
     "data": {
      "application/vnd.jupyter.widget-view+json": {
       "model_id": "",
       "version_major": 2,
       "version_minor": 0
      },
      "text/plain": [
       "HBox(children=(IntProgress(value=0, description='Epoch 151', max=781), HTML(value='')))"
      ]
     },
     "metadata": {},
     "output_type": "display_data"
    },
    {
     "name": "stdout",
     "output_type": "stream",
     "text": [
      "781/781 [==============================] - 25s 32ms/step - loss: 0.5042 - acc: 0.8277 - val_loss: 0.5037 - val_acc: 0.8354\n",
      "\n",
      "Epoch 00152: val_loss did not improve from 0.46491\n",
      "Epoch 153/200\n"
     ]
    },
    {
     "data": {
      "application/vnd.jupyter.widget-view+json": {
       "model_id": "",
       "version_major": 2,
       "version_minor": 0
      },
      "text/plain": [
       "HBox(children=(IntProgress(value=0, description='Epoch 152', max=781), HTML(value='')))"
      ]
     },
     "metadata": {},
     "output_type": "display_data"
    },
    {
     "name": "stdout",
     "output_type": "stream",
     "text": [
      "781/781 [==============================] - 25s 32ms/step - loss: 0.5047 - acc: 0.8263 - val_loss: 0.5045 - val_acc: 0.8396\n",
      "\n",
      "Epoch 00153: val_loss did not improve from 0.46491\n",
      "Epoch 154/200\n"
     ]
    },
    {
     "data": {
      "application/vnd.jupyter.widget-view+json": {
       "model_id": "",
       "version_major": 2,
       "version_minor": 0
      },
      "text/plain": [
       "HBox(children=(IntProgress(value=0, description='Epoch 153', max=781), HTML(value='')))"
      ]
     },
     "metadata": {},
     "output_type": "display_data"
    },
    {
     "name": "stdout",
     "output_type": "stream",
     "text": [
      "781/781 [==============================] - 25s 32ms/step - loss: 0.5038 - acc: 0.8279 - val_loss: 0.4684 - val_acc: 0.8437\n",
      "\n",
      "Epoch 00154: val_loss did not improve from 0.46491\n",
      "Epoch 155/200\n"
     ]
    },
    {
     "data": {
      "application/vnd.jupyter.widget-view+json": {
       "model_id": "",
       "version_major": 2,
       "version_minor": 0
      },
      "text/plain": [
       "HBox(children=(IntProgress(value=0, description='Epoch 154', max=781), HTML(value='')))"
      ]
     },
     "metadata": {},
     "output_type": "display_data"
    },
    {
     "name": "stdout",
     "output_type": "stream",
     "text": [
      "781/781 [==============================] - 26s 33ms/step - loss: 0.5003 - acc: 0.8291 - val_loss: 0.4607 - val_acc: 0.8492\n",
      "\n",
      "Epoch 00155: val_loss improved from 0.46491 to 0.46067, saving model to model_checkpoint_cifar110_vgg8_pn_0.2.h5\n",
      "Epoch 156/200\n"
     ]
    },
    {
     "data": {
      "application/vnd.jupyter.widget-view+json": {
       "model_id": "",
       "version_major": 2,
       "version_minor": 0
      },
      "text/plain": [
       "HBox(children=(IntProgress(value=0, description='Epoch 155', max=781), HTML(value='')))"
      ]
     },
     "metadata": {},
     "output_type": "display_data"
    },
    {
     "name": "stdout",
     "output_type": "stream",
     "text": [
      "781/781 [==============================] - 25s 32ms/step - loss: 0.4967 - acc: 0.8299 - val_loss: 0.4705 - val_acc: 0.8431\n",
      "\n",
      "Epoch 00156: val_loss did not improve from 0.46067\n",
      "Epoch 157/200\n"
     ]
    },
    {
     "data": {
      "application/vnd.jupyter.widget-view+json": {
       "model_id": "",
       "version_major": 2,
       "version_minor": 0
      },
      "text/plain": [
       "HBox(children=(IntProgress(value=0, description='Epoch 156', max=781), HTML(value='')))"
      ]
     },
     "metadata": {},
     "output_type": "display_data"
    },
    {
     "name": "stdout",
     "output_type": "stream",
     "text": [
      "781/781 [==============================] - 25s 32ms/step - loss: 0.4954 - acc: 0.8292 - val_loss: 0.4647 - val_acc: 0.8469\n",
      "\n",
      "Epoch 00157: val_loss did not improve from 0.46067\n",
      "Epoch 158/200\n"
     ]
    },
    {
     "data": {
      "application/vnd.jupyter.widget-view+json": {
       "model_id": "",
       "version_major": 2,
       "version_minor": 0
      },
      "text/plain": [
       "HBox(children=(IntProgress(value=0, description='Epoch 157', max=781), HTML(value='')))"
      ]
     },
     "metadata": {},
     "output_type": "display_data"
    },
    {
     "name": "stdout",
     "output_type": "stream",
     "text": [
      "781/781 [==============================] - 25s 33ms/step - loss: 0.4990 - acc: 0.8312 - val_loss: 0.4692 - val_acc: 0.8464\n",
      "\n",
      "Epoch 00158: val_loss did not improve from 0.46067\n",
      "Epoch 159/200\n"
     ]
    },
    {
     "data": {
      "application/vnd.jupyter.widget-view+json": {
       "model_id": "",
       "version_major": 2,
       "version_minor": 0
      },
      "text/plain": [
       "HBox(children=(IntProgress(value=0, description='Epoch 158', max=781), HTML(value='')))"
      ]
     },
     "metadata": {},
     "output_type": "display_data"
    },
    {
     "name": "stdout",
     "output_type": "stream",
     "text": [
      "781/781 [==============================] - 25s 32ms/step - loss: 0.4967 - acc: 0.8294 - val_loss: 0.4604 - val_acc: 0.8496\n",
      "\n",
      "Epoch 00159: val_loss improved from 0.46067 to 0.46044, saving model to model_checkpoint_cifar110_vgg8_pn_0.2.h5\n",
      "Epoch 160/200\n"
     ]
    },
    {
     "data": {
      "application/vnd.jupyter.widget-view+json": {
       "model_id": "",
       "version_major": 2,
       "version_minor": 0
      },
      "text/plain": [
       "HBox(children=(IntProgress(value=0, description='Epoch 159', max=781), HTML(value='')))"
      ]
     },
     "metadata": {},
     "output_type": "display_data"
    },
    {
     "name": "stdout",
     "output_type": "stream",
     "text": [
      "781/781 [==============================] - 25s 32ms/step - loss: 0.4929 - acc: 0.8307 - val_loss: 0.4705 - val_acc: 0.8465\n",
      "\n",
      "Epoch 00160: val_loss did not improve from 0.46044\n",
      "Epoch 161/200\n"
     ]
    },
    {
     "data": {
      "application/vnd.jupyter.widget-view+json": {
       "model_id": "",
       "version_major": 2,
       "version_minor": 0
      },
      "text/plain": [
       "HBox(children=(IntProgress(value=0, description='Epoch 160', max=781), HTML(value='')))"
      ]
     },
     "metadata": {},
     "output_type": "display_data"
    },
    {
     "name": "stdout",
     "output_type": "stream",
     "text": [
      "781/781 [==============================] - 25s 32ms/step - loss: 0.4892 - acc: 0.8325 - val_loss: 0.4492 - val_acc: 0.8526\n",
      "\n",
      "Epoch 00161: val_loss improved from 0.46044 to 0.44922, saving model to model_checkpoint_cifar110_vgg8_pn_0.2.h5\n",
      "Epoch 162/200\n"
     ]
    },
    {
     "data": {
      "application/vnd.jupyter.widget-view+json": {
       "model_id": "",
       "version_major": 2,
       "version_minor": 0
      },
      "text/plain": [
       "HBox(children=(IntProgress(value=0, description='Epoch 161', max=781), HTML(value='')))"
      ]
     },
     "metadata": {},
     "output_type": "display_data"
    },
    {
     "name": "stdout",
     "output_type": "stream",
     "text": [
      "781/781 [==============================] - 25s 32ms/step - loss: 0.4925 - acc: 0.8320 - val_loss: 0.4831 - val_acc: 0.8413\n",
      "\n",
      "Epoch 00162: val_loss did not improve from 0.44922\n",
      "Epoch 163/200\n"
     ]
    },
    {
     "data": {
      "application/vnd.jupyter.widget-view+json": {
       "model_id": "",
       "version_major": 2,
       "version_minor": 0
      },
      "text/plain": [
       "HBox(children=(IntProgress(value=0, description='Epoch 162', max=781), HTML(value='')))"
      ]
     },
     "metadata": {},
     "output_type": "display_data"
    },
    {
     "name": "stdout",
     "output_type": "stream",
     "text": [
      "781/781 [==============================] - 25s 32ms/step - loss: 0.4871 - acc: 0.8330 - val_loss: 0.4477 - val_acc: 0.8519\n",
      "\n",
      "Epoch 00163: val_loss improved from 0.44922 to 0.44774, saving model to model_checkpoint_cifar110_vgg8_pn_0.2.h5\n",
      "Epoch 164/200\n"
     ]
    },
    {
     "data": {
      "application/vnd.jupyter.widget-view+json": {
       "model_id": "",
       "version_major": 2,
       "version_minor": 0
      },
      "text/plain": [
       "HBox(children=(IntProgress(value=0, description='Epoch 163', max=781), HTML(value='')))"
      ]
     },
     "metadata": {},
     "output_type": "display_data"
    },
    {
     "name": "stdout",
     "output_type": "stream",
     "text": [
      "781/781 [==============================] - 25s 32ms/step - loss: 0.4938 - acc: 0.8315 - val_loss: 0.4702 - val_acc: 0.8468\n",
      "\n",
      "Epoch 00164: val_loss did not improve from 0.44774\n",
      "Epoch 165/200\n"
     ]
    },
    {
     "data": {
      "application/vnd.jupyter.widget-view+json": {
       "model_id": "",
       "version_major": 2,
       "version_minor": 0
      },
      "text/plain": [
       "HBox(children=(IntProgress(value=0, description='Epoch 164', max=781), HTML(value='')))"
      ]
     },
     "metadata": {},
     "output_type": "display_data"
    },
    {
     "name": "stdout",
     "output_type": "stream",
     "text": [
      "781/781 [==============================] - 25s 32ms/step - loss: 0.4901 - acc: 0.8320 - val_loss: 0.4556 - val_acc: 0.8496\n",
      "\n",
      "Epoch 00165: val_loss did not improve from 0.44774\n",
      "Epoch 166/200\n"
     ]
    },
    {
     "data": {
      "application/vnd.jupyter.widget-view+json": {
       "model_id": "",
       "version_major": 2,
       "version_minor": 0
      },
      "text/plain": [
       "HBox(children=(IntProgress(value=0, description='Epoch 165', max=781), HTML(value='')))"
      ]
     },
     "metadata": {},
     "output_type": "display_data"
    },
    {
     "name": "stdout",
     "output_type": "stream",
     "text": [
      "781/781 [==============================] - 25s 32ms/step - loss: 0.4854 - acc: 0.8332 - val_loss: 0.4606 - val_acc: 0.8503\n",
      "\n",
      "Epoch 00166: val_loss did not improve from 0.44774\n",
      "Epoch 167/200\n"
     ]
    },
    {
     "data": {
      "application/vnd.jupyter.widget-view+json": {
       "model_id": "",
       "version_major": 2,
       "version_minor": 0
      },
      "text/plain": [
       "HBox(children=(IntProgress(value=0, description='Epoch 166', max=781), HTML(value='')))"
      ]
     },
     "metadata": {},
     "output_type": "display_data"
    },
    {
     "name": "stdout",
     "output_type": "stream",
     "text": [
      "781/781 [==============================] - 25s 32ms/step - loss: 0.4861 - acc: 0.8337 - val_loss: 0.4711 - val_acc: 0.8487\n",
      "\n",
      "Epoch 00167: val_loss did not improve from 0.44774\n",
      "Epoch 168/200\n"
     ]
    },
    {
     "data": {
      "application/vnd.jupyter.widget-view+json": {
       "model_id": "",
       "version_major": 2,
       "version_minor": 0
      },
      "text/plain": [
       "HBox(children=(IntProgress(value=0, description='Epoch 167', max=781), HTML(value='')))"
      ]
     },
     "metadata": {},
     "output_type": "display_data"
    },
    {
     "name": "stdout",
     "output_type": "stream",
     "text": [
      "781/781 [==============================] - 25s 32ms/step - loss: 0.4840 - acc: 0.8328 - val_loss: 0.4561 - val_acc: 0.8520\n",
      "\n",
      "Epoch 00168: val_loss did not improve from 0.44774\n",
      "Epoch 169/200\n"
     ]
    },
    {
     "data": {
      "application/vnd.jupyter.widget-view+json": {
       "model_id": "",
       "version_major": 2,
       "version_minor": 0
      },
      "text/plain": [
       "HBox(children=(IntProgress(value=0, description='Epoch 168', max=781), HTML(value='')))"
      ]
     },
     "metadata": {},
     "output_type": "display_data"
    },
    {
     "name": "stdout",
     "output_type": "stream",
     "text": [
      "781/781 [==============================] - 25s 32ms/step - loss: 0.4837 - acc: 0.8335 - val_loss: 0.4706 - val_acc: 0.8478\n",
      "\n",
      "Epoch 00169: val_loss did not improve from 0.44774\n",
      "Epoch 170/200\n"
     ]
    },
    {
     "data": {
      "application/vnd.jupyter.widget-view+json": {
       "model_id": "",
       "version_major": 2,
       "version_minor": 0
      },
      "text/plain": [
       "HBox(children=(IntProgress(value=0, description='Epoch 169', max=781), HTML(value='')))"
      ]
     },
     "metadata": {},
     "output_type": "display_data"
    },
    {
     "name": "stdout",
     "output_type": "stream",
     "text": [
      "781/781 [==============================] - 25s 33ms/step - loss: 0.4834 - acc: 0.8343 - val_loss: 0.4518 - val_acc: 0.8516\n",
      "\n",
      "Epoch 00170: val_loss did not improve from 0.44774\n",
      "Epoch 171/200\n"
     ]
    },
    {
     "data": {
      "application/vnd.jupyter.widget-view+json": {
       "model_id": "",
       "version_major": 2,
       "version_minor": 0
      },
      "text/plain": [
       "HBox(children=(IntProgress(value=0, description='Epoch 170', max=781), HTML(value='')))"
      ]
     },
     "metadata": {},
     "output_type": "display_data"
    },
    {
     "name": "stdout",
     "output_type": "stream",
     "text": [
      "781/781 [==============================] - 25s 32ms/step - loss: 0.4867 - acc: 0.8323 - val_loss: 0.4577 - val_acc: 0.8478\n",
      "\n",
      "Epoch 00171: val_loss did not improve from 0.44774\n",
      "Epoch 172/200\n"
     ]
    },
    {
     "data": {
      "application/vnd.jupyter.widget-view+json": {
       "model_id": "",
       "version_major": 2,
       "version_minor": 0
      },
      "text/plain": [
       "HBox(children=(IntProgress(value=0, description='Epoch 171', max=781), HTML(value='')))"
      ]
     },
     "metadata": {},
     "output_type": "display_data"
    },
    {
     "name": "stdout",
     "output_type": "stream",
     "text": [
      "781/781 [==============================] - 25s 32ms/step - loss: 0.4782 - acc: 0.8362 - val_loss: 0.4576 - val_acc: 0.8495\n",
      "\n",
      "Epoch 00172: val_loss did not improve from 0.44774\n",
      "Epoch 173/200\n"
     ]
    },
    {
     "data": {
      "application/vnd.jupyter.widget-view+json": {
       "model_id": "",
       "version_major": 2,
       "version_minor": 0
      },
      "text/plain": [
       "HBox(children=(IntProgress(value=0, description='Epoch 172', max=781), HTML(value='')))"
      ]
     },
     "metadata": {},
     "output_type": "display_data"
    },
    {
     "name": "stdout",
     "output_type": "stream",
     "text": [
      "781/781 [==============================] - 25s 33ms/step - loss: 0.4778 - acc: 0.8350 - val_loss: 0.4493 - val_acc: 0.8529\n",
      "\n",
      "Epoch 00173: val_loss did not improve from 0.44774\n",
      "Epoch 174/200\n"
     ]
    },
    {
     "data": {
      "application/vnd.jupyter.widget-view+json": {
       "model_id": "",
       "version_major": 2,
       "version_minor": 0
      },
      "text/plain": [
       "HBox(children=(IntProgress(value=0, description='Epoch 173', max=781), HTML(value='')))"
      ]
     },
     "metadata": {},
     "output_type": "display_data"
    },
    {
     "name": "stdout",
     "output_type": "stream",
     "text": [
      "781/781 [==============================] - 25s 33ms/step - loss: 0.4813 - acc: 0.8347 - val_loss: 0.4419 - val_acc: 0.8560\n",
      "\n",
      "Epoch 00174: val_loss improved from 0.44774 to 0.44188, saving model to model_checkpoint_cifar110_vgg8_pn_0.2.h5\n",
      "Epoch 175/200\n"
     ]
    },
    {
     "data": {
      "application/vnd.jupyter.widget-view+json": {
       "model_id": "",
       "version_major": 2,
       "version_minor": 0
      },
      "text/plain": [
       "HBox(children=(IntProgress(value=0, description='Epoch 174', max=781), HTML(value='')))"
      ]
     },
     "metadata": {},
     "output_type": "display_data"
    },
    {
     "name": "stdout",
     "output_type": "stream",
     "text": [
      "781/781 [==============================] - 25s 32ms/step - loss: 0.4802 - acc: 0.8358 - val_loss: 0.4684 - val_acc: 0.8486\n",
      "\n",
      "Epoch 00175: val_loss did not improve from 0.44188\n",
      "Epoch 176/200\n"
     ]
    },
    {
     "data": {
      "application/vnd.jupyter.widget-view+json": {
       "model_id": "",
       "version_major": 2,
       "version_minor": 0
      },
      "text/plain": [
       "HBox(children=(IntProgress(value=0, description='Epoch 175', max=781), HTML(value='')))"
      ]
     },
     "metadata": {},
     "output_type": "display_data"
    },
    {
     "name": "stdout",
     "output_type": "stream",
     "text": [
      "781/781 [==============================] - 25s 32ms/step - loss: 0.4773 - acc: 0.8359 - val_loss: 0.4785 - val_acc: 0.8439\n",
      "\n",
      "Epoch 00176: val_loss did not improve from 0.44188\n",
      "Epoch 177/200\n"
     ]
    },
    {
     "data": {
      "application/vnd.jupyter.widget-view+json": {
       "model_id": "",
       "version_major": 2,
       "version_minor": 0
      },
      "text/plain": [
       "HBox(children=(IntProgress(value=0, description='Epoch 176', max=781), HTML(value='')))"
      ]
     },
     "metadata": {},
     "output_type": "display_data"
    },
    {
     "name": "stdout",
     "output_type": "stream",
     "text": [
      "781/781 [==============================] - 25s 32ms/step - loss: 0.4744 - acc: 0.8357 - val_loss: 0.4521 - val_acc: 0.8513\n",
      "\n",
      "Epoch 00177: val_loss did not improve from 0.44188\n",
      "Epoch 178/200\n"
     ]
    },
    {
     "data": {
      "application/vnd.jupyter.widget-view+json": {
       "model_id": "",
       "version_major": 2,
       "version_minor": 0
      },
      "text/plain": [
       "HBox(children=(IntProgress(value=0, description='Epoch 177', max=781), HTML(value='')))"
      ]
     },
     "metadata": {},
     "output_type": "display_data"
    },
    {
     "name": "stdout",
     "output_type": "stream",
     "text": [
      "781/781 [==============================] - 25s 33ms/step - loss: 0.4804 - acc: 0.8356 - val_loss: 0.4438 - val_acc: 0.8551\n",
      "\n",
      "Epoch 00178: val_loss did not improve from 0.44188\n",
      "Epoch 179/200\n"
     ]
    },
    {
     "data": {
      "application/vnd.jupyter.widget-view+json": {
       "model_id": "",
       "version_major": 2,
       "version_minor": 0
      },
      "text/plain": [
       "HBox(children=(IntProgress(value=0, description='Epoch 178', max=781), HTML(value='')))"
      ]
     },
     "metadata": {},
     "output_type": "display_data"
    },
    {
     "name": "stdout",
     "output_type": "stream",
     "text": [
      "781/781 [==============================] - 25s 32ms/step - loss: 0.4760 - acc: 0.8362 - val_loss: 0.4564 - val_acc: 0.8524\n",
      "\n",
      "Epoch 00179: val_loss did not improve from 0.44188\n",
      "Epoch 180/200\n"
     ]
    },
    {
     "data": {
      "application/vnd.jupyter.widget-view+json": {
       "model_id": "",
       "version_major": 2,
       "version_minor": 0
      },
      "text/plain": [
       "HBox(children=(IntProgress(value=0, description='Epoch 179', max=781), HTML(value='')))"
      ]
     },
     "metadata": {},
     "output_type": "display_data"
    },
    {
     "name": "stdout",
     "output_type": "stream",
     "text": [
      "781/781 [==============================] - 25s 32ms/step - loss: 0.4777 - acc: 0.8353 - val_loss: 0.4473 - val_acc: 0.8535\n",
      "\n",
      "Epoch 00180: val_loss did not improve from 0.44188\n",
      "Epoch 181/200\n"
     ]
    },
    {
     "data": {
      "application/vnd.jupyter.widget-view+json": {
       "model_id": "",
       "version_major": 2,
       "version_minor": 0
      },
      "text/plain": [
       "HBox(children=(IntProgress(value=0, description='Epoch 180', max=781), HTML(value='')))"
      ]
     },
     "metadata": {},
     "output_type": "display_data"
    },
    {
     "name": "stdout",
     "output_type": "stream",
     "text": [
      "781/781 [==============================] - 25s 32ms/step - loss: 0.4722 - acc: 0.8369 - val_loss: 0.4568 - val_acc: 0.8500\n",
      "\n",
      "Epoch 00181: val_loss did not improve from 0.44188\n",
      "Epoch 182/200\n"
     ]
    },
    {
     "data": {
      "application/vnd.jupyter.widget-view+json": {
       "model_id": "",
       "version_major": 2,
       "version_minor": 0
      },
      "text/plain": [
       "HBox(children=(IntProgress(value=0, description='Epoch 181', max=781), HTML(value='')))"
      ]
     },
     "metadata": {},
     "output_type": "display_data"
    },
    {
     "name": "stdout",
     "output_type": "stream",
     "text": [
      "781/781 [==============================] - 25s 32ms/step - loss: 0.4749 - acc: 0.8360 - val_loss: 0.4377 - val_acc: 0.8563\n",
      "\n",
      "Epoch 00182: val_loss improved from 0.44188 to 0.43768, saving model to model_checkpoint_cifar110_vgg8_pn_0.2.h5\n",
      "Epoch 183/200\n"
     ]
    },
    {
     "data": {
      "application/vnd.jupyter.widget-view+json": {
       "model_id": "",
       "version_major": 2,
       "version_minor": 0
      },
      "text/plain": [
       "HBox(children=(IntProgress(value=0, description='Epoch 182', max=781), HTML(value='')))"
      ]
     },
     "metadata": {},
     "output_type": "display_data"
    },
    {
     "name": "stdout",
     "output_type": "stream",
     "text": [
      "781/781 [==============================] - 25s 32ms/step - loss: 0.4718 - acc: 0.8390 - val_loss: 0.4490 - val_acc: 0.8522\n",
      "\n",
      "Epoch 00183: val_loss did not improve from 0.43768\n",
      "Epoch 184/200\n"
     ]
    },
    {
     "data": {
      "application/vnd.jupyter.widget-view+json": {
       "model_id": "",
       "version_major": 2,
       "version_minor": 0
      },
      "text/plain": [
       "HBox(children=(IntProgress(value=0, description='Epoch 183', max=781), HTML(value='')))"
      ]
     },
     "metadata": {},
     "output_type": "display_data"
    },
    {
     "name": "stdout",
     "output_type": "stream",
     "text": [
      "781/781 [==============================] - 25s 32ms/step - loss: 0.4721 - acc: 0.8370 - val_loss: 0.4635 - val_acc: 0.8482\n",
      "\n",
      "Epoch 00184: val_loss did not improve from 0.43768\n",
      "Epoch 185/200\n"
     ]
    },
    {
     "data": {
      "application/vnd.jupyter.widget-view+json": {
       "model_id": "",
       "version_major": 2,
       "version_minor": 0
      },
      "text/plain": [
       "HBox(children=(IntProgress(value=0, description='Epoch 184', max=781), HTML(value='')))"
      ]
     },
     "metadata": {},
     "output_type": "display_data"
    },
    {
     "name": "stdout",
     "output_type": "stream",
     "text": [
      "781/781 [==============================] - 25s 33ms/step - loss: 0.4730 - acc: 0.8378 - val_loss: 0.4434 - val_acc: 0.8530\n",
      "\n",
      "Epoch 00185: val_loss did not improve from 0.43768\n",
      "Epoch 186/200\n"
     ]
    },
    {
     "data": {
      "application/vnd.jupyter.widget-view+json": {
       "model_id": "",
       "version_major": 2,
       "version_minor": 0
      },
      "text/plain": [
       "HBox(children=(IntProgress(value=0, description='Epoch 185', max=781), HTML(value='')))"
      ]
     },
     "metadata": {},
     "output_type": "display_data"
    },
    {
     "name": "stdout",
     "output_type": "stream",
     "text": [
      "781/781 [==============================] - 25s 32ms/step - loss: 0.4751 - acc: 0.8375 - val_loss: 0.4554 - val_acc: 0.8495\n",
      "\n",
      "Epoch 00186: val_loss did not improve from 0.43768\n",
      "Epoch 187/200\n"
     ]
    },
    {
     "data": {
      "application/vnd.jupyter.widget-view+json": {
       "model_id": "",
       "version_major": 2,
       "version_minor": 0
      },
      "text/plain": [
       "HBox(children=(IntProgress(value=0, description='Epoch 186', max=781), HTML(value='')))"
      ]
     },
     "metadata": {},
     "output_type": "display_data"
    },
    {
     "name": "stdout",
     "output_type": "stream",
     "text": [
      "781/781 [==============================] - 25s 33ms/step - loss: 0.4685 - acc: 0.8392 - val_loss: 0.4458 - val_acc: 0.8552\n",
      "\n",
      "Epoch 00187: val_loss did not improve from 0.43768\n",
      "Epoch 188/200\n"
     ]
    },
    {
     "data": {
      "application/vnd.jupyter.widget-view+json": {
       "model_id": "",
       "version_major": 2,
       "version_minor": 0
      },
      "text/plain": [
       "HBox(children=(IntProgress(value=0, description='Epoch 187', max=781), HTML(value='')))"
      ]
     },
     "metadata": {},
     "output_type": "display_data"
    },
    {
     "name": "stdout",
     "output_type": "stream",
     "text": [
      "781/781 [==============================] - 25s 32ms/step - loss: 0.4755 - acc: 0.8369 - val_loss: 0.4689 - val_acc: 0.8486\n",
      "\n",
      "Epoch 00188: val_loss did not improve from 0.43768\n",
      "Epoch 189/200\n"
     ]
    },
    {
     "data": {
      "application/vnd.jupyter.widget-view+json": {
       "model_id": "",
       "version_major": 2,
       "version_minor": 0
      },
      "text/plain": [
       "HBox(children=(IntProgress(value=0, description='Epoch 188', max=781), HTML(value='')))"
      ]
     },
     "metadata": {},
     "output_type": "display_data"
    },
    {
     "name": "stdout",
     "output_type": "stream",
     "text": [
      "781/781 [==============================] - 25s 32ms/step - loss: 0.4677 - acc: 0.8391 - val_loss: 0.4512 - val_acc: 0.8536\n",
      "\n",
      "Epoch 00189: val_loss did not improve from 0.43768\n",
      "Epoch 190/200\n"
     ]
    },
    {
     "data": {
      "application/vnd.jupyter.widget-view+json": {
       "model_id": "",
       "version_major": 2,
       "version_minor": 0
      },
      "text/plain": [
       "HBox(children=(IntProgress(value=0, description='Epoch 189', max=781), HTML(value='')))"
      ]
     },
     "metadata": {},
     "output_type": "display_data"
    },
    {
     "name": "stdout",
     "output_type": "stream",
     "text": [
      "781/781 [==============================] - 25s 33ms/step - loss: 0.4716 - acc: 0.8381 - val_loss: 0.4588 - val_acc: 0.8482\n",
      "\n",
      "Epoch 00190: val_loss did not improve from 0.43768\n",
      "Epoch 191/200\n"
     ]
    },
    {
     "data": {
      "application/vnd.jupyter.widget-view+json": {
       "model_id": "",
       "version_major": 2,
       "version_minor": 0
      },
      "text/plain": [
       "HBox(children=(IntProgress(value=0, description='Epoch 190', max=781), HTML(value='')))"
      ]
     },
     "metadata": {},
     "output_type": "display_data"
    },
    {
     "name": "stdout",
     "output_type": "stream",
     "text": [
      "781/781 [==============================] - 25s 32ms/step - loss: 0.4668 - acc: 0.8386 - val_loss: 0.4514 - val_acc: 0.8504\n",
      "\n",
      "Epoch 00191: val_loss did not improve from 0.43768\n",
      "Epoch 192/200\n"
     ]
    },
    {
     "data": {
      "application/vnd.jupyter.widget-view+json": {
       "model_id": "",
       "version_major": 2,
       "version_minor": 0
      },
      "text/plain": [
       "HBox(children=(IntProgress(value=0, description='Epoch 191', max=781), HTML(value='')))"
      ]
     },
     "metadata": {},
     "output_type": "display_data"
    },
    {
     "name": "stdout",
     "output_type": "stream",
     "text": [
      "781/781 [==============================] - 25s 32ms/step - loss: 0.4667 - acc: 0.8394 - val_loss: 0.4506 - val_acc: 0.8523\n",
      "\n",
      "Epoch 00192: val_loss did not improve from 0.43768\n",
      "Epoch 193/200\n"
     ]
    },
    {
     "data": {
      "application/vnd.jupyter.widget-view+json": {
       "model_id": "",
       "version_major": 2,
       "version_minor": 0
      },
      "text/plain": [
       "HBox(children=(IntProgress(value=0, description='Epoch 192', max=781), HTML(value='')))"
      ]
     },
     "metadata": {},
     "output_type": "display_data"
    },
    {
     "name": "stdout",
     "output_type": "stream",
     "text": [
      "781/781 [==============================] - 25s 32ms/step - loss: 0.4638 - acc: 0.8397 - val_loss: 0.4580 - val_acc: 0.8535\n",
      "\n",
      "Epoch 00193: val_loss did not improve from 0.43768\n",
      "Epoch 194/200\n"
     ]
    },
    {
     "data": {
      "application/vnd.jupyter.widget-view+json": {
       "model_id": "",
       "version_major": 2,
       "version_minor": 0
      },
      "text/plain": [
       "HBox(children=(IntProgress(value=0, description='Epoch 193', max=781), HTML(value='')))"
      ]
     },
     "metadata": {},
     "output_type": "display_data"
    },
    {
     "name": "stdout",
     "output_type": "stream",
     "text": [
      "781/781 [==============================] - 25s 33ms/step - loss: 0.4640 - acc: 0.8405 - val_loss: 0.4625 - val_acc: 0.8496\n",
      "\n",
      "Epoch 00194: val_loss did not improve from 0.43768\n",
      "Epoch 195/200\n"
     ]
    },
    {
     "data": {
      "application/vnd.jupyter.widget-view+json": {
       "model_id": "",
       "version_major": 2,
       "version_minor": 0
      },
      "text/plain": [
       "HBox(children=(IntProgress(value=0, description='Epoch 194', max=781), HTML(value='')))"
      ]
     },
     "metadata": {},
     "output_type": "display_data"
    },
    {
     "name": "stdout",
     "output_type": "stream",
     "text": [
      "781/781 [==============================] - 25s 33ms/step - loss: 0.4658 - acc: 0.8386 - val_loss: 0.4506 - val_acc: 0.8517\n",
      "\n",
      "Epoch 00195: val_loss did not improve from 0.43768\n",
      "Epoch 196/200\n"
     ]
    },
    {
     "data": {
      "application/vnd.jupyter.widget-view+json": {
       "model_id": "",
       "version_major": 2,
       "version_minor": 0
      },
      "text/plain": [
       "HBox(children=(IntProgress(value=0, description='Epoch 195', max=781), HTML(value='')))"
      ]
     },
     "metadata": {},
     "output_type": "display_data"
    },
    {
     "name": "stdout",
     "output_type": "stream",
     "text": [
      "781/781 [==============================] - 25s 32ms/step - loss: 0.4647 - acc: 0.8403 - val_loss: 0.4530 - val_acc: 0.8518\n",
      "\n",
      "Epoch 00196: val_loss did not improve from 0.43768\n",
      "Epoch 197/200\n"
     ]
    },
    {
     "data": {
      "application/vnd.jupyter.widget-view+json": {
       "model_id": "",
       "version_major": 2,
       "version_minor": 0
      },
      "text/plain": [
       "HBox(children=(IntProgress(value=0, description='Epoch 196', max=781), HTML(value='')))"
      ]
     },
     "metadata": {},
     "output_type": "display_data"
    },
    {
     "name": "stdout",
     "output_type": "stream",
     "text": [
      "781/781 [==============================] - 25s 32ms/step - loss: 0.4632 - acc: 0.8407 - val_loss: 0.4507 - val_acc: 0.8522\n",
      "\n",
      "Epoch 00197: val_loss did not improve from 0.43768\n",
      "Epoch 198/200\n"
     ]
    },
    {
     "data": {
      "application/vnd.jupyter.widget-view+json": {
       "model_id": "",
       "version_major": 2,
       "version_minor": 0
      },
      "text/plain": [
       "HBox(children=(IntProgress(value=0, description='Epoch 197', max=781), HTML(value='')))"
      ]
     },
     "metadata": {},
     "output_type": "display_data"
    },
    {
     "name": "stdout",
     "output_type": "stream",
     "text": [
      "781/781 [==============================] - 25s 33ms/step - loss: 0.4696 - acc: 0.8390 - val_loss: 0.4648 - val_acc: 0.8477\n",
      "\n",
      "Epoch 00198: val_loss did not improve from 0.43768\n",
      "Epoch 199/200\n"
     ]
    },
    {
     "data": {
      "application/vnd.jupyter.widget-view+json": {
       "model_id": "",
       "version_major": 2,
       "version_minor": 0
      },
      "text/plain": [
       "HBox(children=(IntProgress(value=0, description='Epoch 198', max=781), HTML(value='')))"
      ]
     },
     "metadata": {},
     "output_type": "display_data"
    },
    {
     "name": "stdout",
     "output_type": "stream",
     "text": [
      "781/781 [==============================] - 25s 32ms/step - loss: 0.4609 - acc: 0.8408 - val_loss: 0.4436 - val_acc: 0.8527\n",
      "\n",
      "Epoch 00199: val_loss did not improve from 0.43768\n",
      "Epoch 200/200\n"
     ]
    },
    {
     "data": {
      "application/vnd.jupyter.widget-view+json": {
       "model_id": "",
       "version_major": 2,
       "version_minor": 0
      },
      "text/plain": [
       "HBox(children=(IntProgress(value=0, description='Epoch 199', max=781), HTML(value='')))"
      ]
     },
     "metadata": {},
     "output_type": "display_data"
    },
    {
     "name": "stdout",
     "output_type": "stream",
     "text": [
      "781/781 [==============================] - 25s 32ms/step - loss: 0.4626 - acc: 0.8414 - val_loss: 0.4606 - val_acc: 0.8506\n",
      "\n",
      "Epoch 00200: val_loss did not improve from 0.43768\n",
      "\n"
     ]
    }
   ],
   "source": [
    "print('Training {} samples'.format(x_train_enc.shape[0]))\n",
    "\n",
    "if not data_augmentation:\n",
    "    print('No data augmentation applied.')\n",
    "    model.fit(x_train_enc, y_train_enc,\n",
    "              batch_size=batch_size,\n",
    "              epochs=epochs,\n",
    "              validation_data=(x_test, y_test),\n",
    "              shuffle=True,\n",
    "              callbacks=[csv_logger, checkpointer, early_stopper]) \n",
    "else:\n",
    "    print('Using real-time data augmentation.')\n",
    "    # This will do preprocessing and realtime data augmentation:\n",
    "    datagen = ImageDataGenerator(\n",
    "        featurewise_center=False,  # set input mean to 0 over the dataset\n",
    "        samplewise_center=False,  # set each sample mean to 0\n",
    "        featurewise_std_normalization=False,  # divide inputs by std\n",
    "        samplewise_std_normalization=False,  # divide each input by its std\n",
    "        zca_whitening=False,  # apply ZCA whitening\n",
    "        # randomly rotate images in the range (degrees, 0 to 180)\n",
    "        rotation_range=0,\n",
    "        # randomly shift images horizontally (fraction of total width)\n",
    "        width_shift_range=0.1,\n",
    "        # randomly shift images vertically (fraction of total height)\n",
    "        height_shift_range=0.1,\n",
    "        horizontal_flip=True,  # randomly flip images\n",
    "        vertical_flip=False)  # randomly flip images\n",
    "\n",
    "    # Compute quantities required for feature-wise normalization\n",
    "    # (std, mean, and principal components if ZCA whitening is applied).\n",
    "    datagen.fit(x_train)\n",
    "\n",
    "    # Fit the model on the batches generated by datagen.flow().\n",
    "    model.fit_generator(datagen.flow(x_train_enc, y_train_enc,\n",
    "                                     batch_size=batch_size),\n",
    "                        steps_per_epoch=x_train.shape[0] // batch_size,\n",
    "                        epochs=epochs,\n",
    "                        validation_data=(x_test, y_test),\n",
    "                        class_weight=class_weight,\n",
    "                        callbacks=[csv_logger, checkpointer, early_stopper,\n",
    "                                   lr_reducer, TQDMNotebookCallback()])\n",
    "    model.save('{}_pn_{}.h5'.format(title, pct_missing))\n",
    "    \n",
    "    # Predict\n",
    "    y_train_pred_enc = model.predict(x_train)\n",
    "    y_test_pred_enc = model.predict(x_test)\n",
    "    \n",
    "    lst = []\n",
    "    y_train_pred = np.argmax(y_train_pred_enc, axis=-1)\n",
    "    y_train_true = np.argmax(y_train, axis=-1)\n",
    "    y_train_label = np.argmax(y_train_pu[pct_missing], axis=-1)\n",
    "    for y_pred, y_true, y_label in zip(y_train_pred, y_train_true, y_train_label):\n",
    "        lst.append(dict(y_pred=y_pred, y_true=y_true, y_label=y_label, split='train'))\n",
    "\n",
    "    y_test_pred = np.argmax(y_test_pred_enc, axis=-1)\n",
    "    y_test_true = np.argmax(y_test, axis=-1)\n",
    "    for y_pred, y_true in zip(y_test_pred, y_test_true):\n",
    "        lst.append(dict(y_pred=y_pred, y_true=y_true, y_label=y_true, split='test'))\n",
    "    \n",
    "    df = pd.DataFrame(lst)\n",
    "    df.to_csv('prediction_{}_pn_{}.csv'.format(title, pct_missing), index=False, mode='a')"
   ]
  },
  {
   "cell_type": "code",
   "execution_count": null,
   "metadata": {},
   "outputs": [],
   "source": []
  },
  {
   "cell_type": "code",
   "execution_count": null,
   "metadata": {},
   "outputs": [],
   "source": []
  },
  {
   "cell_type": "code",
   "execution_count": null,
   "metadata": {},
   "outputs": [],
   "source": []
  },
  {
   "cell_type": "code",
   "execution_count": null,
   "metadata": {},
   "outputs": [],
   "source": []
  },
  {
   "cell_type": "code",
   "execution_count": null,
   "metadata": {
    "ExecuteTime": {
     "end_time": "2018-08-22T06:19:52.074487Z",
     "start_time": "2018-08-22T06:19:47.614Z"
    }
   },
   "outputs": [],
   "source": [
    "model = load_model(filepath=\"model_checkpoint_cifar110_vgg8_pn_0.2.h5\")"
   ]
  },
  {
   "cell_type": "code",
   "execution_count": null,
   "metadata": {
    "ExecuteTime": {
     "end_time": "2018-08-22T06:19:52.075253Z",
     "start_time": "2018-08-22T06:19:47.618Z"
    }
   },
   "outputs": [],
   "source": [
    "# Predict\n",
    "y_train_pred_enc = model.predict(x_train_normalized)\n",
    "y_test_pred_enc = model.predict(x_test)\n",
    "\n",
    "lst = []\n",
    "y_train_pred = np.argmax(y_train_pred_enc, axis=-1)\n",
    "y_train_true = np.argmax(y_train, axis=-1)\n",
    "y_train_label = np.argmax(y_train_pu[pct_missing], axis=-1)\n",
    "for y_pred, y_true, y_label in zip(y_train_pred, y_train_true, y_train_label):\n",
    "    lst.append(dict(y_pred=y_pred, y_true=y_true, y_label=y_label, split='train'))\n",
    "\n",
    "y_test_pred = np.argmax(y_test_pred_enc, axis=-1)\n",
    "y_test_true = np.argmax(y_test, axis=-1)\n",
    "for y_pred, y_true in zip(y_test_pred, y_test_true):\n",
    "    lst.append(dict(y_pred=y_pred, y_true=y_true, y_label=y_true, split='test'))\n",
    "\n",
    "df = pd.DataFrame(lst)\n",
    "df.to_csv('prediction_{}_pn_{}.csv'.format(title, pct_missing), index=False, mode='a')"
   ]
  },
  {
   "cell_type": "code",
   "execution_count": null,
   "metadata": {
    "ExecuteTime": {
     "end_time": "2018-08-22T06:19:52.075937Z",
     "start_time": "2018-08-22T06:19:47.621Z"
    }
   },
   "outputs": [],
   "source": [
    "df"
   ]
  },
  {
   "cell_type": "code",
   "execution_count": null,
   "metadata": {},
   "outputs": [],
   "source": []
  }
 ],
 "metadata": {
  "kernelspec": {
   "display_name": "Python 3",
   "language": "python",
   "name": "python3"
  },
  "language_info": {
   "codemirror_mode": {
    "name": "ipython",
    "version": 3
   },
   "file_extension": ".py",
   "mimetype": "text/x-python",
   "name": "python",
   "nbconvert_exporter": "python",
   "pygments_lexer": "ipython3",
   "version": "3.5.2"
  },
  "toc": {
   "base_numbering": 1,
   "nav_menu": {},
   "number_sections": true,
   "sideBar": true,
   "skip_h1_title": true,
   "title_cell": "Table of Contents",
   "title_sidebar": "Contents",
   "toc_cell": true,
   "toc_position": {
    "height": "calc(100% - 180px)",
    "left": "10px",
    "top": "150px",
    "width": "265px"
   },
   "toc_section_display": true,
   "toc_window_display": true
  }
 },
 "nbformat": 4,
 "nbformat_minor": 2
}
