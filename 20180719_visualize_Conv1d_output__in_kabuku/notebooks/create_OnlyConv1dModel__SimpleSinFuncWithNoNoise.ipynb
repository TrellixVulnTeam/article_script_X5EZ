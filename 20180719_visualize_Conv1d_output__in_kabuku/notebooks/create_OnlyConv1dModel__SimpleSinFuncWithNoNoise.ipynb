{
 "cells": [
  {
   "cell_type": "markdown",
   "metadata": {
    "toc": true
   },
   "source": [
    "<h1>Table of Contents<span class=\"tocSkip\"></span></h1>\n",
    "<div class=\"toc\"><ul class=\"toc-item\"><li><span><a href=\"#Setting\" data-toc-modified-id=\"Setting-1\"><span class=\"toc-item-num\">1&nbsp;&nbsp;</span>Setting</a></span><ul class=\"toc-item\"><li><span><a href=\"#Path\" data-toc-modified-id=\"Path-1.1\"><span class=\"toc-item-num\">1.1&nbsp;&nbsp;</span><code>Path</code></a></span></li></ul></li><li><span><a href=\"#SimpleSin-NoNoise-時系列データ作成\" data-toc-modified-id=\"SimpleSin-NoNoise-時系列データ作成-2\"><span class=\"toc-item-num\">2&nbsp;&nbsp;</span><code>SimpleSin</code> <code>NoNoise</code> 時系列データ作成</a></span></li><li><span><a href=\"#入力データ作成\" data-toc-modified-id=\"入力データ作成-3\"><span class=\"toc-item-num\">3&nbsp;&nbsp;</span>入力データ作成</a></span></li><li><span><a href=\"#Model\" data-toc-modified-id=\"Model-4\"><span class=\"toc-item-num\">4&nbsp;&nbsp;</span><code>Model</code></a></span><ul class=\"toc-item\"><li><span><a href=\"#summary\" data-toc-modified-id=\"summary-4.1\"><span class=\"toc-item-num\">4.1&nbsp;&nbsp;</span>summary</a></span></li><li><span><a href=\"#Fit\" data-toc-modified-id=\"Fit-4.2\"><span class=\"toc-item-num\">4.2&nbsp;&nbsp;</span><code>Fit</code></a></span></li><li><span><a href=\"#Save-Model\" data-toc-modified-id=\"Save-Model-4.3\"><span class=\"toc-item-num\">4.3&nbsp;&nbsp;</span>Save Model</a></span></li><li><span><a href=\"#Save-History\" data-toc-modified-id=\"Save-History-4.4\"><span class=\"toc-item-num\">4.4&nbsp;&nbsp;</span>Save History</a></span></li></ul></li><li><span><a href=\"#history\" data-toc-modified-id=\"history-5\"><span class=\"toc-item-num\">5&nbsp;&nbsp;</span>history</a></span></li><li><span><a href=\"#Predict\" data-toc-modified-id=\"Predict-6\"><span class=\"toc-item-num\">6&nbsp;&nbsp;</span>Predict</a></span></li></ul></div>"
   ]
  },
  {
   "cell_type": "code",
   "execution_count": 1,
   "metadata": {
    "ExecuteTime": {
     "end_time": "2018-08-10T03:30:46.226580Z",
     "start_time": "2018-08-10T03:30:46.221317Z"
    }
   },
   "outputs": [],
   "source": [
    "ipynb_title = \"create_OnlyConv1dModel__SimpleSinFuncWithNoNoise\""
   ]
  },
  {
   "cell_type": "markdown",
   "metadata": {
    "colab_type": "text",
    "id": "X50iAsQoLofA"
   },
   "source": [
    "# {{ipynb_title}}\n",
    "\n",
    "1. データ作成\n",
    "  - 単なるsin関数を含んだ式\n",
    "  - ノイズを加える\n",
    "  - 異常波形作成\n",
    "1. CNN時系列予測\n",
    "  - [時系列予測を一次元畳み込みを使って解く with Keras - Qiita\n",
    "      ](https://qiita.com/niisan-tokyo/items/a94dbd3134219f19cab1)\n",
    "  - その背景を $windowsize$ 5-60程度で予測するConv1d層の作成"
   ]
  },
  {
   "cell_type": "code",
   "execution_count": 2,
   "metadata": {
    "ExecuteTime": {
     "end_time": "2018-08-10T02:36:43.435340Z",
     "start_time": "2018-08-10T02:36:42.523705Z"
    },
    "colab": {
     "autoexec": {
      "startup": false,
      "wait_interval": 0
     },
     "base_uri": "https://localhost:8080/",
     "height": 35
    },
    "colab_type": "code",
    "executionInfo": {
     "elapsed": 578,
     "status": "ok",
     "timestamp": 1532587434700,
     "user": {
      "displayName": "杉崎弘明",
      "photoUrl": "//lh3.googleusercontent.com/-839AC8sb-Eg/AAAAAAAAAAI/AAAAAAAAAA8/wL07LaZurhY/s50-c-k-no/photo.jpg",
      "userId": "103645978051141582092"
     },
     "user_tz": -540
    },
    "id": "k9ykNILgLw8x",
    "outputId": "8df020ad-14ba-4610-e2f8-556ec20f094a",
    "scrolled": true
   },
   "outputs": [
    {
     "name": "stderr",
     "output_type": "stream",
     "text": [
      "/usr/lib/python3.5/importlib/_bootstrap.py:222: RuntimeWarning: numpy.dtype size changed, may indicate binary incompatibility. Expected 96, got 88\n",
      "  return f(*args, **kwds)\n",
      "Using TensorFlow backend.\n",
      "/usr/lib/python3.5/importlib/_bootstrap.py:222: RuntimeWarning: numpy.dtype size changed, may indicate binary incompatibility. Expected 96, got 88\n",
      "  return f(*args, **kwds)\n",
      "/usr/lib/python3.5/importlib/_bootstrap.py:222: RuntimeWarning: numpy.dtype size changed, may indicate binary incompatibility. Expected 96, got 88\n",
      "  return f(*args, **kwds)\n"
     ]
    },
    {
     "name": "stdout",
     "output_type": "stream",
     "text": [
      "Keras version :  2.2.2\n"
     ]
    }
   ],
   "source": [
    "import os,sys\n",
    "import numpy as np\n",
    "import matplotlib.pyplot as plt\n",
    "import datetime\n",
    "%matplotlib inline\n",
    "from pathlib import Path\n",
    "\n",
    "import keras\n",
    "print(\"Keras version : \", keras.__version__)"
   ]
  },
  {
   "cell_type": "markdown",
   "metadata": {},
   "source": [
    "## Setting"
   ]
  },
  {
   "cell_type": "markdown",
   "metadata": {},
   "source": [
    "### `Path`"
   ]
  },
  {
   "cell_type": "code",
   "execution_count": 3,
   "metadata": {
    "ExecuteTime": {
     "end_time": "2018-08-10T02:36:46.123311Z",
     "start_time": "2018-08-10T02:36:46.114735Z"
    }
   },
   "outputs": [
    {
     "name": "stdout",
     "output_type": "stream",
     "text": [
      "/home/pollenjp/workdir/git/article_script/20180719_visualize_Conv1d_output__in_kabuku\n"
     ]
    }
   ],
   "source": [
    "HOME = Path(os.getcwd()).parent\n",
    "print(HOME)"
   ]
  },
  {
   "cell_type": "code",
   "execution_count": 4,
   "metadata": {
    "ExecuteTime": {
     "end_time": "2018-08-10T02:36:46.278727Z",
     "start_time": "2018-08-10T02:36:46.273039Z"
    }
   },
   "outputs": [
    {
     "name": "stdout",
     "output_type": "stream",
     "text": [
      "True :  /home/pollenjp/workdir/git/article_script/20180719_visualize_Conv1d_output__in_kabuku/keras_model_h5\n",
      "True :  /home/pollenjp/workdir/git/article_script/20180719_visualize_Conv1d_output__in_kabuku/data\n",
      "True :  /home/pollenjp/workdir/git/article_script/20180719_visualize_Conv1d_output__in_kabuku/data/plot_images\n",
      "True :  /home/pollenjp/workdir/git/article_script/20180719_visualize_Conv1d_output__in_kabuku/fit_history\n"
     ]
    }
   ],
   "source": [
    "path_list = []\n",
    "keras_model_h5_Path = HOME / \"keras_model_h5\"\n",
    "path_list.append(keras_model_h5_Path)\n",
    "data_Path = HOME / \"data\"\n",
    "path_list.append(data_Path)\n",
    "plot_images_Path = data_Path / \"plot_images\"\n",
    "path_list.append(plot_images_Path)\n",
    "fit_hitory_Path = HOME / \"fit_history\"\n",
    "path_list.append(fit_hitory_Path)\n",
    "\n",
    "for _Path in path_list:\n",
    "    _path = str(_Path)\n",
    "    if not os.path.exists(_path):\n",
    "        os.makedirs(name=_path)\n",
    "        print(\"make a directory: \\n\\t\", _path)\n",
    "    else:\n",
    "        print(os.path.exists(_path), \": \", _path)"
   ]
  },
  {
   "cell_type": "markdown",
   "metadata": {
    "colab_type": "text",
    "id": "iOpxt7BZLrUa"
   },
   "source": [
    "## `SimpleSin` `NoNoise` 時系列データ作成\n",
    "\n",
    "$$\n",
    "\\textbf{toyfunc(t)} = \\sin\\left( \\frac{2 \\pi}{T} t \\right)\n",
    "$$"
   ]
  },
  {
   "cell_type": "code",
   "execution_count": 5,
   "metadata": {
    "ExecuteTime": {
     "end_time": "2018-08-10T03:30:50.654058Z",
     "start_time": "2018-08-10T03:30:50.649461Z"
    },
    "colab": {
     "autoexec": {
      "startup": false,
      "wait_interval": 0
     }
    },
    "colab_type": "code",
    "id": "sz4t5mios_5S"
   },
   "outputs": [],
   "source": [
    "def mySin(t, period=100):\n",
    "    \"\"\"\n",
    "    時刻t, 周期period\n",
    "    \"\"\"\n",
    "    return np.sin(2.0 * np.pi * t/period)"
   ]
  },
  {
   "cell_type": "code",
   "execution_count": 6,
   "metadata": {
    "ExecuteTime": {
     "end_time": "2018-08-10T03:30:52.450572Z",
     "start_time": "2018-08-10T03:30:52.445403Z"
    },
    "colab": {
     "autoexec": {
      "startup": false,
      "wait_interval": 0
     }
    },
    "colab_type": "code",
    "id": "eYmZu2lJWfyJ"
   },
   "outputs": [],
   "source": [
    "# Add Noise\n",
    "def toy_func(tStart=0, tStop=100, tStep=1, noiseAmpl=0):\n",
    "    \"\"\"\n",
    "    T : sin波の周期\n",
    "    noiseAmpl : ノイズの係数(振幅)\n",
    "      \"\"\"\n",
    "    t = np.arange(start=tStart, stop=tStop, step=tStep)\n",
    "    noise = np.random.randn(t.shape[0])  # mean=0, standard_deviation=1\n",
    "    return (t,\n",
    "            mySin(t, period=100)\n",
    "            + noiseAmpl * noise )"
   ]
  },
  {
   "cell_type": "markdown",
   "metadata": {
    "colab_type": "text",
    "id": "MndTp9ndw1Np"
   },
   "source": [
    "## 入力データ作成"
   ]
  },
  {
   "cell_type": "markdown",
   "metadata": {},
   "source": [
    "<img src=\"images/create_input_data.gif\" style=\"width: 70%; height: 70%\">"
   ]
  },
  {
   "cell_type": "code",
   "execution_count": 7,
   "metadata": {
    "ExecuteTime": {
     "end_time": "2018-08-10T03:30:53.817032Z",
     "start_time": "2018-08-10T03:30:53.809966Z"
    }
   },
   "outputs": [
    {
     "name": "stdout",
     "output_type": "stream",
     "text": [
      "(10000,)\n"
     ]
    }
   ],
   "source": [
    "#----------------------------------------\n",
    "# Parameters\n",
    "#----------------------------------------\n",
    "windowsize = 100  # 周期と同じくとる\n",
    "predictsize = 1\n",
    "sample_data_size = 10000\n",
    "wave_size = sample_data_size\n",
    "trainsize = int(10000*0.8)\n",
    "\n",
    "#----------------------------------------\n",
    "# Sample Wave\n",
    "#----------------------------------------\n",
    "t, sample_wave = toy_func(tStop=sample_data_size, noiseAmpl=0)\n",
    "print(sample_wave.shape)"
   ]
  },
  {
   "cell_type": "code",
   "execution_count": 8,
   "metadata": {
    "ExecuteTime": {
     "end_time": "2018-08-10T03:31:04.224355Z",
     "start_time": "2018-08-10T03:31:04.049970Z"
    },
    "colab": {
     "autoexec": {
      "startup": false,
      "wait_interval": 0
     },
     "base_uri": "https://localhost:8080/",
     "height": 380
    },
    "colab_type": "code",
    "executionInfo": {
     "elapsed": 1282,
     "status": "ok",
     "timestamp": 1532587439022,
     "user": {
      "displayName": "杉崎弘明",
      "photoUrl": "//lh3.googleusercontent.com/-839AC8sb-Eg/AAAAAAAAAAI/AAAAAAAAAA8/wL07LaZurhY/s50-c-k-no/photo.jpg",
      "userId": "103645978051141582092"
     },
     "user_tz": -540
    },
    "id": "gTDa2x92ajY9",
    "outputId": "2d82e92e-3c20-472f-d464-38c4b64e7cf3"
   },
   "outputs": [
    {
     "data": {
      "image/png": "[encoded data removed]",
      "text/plain": [
       "<Figure size 1008x360 with 1 Axes>"
      ]
     },
     "metadata": {},
     "output_type": "display_data"
    }
   ],
   "source": [
    "#----------------------------------------\n",
    "# plot sample wave\n",
    "#----------------------------------------\n",
    "filename = ipynb_title + \"__wave_with_noise.png\"\n",
    "\n",
    "fig = plt.figure(figsize=(14,5))  # (width, height)\n",
    "ax = fig.add_subplot(1,1,1)\n",
    "ax.plot(t[:1000], sample_wave[:1000])\n",
    "\n",
    "title = \"Sin\"\n",
    "ax.set_title(label=title, fontsize=30)\n",
    "ax.set_xlabel(xlabel=\"t\", fontsize=20)\n",
    "ax.set_ylabel(ylabel=\"y\", fontsize=20, rotation=0)\n",
    "ax.yaxis.set_label_coords(x=0.0, y=1.02)\n",
    "ax.tick_params(labelsize=20)\n",
    "\n",
    "fig.savefig(fname=str(plot_images_Path / filename))\n",
    "plt.show()"
   ]
  },
  {
   "cell_type": "code",
   "execution_count": 9,
   "metadata": {
    "ExecuteTime": {
     "end_time": "2018-08-10T03:31:18.490909Z",
     "start_time": "2018-08-10T03:31:09.748184Z"
    },
    "colab": {
     "autoexec": {
      "startup": false,
      "wait_interval": 0
     }
    },
    "colab_type": "code",
    "id": "XHcrodZzP-N4"
   },
   "outputs": [
    {
     "name": "stdout",
     "output_type": "stream",
     "text": [
      "(0, 100)\n",
      "(0, 1)\n",
      "input_data.shape  :  (9900, 100)\n",
      "output_data.shape :  (9900, 1)\n",
      "input_data.shape  :  (9900, 100, 1)\n",
      "output_data.shape :  (9900, 1)\n"
     ]
    }
   ],
   "source": [
    "#----------------------------------------\n",
    "# create input data\n",
    "#----------------------------------------\n",
    "input_data  = np.empty(shape=(0, windowsize))\n",
    "output_data = np.empty(shape=(0, predictsize))\n",
    "print(input_data.shape)\n",
    "print(output_data.shape)\n",
    "for i in range( sample_wave.shape[0] - (windowsize + predictsize) + 1 ):\n",
    "    input_data = np.append(arr   =input_data,\n",
    "                           values=sample_wave[i:(i+windowsize)].reshape(1, -1),\n",
    "                           axis  =0)\n",
    "    output_data = np.append(arr   =output_data,\n",
    "                            values=sample_wave[(i+windowsize):(i+windowsize+predictsize)].reshape(1, -1),\n",
    "                            axis  =0)\n",
    "print(\"input_data.shape  : \", input_data.shape)\n",
    "print(\"output_data.shape : \", output_data.shape)\n",
    "#--------------------\n",
    "# Kerasのモデルに入力できる形にするためにreshapeして次元を足す\n",
    "#--------------------\n",
    "input_data = input_data.reshape((-1, windowsize, 1))\n",
    "output_data = output_data.reshape((-1, predictsize,))\n",
    "print(\"input_data.shape  : \", input_data.shape)\n",
    "print(\"output_data.shape : \", output_data.shape)"
   ]
  },
  {
   "cell_type": "code",
   "execution_count": 12,
   "metadata": {
    "colab": {
     "autoexec": {
      "startup": false,
      "wait_interval": 0
     },
     "base_uri": "https://localhost:8080/",
     "height": 88
    },
    "colab_type": "code",
    "executionInfo": {
     "elapsed": 683,
     "status": "ok",
     "timestamp": 1532587442237,
     "user": {
      "displayName": "杉崎弘明",
      "photoUrl": "//lh3.googleusercontent.com/-839AC8sb-Eg/AAAAAAAAAAI/AAAAAAAAAA8/wL07LaZurhY/s50-c-k-no/photo.jpg",
      "userId": "103645978051141582092"
     },
     "user_tz": -540
    },
    "id": "QEcIXeYl803u",
    "outputId": "a4e2678a-b340-47d9-ae91-e21871e0b092",
    "scrolled": true
   },
   "outputs": [
    {
     "name": "stdout",
     "output_type": "stream",
     "text": [
      "train_x.shape :  (8000, 100, 1)\n",
      "train_y.shape :  (8000, 1)\n",
      "test_x.shape  :  (1900, 100, 1)\n",
      "test_y.shape  :  (1900, 1)\n"
     ]
    }
   ],
   "source": [
    "train_x, test_x = input_data[:trainsize], input_data[trainsize:]\n",
    "train_y, test_y = output_data[:trainsize], output_data[trainsize:]\n",
    "print(\"train_x.shape : \", train_x.shape)\n",
    "print(\"train_y.shape : \", train_y.shape)\n",
    "print(\"test_x.shape  : \", test_x.shape)\n",
    "print(\"test_y.shape  : \", test_y.shape)"
   ]
  },
  {
   "cell_type": "markdown",
   "metadata": {
    "colab_type": "text",
    "id": "mOYgblAB9owa"
   },
   "source": [
    "## `Model`\n",
    "\n",
    "- Conv1d\n",
    "  - https://keras.io/ja/layers/convolutional/#conv1d\n",
    "- [GlobalMaxPooling1D](https://keras.io/layers/pooling/#globalmaxpooling1d)\n",
    "  "
   ]
  },
  {
   "cell_type": "code",
   "execution_count": 13,
   "metadata": {
    "colab": {
     "autoexec": {
      "startup": false,
      "wait_interval": 0
     }
    },
    "colab_type": "code",
    "id": "KhXsQv5l9qvq"
   },
   "outputs": [],
   "source": [
    "from keras.models import Sequential\n",
    "from keras.layers.convolutional import Conv1D, UpSampling1D\n",
    "from keras.layers.pooling import GlobalMaxPooling1D\n",
    "\n",
    "channel_size = 8\n",
    "kernel_size = 10\n",
    "\n",
    "model = Sequential()\n",
    "model.add( Conv1D(filters=channel_size, kernel_size=kernel_size,\n",
    "                  strides=1, padding=\"same\", activation=\"relu\",\n",
    "                  input_shape=(windowsize, 1),\n",
    "                  ) )\n",
    "model.add( Conv1D(filters=1,\n",
    "                  kernel_size=8, padding='same', activation='tanh',\n",
    "                  ) )\n",
    "model.add( GlobalMaxPooling1D() )\n",
    "\n",
    "model.compile(loss='mse', optimizer='adam')"
   ]
  },
  {
   "cell_type": "markdown",
   "metadata": {},
   "source": [
    "### summary"
   ]
  },
  {
   "cell_type": "code",
   "execution_count": 14,
   "metadata": {
    "colab": {
     "autoexec": {
      "startup": false,
      "wait_interval": 0
     },
     "base_uri": "https://localhost:8080/",
     "height": 428
    },
    "colab_type": "code",
    "executionInfo": {
     "elapsed": 613,
     "status": "ok",
     "timestamp": 1532589086970,
     "user": {
      "displayName": "杉崎弘明",
      "photoUrl": "//lh3.googleusercontent.com/-839AC8sb-Eg/AAAAAAAAAAI/AAAAAAAAAA8/wL07LaZurhY/s50-c-k-no/photo.jpg",
      "userId": "103645978051141582092"
     },
     "user_tz": -540
    },
    "id": "AdTUrfQjAgi3",
    "outputId": "a7ba836b-4c51-4cf1-a463-8bd5eaba8a2b",
    "scrolled": true
   },
   "outputs": [
    {
     "name": "stdout",
     "output_type": "stream",
     "text": [
      "_________________________________________________________________\n",
      "Layer (type)                 Output Shape              Param #   \n",
      "=================================================================\n",
      "conv1d_1 (Conv1D)            (None, 100, 8)            88        \n",
      "_________________________________________________________________\n",
      "conv1d_2 (Conv1D)            (None, 100, 1)            65        \n",
      "_________________________________________________________________\n",
      "global_max_pooling1d_1 (Glob (None, 1)                 0         \n",
      "=================================================================\n",
      "Total params: 153\n",
      "Trainable params: 153\n",
      "Non-trainable params: 0\n",
      "_________________________________________________________________\n"
     ]
    }
   ],
   "source": [
    "model.summary()"
   ]
  },
  {
   "cell_type": "markdown",
   "metadata": {
    "colab_type": "text",
    "id": "ZNQnSeHjHUHZ"
   },
   "source": [
    "### `Fit`"
   ]
  },
  {
   "cell_type": "code",
   "execution_count": 15,
   "metadata": {
    "colab": {
     "autoexec": {
      "startup": false,
      "wait_interval": 0
     },
     "base_uri": "https://localhost:8080/",
     "height": 7202
    },
    "colab_type": "code",
    "executionInfo": {
     "elapsed": 103234,
     "status": "ok",
     "timestamp": 1532589190335,
     "user": {
      "displayName": "杉崎弘明",
      "photoUrl": "//lh3.googleusercontent.com/-839AC8sb-Eg/AAAAAAAAAAI/AAAAAAAAAA8/wL07LaZurhY/s50-c-k-no/photo.jpg",
      "userId": "103645978051141582092"
     },
     "user_tz": -540
    },
    "id": "3Ou1rpxbBMpO",
    "outputId": "961d72a7-b115-4605-86bb-02fbc802226f",
    "scrolled": false
   },
   "outputs": [
    {
     "name": "stdout",
     "output_type": "stream",
     "text": [
      "Train on 7200 samples, validate on 800 samples\n",
      "Epoch 1/100\n",
      "7200/7200 [==============================] - 2s 221us/step - loss: 0.2387 - val_loss: 0.0740\n",
      "Epoch 2/100\n",
      "7200/7200 [==============================] - 0s 42us/step - loss: 0.0453 - val_loss: 0.0323\n",
      "Epoch 3/100\n",
      "7200/7200 [==============================] - 0s 41us/step - loss: 0.0263 - val_loss: 0.0204\n",
      "Epoch 4/100\n",
      "7200/7200 [==============================] - 0s 41us/step - loss: 0.0157 - val_loss: 0.0121\n",
      "Epoch 5/100\n",
      "7200/7200 [==============================] - 0s 42us/step - loss: 0.0101 - val_loss: 0.0084\n",
      "Epoch 6/100\n",
      "7200/7200 [==============================] - 0s 41us/step - loss: 0.0074 - val_loss: 0.0064\n",
      "Epoch 7/100\n",
      "7200/7200 [==============================] - 0s 42us/step - loss: 0.0058 - val_loss: 0.0053\n",
      "Epoch 8/100\n",
      "7200/7200 [==============================] - 0s 42us/step - loss: 0.0048 - val_loss: 0.0044\n",
      "Epoch 9/100\n",
      "7200/7200 [==============================] - 0s 42us/step - loss: 0.0040 - val_loss: 0.0037\n",
      "Epoch 10/100\n",
      "7200/7200 [==============================] - 0s 42us/step - loss: 0.0034 - val_loss: 0.0032\n",
      "Epoch 11/100\n",
      "7200/7200 [==============================] - 0s 41us/step - loss: 0.0030 - val_loss: 0.0029\n",
      "Epoch 12/100\n",
      "7200/7200 [==============================] - 0s 41us/step - loss: 0.0027 - val_loss: 0.0026\n",
      "Epoch 13/100\n",
      "7200/7200 [==============================] - 0s 41us/step - loss: 0.0025 - val_loss: 0.0024\n",
      "Epoch 14/100\n",
      "7200/7200 [==============================] - 0s 42us/step - loss: 0.0023 - val_loss: 0.0022\n",
      "Epoch 15/100\n",
      "7200/7200 [==============================] - 0s 42us/step - loss: 0.0021 - val_loss: 0.0020\n",
      "Epoch 16/100\n",
      "7200/7200 [==============================] - 0s 42us/step - loss: 0.0020 - val_loss: 0.0019\n",
      "Epoch 17/100\n",
      "7200/7200 [==============================] - 0s 41us/step - loss: 0.0018 - val_loss: 0.0018\n",
      "Epoch 18/100\n",
      "7200/7200 [==============================] - 0s 42us/step - loss: 0.0017 - val_loss: 0.0016\n",
      "Epoch 19/100\n",
      "7200/7200 [==============================] - 0s 41us/step - loss: 0.0015 - val_loss: 0.0014\n",
      "Epoch 20/100\n",
      "7200/7200 [==============================] - 0s 41us/step - loss: 0.0014 - val_loss: 0.0013\n",
      "Epoch 21/100\n",
      "7200/7200 [==============================] - 0s 41us/step - loss: 0.0013 - val_loss: 0.0012\n",
      "Epoch 22/100\n",
      "7200/7200 [==============================] - 0s 41us/step - loss: 0.0012 - val_loss: 0.0011\n",
      "Epoch 23/100\n",
      "7200/7200 [==============================] - 0s 42us/step - loss: 0.0011 - val_loss: 0.0010\n",
      "Epoch 24/100\n",
      "7200/7200 [==============================] - 0s 41us/step - loss: 9.9159e-04 - val_loss: 9.5142e-04\n",
      "Epoch 25/100\n",
      "7200/7200 [==============================] - 0s 41us/step - loss: 9.1555e-04 - val_loss: 8.6482e-04\n",
      "Epoch 26/100\n",
      "7200/7200 [==============================] - 0s 41us/step - loss: 8.4389e-04 - val_loss: 7.9813e-04\n",
      "Epoch 27/100\n",
      "7200/7200 [==============================] - 0s 41us/step - loss: 7.7764e-04 - val_loss: 7.4609e-04\n",
      "Epoch 28/100\n",
      "7200/7200 [==============================] - 0s 42us/step - loss: 7.1645e-04 - val_loss: 6.7441e-04\n",
      "Epoch 29/100\n",
      "7200/7200 [==============================] - 0s 42us/step - loss: 6.6767e-04 - val_loss: 6.3094e-04\n",
      "Epoch 30/100\n",
      "7200/7200 [==============================] - 0s 41us/step - loss: 6.1456e-04 - val_loss: 5.7937e-04\n",
      "Epoch 31/100\n",
      "7200/7200 [==============================] - 0s 42us/step - loss: 5.6408e-04 - val_loss: 5.6876e-04\n",
      "Epoch 32/100\n",
      "7200/7200 [==============================] - 0s 42us/step - loss: 5.1867e-04 - val_loss: 5.1396e-04\n",
      "Epoch 33/100\n",
      "7200/7200 [==============================] - 0s 41us/step - loss: 4.8792e-04 - val_loss: 4.6187e-04\n",
      "Epoch 34/100\n",
      "7200/7200 [==============================] - 0s 42us/step - loss: 4.4684e-04 - val_loss: 4.3019e-04\n",
      "Epoch 35/100\n",
      "7200/7200 [==============================] - 0s 41us/step - loss: 4.2300e-04 - val_loss: 4.0235e-04\n",
      "Epoch 36/100\n",
      "7200/7200 [==============================] - 0s 41us/step - loss: 3.9027e-04 - val_loss: 3.7247e-04\n",
      "Epoch 37/100\n",
      "7200/7200 [==============================] - 0s 42us/step - loss: 3.5984e-04 - val_loss: 3.6159e-04\n",
      "Epoch 38/100\n",
      "7200/7200 [==============================] - 0s 41us/step - loss: 3.3368e-04 - val_loss: 3.2250e-04\n",
      "Epoch 39/100\n",
      "7200/7200 [==============================] - 0s 42us/step - loss: 3.0628e-04 - val_loss: 2.8741e-04\n",
      "Epoch 40/100\n",
      "7200/7200 [==============================] - 0s 42us/step - loss: 2.8574e-04 - val_loss: 2.7151e-04\n",
      "Epoch 41/100\n",
      "7200/7200 [==============================] - 0s 42us/step - loss: 2.6683e-04 - val_loss: 2.5409e-04\n",
      "Epoch 42/100\n",
      "7200/7200 [==============================] - 0s 41us/step - loss: 2.5132e-04 - val_loss: 2.3445e-04\n",
      "Epoch 43/100\n",
      "7200/7200 [==============================] - 0s 42us/step - loss: 2.3933e-04 - val_loss: 2.3777e-04\n",
      "Epoch 44/100\n",
      "7200/7200 [==============================] - 0s 42us/step - loss: 2.2698e-04 - val_loss: 2.1317e-04\n",
      "Epoch 45/100\n",
      "7200/7200 [==============================] - 0s 41us/step - loss: 2.1017e-04 - val_loss: 2.0374e-04\n",
      "Epoch 46/100\n",
      "7200/7200 [==============================] - 0s 41us/step - loss: 2.0113e-04 - val_loss: 2.0107e-04\n",
      "Epoch 47/100\n",
      "7200/7200 [==============================] - 0s 42us/step - loss: 1.9184e-04 - val_loss: 1.8388e-04\n",
      "Epoch 48/100\n",
      "7200/7200 [==============================] - 0s 41us/step - loss: 1.7989e-04 - val_loss: 1.7097e-04\n",
      "Epoch 49/100\n",
      "7200/7200 [==============================] - 0s 41us/step - loss: 1.7097e-04 - val_loss: 1.6440e-04\n",
      "Epoch 50/100\n",
      "7200/7200 [==============================] - 0s 42us/step - loss: 1.6502e-04 - val_loss: 1.5924e-04\n",
      "Epoch 51/100\n",
      "7200/7200 [==============================] - 0s 42us/step - loss: 1.5463e-04 - val_loss: 1.4876e-04\n",
      "Epoch 52/100\n",
      "7200/7200 [==============================] - 0s 41us/step - loss: 1.5632e-04 - val_loss: 1.9435e-04\n",
      "Epoch 53/100\n",
      "7200/7200 [==============================] - 0s 42us/step - loss: 1.4562e-04 - val_loss: 1.3913e-04\n",
      "Epoch 54/100\n",
      "7200/7200 [==============================] - 0s 42us/step - loss: 1.4356e-04 - val_loss: 2.2609e-04\n",
      "Epoch 55/100\n",
      "7200/7200 [==============================] - 0s 42us/step - loss: 1.3530e-04 - val_loss: 1.3393e-04\n",
      "Epoch 56/100\n",
      "7200/7200 [==============================] - 0s 42us/step - loss: 1.2835e-04 - val_loss: 1.2561e-04\n",
      "Epoch 57/100\n",
      "7200/7200 [==============================] - 0s 42us/step - loss: 1.2319e-04 - val_loss: 1.1779e-04\n",
      "Epoch 58/100\n",
      "7200/7200 [==============================] - 0s 41us/step - loss: 1.1961e-04 - val_loss: 1.1162e-04\n",
      "Epoch 59/100\n",
      "7200/7200 [==============================] - 0s 42us/step - loss: 1.2032e-04 - val_loss: 1.1110e-04\n",
      "Epoch 60/100\n",
      "7200/7200 [==============================] - 0s 41us/step - loss: 1.1261e-04 - val_loss: 1.1906e-04\n",
      "Epoch 61/100\n",
      "7200/7200 [==============================] - 0s 41us/step - loss: 1.0638e-04 - val_loss: 1.0832e-04\n",
      "Epoch 62/100\n",
      "7200/7200 [==============================] - 0s 42us/step - loss: 1.0100e-04 - val_loss: 9.6511e-05\n",
      "Epoch 63/100\n",
      "7200/7200 [==============================] - 0s 42us/step - loss: 1.0271e-04 - val_loss: 9.7871e-05\n",
      "Epoch 64/100\n",
      "7200/7200 [==============================] - 0s 42us/step - loss: 1.0000e-04 - val_loss: 9.5398e-05\n",
      "Epoch 65/100\n",
      "7200/7200 [==============================] - 0s 42us/step - loss: 9.1499e-05 - val_loss: 8.8300e-05\n",
      "Epoch 66/100\n",
      "7200/7200 [==============================] - 0s 41us/step - loss: 9.1632e-05 - val_loss: 8.8450e-05\n",
      "Epoch 67/100\n",
      "7200/7200 [==============================] - 0s 41us/step - loss: 8.6999e-05 - val_loss: 9.7725e-05\n",
      "Epoch 68/100\n",
      "7200/7200 [==============================] - 0s 42us/step - loss: 8.7848e-05 - val_loss: 9.1849e-05\n",
      "Epoch 69/100\n",
      "7200/7200 [==============================] - 0s 42us/step - loss: 8.5949e-05 - val_loss: 9.5960e-05\n",
      "Epoch 70/100\n",
      "7200/7200 [==============================] - 0s 41us/step - loss: 8.0884e-05 - val_loss: 7.4132e-05\n",
      "Epoch 71/100\n",
      "7200/7200 [==============================] - 0s 42us/step - loss: 7.5529e-05 - val_loss: 7.2379e-05\n",
      "Epoch 72/100\n",
      "7200/7200 [==============================] - 0s 42us/step - loss: 7.5801e-05 - val_loss: 1.0018e-04\n",
      "Epoch 73/100\n",
      "7200/7200 [==============================] - 0s 41us/step - loss: 7.5057e-05 - val_loss: 6.8015e-05\n",
      "Epoch 74/100\n",
      "7200/7200 [==============================] - 0s 42us/step - loss: 7.1880e-05 - val_loss: 8.8364e-05\n"
     ]
    },
    {
     "name": "stdout",
     "output_type": "stream",
     "text": [
      "Epoch 75/100\n",
      "7200/7200 [==============================] - 0s 42us/step - loss: 6.9325e-05 - val_loss: 6.7046e-05\n",
      "Epoch 76/100\n",
      "7200/7200 [==============================] - 0s 41us/step - loss: 6.7913e-05 - val_loss: 6.0066e-05\n",
      "Epoch 77/100\n",
      "7200/7200 [==============================] - 0s 42us/step - loss: 6.5395e-05 - val_loss: 6.0464e-05\n",
      "Epoch 78/100\n",
      "7200/7200 [==============================] - 0s 41us/step - loss: 6.1291e-05 - val_loss: 6.0106e-05\n",
      "Epoch 79/100\n",
      "7200/7200 [==============================] - 0s 42us/step - loss: 6.2123e-05 - val_loss: 6.2060e-05\n",
      "Epoch 80/100\n",
      "7200/7200 [==============================] - 0s 41us/step - loss: 6.0269e-05 - val_loss: 5.5622e-05\n",
      "Epoch 81/100\n",
      "7200/7200 [==============================] - 0s 41us/step - loss: 6.2724e-05 - val_loss: 6.4330e-05\n",
      "Epoch 82/100\n",
      "7200/7200 [==============================] - 0s 42us/step - loss: 5.6198e-05 - val_loss: 5.8856e-05\n",
      "Epoch 83/100\n",
      "7200/7200 [==============================] - 0s 41us/step - loss: 5.6073e-05 - val_loss: 5.4061e-05\n",
      "Epoch 84/100\n",
      "7200/7200 [==============================] - 0s 41us/step - loss: 5.5121e-05 - val_loss: 5.2946e-05\n",
      "Epoch 85/100\n",
      "7200/7200 [==============================] - 0s 42us/step - loss: 5.8113e-05 - val_loss: 5.2651e-05\n",
      "Epoch 86/100\n",
      "7200/7200 [==============================] - 0s 42us/step - loss: 5.3726e-05 - val_loss: 5.1307e-05\n",
      "Epoch 87/100\n",
      "7200/7200 [==============================] - 0s 42us/step - loss: 5.3122e-05 - val_loss: 5.1408e-05\n",
      "Epoch 88/100\n",
      "7200/7200 [==============================] - 0s 41us/step - loss: 5.8203e-05 - val_loss: 5.4868e-05\n",
      "Epoch 89/100\n",
      "7200/7200 [==============================] - 0s 41us/step - loss: 5.0417e-05 - val_loss: 4.9509e-05\n",
      "Epoch 90/100\n",
      "7200/7200 [==============================] - 0s 42us/step - loss: 4.9445e-05 - val_loss: 4.6654e-05\n",
      "Epoch 91/100\n",
      "7200/7200 [==============================] - 0s 41us/step - loss: 4.9393e-05 - val_loss: 4.8667e-05\n",
      "Epoch 92/100\n",
      "7200/7200 [==============================] - 0s 41us/step - loss: 4.9151e-05 - val_loss: 4.6147e-05\n",
      "Epoch 93/100\n",
      "7200/7200 [==============================] - 0s 42us/step - loss: 5.0845e-05 - val_loss: 4.9102e-05\n",
      "Epoch 94/100\n",
      "7200/7200 [==============================] - 0s 42us/step - loss: 5.0450e-05 - val_loss: 5.1499e-05\n",
      "Epoch 95/100\n",
      "7200/7200 [==============================] - 0s 42us/step - loss: 4.8268e-05 - val_loss: 5.0895e-05\n",
      "Epoch 96/100\n",
      "7200/7200 [==============================] - 0s 41us/step - loss: 4.7864e-05 - val_loss: 4.6112e-05\n",
      "Epoch 97/100\n",
      "7200/7200 [==============================] - 0s 42us/step - loss: 4.4040e-05 - val_loss: 4.1432e-05\n",
      "Epoch 98/100\n",
      "7200/7200 [==============================] - 0s 42us/step - loss: 4.6556e-05 - val_loss: 4.2069e-05\n",
      "Epoch 99/100\n",
      "7200/7200 [==============================] - 0s 41us/step - loss: 4.4314e-05 - val_loss: 4.8507e-05\n",
      "Epoch 100/100\n",
      "7200/7200 [==============================] - 0s 42us/step - loss: 4.5661e-05 - val_loss: 4.9565e-05\n"
     ]
    }
   ],
   "source": [
    "epochs = 100\n",
    "from keras.callbacks import EarlyStopping\n",
    "\n",
    "earlystop = EarlyStopping(monitor='val_loss', min_delta=0, patience=5, verbose=1, mode='auto')\n",
    "callbacks_list = [earlystop]\n",
    "history = model.fit(x=train_x,\n",
    "                    y=train_y,\n",
    "                    epochs=epochs,\n",
    "                    verbose=1,\n",
    "                    validation_split=0.1,\n",
    "                    callbacks=callbacks_list)"
   ]
  },
  {
   "cell_type": "markdown",
   "metadata": {},
   "source": [
    "### Save Model"
   ]
  },
  {
   "cell_type": "code",
   "execution_count": 16,
   "metadata": {
    "scrolled": true
   },
   "outputs": [],
   "source": [
    "modelpath = str(keras_model_h5_Path / \"model__{}_kernelsize{}.h5\".format(ipynb_title, kernel_size))\n",
    "#if not os.path.exists(modelpath):\n",
    "model.save(filepath=modelpath, overwrite=True)"
   ]
  },
  {
   "cell_type": "markdown",
   "metadata": {},
   "source": [
    "### Save History"
   ]
  },
  {
   "cell_type": "code",
   "execution_count": 17,
   "metadata": {},
   "outputs": [],
   "source": [
    "# error\n",
    "#import pickle\n",
    "#\n",
    "#history_path = str(fit_hitory_Path / (\"{}.history.pickle\".format(ipynb_title)))\n",
    "#with open(history_path, \"wb\") as f:\n",
    "#    pickle.dump(obj=history, file=f)"
   ]
  },
  {
   "cell_type": "markdown",
   "metadata": {
    "colab_type": "text",
    "id": "S3CHe-iwVsfu"
   },
   "source": [
    "## history"
   ]
  },
  {
   "cell_type": "code",
   "execution_count": 18,
   "metadata": {
    "colab": {
     "autoexec": {
      "startup": false,
      "wait_interval": 0
     },
     "base_uri": "https://localhost:8080/",
     "height": 334
    },
    "colab_type": "code",
    "executionInfo": {
     "elapsed": 932,
     "status": "ok",
     "timestamp": 1532589191406,
     "user": {
      "displayName": "杉崎弘明",
      "photoUrl": "//lh3.googleusercontent.com/-839AC8sb-Eg/AAAAAAAAAAI/AAAAAAAAAA8/wL07LaZurhY/s50-c-k-no/photo.jpg",
      "userId": "103645978051141582092"
     },
     "user_tz": -540
    },
    "id": "fk0eHakqXtQ9",
    "outputId": "0d13d1ef-3a88-49ca-8160-8a8420a7f101",
    "scrolled": true
   },
   "outputs": [
    {
     "data": {
      "image/png": "[encoded data removed]",
      "text/plain": [
       "<Figure size 1008x360 with 1 Axes>"
      ]
     },
     "metadata": {},
     "output_type": "display_data"
    }
   ],
   "source": [
    "filename = \"{}__epochs_loss.png\".format(ipynb_title)\n",
    "\n",
    "fig = plt.figure(figsize=(14, 5))\n",
    "ax = fig.add_subplot(1,1,1)\n",
    "\n",
    "ax.plot(history.epoch, history.history['loss'],     label='loss')\n",
    "ax.plot(history.epoch, history.history['val_loss'], label='val_loss')\n",
    "\n",
    "ax.set_xlabel('epoch')\n",
    "ax.set_ylabel('loss')\n",
    "ax.legend() \n",
    "\n",
    "fig.savefig(fname=str(plot_images_Path / filename))\n",
    "plt.show()"
   ]
  },
  {
   "cell_type": "markdown",
   "metadata": {},
   "source": [
    "## Predict"
   ]
  },
  {
   "cell_type": "code",
   "execution_count": 19,
   "metadata": {},
   "outputs": [],
   "source": [
    "from keras.models import load_model"
   ]
  },
  {
   "cell_type": "code",
   "execution_count": 20,
   "metadata": {},
   "outputs": [],
   "source": [
    "epochs = 100\n",
    "kernel_size = 10\n",
    "modelpath = str(keras_model_h5_Path / \"model__{}_kernelsize{}.h5\".format(ipynb_title, kernel_size))\n",
    "model = load_model(filepath=modelpath)"
   ]
  },
  {
   "cell_type": "code",
   "execution_count": 21,
   "metadata": {},
   "outputs": [
    {
     "name": "stdout",
     "output_type": "stream",
     "text": [
      "_________________________________________________________________\n",
      "Layer (type)                 Output Shape              Param #   \n",
      "=================================================================\n",
      "conv1d_1 (Conv1D)            (None, 100, 8)            88        \n",
      "_________________________________________________________________\n",
      "conv1d_2 (Conv1D)            (None, 100, 1)            65        \n",
      "_________________________________________________________________\n",
      "global_max_pooling1d_1 (Glob (None, 1)                 0         \n",
      "=================================================================\n",
      "Total params: 153\n",
      "Trainable params: 153\n",
      "Non-trainable params: 0\n",
      "_________________________________________________________________\n"
     ]
    }
   ],
   "source": [
    "model.summary()"
   ]
  },
  {
   "cell_type": "code",
   "execution_count": 22,
   "metadata": {
    "scrolled": false
   },
   "outputs": [
    {
     "name": "stdout",
     "output_type": "stream",
     "text": [
      "-0.00386\n",
      "(8000, 1)\n",
      "(8000,)\n"
     ]
    },
    {
     "data": {
      "image/png": "[encoded data removed]",
      "text/plain": [
       "<Figure size 1008x504 with 1 Axes>"
      ]
     },
     "metadata": {},
     "output_type": "display_data"
    }
   ],
   "source": [
    "pred = model.predict(train_x)\n",
    "print(pred.squeeze()[0])\n",
    "print(pred.shape)\n",
    "print(pred.squeeze().shape)\n",
    "\n",
    "time = 1000\n",
    "\n",
    "fig = plt.figure(figsize=(14,7))\n",
    "ax = fig.add_subplot(1,1,1)\n",
    "ax.plot(np.arange(windowsize, wave_size)[:time], pred.squeeze()[:time],\n",
    "       label=\"Predict\", color=\"r\")\n",
    "ax.plot(np.arange(0, wave_size)[:time+windowsize], sample_wave.squeeze()[:time+windowsize],\n",
    "       label=\"Real\", color=\"b\", alpha=0.5)\n",
    "#ax.plot(np.arange(windowsize, wave_size)[:500], sample_wave[windowsize:][:500])\n",
    "plt.show()"
   ]
  },
  {
   "cell_type": "code",
   "execution_count": 23,
   "metadata": {
    "scrolled": false
   },
   "outputs": [
    {
     "name": "stdout",
     "output_type": "stream",
     "text": [
      "-0.00386\n",
      "(8000, 1)\n",
      "(8000,)\n"
     ]
    },
    {
     "data": {
      "text/plain": [
       "<matplotlib.legend.Legend at 0x7fc8746f1ac8>"
      ]
     },
     "execution_count": 23,
     "metadata": {},
     "output_type": "execute_result"
    },
    {
     "data": {
      "image/png": "[encoded data removed]",
      "text/plain": [
       "<Figure size 1008x504 with 1 Axes>"
      ]
     },
     "metadata": {},
     "output_type": "display_data"
    }
   ],
   "source": [
    "pred = model.predict(train_x)\n",
    "print(pred.squeeze()[0])\n",
    "print(pred.shape)\n",
    "print(pred.squeeze().shape)\n",
    "\n",
    "time = 200\n",
    "\n",
    "fig = plt.figure(figsize=(14,7))\n",
    "ax = fig.add_subplot(1,1,1)\n",
    "ax.plot(np.arange(windowsize, wave_size)[:time], pred.squeeze()[:time],\n",
    "       label=\"Predict\", color=\"r\")\n",
    "ax.plot(np.arange(0, wave_size)[:time+windowsize], sample_wave.squeeze()[:time+windowsize],\n",
    "       label=\"Real\", color=\"b\", alpha=0.5)\n",
    "#ax.plot(np.arange(windowsize, wave_size)[:500], sample_wave[windowsize:][:500])\n",
    "ax.legend()"
   ]
  },
  {
   "cell_type": "markdown",
   "metadata": {
    "colab_type": "text",
    "id": "NwOGYU-3wyuz"
   },
   "source": [
    "# End"
   ]
  },
  {
   "cell_type": "code",
   "execution_count": 24,
   "metadata": {
    "scrolled": true
   },
   "outputs": [
    {
     "data": {
      "text/plain": [
       "(10,)"
      ]
     },
     "execution_count": 24,
     "metadata": {},
     "output_type": "execute_result"
    }
   ],
   "source": [
    "model.layers[0].kernel_size"
   ]
  }
 ],
 "metadata": {
  "colab": {
   "default_view": {},
   "name": "一次元データ_Conv1d_重み可視化__sinFunc.ipynb",
   "provenance": [],
   "toc_visible": true,
   "version": "0.3.2",
   "views": {}
  },
  "kernelspec": {
   "display_name": "Python 3",
   "language": "python",
   "name": "python3"
  },
  "language_info": {
   "codemirror_mode": {
    "name": "ipython",
    "version": 3
   },
   "file_extension": ".py",
   "mimetype": "text/x-python",
   "name": "python",
   "nbconvert_exporter": "python",
   "pygments_lexer": "ipython3",
   "version": "3.5.2"
  },
  "toc": {
   "base_numbering": 1,
   "nav_menu": {},
   "number_sections": true,
   "sideBar": true,
   "skip_h1_title": true,
   "title_cell": "Table of Contents",
   "title_sidebar": "Contents",
   "toc_cell": true,
   "toc_position": {
    "height": "767px",
    "left": "204px",
    "right": "1271px",
    "top": "111.133px",
    "width": "265px"
   },
   "toc_section_display": true,
   "toc_window_display": true
  },
  "varInspector": {
   "cols": {
    "lenName": 16,
    "lenType": 16,
    "lenVar": 40
   },
   "kernels_config": {
    "python": {
     "delete_cmd_postfix": "",
     "delete_cmd_prefix": "del ",
     "library": "var_list.py",
     "varRefreshCmd": "print(var_dic_list())"
    },
    "r": {
     "delete_cmd_postfix": ") ",
     "delete_cmd_prefix": "rm(",
     "library": "var_list.r",
     "varRefreshCmd": "cat(var_dic_list()) "
    }
   },
   "types_to_exclude": [
    "module",
    "function",
    "builtin_function_or_method",
    "instance",
    "_Feature"
   ],
   "window_display": false
  }
 },
 "nbformat": 4,
 "nbformat_minor": 1
}
