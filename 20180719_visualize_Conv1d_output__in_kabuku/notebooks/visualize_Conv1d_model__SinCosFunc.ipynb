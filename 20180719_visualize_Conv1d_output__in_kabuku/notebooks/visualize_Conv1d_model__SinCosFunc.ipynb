{
 "cells": [
  {
   "cell_type": "markdown",
   "metadata": {
    "toc": true
   },
   "source": [
    "<h1>Table of Contents<span class=\"tocSkip\"></span></h1>\n",
    "<div class=\"toc\"><ul class=\"toc-item\"><li><span><a href=\"#Setting\" data-toc-modified-id=\"Setting-1\"><span class=\"toc-item-num\">1&nbsp;&nbsp;</span>Setting</a></span><ul class=\"toc-item\"><li><span><a href=\"#Path\" data-toc-modified-id=\"Path-1.1\"><span class=\"toc-item-num\">1.1&nbsp;&nbsp;</span>Path</a></span></li></ul></li><li><span><a href=\"#時系列データ作成\" data-toc-modified-id=\"時系列データ作成-2\"><span class=\"toc-item-num\">2&nbsp;&nbsp;</span>時系列データ作成</a></span></li><li><span><a href=\"#入力データ作成\" data-toc-modified-id=\"入力データ作成-3\"><span class=\"toc-item-num\">3&nbsp;&nbsp;</span>入力データ作成</a></span></li><li><span><a href=\"#Load-Model\" data-toc-modified-id=\"Load-Model-4\"><span class=\"toc-item-num\">4&nbsp;&nbsp;</span>Load Model</a></span></li><li><span><a href=\"#Visualize-conv1d_1-Outputs\" data-toc-modified-id=\"Visualize-conv1d_1-Outputs-5\"><span class=\"toc-item-num\">5&nbsp;&nbsp;</span>Visualize conv1d_1 Outputs</a></span><ul class=\"toc-item\"><li><span><a href=\"#Ch00-[0-59]\" data-toc-modified-id=\"Ch00-[0-59]-5.1\"><span class=\"toc-item-num\">5.1&nbsp;&nbsp;</span>Ch00 [0-59]</a></span><ul class=\"toc-item\"><li><span><a href=\"#plot\" data-toc-modified-id=\"plot-5.1.1\"><span class=\"toc-item-num\">5.1.1&nbsp;&nbsp;</span>plot</a></span></li><li><span><a href=\"#Convolve-Output\" data-toc-modified-id=\"Convolve-Output-5.1.2\"><span class=\"toc-item-num\">5.1.2&nbsp;&nbsp;</span>Convolve Output</a></span></li></ul></li></ul></li><li><span><a href=\"#End\" data-toc-modified-id=\"End-6\"><span class=\"toc-item-num\">6&nbsp;&nbsp;</span>End</a></span></li></ul></div>"
   ]
  },
  {
   "cell_type": "markdown",
   "metadata": {
    "colab_type": "text",
    "id": "X50iAsQoLofA"
   },
   "source": [
    "# 一次元データ_Conv1d_重み可視化__sinFunc.ipynb\n",
    "\n",
    "0. データ作成\n",
    "  - 単なるsin関数を含んだ式\n",
    "  - ノイズを加える\n",
    "  - 異常波形作成\n",
    "0. CNN時系列予測\n",
    "  - [時系列予測を一次元畳み込みを使って解く with Keras - Qiita\n",
    "      ](https://qiita.com/niisan-tokyo/items/a94dbd3134219f19cab1)\n",
    "  - その背景を $windowsize$ 5-60程度で予測するConv1d層の作成\n",
    "0. LSTMによる異常検出？\n",
    "  - Conv1dで畳み込んだあとでLSTM層にぶち込めばよい？\n",
    "  - LSTM層では異常かそうでないかの判別\n",
    "    - 簡単にするために $\\textbf{正常}:\\textbf{異常}=1:1$ とするのが良さそう"
   ]
  },
  {
   "cell_type": "code",
   "execution_count": 29,
   "metadata": {},
   "outputs": [],
   "source": [
    "ipynb_title = \"visualize_Conv1d_model__SinCosFunc\""
   ]
  },
  {
   "cell_type": "code",
   "execution_count": 2,
   "metadata": {
    "colab": {
     "autoexec": {
      "startup": false,
      "wait_interval": 0
     },
     "base_uri": "https://localhost:8080/",
     "height": 35
    },
    "colab_type": "code",
    "executionInfo": {
     "elapsed": 578,
     "status": "ok",
     "timestamp": 1532587434700,
     "user": {
      "displayName": "杉崎弘明",
      "photoUrl": "//lh3.googleusercontent.com/-839AC8sb-Eg/AAAAAAAAAAI/AAAAAAAAAA8/wL07LaZurhY/s50-c-k-no/photo.jpg",
      "userId": "103645978051141582092"
     },
     "user_tz": -540
    },
    "id": "k9ykNILgLw8x",
    "outputId": "8df020ad-14ba-4610-e2f8-556ec20f094a"
   },
   "outputs": [
    {
     "name": "stderr",
     "output_type": "stream",
     "text": [
      "Using TensorFlow backend.\n"
     ]
    },
    {
     "name": "stdout",
     "output_type": "stream",
     "text": [
      "Keras version :  2.1.6\n"
     ]
    }
   ],
   "source": [
    "import os,sys\n",
    "import numpy as np\n",
    "import matplotlib.pyplot as plt\n",
    "%matplotlib inline\n",
    "from pathlib import Path\n",
    "\n",
    "import keras\n",
    "print(\"Keras version : \", keras.__version__)"
   ]
  },
  {
   "cell_type": "markdown",
   "metadata": {},
   "source": [
    "## Setting"
   ]
  },
  {
   "cell_type": "markdown",
   "metadata": {},
   "source": [
    "### Path"
   ]
  },
  {
   "cell_type": "code",
   "execution_count": 42,
   "metadata": {},
   "outputs": [
    {
     "name": "stdout",
     "output_type": "stream",
     "text": [
      "/home/pollen/workdir/git/github/article_script/20180719_visualize_Conv1d_output__in_kabuku\n"
     ]
    }
   ],
   "source": [
    "HOME = Path(os.getcwd()).parent\n",
    "print(HOME)"
   ]
  },
  {
   "cell_type": "code",
   "execution_count": 44,
   "metadata": {},
   "outputs": [
    {
     "name": "stdout",
     "output_type": "stream",
     "text": [
      "True :  /home/pollen/workdir/git/github/article_script/20180719_visualize_Conv1d_output__in_kabuku/keras_model_h5_Path\n",
      "True :  /home/pollen/workdir/git/github/article_script/20180719_visualize_Conv1d_output__in_kabuku/data\n",
      "True :  /home/pollen/workdir/git/github/article_script/20180719_visualize_Conv1d_output__in_kabuku/data/plot_images\n"
     ]
    }
   ],
   "source": [
    "path_list = []\n",
    "keras_model_h5_Path = HOME / \"keras_model_h5_Path\"\n",
    "path_list.append(keras_model_h5_Path)\n",
    "data_Path = HOME / \"data\"\n",
    "path_list.append(data_Path)\n",
    "plot_image_Path = data_Path / \"plot_images\"\n",
    "path_list.append(plot_image_Path)\n",
    "\n",
    "for _Path in path_list:\n",
    "    _path = str(_Path)\n",
    "    if not os.path.exists(_path):\n",
    "        os.makedirs(name=_path)\n",
    "        print(\"make a directory: \\n\\t\", _path)\n",
    "    else:\n",
    "        print(os.path.exists(_path), \": \", _path)"
   ]
  },
  {
   "cell_type": "markdown",
   "metadata": {
    "colab_type": "text",
    "id": "iOpxt7BZLrUa"
   },
   "source": [
    "## 時系列データ作成\n",
    "\n",
    "$$\n",
    "\\textbf{toy_func(t)} = \n",
    "  20 \\cdot \\left( \n",
    "    \\sin\\left( \\frac{2\\pi}{T} t \\right)\n",
    "    + \\cos\\left( 2 \\cdot \\frac{2\\pi}{T} t \\right)\n",
    "    + \\sin\\left( 3 \\cdot \\frac{2\\pi}{T} t \\right)\n",
    "    + \\cos\\left( 4 \\cdot \\frac{2\\pi}{T} t \\right)\n",
    "  \\right)\n",
    "  + \\frac{1}{5} t\n",
    "  + \\varepsilon\n",
    "$$"
   ]
  },
  {
   "cell_type": "code",
   "execution_count": 15,
   "metadata": {
    "colab": {
     "autoexec": {
      "startup": false,
      "wait_interval": 0
     }
    },
    "colab_type": "code",
    "id": "sz4t5mios_5S"
   },
   "outputs": [],
   "source": [
    "def mySin(t, period=100):\n",
    "    \"\"\"\n",
    "    時刻t, 周期period\n",
    "    \"\"\"\n",
    "    return np.sin(2.0 * np.pi * t/period)\n",
    "\n",
    "def myCos(t, period=100):\n",
    "    \"\"\"\n",
    "    時刻t, 周期period\n",
    "    \"\"\"\n",
    "    return np.cos(2.0 * np.pi * t/period)"
   ]
  },
  {
   "cell_type": "code",
   "execution_count": 16,
   "metadata": {
    "colab": {
     "autoexec": {
      "startup": false,
      "wait_interval": 0
     }
    },
    "colab_type": "code",
    "id": "eYmZu2lJWfyJ"
   },
   "outputs": [],
   "source": [
    "# Add Noise\n",
    "def toy_func(tStart=0, tStop=100, tStep=1, triAmpl=20, tAmpl=0.5, noiseAmpl=0.05):\n",
    "    \"\"\"\n",
    "    T : \n",
    "      sin波の周期\n",
    "    ampl : \n",
    "      ノイズ振幅調整\n",
    "      \"\"\"\n",
    "    t = np.arange(start=tStart, stop=tStop, step=tStep)\n",
    "    noise = noiseAmpl * np.random.randn(t.shape[0])  # mean=0, standard_deviation=1\n",
    "    return (t,\n",
    "            triAmpl * ( mySin(t, period=100)\n",
    "                        + mySin(t=3*t, period=100)\n",
    "                        + myCos(t=2*t, period=100)\n",
    "                        + myCos(t=4*t, period=100) )\n",
    "            #+ tAmpl * t\n",
    "            + noise )"
   ]
  },
  {
   "cell_type": "markdown",
   "metadata": {
    "colab_type": "text",
    "id": "MndTp9ndw1Np"
   },
   "source": [
    "## 入力データ作成"
   ]
  },
  {
   "cell_type": "code",
   "execution_count": 17,
   "metadata": {
    "colab": {
     "autoexec": {
      "startup": false,
      "wait_interval": 0
     }
    },
    "colab_type": "code",
    "id": "XHcrodZzP-N4"
   },
   "outputs": [],
   "source": [
    "windowsize = 60\n",
    "predictsize = 1"
   ]
  },
  {
   "cell_type": "code",
   "execution_count": 18,
   "metadata": {},
   "outputs": [
    {
     "data": {
      "image/png": "[encoded data removed]",
      "text/plain": [
       "<Figure size 1008x360 with 1 Axes>"
      ]
     },
     "metadata": {},
     "output_type": "display_data"
    }
   ],
   "source": [
    "wave_size = 500\n",
    "t, y = toy_func(tStop=wave_size, triAmpl=1./4, tAmpl=0.0, noiseAmpl=0.1)\n",
    "\n",
    "fig = plt.figure(figsize=(14,5))  # (width, height)\n",
    "ax = fig.add_subplot(1,1,1)\n",
    "ax.plot(t, y)\n",
    "\n",
    "title = \"y (Noise)\"\n",
    "ax.set_title(label=title, fontsize=30)\n",
    "ax.set_xlabel(xlabel=\"t\", fontsize=20)\n",
    "ax.set_ylabel(ylabel=\"y\", fontsize=20, rotation=0)\n",
    "ax.yaxis.set_label_coords(x=0.0, y=1.02)\n",
    "ax.tick_params(labelsize=20)\n",
    "\n",
    "plt.show()"
   ]
  },
  {
   "cell_type": "code",
   "execution_count": 26,
   "metadata": {},
   "outputs": [
    {
     "name": "stdout",
     "output_type": "stream",
     "text": [
      "(0, 60)\n",
      "input_arr.shape  :  (440, 60)\n",
      "input_arr.shape  :  (440, 60, 1)\n"
     ]
    }
   ],
   "source": [
    "input_arr = np.empty(shape=(0, windowsize))\n",
    "print(input_arr.shape)\n",
    "for i in range( y.shape[0] - (windowsize + predictsize) + 1 ):\n",
    "    input_arr = np.append(arr=input_arr,\n",
    "                           values=y[i:(i+windowsize)].reshape(1, -1),\n",
    "                           axis=0)\n",
    "print(\"input_arr.shape  : \", input_arr.shape)\n",
    "input_arr = input_arr.reshape((-1, windowsize, 1))\n",
    "print(\"input_arr.shape  : \", input_arr.shape)"
   ]
  },
  {
   "cell_type": "markdown",
   "metadata": {
    "colab_type": "text",
    "id": "mOYgblAB9owa"
   },
   "source": [
    "## Load Model"
   ]
  },
  {
   "cell_type": "code",
   "execution_count": 19,
   "metadata": {},
   "outputs": [],
   "source": [
    "from keras.models import load_model"
   ]
  },
  {
   "cell_type": "code",
   "execution_count": 20,
   "metadata": {},
   "outputs": [],
   "source": [
    "modelpath = str(keras_model_h5_Path / \"model__create_Conv1d_model__SinCosFunc.h5\")\n",
    "model = load_model(filepath=modelpath)"
   ]
  },
  {
   "cell_type": "code",
   "execution_count": 21,
   "metadata": {
    "colab": {
     "autoexec": {
      "startup": false,
      "wait_interval": 0
     },
     "base_uri": "https://localhost:8080/",
     "height": 428
    },
    "colab_type": "code",
    "executionInfo": {
     "elapsed": 613,
     "status": "ok",
     "timestamp": 1532589086970,
     "user": {
      "displayName": "杉崎弘明",
      "photoUrl": "//lh3.googleusercontent.com/-839AC8sb-Eg/AAAAAAAAAAI/AAAAAAAAAA8/wL07LaZurhY/s50-c-k-no/photo.jpg",
      "userId": "103645978051141582092"
     },
     "user_tz": -540
    },
    "id": "AdTUrfQjAgi3",
    "outputId": "a7ba836b-4c51-4cf1-a463-8bd5eaba8a2b"
   },
   "outputs": [
    {
     "name": "stdout",
     "output_type": "stream",
     "text": [
      "_________________________________________________________________\n",
      "Layer (type)                 Output Shape              Param #   \n",
      "=================================================================\n",
      "conv1d_1 (Conv1D)            (None, 60, 60)            660       \n",
      "_________________________________________________________________\n",
      "max_pooling1d_1 (MaxPooling1 (None, 30, 60)            0         \n",
      "_________________________________________________________________\n",
      "conv1d_2 (Conv1D)            (None, 30, 60)            36060     \n",
      "_________________________________________________________________\n",
      "max_pooling1d_2 (MaxPooling1 (None, 6, 60)             0         \n",
      "_________________________________________________________________\n",
      "conv1d_3 (Conv1D)            (None, 6, 30)             18030     \n",
      "_________________________________________________________________\n",
      "max_pooling1d_3 (MaxPooling1 (None, 1, 30)             0         \n",
      "_________________________________________________________________\n",
      "conv1d_4 (Conv1D)            (None, 1, 15)             4515      \n",
      "_________________________________________________________________\n",
      "conv1d_5 (Conv1D)            (None, 1, 1)              121       \n",
      "=================================================================\n",
      "Total params: 59,386\n",
      "Trainable params: 59,386\n",
      "Non-trainable params: 0\n",
      "_________________________________________________________________\n"
     ]
    }
   ],
   "source": [
    "model.summary()"
   ]
  },
  {
   "cell_type": "markdown",
   "metadata": {},
   "source": [
    "## Visualize conv1d_1 Outputs"
   ]
  },
  {
   "cell_type": "code",
   "execution_count": 24,
   "metadata": {},
   "outputs": [],
   "source": [
    "from keras.models import Model\n",
    "output_layer_name = 'conv1d_1'\n",
    "hidden_layer_model = Model(inputs=model.input,\n",
    "                           outputs=model.get_layer(output_layer_name).output)"
   ]
  },
  {
   "cell_type": "code",
   "execution_count": 27,
   "metadata": {},
   "outputs": [
    {
     "name": "stdout",
     "output_type": "stream",
     "text": [
      "(440, 60, 60)\n"
     ]
    }
   ],
   "source": [
    "hidden_layer_output = hidden_layer_model.predict(x=input_arr)\n",
    "print(hidden_layer_output.shape)"
   ]
  },
  {
   "cell_type": "markdown",
   "metadata": {},
   "source": [
    "### Ch00 [0-59]"
   ]
  },
  {
   "cell_type": "markdown",
   "metadata": {},
   "source": [
    "#### plot"
   ]
  },
  {
   "cell_type": "code",
   "execution_count": 71,
   "metadata": {},
   "outputs": [],
   "source": [
    "ch = 0\n",
    "#--------------------------------------------------------------------------------\n",
    "# Setting Parameter\n",
    "#--------------------------------------------------------------------------------\n",
    "title = ipynb_title + \"__\" + \"channel00_allWindow\"\n",
    "filename = fname_base + \".png\""
   ]
  },
  {
   "cell_type": "code",
   "execution_count": 72,
   "metadata": {},
   "outputs": [
    {
     "name": "stdout",
     "output_type": "stream",
     "text": [
      "(440, 60)\n",
      "(60, 440)\n"
     ]
    }
   ],
   "source": [
    "#--------------------\n",
    "# Resize\n",
    "#--------------------\n",
    "weights = hidden_layer_output[:, :, ch].squeeze()\n",
    "print(weights.shape)\n",
    "weights = weights.T\n",
    "print(weights.shape)"
   ]
  },
  {
   "cell_type": "code",
   "execution_count": 73,
   "metadata": {},
   "outputs": [
    {
     "name": "stdout",
     "output_type": "stream",
     "text": [
      "max :  0.29079372\n",
      "min :  0.0\n",
      "max abs :  0.29079372\n"
     ]
    }
   ],
   "source": [
    "#--------------------\n",
    "# get max value for plot ylim\n",
    "#--------------------\n",
    "print(\"max : \", np.max(weights))\n",
    "print(\"min : \", np.min(weights))\n",
    "max_abs = np.maximum(np.max(weights),\n",
    "                     abs(np.min(weights))\n",
    "                    )\n",
    "print(\"max abs : \", max_abs)"
   ]
  },
  {
   "cell_type": "code",
   "execution_count": 74,
   "metadata": {},
   "outputs": [
    {
     "name": "stdout",
     "output_type": "stream",
     "text": [
      "(-0.5, 439.5)\n",
      "(59.5, -0.5)\n",
      "1.222222222222222\n"
     ]
    },
    {
     "data": {
      "image/png": "[encoded data removed]",
      "text/plain": [
       "<Figure size 1008x504 with 2 Axes>"
      ]
     },
     "metadata": {},
     "output_type": "display_data"
    }
   ],
   "source": [
    "#--------------------------------------------------------------------------------\n",
    "# Plot\n",
    "#--------------------------------------------------------------------------------\n",
    "figsize=(14, 7)\n",
    "fig = plt.figure(figsize=figsize)\n",
    "ax = fig.add_subplot(1,1,1)\n",
    "mappable = ax.imshow(weights,\n",
    "                     cmap='seismic',  # <-- (min,max)=(blue, red)\n",
    "                     vmin=-max_abs,\n",
    "                     vmax=max_abs,\n",
    "                     )\n",
    "fig.colorbar(mappable,\n",
    "             ax=ax,\n",
    "             #orientation='horizontal',\n",
    "             orientation='vertical',\n",
    "             shrink=0.5,\n",
    "             )\n",
    "\n",
    "#----------------------------------------\n",
    "# change x,y axis ratio\n",
    "#----------------------------------------\n",
    "# height is aspect_num times the width\n",
    "print(ax.get_xlim())\n",
    "print(ax.get_ylim())\n",
    "xratio = 6\n",
    "aspect = (1/xratio) * (ax.get_xlim()[1] - ax.get_xlim()[0]) / (ax.get_ylim()[0] - ax.get_ylim()[1])\n",
    "print(aspect)\n",
    "ax.set_aspect(aspect=aspect,)\n",
    "\n",
    "#----------------------------------------\n",
    "# plot config\n",
    "#----------------------------------------\n",
    "ax.set_title(label=title, fontsize=20, y=1.3)\n",
    "ax.set_xlabel(xlabel=\"t'\", fontsize=15)\n",
    "ax.set_ylabel(ylabel=\"windowsize index\", fontsize=15, rotation=0)\n",
    "ax.yaxis.set_label_coords(x=0.01, y=1.1)  # ylabel position\n",
    "ax.tick_params(labelsize=20)  # tick fontsize\n",
    "\n",
    "fig.savefig(fname=str(plot_image_Path / filename))\n",
    "plt.show()"
   ]
  },
  {
   "cell_type": "markdown",
   "metadata": {},
   "source": [
    "#### Convolve Output"
   ]
  },
  {
   "cell_type": "markdown",
   "metadata": {},
   "source": [
    "<img src=\"./images/fig01.png\">"
   ]
  },
  {
   "cell_type": "code",
   "execution_count": 76,
   "metadata": {},
   "outputs": [],
   "source": [
    "figsize = (25, 10)\n",
    "cmap = \"seismic\""
   ]
  },
  {
   "cell_type": "code",
   "execution_count": 77,
   "metadata": {},
   "outputs": [],
   "source": [
    "#--------------------------------------------------------------------------------\n",
    "# Setting Parameter\n",
    "#--------------------------------------------------------------------------------\n",
    "ch = 0\n",
    "title = title + \"__channel00__concatenateWindows\"\n",
    "filename = title + \".png\""
   ]
  },
  {
   "cell_type": "code",
   "execution_count": 5,
   "metadata": {},
   "outputs": [
    {
     "ename": "NameError",
     "evalue": "name 'weights_tmp' is not defined",
     "output_type": "error",
     "traceback": [
      "\u001b[0;31m---------------------------------------------------------------------------\u001b[0m",
      "\u001b[0;31mNameError\u001b[0m                                 Traceback (most recent call last)",
      "\u001b[0;32m<ipython-input-5-d6a7914d1297>\u001b[0m in \u001b[0;36m<module>\u001b[0;34m()\u001b[0m\n\u001b[0;32m----> 1\u001b[0;31m \u001b[0mweights_tmp\u001b[0m\u001b[0;34m[\u001b[0m\u001b[0;34m-\u001b[0m\u001b[0mwindowsize\u001b[0m\u001b[0;34m]\u001b[0m\u001b[0;34m\u001b[0m\u001b[0m\n\u001b[0m",
      "\u001b[0;31mNameError\u001b[0m: name 'weights_tmp' is not defined"
     ]
    }
   ],
   "source": [
    "weights_tmp[-windowsize]"
   ]
  },
  {
   "cell_type": "code",
   "execution_count": null,
   "metadata": {},
   "outputs": [],
   "source": [
    "#----------------------------------------\n",
    "# Convolved window size\n",
    "#----------------------------------------\n",
    "weights_tmp = hidden_layer_output[:, :, ch].squeeze()\n",
    "weights_tmp = weights_tmp.T\n",
    "\n",
    "# Prepare for convolved\n",
    "weights = np.empty(shape=(0, 15001))\n",
    "# append last\n",
    "for idx in range(1,windowsize):\n",
    "    for window_idx in range(idx):\n",
    "        val = weights_tmp[windowsize, -windowsize+window_idx+1]\n",
    "        insert_arr = np.insert(arr=weights_tmp[window_idx],\n",
    "                               obj   =[shape_tmp for i in range(windowsize - window_idx - 1)],\n",
    "                               values=[0         for i in range(windowsize - window_idx - 1)],\n",
    "                               ).reshape(1, -1)\n",
    "    # append to the array\n",
    "    weights = np.append(\n",
    "        arr=idx_channel_weights,\n",
    "        values = insert_arr,\n",
    "        axis=0,\n",
    "    )\n",
    "for window_idx in range(windowsize):\n",
    "    # insert first\n",
    "    insert_arr = np.insert(arr=insert_arr,\n",
    "                           obj   =[0 for i in range(window_idx)],\n",
    "                           values=[0 for i in range(window_idx)],\n",
    "                           ).reshape(1, -1)\n",
    "    # append to the array\n",
    "    idx_channel_weights = np.append(\n",
    "        arr=idx_channel_weights,\n",
    "        values = insert_arr,\n",
    "        axis=0,\n",
    "    )\n",
    "print(\"idx_channel_weights.shape (idx:0) : \", idx_channel_weights.shape)\n",
    "\n",
    "# Convolved\n",
    "idx_channel_weights_convolved = idx_channel_weights.sum(axis=0).reshape(1, -1)\n",
    "print(\"idx_channel_weights_convolved.shape (idx:0) : \", idx_channel_weights_convolved.shape)"
   ]
  },
  {
   "cell_type": "code",
   "execution_count": null,
   "metadata": {},
   "outputs": [],
   "source": [
    "\n",
    "#--------------------\n",
    "# get max value for plot ylim\n",
    "#--------------------\n",
    "print(\"max : \", np.max(idx_channel_weights_convolved))\n",
    "print(\"min : \", np.min(idx_channel_weights_convolved))\n",
    "max_abs = np.maximum(np.max(idx_channel_weights_convolved),\n",
    "                     abs(np.min(idx_channel_weights_convolved))\n",
    "                    )\n",
    "print(\"max abs : \", max_abs)\n",
    "\n",
    "\n",
    "#--------------------------------------------------------------------------------\n",
    "# Plot\n",
    "#--------------------------------------------------------------------------------\n",
    "fig = plt.figure(figsize=figsize)\n",
    "ax = fig.add_subplot(1,1,1)\n",
    "mappable = ax.imshow(idx_channel_weights_convolved,\n",
    "                     cmap='seismic',  # <-- (min,max)=(blue, red)\n",
    "                     vmin=-max_abs,\n",
    "                     vmax=max_abs,\n",
    "                     )\n",
    "fig.colorbar(mappable,\n",
    "             ax=ax,\n",
    "             orientation='vertical',\n",
    "             shrink=0.5,\n",
    "             )\n",
    "\n",
    "#----------------------------------------\n",
    "# change x,y axis ratio\n",
    "#----------------------------------------\n",
    "# height is aspect_num times the width\n",
    "xratio = 6\n",
    "aspect = (1/xratio) * (ax.get_xlim()[1] - ax.get_xlim()[0]) / (ax.get_ylim()[0] - ax.get_ylim()[1])\n",
    "ax.set_aspect(aspect=aspect,)\n",
    "\n",
    "fig.savefig(fname=str(plot_image_Path / title))\n",
    "plt.show()"
   ]
  },
  {
   "cell_type": "code",
   "execution_count": null,
   "metadata": {},
   "outputs": [],
   "source": []
  },
  {
   "cell_type": "markdown",
   "metadata": {
    "colab_type": "text",
    "id": "NwOGYU-3wyuz"
   },
   "source": [
    "## End"
   ]
  },
  {
   "cell_type": "code",
   "execution_count": null,
   "metadata": {
    "colab": {
     "autoexec": {
      "startup": false,
      "wait_interval": 0
     }
    },
    "colab_type": "code",
    "id": "GWie3rh_0mSn"
   },
   "outputs": [],
   "source": []
  }
 ],
 "metadata": {
  "colab": {
   "default_view": {},
   "name": "一次元データ_Conv1d_重み可視化__sinFunc.ipynb",
   "provenance": [],
   "toc_visible": true,
   "version": "0.3.2",
   "views": {}
  },
  "kernelspec": {
   "display_name": "Python 3",
   "language": "python",
   "name": "python3"
  },
  "language_info": {
   "codemirror_mode": {
    "name": "ipython",
    "version": 3
   },
   "file_extension": ".py",
   "mimetype": "text/x-python",
   "name": "python",
   "nbconvert_exporter": "python",
   "pygments_lexer": "ipython3",
   "version": "3.5.2"
  },
  "toc": {
   "base_numbering": 1,
   "nav_menu": {},
   "number_sections": true,
   "sideBar": true,
   "skip_h1_title": true,
   "title_cell": "Table of Contents",
   "title_sidebar": "Contents",
   "toc_cell": true,
   "toc_position": {
    "height": "calc(100% - 180px)",
    "left": "10px",
    "top": "150px",
    "width": "265px"
   },
   "toc_section_display": true,
   "toc_window_display": true
  }
 },
 "nbformat": 4,
 "nbformat_minor": 1
}
