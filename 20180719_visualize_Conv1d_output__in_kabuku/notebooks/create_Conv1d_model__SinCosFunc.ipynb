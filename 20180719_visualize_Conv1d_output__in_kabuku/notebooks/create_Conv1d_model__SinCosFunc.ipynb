{
 "cells": [
  {
   "cell_type": "markdown",
   "metadata": {
    "toc": true
   },
   "source": [
    "<h1>Table of Contents<span class=\"tocSkip\"></span></h1>\n",
    "<div class=\"toc\"><ul class=\"toc-item\"><li><span><a href=\"#Setting\" data-toc-modified-id=\"Setting-1\"><span class=\"toc-item-num\">1&nbsp;&nbsp;</span>Setting</a></span><ul class=\"toc-item\"><li><span><a href=\"#Path\" data-toc-modified-id=\"Path-1.1\"><span class=\"toc-item-num\">1.1&nbsp;&nbsp;</span>Path</a></span></li></ul></li><li><span><a href=\"#時系列データ作成\" data-toc-modified-id=\"時系列データ作成-2\"><span class=\"toc-item-num\">2&nbsp;&nbsp;</span>時系列データ作成</a></span><ul class=\"toc-item\"><li><span><a href=\"#No-Noise\" data-toc-modified-id=\"No-Noise-2.1\"><span class=\"toc-item-num\">2.1&nbsp;&nbsp;</span>No Noise</a></span></li><li><span><a href=\"#Noise\" data-toc-modified-id=\"Noise-2.2\"><span class=\"toc-item-num\">2.2&nbsp;&nbsp;</span>Noise</a></span></li></ul></li><li><span><a href=\"#入力データ作成\" data-toc-modified-id=\"入力データ作成-3\"><span class=\"toc-item-num\">3&nbsp;&nbsp;</span>入力データ作成</a></span></li><li><span><a href=\"#Model\" data-toc-modified-id=\"Model-4\"><span class=\"toc-item-num\">4&nbsp;&nbsp;</span>Model</a></span><ul class=\"toc-item\"><li><ul class=\"toc-item\"><li><span><a href=\"#Fit\" data-toc-modified-id=\"Fit-4.0.1\"><span class=\"toc-item-num\">4.0.1&nbsp;&nbsp;</span>Fit</a></span></li></ul></li><li><span><a href=\"#Save-Model\" data-toc-modified-id=\"Save-Model-4.1\"><span class=\"toc-item-num\">4.1&nbsp;&nbsp;</span>Save Model</a></span></li></ul></li><li><span><a href=\"#history\" data-toc-modified-id=\"history-5\"><span class=\"toc-item-num\">5&nbsp;&nbsp;</span>history</a></span></li></ul></div>"
   ]
  },
  {
   "cell_type": "markdown",
   "metadata": {
    "colab_type": "text",
    "id": "X50iAsQoLofA"
   },
   "source": [
    "# 一次元データ_Conv1d_重み可視化__sinFunc.ipynb\n",
    "\n",
    "0. データ作成\n",
    "  - 単なるsin関数を含んだ式\n",
    "  - ノイズを加える\n",
    "  - 異常波形作成\n",
    "0. CNN時系列予測\n",
    "  - [時系列予測を一次元畳み込みを使って解く with Keras - Qiita\n",
    "      ](https://qiita.com/niisan-tokyo/items/a94dbd3134219f19cab1)\n",
    "  - その背景を $windowsize$ 5-60程度で予測するConv1d層の作成\n",
    "0. LSTMによる異常検出？\n",
    "  - Conv1dで畳み込んだあとでLSTM層にぶち込めばよい？\n",
    "  - LSTM層では異常かそうでないかの判別\n",
    "    - 簡単にするために $\\textbf{正常}:\\textbf{異常}=1:1$ とするのが良さそう"
   ]
  },
  {
   "cell_type": "code",
   "execution_count": 38,
   "metadata": {},
   "outputs": [],
   "source": [
    "ipynb_title = \"create_Conv1d_model__SinCosFunc\""
   ]
  },
  {
   "cell_type": "code",
   "execution_count": 39,
   "metadata": {
    "colab": {
     "autoexec": {
      "startup": false,
      "wait_interval": 0
     },
     "base_uri": "https://localhost:8080/",
     "height": 35
    },
    "colab_type": "code",
    "executionInfo": {
     "elapsed": 578,
     "status": "ok",
     "timestamp": 1532587434700,
     "user": {
      "displayName": "杉崎弘明",
      "photoUrl": "//lh3.googleusercontent.com/-839AC8sb-Eg/AAAAAAAAAAI/AAAAAAAAAA8/wL07LaZurhY/s50-c-k-no/photo.jpg",
      "userId": "103645978051141582092"
     },
     "user_tz": -540
    },
    "id": "k9ykNILgLw8x",
    "outputId": "8df020ad-14ba-4610-e2f8-556ec20f094a"
   },
   "outputs": [
    {
     "name": "stdout",
     "output_type": "stream",
     "text": [
      "Keras version :  2.1.6\n"
     ]
    }
   ],
   "source": [
    "import os,sys\n",
    "import numpy as np\n",
    "import matplotlib.pyplot as plt\n",
    "%matplotlib inline\n",
    "from pathlib import Path\n",
    "\n",
    "import keras\n",
    "print(\"Keras version : \", keras.__version__)"
   ]
  },
  {
   "cell_type": "markdown",
   "metadata": {},
   "source": [
    "## Setting"
   ]
  },
  {
   "cell_type": "markdown",
   "metadata": {},
   "source": [
    "### Path"
   ]
  },
  {
   "cell_type": "code",
   "execution_count": 40,
   "metadata": {},
   "outputs": [
    {
     "name": "stdout",
     "output_type": "stream",
     "text": [
      "/home/pollen/workdir/git/github/article_script/20180719_visualize_Conv1d_output__in_kabuku\n"
     ]
    }
   ],
   "source": [
    "HOME = Path(os.getcwd()).parent\n",
    "print(HOME)\n",
    "path_list = []"
   ]
  },
  {
   "cell_type": "code",
   "execution_count": 41,
   "metadata": {},
   "outputs": [
    {
     "name": "stdout",
     "output_type": "stream",
     "text": [
      "True :  /home/pollen/workdir/git/github/article_script/20180719_visualize_Conv1d_output__in_kabuku/keras_model_h5_Path\n"
     ]
    }
   ],
   "source": [
    "keras_model_h5_Path = HOME / \"keras_model_h5_Path\"\n",
    "path_list.append(keras_model_h5_Path)\n",
    "\n",
    "for _Path in path_list:\n",
    "    _path = str(keras_model_h5_Path)\n",
    "    if not os.path.exists(_path):\n",
    "        os.makedirs(name=_path)\n",
    "        print(\"make a directory: \\n\\t\", _path)\n",
    "    else:\n",
    "        print(os.path.exists(_path), \": \", _path)"
   ]
  },
  {
   "cell_type": "markdown",
   "metadata": {
    "colab_type": "text",
    "id": "iOpxt7BZLrUa"
   },
   "source": [
    "## 時系列データ作成\n",
    "\n",
    "$$\n",
    "\\textbf{toy_func(t)} = \n",
    "  20 \\cdot \\left( \n",
    "    \\sin\\left( \\frac{2\\pi}{T} t \\right)\n",
    "    + \\cos\\left( 2 \\cdot \\frac{2\\pi}{T} t \\right)\n",
    "    + \\sin\\left( 3 \\cdot \\frac{2\\pi}{T} t \\right)\n",
    "    + \\cos\\left( 4 \\cdot \\frac{2\\pi}{T} t \\right)\n",
    "  \\right)\n",
    "  + \\frac{1}{5} t\n",
    "  + \\varepsilon\n",
    "$$"
   ]
  },
  {
   "cell_type": "code",
   "execution_count": 42,
   "metadata": {
    "colab": {
     "autoexec": {
      "startup": false,
      "wait_interval": 0
     }
    },
    "colab_type": "code",
    "id": "sz4t5mios_5S"
   },
   "outputs": [],
   "source": [
    "def mySin(t, period=100):\n",
    "    \"\"\"\n",
    "    時刻t, 周期period\n",
    "    \"\"\"\n",
    "    return np.sin(2.0 * np.pi * t/period)\n",
    "\n",
    "def myCos(t, period=100):\n",
    "    \"\"\"\n",
    "    時刻t, 周期period\n",
    "    \"\"\"\n",
    "    return np.cos(2.0 * np.pi * t/period)"
   ]
  },
  {
   "cell_type": "markdown",
   "metadata": {
    "colab_type": "text",
    "id": "1jx_oZxSwqT0"
   },
   "source": [
    "### No Noise"
   ]
  },
  {
   "cell_type": "code",
   "execution_count": 43,
   "metadata": {
    "colab": {
     "autoexec": {
      "startup": false,
      "wait_interval": 0
     },
     "base_uri": "https://localhost:8080/",
     "height": 380
    },
    "colab_type": "code",
    "executionInfo": {
     "elapsed": 903,
     "status": "ok",
     "timestamp": 1532587436891,
     "user": {
      "displayName": "杉崎弘明",
      "photoUrl": "//lh3.googleusercontent.com/-839AC8sb-Eg/AAAAAAAAAAI/AAAAAAAAAA8/wL07LaZurhY/s50-c-k-no/photo.jpg",
      "userId": "103645978051141582092"
     },
     "user_tz": -540
    },
    "id": "Gfm5xzS9tGGH",
    "outputId": "07ebd13e-4d11-442f-8c24-d55525944ba4"
   },
   "outputs": [
    {
     "data": {
      "image/png": "[encoded data removed]",
      "text/plain": [
       "<Figure size 1008x360 with 1 Axes>"
      ]
     },
     "metadata": {},
     "output_type": "display_data"
    }
   ],
   "source": [
    "# No Noise\n",
    "t = np.arange(start=0, stop=200, step=1)\n",
    "triAmpl = 20\n",
    "tAmpl = 0.2\n",
    "y = triAmpl * ( mySin(t, period=100)\n",
    "                + mySin(t=3*t, period=100)\n",
    "                + myCos(t=2*t, period=100)\n",
    "                + myCos(t=4*t, period=100) ) + tAmpl * t\n",
    "\n",
    "#----------\n",
    "# Plot\n",
    "#----------\n",
    "fig = plt.figure(figsize=(14,5))  # (width, height)\n",
    "ax = fig.add_subplot(1,1,1)\n",
    "\n",
    "ax.plot(t, y)\n",
    "\n",
    "title = \"y (No Noise)\"\n",
    "ax.set_title(label=title, fontsize=30)\n",
    "ax.set_xlabel(xlabel=\"t\", fontsize=20)\n",
    "ax.set_ylabel(ylabel=\"y\", fontsize=20, rotation=0)\n",
    "ax.yaxis.set_label_coords(x=0., y=1.02)\n",
    "ax.tick_params(labelsize=20)\n",
    "\n",
    "plt.show()"
   ]
  },
  {
   "cell_type": "markdown",
   "metadata": {
    "colab_type": "text",
    "id": "0NZntq17wwol"
   },
   "source": [
    "### Noise"
   ]
  },
  {
   "cell_type": "code",
   "execution_count": 44,
   "metadata": {
    "colab": {
     "autoexec": {
      "startup": false,
      "wait_interval": 0
     }
    },
    "colab_type": "code",
    "id": "eYmZu2lJWfyJ"
   },
   "outputs": [],
   "source": [
    "# Add Noise\n",
    "def toy_func(tStart=0, tStop=100, tStep=1, triAmpl=20, tAmpl=0.5, noiseAmpl=0.05):\n",
    "    \"\"\"\n",
    "    T : \n",
    "      sin波の周期\n",
    "    ampl : \n",
    "      ノイズ振幅調整\n",
    "      \"\"\"\n",
    "    t = np.arange(start=tStart, stop=tStop, step=tStep)\n",
    "    noise = noiseAmpl * np.random.randn(t.shape[0])  # mean=0, standard_deviation=1\n",
    "    return (t,\n",
    "            triAmpl * ( mySin(t, period=100)\n",
    "                        + mySin(t=3*t, period=100)\n",
    "                        + myCos(t=2*t, period=100)\n",
    "                        + myCos(t=4*t, period=100) )\n",
    "            #+ tAmpl * t\n",
    "            + noise )"
   ]
  },
  {
   "cell_type": "code",
   "execution_count": 45,
   "metadata": {
    "colab": {
     "autoexec": {
      "startup": false,
      "wait_interval": 0
     },
     "base_uri": "https://localhost:8080/",
     "height": 380
    },
    "colab_type": "code",
    "executionInfo": {
     "elapsed": 1282,
     "status": "ok",
     "timestamp": 1532587439022,
     "user": {
      "displayName": "杉崎弘明",
      "photoUrl": "//lh3.googleusercontent.com/-839AC8sb-Eg/AAAAAAAAAAI/AAAAAAAAAA8/wL07LaZurhY/s50-c-k-no/photo.jpg",
      "userId": "103645978051141582092"
     },
     "user_tz": -540
    },
    "id": "gTDa2x92ajY9",
    "outputId": "2d82e92e-3c20-472f-d464-38c4b64e7cf3"
   },
   "outputs": [
    {
     "data": {
      "image/png": "[encoded data removed]",
      "text/plain": [
       "<Figure size 1008x360 with 1 Axes>"
      ]
     },
     "metadata": {},
     "output_type": "display_data"
    }
   ],
   "source": [
    "fig = plt.figure(figsize=(14,5))  # (width, height)\n",
    "ax = fig.add_subplot(1,1,1)\n",
    "t, y = toy_func(tStop=1000, triAmpl=1./4, tAmpl=0.0, noiseAmpl=0.1)\n",
    "ax.plot(t, y)\n",
    "\n",
    "title = \"y (Noise)\"\n",
    "ax.set_title(label=title, fontsize=30)\n",
    "ax.set_xlabel(xlabel=\"t\", fontsize=20)\n",
    "ax.set_ylabel(ylabel=\"y\", fontsize=20, rotation=0)\n",
    "ax.yaxis.set_label_coords(x=0.0, y=1.02)\n",
    "ax.tick_params(labelsize=20)\n",
    "\n",
    "plt.show()"
   ]
  },
  {
   "cell_type": "markdown",
   "metadata": {
    "colab_type": "text",
    "id": "MndTp9ndw1Np"
   },
   "source": [
    "## 入力データ作成"
   ]
  },
  {
   "cell_type": "code",
   "execution_count": 46,
   "metadata": {
    "colab": {
     "autoexec": {
      "startup": false,
      "wait_interval": 0
     }
    },
    "colab_type": "code",
    "id": "XHcrodZzP-N4"
   },
   "outputs": [],
   "source": [
    "windowsize = 60\n",
    "predictsize = 1\n",
    "sample_data_size = 10000\n",
    "trainsize = 10000"
   ]
  },
  {
   "cell_type": "code",
   "execution_count": 47,
   "metadata": {
    "colab": {
     "autoexec": {
      "startup": false,
      "wait_interval": 0
     },
     "base_uri": "https://localhost:8080/",
     "height": 35
    },
    "colab_type": "code",
    "executionInfo": {
     "elapsed": 649,
     "status": "ok",
     "timestamp": 1532587440619,
     "user": {
      "displayName": "杉崎弘明",
      "photoUrl": "//lh3.googleusercontent.com/-839AC8sb-Eg/AAAAAAAAAAI/AAAAAAAAAA8/wL07LaZurhY/s50-c-k-no/photo.jpg",
      "userId": "103645978051141582092"
     },
     "user_tz": -540
    },
    "id": "P22Ru93CyihD",
    "outputId": "cdbd399d-eddb-4e88-994d-7c0d959f3477"
   },
   "outputs": [
    {
     "name": "stdout",
     "output_type": "stream",
     "text": [
      "(10000,)\n"
     ]
    }
   ],
   "source": [
    "_, sample_wave = toy_func(tStop=sample_data_size, triAmpl=1./4, tAmpl=0.0, noiseAmpl=0.1)\n",
    "print(sample_wave.shape)"
   ]
  },
  {
   "cell_type": "code",
   "execution_count": 48,
   "metadata": {
    "colab": {
     "autoexec": {
      "startup": false,
      "wait_interval": 0
     },
     "base_uri": "https://localhost:8080/",
     "height": 124
    },
    "colab_type": "code",
    "executionInfo": {
     "elapsed": 695,
     "status": "ok",
     "timestamp": 1532587441418,
     "user": {
      "displayName": "杉崎弘明",
      "photoUrl": "//lh3.googleusercontent.com/-839AC8sb-Eg/AAAAAAAAAAI/AAAAAAAAAA8/wL07LaZurhY/s50-c-k-no/photo.jpg",
      "userId": "103645978051141582092"
     },
     "user_tz": -540
    },
    "id": "WKXyPb9ixjpQ",
    "outputId": "e2c66b4d-38f3-4ba5-f742-238d8a8e9562"
   },
   "outputs": [
    {
     "name": "stdout",
     "output_type": "stream",
     "text": [
      "(0, 60)\n",
      "(0, 1)\n",
      "input_data.shape  :  (9940, 60)\n",
      "output_data.shape :  (9940, 1)\n",
      "input_data.shape  :  (9940, 60, 1)\n",
      "output_data.shape :  (9940, 1, 1)\n"
     ]
    }
   ],
   "source": [
    "input_data  = np.empty(shape=(0, windowsize))\n",
    "output_data = np.empty(shape=(0, predictsize))\n",
    "print(input_data.shape)\n",
    "print(output_data.shape)\n",
    "for i in range( sample_wave.shape[0] - (windowsize + predictsize) + 1 ):\n",
    "    input_data = np.append(arr=input_data,\n",
    "                           values=sample_wave[i:(i+windowsize)].reshape(1, -1),\n",
    "                           axis=0)\n",
    "    output_data = np.append(arr=output_data,\n",
    "                            values=sample_wave[(i+windowsize):(i+windowsize+predictsize)].reshape(1, -1),\n",
    "                            axis=0)\n",
    "print(\"input_data.shape  : \", input_data.shape)\n",
    "print(\"output_data.shape : \", output_data.shape)\n",
    "input_data = input_data.reshape((-1, windowsize, 1))\n",
    "output_data = output_data.reshape((-1, predictsize, 1))\n",
    "print(\"input_data.shape  : \", input_data.shape)\n",
    "print(\"output_data.shape : \", output_data.shape)"
   ]
  },
  {
   "cell_type": "code",
   "execution_count": 49,
   "metadata": {
    "colab": {
     "autoexec": {
      "startup": false,
      "wait_interval": 0
     },
     "base_uri": "https://localhost:8080/",
     "height": 88
    },
    "colab_type": "code",
    "executionInfo": {
     "elapsed": 683,
     "status": "ok",
     "timestamp": 1532587442237,
     "user": {
      "displayName": "杉崎弘明",
      "photoUrl": "//lh3.googleusercontent.com/-839AC8sb-Eg/AAAAAAAAAAI/AAAAAAAAAA8/wL07LaZurhY/s50-c-k-no/photo.jpg",
      "userId": "103645978051141582092"
     },
     "user_tz": -540
    },
    "id": "QEcIXeYl803u",
    "outputId": "a4e2678a-b340-47d9-ae91-e21871e0b092"
   },
   "outputs": [
    {
     "name": "stdout",
     "output_type": "stream",
     "text": [
      "train_x.shape :  (9940, 60, 1)\n",
      "train_y.shape :  (9940, 1, 1)\n",
      "test_x.shape  :  (0, 60, 1)\n",
      "test_y.shape  :  (0, 1, 1)\n"
     ]
    }
   ],
   "source": [
    "train_x, test_x = input_data[:trainsize], input_data[trainsize:]\n",
    "train_y, test_y = output_data[:trainsize], output_data[trainsize:]\n",
    "print(\"train_x.shape : \", train_x.shape)\n",
    "print(\"train_y.shape : \", train_y.shape)\n",
    "print(\"test_x.shape  : \", test_x.shape)\n",
    "print(\"test_y.shape  : \", test_y.shape)"
   ]
  },
  {
   "cell_type": "markdown",
   "metadata": {
    "colab_type": "text",
    "id": "mOYgblAB9owa"
   },
   "source": [
    "## Model\n",
    "\n",
    "- Conv1d\n",
    "  - https://keras.io/ja/layers/convolutional/#conv1d\n",
    "- 正則化\n",
    "  - https://keras.io/ja/regularizers/\n",
    "  "
   ]
  },
  {
   "cell_type": "code",
   "execution_count": 50,
   "metadata": {
    "colab": {
     "autoexec": {
      "startup": false,
      "wait_interval": 0
     }
    },
    "colab_type": "code",
    "id": "KhXsQv5l9qvq"
   },
   "outputs": [],
   "source": [
    "from keras.models import Sequential\n",
    "from keras.layers import Dense, Dropout\n",
    "from keras.layers.convolutional import Conv1D, UpSampling1D\n",
    "from keras.layers.pooling import MaxPooling1D\n",
    "from keras import regularizers"
   ]
  },
  {
   "cell_type": "code",
   "execution_count": 51,
   "metadata": {
    "colab": {
     "autoexec": {
      "startup": false,
      "wait_interval": 0
     }
    },
    "colab_type": "code",
    "id": "Mo0zwFwR9qlR"
   },
   "outputs": [],
   "source": [
    "model = Sequential()\n",
    "model.add( Conv1D(filters=windowsize, kernel_size=10, strides=1, padding=\"same\",\n",
    "                  activation=\"relu\",\n",
    "                  #kernel_regularizer=regularizers.l2(0.1),\n",
    "                  #bias_regularizer=regularizers.l2(0.1),\n",
    "                  input_shape=(windowsize, 1),\n",
    "                  ) )\n",
    "model.add( MaxPooling1D(pool_size=2, padding=\"same\") )\n",
    "model.add( Conv1D(filters=windowsize, kernel_size=10, padding='same', activation='relu',\n",
    "                  #kernel_regularizer=regularizers.l2(0.1),\n",
    "                  #bias_regularizer=regularizers.l2(0.0),\n",
    "                  ) )\n",
    "model.add( MaxPooling1D(pool_size=5, padding='same') )\n",
    "model.add( Conv1D(filters=int(windowsize/2), kernel_size=10, padding='same', activation='relu',\n",
    "                  #kernel_regularizer=regularizers.l2(0.1),\n",
    "                  #bias_regularizer=regularizers.l2(0.1),\n",
    "                  ) )\n",
    "model.add( MaxPooling1D(pool_size=6, padding='same') )\n",
    "model.add( Conv1D(filters=int(windowsize/2/2), kernel_size=10, padding='same', activation='relu',\n",
    "                  #kernel_regularizer=regularizers.l2(0.1),\n",
    "                  #bias_regularizer=regularizers.l2(0.1),\n",
    "                  ) )\n",
    "model.add( Conv1D(filters=1, kernel_size=8, padding='same', activation='tanh',\n",
    "                  #kernel_regularizer=regularizers.l2(0.1),\n",
    "                  #bias_regularizer=regularizers.l2(0.1),\n",
    "                  ) )\n",
    "\n",
    "model.compile(loss='mse', optimizer='adam')"
   ]
  },
  {
   "cell_type": "code",
   "execution_count": 52,
   "metadata": {
    "colab": {
     "autoexec": {
      "startup": false,
      "wait_interval": 0
     },
     "base_uri": "https://localhost:8080/",
     "height": 428
    },
    "colab_type": "code",
    "executionInfo": {
     "elapsed": 613,
     "status": "ok",
     "timestamp": 1532589086970,
     "user": {
      "displayName": "杉崎弘明",
      "photoUrl": "//lh3.googleusercontent.com/-839AC8sb-Eg/AAAAAAAAAAI/AAAAAAAAAA8/wL07LaZurhY/s50-c-k-no/photo.jpg",
      "userId": "103645978051141582092"
     },
     "user_tz": -540
    },
    "id": "AdTUrfQjAgi3",
    "outputId": "a7ba836b-4c51-4cf1-a463-8bd5eaba8a2b"
   },
   "outputs": [
    {
     "name": "stdout",
     "output_type": "stream",
     "text": [
      "_________________________________________________________________\n",
      "Layer (type)                 Output Shape              Param #   \n",
      "=================================================================\n",
      "conv1d_6 (Conv1D)            (None, 60, 60)            660       \n",
      "_________________________________________________________________\n",
      "max_pooling1d_4 (MaxPooling1 (None, 30, 60)            0         \n",
      "_________________________________________________________________\n",
      "conv1d_7 (Conv1D)            (None, 30, 60)            36060     \n",
      "_________________________________________________________________\n",
      "max_pooling1d_5 (MaxPooling1 (None, 6, 60)             0         \n",
      "_________________________________________________________________\n",
      "conv1d_8 (Conv1D)            (None, 6, 30)             18030     \n",
      "_________________________________________________________________\n",
      "max_pooling1d_6 (MaxPooling1 (None, 1, 30)             0         \n",
      "_________________________________________________________________\n",
      "conv1d_9 (Conv1D)            (None, 1, 15)             4515      \n",
      "_________________________________________________________________\n",
      "conv1d_10 (Conv1D)           (None, 1, 1)              121       \n",
      "=================================================================\n",
      "Total params: 59,386\n",
      "Trainable params: 59,386\n",
      "Non-trainable params: 0\n",
      "_________________________________________________________________\n"
     ]
    }
   ],
   "source": [
    "model.summary()"
   ]
  },
  {
   "cell_type": "markdown",
   "metadata": {
    "colab_type": "text",
    "id": "ZNQnSeHjHUHZ"
   },
   "source": [
    "#### Fit"
   ]
  },
  {
   "cell_type": "code",
   "execution_count": 53,
   "metadata": {
    "colab": {
     "autoexec": {
      "startup": false,
      "wait_interval": 0
     },
     "base_uri": "https://localhost:8080/",
     "height": 7202
    },
    "colab_type": "code",
    "executionInfo": {
     "elapsed": 103234,
     "status": "ok",
     "timestamp": 1532589190335,
     "user": {
      "displayName": "杉崎弘明",
      "photoUrl": "//lh3.googleusercontent.com/-839AC8sb-Eg/AAAAAAAAAAI/AAAAAAAAAA8/wL07LaZurhY/s50-c-k-no/photo.jpg",
      "userId": "103645978051141582092"
     },
     "user_tz": -540
    },
    "id": "3Ou1rpxbBMpO",
    "outputId": "961d72a7-b115-4605-86bb-02fbc802226f",
    "scrolled": true
   },
   "outputs": [
    {
     "name": "stdout",
     "output_type": "stream",
     "text": [
      "Train on 8946 samples, validate on 994 samples\n",
      "Epoch 1/200\n",
      "8946/8946 [==============================] - 3s 363us/step - loss: 0.0227 - val_loss: 0.0123\n",
      "Epoch 2/200\n",
      "8946/8946 [==============================] - 3s 339us/step - loss: 0.0115 - val_loss: 0.0119\n",
      "Epoch 3/200\n",
      "8946/8946 [==============================] - 3s 342us/step - loss: 0.0113 - val_loss: 0.0116\n",
      "Epoch 4/200\n",
      "8946/8946 [==============================] - 5s 534us/step - loss: 0.0113 - val_loss: 0.0126\n",
      "Epoch 5/200\n",
      "8946/8946 [==============================] - 3s 372us/step - loss: 0.0110 - val_loss: 0.0122\n",
      "Epoch 6/200\n",
      "8946/8946 [==============================] - 5s 577us/step - loss: 0.0108 - val_loss: 0.0117\n",
      "Epoch 7/200\n",
      "8946/8946 [==============================] - 3s 352us/step - loss: 0.0108 - val_loss: 0.0119\n",
      "Epoch 8/200\n",
      "8946/8946 [==============================] - 3s 336us/step - loss: 0.0107 - val_loss: 0.0115\n",
      "Epoch 9/200\n",
      "8946/8946 [==============================] - 3s 339us/step - loss: 0.0108 - val_loss: 0.0115\n",
      "Epoch 10/200\n",
      "8946/8946 [==============================] - 3s 346us/step - loss: 0.0106 - val_loss: 0.0113\n",
      "Epoch 11/200\n",
      "8946/8946 [==============================] - 3s 331us/step - loss: 0.0104 - val_loss: 0.0113\n",
      "Epoch 12/200\n",
      "8946/8946 [==============================] - 3s 348us/step - loss: 0.0103 - val_loss: 0.0113\n",
      "Epoch 13/200\n",
      "8946/8946 [==============================] - 5s 559us/step - loss: 0.0103 - val_loss: 0.0115\n",
      "Epoch 14/200\n",
      "8946/8946 [==============================] - 3s 359us/step - loss: 0.0103 - val_loss: 0.0113\n",
      "Epoch 15/200\n",
      "8946/8946 [==============================] - 3s 342us/step - loss: 0.0103 - val_loss: 0.0121\n",
      "Epoch 16/200\n",
      "8946/8946 [==============================] - 4s 407us/step - loss: 0.0101 - val_loss: 0.0116\n",
      "Epoch 17/200\n",
      "8946/8946 [==============================] - 4s 488us/step - loss: 0.0100 - val_loss: 0.0115\n",
      "Epoch 18/200\n",
      "8946/8946 [==============================] - 3s 344us/step - loss: 0.0099 - val_loss: 0.0112\n",
      "Epoch 19/200\n",
      "8946/8946 [==============================] - 3s 322us/step - loss: 0.0099 - val_loss: 0.0116\n",
      "Epoch 20/200\n",
      "8946/8946 [==============================] - 3s 349us/step - loss: 0.0097 - val_loss: 0.0115\n",
      "Epoch 21/200\n",
      "8946/8946 [==============================] - 3s 329us/step - loss: 0.0095 - val_loss: 0.0115\n",
      "Epoch 22/200\n",
      "8946/8946 [==============================] - 3s 329us/step - loss: 0.0094 - val_loss: 0.0123\n",
      "Epoch 23/200\n",
      "8946/8946 [==============================] - 3s 357us/step - loss: 0.0093 - val_loss: 0.0120\n",
      "Epoch 24/200\n",
      "8946/8946 [==============================] - 3s 325us/step - loss: 0.0092 - val_loss: 0.0116\n",
      "Epoch 25/200\n",
      "8946/8946 [==============================] - 3s 340us/step - loss: 0.0089 - val_loss: 0.0116\n",
      "Epoch 26/200\n",
      "8946/8946 [==============================] - 3s 351us/step - loss: 0.0087 - val_loss: 0.0118\n",
      "Epoch 27/200\n",
      "8946/8946 [==============================] - 3s 321us/step - loss: 0.0085 - val_loss: 0.0124\n",
      "Epoch 28/200\n",
      "8946/8946 [==============================] - 3s 349us/step - loss: 0.0083 - val_loss: 0.0127\n",
      "Epoch 29/200\n",
      "8946/8946 [==============================] - 3s 326us/step - loss: 0.0080 - val_loss: 0.0129\n",
      "Epoch 30/200\n",
      "8946/8946 [==============================] - 3s 344us/step - loss: 0.0079 - val_loss: 0.0120\n",
      "Epoch 31/200\n",
      "8946/8946 [==============================] - 3s 362us/step - loss: 0.0075 - val_loss: 0.0132\n",
      "Epoch 32/200\n",
      "8946/8946 [==============================] - 3s 335us/step - loss: 0.0072 - val_loss: 0.0129\n",
      "Epoch 33/200\n",
      "8946/8946 [==============================] - 3s 337us/step - loss: 0.0070 - val_loss: 0.0127\n",
      "Epoch 34/200\n",
      "8946/8946 [==============================] - 3s 341us/step - loss: 0.0067 - val_loss: 0.0135\n",
      "Epoch 35/200\n",
      "8946/8946 [==============================] - 3s 321us/step - loss: 0.0063 - val_loss: 0.0137\n",
      "Epoch 36/200\n",
      "8946/8946 [==============================] - 3s 349us/step - loss: 0.0060 - val_loss: 0.0139\n",
      "Epoch 37/200\n",
      "8946/8946 [==============================] - 3s 323us/step - loss: 0.0057 - val_loss: 0.0140\n",
      "Epoch 38/200\n",
      "8946/8946 [==============================] - 3s 323us/step - loss: 0.0054 - val_loss: 0.0144\n",
      "Epoch 39/200\n",
      "8946/8946 [==============================] - 3s 338us/step - loss: 0.0052 - val_loss: 0.0147\n",
      "Epoch 40/200\n",
      "8946/8946 [==============================] - 3s 313us/step - loss: 0.0050 - val_loss: 0.0146\n",
      "Epoch 41/200\n",
      "8946/8946 [==============================] - 3s 329us/step - loss: 0.0047 - val_loss: 0.0154\n",
      "Epoch 42/200\n",
      "8946/8946 [==============================] - 3s 331us/step - loss: 0.0044 - val_loss: 0.0158\n",
      "Epoch 43/200\n",
      "8946/8946 [==============================] - 3s 311us/step - loss: 0.0042 - val_loss: 0.0162\n",
      "Epoch 44/200\n",
      "8946/8946 [==============================] - 3s 334us/step - loss: 0.0039 - val_loss: 0.0159\n",
      "Epoch 45/200\n",
      "8946/8946 [==============================] - 3s 332us/step - loss: 0.0038 - val_loss: 0.0160\n",
      "Epoch 46/200\n",
      "8946/8946 [==============================] - 3s 324us/step - loss: 0.0036 - val_loss: 0.0161\n",
      "Epoch 47/200\n",
      "8946/8946 [==============================] - 3s 344us/step - loss: 0.0033 - val_loss: 0.0156\n",
      "Epoch 48/200\n",
      "8946/8946 [==============================] - 3s 315us/step - loss: 0.0031 - val_loss: 0.0170\n",
      "Epoch 49/200\n",
      "8946/8946 [==============================] - 3s 328us/step - loss: 0.0030 - val_loss: 0.0160\n",
      "Epoch 50/200\n",
      "8946/8946 [==============================] - 3s 335us/step - loss: 0.0028 - val_loss: 0.0164\n",
      "Epoch 51/200\n",
      "8946/8946 [==============================] - 3s 313us/step - loss: 0.0027 - val_loss: 0.0173\n",
      "Epoch 52/200\n",
      "8946/8946 [==============================] - 3s 330us/step - loss: 0.0025 - val_loss: 0.0176\n",
      "Epoch 53/200\n",
      "8946/8946 [==============================] - 4s 457us/step - loss: 0.0023 - val_loss: 0.0172\n",
      "Epoch 54/200\n",
      "8946/8946 [==============================] - 4s 440us/step - loss: 0.0021 - val_loss: 0.0174\n",
      "Epoch 55/200\n",
      "8946/8946 [==============================] - 3s 309us/step - loss: 0.0021 - val_loss: 0.0172\n",
      "Epoch 56/200\n",
      "8946/8946 [==============================] - 3s 309us/step - loss: 0.0020 - val_loss: 0.0173\n",
      "Epoch 57/200\n",
      "8946/8946 [==============================] - 5s 532us/step - loss: 0.0020 - val_loss: 0.0170\n",
      "Epoch 58/200\n",
      "8946/8946 [==============================] - 3s 307us/step - loss: 0.0018 - val_loss: 0.0174\n",
      "Epoch 59/200\n",
      "8946/8946 [==============================] - 3s 315us/step - loss: 0.0017 - val_loss: 0.0176\n",
      "Epoch 60/200\n",
      "8946/8946 [==============================] - 3s 311us/step - loss: 0.0017 - val_loss: 0.0175\n",
      "Epoch 61/200\n",
      "8946/8946 [==============================] - 3s 314us/step - loss: 0.0015 - val_loss: 0.0181\n",
      "Epoch 62/200\n",
      "8946/8946 [==============================] - 5s 529us/step - loss: 0.0016 - val_loss: 0.0181\n",
      "Epoch 63/200\n",
      "8946/8946 [==============================] - 3s 307us/step - loss: 0.0015 - val_loss: 0.0179\n",
      "Epoch 64/200\n",
      "8946/8946 [==============================] - 3s 308us/step - loss: 0.0014 - val_loss: 0.0176\n",
      "Epoch 65/200\n",
      "8946/8946 [==============================] - 3s 353us/step - loss: 0.0012 - val_loss: 0.0180\n",
      "Epoch 66/200\n",
      "8946/8946 [==============================] - 5s 507us/step - loss: 0.0014 - val_loss: 0.0186\n",
      "Epoch 67/200\n",
      "8946/8946 [==============================] - 3s 339us/step - loss: 0.0012 - val_loss: 0.0182\n",
      "Epoch 68/200\n",
      "8946/8946 [==============================] - 3s 306us/step - loss: 0.0012 - val_loss: 0.0181\n",
      "Epoch 69/200\n",
      "8946/8946 [==============================] - 3s 326us/step - loss: 0.0012 - val_loss: 0.0178\n",
      "Epoch 70/200\n",
      "8946/8946 [==============================] - 3s 332us/step - loss: 0.0013 - val_loss: 0.0183\n",
      "Epoch 71/200\n",
      "8946/8946 [==============================] - 3s 316us/step - loss: 0.0012 - val_loss: 0.0180\n",
      "Epoch 72/200\n",
      "8946/8946 [==============================] - 3s 343us/step - loss: 9.8572e-04 - val_loss: 0.0186\n",
      "Epoch 73/200\n",
      "8946/8946 [==============================] - 3s 320us/step - loss: 0.0010 - val_loss: 0.0185\n",
      "Epoch 74/200\n",
      "8946/8946 [==============================] - 3s 317us/step - loss: 9.7927e-04 - val_loss: 0.0187\n",
      "Epoch 75/200\n",
      "8946/8946 [==============================] - 3s 342us/step - loss: 9.5312e-04 - val_loss: 0.0185\n",
      "Epoch 76/200\n",
      "8946/8946 [==============================] - 3s 323us/step - loss: 9.0891e-04 - val_loss: 0.0182\n",
      "Epoch 77/200\n",
      "8946/8946 [==============================] - 3s 332us/step - loss: 0.0011 - val_loss: 0.0182\n"
     ]
    },
    {
     "name": "stdout",
     "output_type": "stream",
     "text": [
      "Epoch 78/200\n",
      "8946/8946 [==============================] - 3s 337us/step - loss: 9.5267e-04 - val_loss: 0.0182\n",
      "Epoch 79/200\n",
      "8946/8946 [==============================] - 3s 321us/step - loss: 9.4060e-04 - val_loss: 0.0178\n",
      "Epoch 80/200\n",
      "8946/8946 [==============================] - 3s 336us/step - loss: 8.9067e-04 - val_loss: 0.0180\n",
      "Epoch 81/200\n",
      "8946/8946 [==============================] - 3s 329us/step - loss: 7.4901e-04 - val_loss: 0.0180\n",
      "Epoch 82/200\n",
      "8946/8946 [==============================] - 3s 314us/step - loss: 8.1512e-04 - val_loss: 0.0181\n",
      "Epoch 83/200\n",
      "8946/8946 [==============================] - 3s 335us/step - loss: 8.3934e-04 - val_loss: 0.0187\n",
      "Epoch 84/200\n",
      "8946/8946 [==============================] - 3s 322us/step - loss: 7.9281e-04 - val_loss: 0.0176\n",
      "Epoch 85/200\n",
      "8946/8946 [==============================] - 3s 322us/step - loss: 8.3614e-04 - val_loss: 0.0179\n",
      "Epoch 86/200\n",
      "8946/8946 [==============================] - 3s 347us/step - loss: 7.4429e-04 - val_loss: 0.0178\n",
      "Epoch 87/200\n",
      "8946/8946 [==============================] - 3s 318us/step - loss: 7.9599e-04 - val_loss: 0.0179\n",
      "Epoch 88/200\n",
      "8946/8946 [==============================] - 3s 349us/step - loss: 7.6430e-04 - val_loss: 0.0177\n",
      "Epoch 89/200\n",
      "8946/8946 [==============================] - 3s 339us/step - loss: 7.4711e-04 - val_loss: 0.0183\n",
      "Epoch 90/200\n",
      "8946/8946 [==============================] - 3s 328us/step - loss: 7.7021e-04 - val_loss: 0.0181\n",
      "Epoch 91/200\n",
      "8946/8946 [==============================] - 3s 355us/step - loss: 7.1710e-04 - val_loss: 0.0174\n",
      "Epoch 92/200\n",
      "8946/8946 [==============================] - 3s 323us/step - loss: 7.8307e-04 - val_loss: 0.0183\n",
      "Epoch 93/200\n",
      "8946/8946 [==============================] - 3s 328us/step - loss: 8.1234e-04 - val_loss: 0.0177\n",
      "Epoch 94/200\n",
      "8946/8946 [==============================] - 3s 337us/step - loss: 6.2491e-04 - val_loss: 0.0175\n",
      "Epoch 95/200\n",
      "8946/8946 [==============================] - 3s 327us/step - loss: 6.4876e-04 - val_loss: 0.0176\n",
      "Epoch 96/200\n",
      "8946/8946 [==============================] - 4s 456us/step - loss: 6.8951e-04 - val_loss: 0.0181\n",
      "Epoch 97/200\n",
      "8946/8946 [==============================] - 6s 627us/step - loss: 6.9325e-04 - val_loss: 0.0185\n",
      "Epoch 98/200\n",
      "8946/8946 [==============================] - 3s 351us/step - loss: 8.2873e-04 - val_loss: 0.0175\n",
      "Epoch 99/200\n",
      "8946/8946 [==============================] - 3s 330us/step - loss: 7.3885e-04 - val_loss: 0.0174\n",
      "Epoch 100/200\n",
      "8946/8946 [==============================] - 4s 469us/step - loss: 6.5375e-04 - val_loss: 0.0180\n",
      "Epoch 101/200\n",
      "8946/8946 [==============================] - 3s 390us/step - loss: 5.3797e-04 - val_loss: 0.0179\n",
      "Epoch 102/200\n",
      "8946/8946 [==============================] - 3s 307us/step - loss: 5.7676e-04 - val_loss: 0.0177\n",
      "Epoch 103/200\n",
      "8946/8946 [==============================] - 3s 319us/step - loss: 5.6619e-04 - val_loss: 0.0180\n",
      "Epoch 104/200\n",
      "8946/8946 [==============================] - 5s 540us/step - loss: 6.1062e-04 - val_loss: 0.0182\n",
      "Epoch 105/200\n",
      "8946/8946 [==============================] - 3s 312us/step - loss: 6.4682e-04 - val_loss: 0.0172\n",
      "Epoch 106/200\n",
      "8946/8946 [==============================] - 3s 314us/step - loss: 5.5670e-04 - val_loss: 0.0178\n",
      "Epoch 107/200\n",
      "8946/8946 [==============================] - 4s 429us/step - loss: 5.4687e-04 - val_loss: 0.0177\n",
      "Epoch 108/200\n",
      "8946/8946 [==============================] - 4s 439us/step - loss: 6.2211e-04 - val_loss: 0.0177\n",
      "Epoch 109/200\n",
      "8946/8946 [==============================] - 3s 345us/step - loss: 6.2330e-04 - val_loss: 0.0175\n",
      "Epoch 110/200\n",
      "8946/8946 [==============================] - 3s 317us/step - loss: 6.5177e-04 - val_loss: 0.0173\n",
      "Epoch 111/200\n",
      "8946/8946 [==============================] - 3s 350us/step - loss: 5.9100e-04 - val_loss: 0.0171\n",
      "Epoch 112/200\n",
      "8946/8946 [==============================] - 3s 327us/step - loss: 5.3719e-04 - val_loss: 0.0173\n",
      "Epoch 113/200\n",
      "8946/8946 [==============================] - 3s 332us/step - loss: 5.1755e-04 - val_loss: 0.0178\n",
      "Epoch 114/200\n",
      "8946/8946 [==============================] - 3s 343us/step - loss: 5.3844e-04 - val_loss: 0.0173\n",
      "Epoch 115/200\n",
      "8946/8946 [==============================] - 3s 313us/step - loss: 6.7685e-04 - val_loss: 0.0175\n",
      "Epoch 116/200\n",
      "8946/8946 [==============================] - 3s 332us/step - loss: 7.4369e-04 - val_loss: 0.0173\n",
      "Epoch 117/200\n",
      "8946/8946 [==============================] - 3s 336us/step - loss: 5.2607e-04 - val_loss: 0.0174\n",
      "Epoch 118/200\n",
      "8946/8946 [==============================] - 3s 337us/step - loss: 5.2106e-04 - val_loss: 0.0176\n",
      "Epoch 119/200\n",
      "8946/8946 [==============================] - 3s 349us/step - loss: 3.9775e-04 - val_loss: 0.0173\n",
      "Epoch 120/200\n",
      "8946/8946 [==============================] - 3s 347us/step - loss: 4.9220e-04 - val_loss: 0.0173\n",
      "Epoch 121/200\n",
      "8946/8946 [==============================] - 3s 333us/step - loss: 5.5851e-04 - val_loss: 0.0172\n",
      "Epoch 122/200\n",
      "8946/8946 [==============================] - 3s 352us/step - loss: 4.9103e-04 - val_loss: 0.0175\n",
      "Epoch 123/200\n",
      "8946/8946 [==============================] - 3s 325us/step - loss: 5.4600e-04 - val_loss: 0.0173\n",
      "Epoch 124/200\n",
      "8946/8946 [==============================] - 3s 355us/step - loss: 4.6822e-04 - val_loss: 0.0174\n",
      "Epoch 125/200\n",
      "8946/8946 [==============================] - 3s 344us/step - loss: 5.0295e-04 - val_loss: 0.0175\n",
      "Epoch 126/200\n",
      "8946/8946 [==============================] - 3s 333us/step - loss: 5.4783e-04 - val_loss: 0.0170\n",
      "Epoch 127/200\n",
      "8946/8946 [==============================] - 3s 351us/step - loss: 5.5740e-04 - val_loss: 0.0175\n",
      "Epoch 128/200\n",
      "8946/8946 [==============================] - 3s 332us/step - loss: 5.6205e-04 - val_loss: 0.0174\n",
      "Epoch 129/200\n",
      "8946/8946 [==============================] - 3s 331us/step - loss: 5.2333e-04 - val_loss: 0.0173\n",
      "Epoch 130/200\n",
      "8946/8946 [==============================] - 4s 430us/step - loss: 4.3267e-04 - val_loss: 0.0174\n",
      "Epoch 131/200\n",
      "8946/8946 [==============================] - 5s 521us/step - loss: 3.9792e-04 - val_loss: 0.0171\n",
      "Epoch 132/200\n",
      "8946/8946 [==============================] - 3s 318us/step - loss: 3.7800e-04 - val_loss: 0.0172\n",
      "Epoch 133/200\n",
      "8946/8946 [==============================] - 3s 329us/step - loss: 5.3323e-04 - val_loss: 0.0176\n",
      "Epoch 134/200\n",
      "8946/8946 [==============================] - 5s 551us/step - loss: 5.5293e-04 - val_loss: 0.0169\n",
      "Epoch 135/200\n",
      "8946/8946 [==============================] - 3s 365us/step - loss: 4.5204e-04 - val_loss: 0.0175\n",
      "Epoch 136/200\n",
      "8946/8946 [==============================] - 3s 318us/step - loss: 4.1073e-04 - val_loss: 0.0176\n",
      "Epoch 137/200\n",
      "8946/8946 [==============================] - 3s 336us/step - loss: 3.5866e-04 - val_loss: 0.0173\n",
      "Epoch 138/200\n",
      "8946/8946 [==============================] - 3s 345us/step - loss: 4.2644e-04 - val_loss: 0.0173\n",
      "Epoch 139/200\n",
      "8946/8946 [==============================] - 3s 340us/step - loss: 5.4538e-04 - val_loss: 0.0168\n",
      "Epoch 140/200\n",
      "8946/8946 [==============================] - 3s 354us/step - loss: 5.2307e-04 - val_loss: 0.0177\n",
      "Epoch 141/200\n",
      "8946/8946 [==============================] - 3s 333us/step - loss: 4.1465e-04 - val_loss: 0.0171\n",
      "Epoch 142/200\n",
      "8946/8946 [==============================] - 3s 334us/step - loss: 4.2992e-04 - val_loss: 0.0170\n",
      "Epoch 143/200\n",
      "8946/8946 [==============================] - 3s 356us/step - loss: 4.5927e-04 - val_loss: 0.0171\n",
      "Epoch 144/200\n",
      "8946/8946 [==============================] - 3s 358us/step - loss: 4.1691e-04 - val_loss: 0.0173\n",
      "Epoch 145/200\n",
      "8946/8946 [==============================] - 3s 362us/step - loss: 4.0356e-04 - val_loss: 0.0171\n",
      "Epoch 146/200\n",
      "8946/8946 [==============================] - 5s 589us/step - loss: 3.8425e-04 - val_loss: 0.0172\n",
      "Epoch 147/200\n",
      "8946/8946 [==============================] - 3s 327us/step - loss: 5.0650e-04 - val_loss: 0.0172\n",
      "Epoch 148/200\n",
      "8946/8946 [==============================] - 3s 317us/step - loss: 4.1992e-04 - val_loss: 0.0180\n",
      "Epoch 149/200\n",
      "8946/8946 [==============================] - 3s 317us/step - loss: 4.7726e-04 - val_loss: 0.0174\n",
      "Epoch 150/200\n",
      "8946/8946 [==============================] - 3s 314us/step - loss: 4.4437e-04 - val_loss: 0.0172\n",
      "Epoch 151/200\n",
      "8946/8946 [==============================] - 5s 536us/step - loss: 4.1143e-04 - val_loss: 0.0171\n",
      "Epoch 152/200\n"
     ]
    },
    {
     "name": "stdout",
     "output_type": "stream",
     "text": [
      "8946/8946 [==============================] - 3s 309us/step - loss: 4.0121e-04 - val_loss: 0.0169\n",
      "Epoch 153/200\n",
      "8946/8946 [==============================] - 3s 322us/step - loss: 4.2453e-04 - val_loss: 0.0172\n",
      "Epoch 154/200\n",
      "8946/8946 [==============================] - 3s 379us/step - loss: 4.2160e-04 - val_loss: 0.0170\n",
      "Epoch 155/200\n",
      "8946/8946 [==============================] - 4s 484us/step - loss: 4.1510e-04 - val_loss: 0.0173\n",
      "Epoch 156/200\n",
      "8946/8946 [==============================] - 3s 327us/step - loss: 3.7322e-04 - val_loss: 0.0170\n",
      "Epoch 157/200\n",
      "8946/8946 [==============================] - 3s 318us/step - loss: 3.3018e-04 - val_loss: 0.0168\n",
      "Epoch 158/200\n",
      "8946/8946 [==============================] - 5s 525us/step - loss: 3.8553e-04 - val_loss: 0.0173\n",
      "Epoch 159/200\n",
      "8946/8946 [==============================] - 3s 318us/step - loss: 4.5382e-04 - val_loss: 0.0172\n",
      "Epoch 160/200\n",
      "8946/8946 [==============================] - 3s 312us/step - loss: 4.1835e-04 - val_loss: 0.0171\n",
      "Epoch 161/200\n",
      "8946/8946 [==============================] - 3s 365us/step - loss: 3.8070e-04 - val_loss: 0.0170\n",
      "Epoch 162/200\n",
      "8946/8946 [==============================] - 5s 520us/step - loss: 3.4471e-04 - val_loss: 0.0168\n",
      "Epoch 163/200\n",
      "8946/8946 [==============================] - 3s 330us/step - loss: 3.5114e-04 - val_loss: 0.0171\n",
      "Epoch 164/200\n",
      "8946/8946 [==============================] - 3s 333us/step - loss: 3.7609e-04 - val_loss: 0.0172\n",
      "Epoch 165/200\n",
      "8946/8946 [==============================] - 5s 550us/step - loss: 4.3878e-04 - val_loss: 0.0172\n",
      "Epoch 166/200\n",
      "8946/8946 [==============================] - 3s 325us/step - loss: 4.2101e-04 - val_loss: 0.0172\n",
      "Epoch 167/200\n",
      "8946/8946 [==============================] - 3s 329us/step - loss: 3.6429e-04 - val_loss: 0.0170\n",
      "Epoch 168/200\n",
      "8946/8946 [==============================] - 4s 430us/step - loss: 3.5186e-04 - val_loss: 0.0172\n",
      "Epoch 169/200\n",
      "8946/8946 [==============================] - 4s 438us/step - loss: 4.0896e-04 - val_loss: 0.0169\n",
      "Epoch 170/200\n",
      "8946/8946 [==============================] - 3s 323us/step - loss: 3.4902e-04 - val_loss: 0.0169\n",
      "Epoch 171/200\n",
      "8946/8946 [==============================] - 3s 361us/step - loss: 3.1046e-04 - val_loss: 0.0171\n",
      "Epoch 172/200\n",
      "8946/8946 [==============================] - 5s 567us/step - loss: 4.1125e-04 - val_loss: 0.0173\n",
      "Epoch 173/200\n",
      "8946/8946 [==============================] - 3s 340us/step - loss: 4.0971e-04 - val_loss: 0.0170\n",
      "Epoch 174/200\n",
      "8946/8946 [==============================] - 3s 336us/step - loss: 3.4932e-04 - val_loss: 0.0172\n",
      "Epoch 175/200\n",
      "8946/8946 [==============================] - 5s 511us/step - loss: 3.2043e-04 - val_loss: 0.0169\n",
      "Epoch 176/200\n",
      "8946/8946 [==============================] - 3s 333us/step - loss: 3.7043e-04 - val_loss: 0.0172\n",
      "Epoch 177/200\n",
      "8946/8946 [==============================] - 3s 311us/step - loss: 4.1869e-04 - val_loss: 0.0166\n",
      "Epoch 178/200\n",
      "8946/8946 [==============================] - 3s 335us/step - loss: 3.1526e-04 - val_loss: 0.0168\n",
      "Epoch 179/200\n",
      "8946/8946 [==============================] - 5s 506us/step - loss: 3.1176e-04 - val_loss: 0.0168\n",
      "Epoch 180/200\n",
      "8946/8946 [==============================] - 3s 305us/step - loss: 3.9002e-04 - val_loss: 0.0169\n",
      "Epoch 181/200\n",
      "8946/8946 [==============================] - 3s 312us/step - loss: 3.4389e-04 - val_loss: 0.0172\n",
      "Epoch 182/200\n",
      "8946/8946 [==============================] - 4s 440us/step - loss: 3.3028e-04 - val_loss: 0.0172\n",
      "Epoch 183/200\n",
      "8946/8946 [==============================] - 4s 398us/step - loss: 3.3417e-04 - val_loss: 0.0170\n",
      "Epoch 184/200\n",
      "8946/8946 [==============================] - 3s 308us/step - loss: 3.0203e-04 - val_loss: 0.0172\n",
      "Epoch 185/200\n",
      "8946/8946 [==============================] - 3s 324us/step - loss: 3.4907e-04 - val_loss: 0.0169\n",
      "Epoch 186/200\n",
      "8946/8946 [==============================] - 5s 536us/step - loss: 3.7381e-04 - val_loss: 0.0168\n",
      "Epoch 187/200\n",
      "8946/8946 [==============================] - 3s 309us/step - loss: 3.4025e-04 - val_loss: 0.0167\n",
      "Epoch 188/200\n",
      "8946/8946 [==============================] - 3s 316us/step - loss: 3.0499e-04 - val_loss: 0.0174\n",
      "Epoch 189/200\n",
      "8946/8946 [==============================] - 4s 393us/step - loss: 2.9602e-04 - val_loss: 0.0170\n",
      "Epoch 190/200\n",
      "8946/8946 [==============================] - 4s 446us/step - loss: 3.0346e-04 - val_loss: 0.0170\n",
      "Epoch 191/200\n",
      "8946/8946 [==============================] - 3s 312us/step - loss: 3.0718e-04 - val_loss: 0.0171\n",
      "Epoch 192/200\n",
      "8946/8946 [==============================] - 3s 317us/step - loss: 3.1602e-04 - val_loss: 0.0173\n",
      "Epoch 193/200\n",
      "8946/8946 [==============================] - 5s 527us/step - loss: 3.2340e-04 - val_loss: 0.0172\n",
      "Epoch 194/200\n",
      "8946/8946 [==============================] - 3s 354us/step - loss: 3.7454e-04 - val_loss: 0.0172\n",
      "Epoch 195/200\n",
      "8946/8946 [==============================] - 3s 313us/step - loss: 3.8749e-04 - val_loss: 0.0172\n",
      "Epoch 196/200\n",
      "8946/8946 [==============================] - 3s 379us/step - loss: 4.0214e-04 - val_loss: 0.0169\n",
      "Epoch 197/200\n",
      "8946/8946 [==============================] - 4s 473us/step - loss: 3.3492e-04 - val_loss: 0.0176\n",
      "Epoch 198/200\n",
      "8946/8946 [==============================] - 3s 331us/step - loss: 2.8337e-04 - val_loss: 0.0171\n",
      "Epoch 199/200\n",
      "8946/8946 [==============================] - 3s 311us/step - loss: 2.8313e-04 - val_loss: 0.0168\n",
      "Epoch 200/200\n",
      "8946/8946 [==============================] - 5s 511us/step - loss: 2.8023e-04 - val_loss: 0.0173\n"
     ]
    }
   ],
   "source": [
    "epochs = 200\n",
    "history = model.fit(x=train_x,\n",
    "                    y=train_y,\n",
    "                    epochs=epochs,\n",
    "                    verbose=1,\n",
    "                    validation_split=0.1)"
   ]
  },
  {
   "cell_type": "markdown",
   "metadata": {},
   "source": [
    "### Save Model"
   ]
  },
  {
   "cell_type": "code",
   "execution_count": 54,
   "metadata": {},
   "outputs": [],
   "source": [
    "modelpath = str(keras_model_h5_Path / (\"model__\" + ipynb_title + \".h5\"))\n",
    "model.save(filepath=modelpath)"
   ]
  },
  {
   "cell_type": "markdown",
   "metadata": {
    "colab_type": "text",
    "id": "S3CHe-iwVsfu"
   },
   "source": [
    "## history"
   ]
  },
  {
   "cell_type": "code",
   "execution_count": 55,
   "metadata": {
    "colab": {
     "autoexec": {
      "startup": false,
      "wait_interval": 0
     },
     "base_uri": "https://localhost:8080/",
     "height": 334
    },
    "colab_type": "code",
    "executionInfo": {
     "elapsed": 932,
     "status": "ok",
     "timestamp": 1532589191406,
     "user": {
      "displayName": "杉崎弘明",
      "photoUrl": "//lh3.googleusercontent.com/-839AC8sb-Eg/AAAAAAAAAAI/AAAAAAAAAA8/wL07LaZurhY/s50-c-k-no/photo.jpg",
      "userId": "103645978051141582092"
     },
     "user_tz": -540
    },
    "id": "fk0eHakqXtQ9",
    "outputId": "0d13d1ef-3a88-49ca-8160-8a8420a7f101"
   },
   "outputs": [
    {
     "data": {
      "image/png": "[encoded data removed]",
      "text/plain": [
       "<Figure size 1008x360 with 1 Axes>"
      ]
     },
     "metadata": {},
     "output_type": "display_data"
    }
   ],
   "source": [
    "fig = plt.figure(figsize=(14, 5))\n",
    "ax = fig.add_subplot(1,1,1)\n",
    "\n",
    "ax.plot(range(epochs), history.history['loss'], label='loss')\n",
    "ax.plot(range(epochs), history.history['val_loss'], label='val_loss')\n",
    "\n",
    "ax.set_xlabel('epoch')\n",
    "ax.set_ylabel('loss')\n",
    "ax.legend() \n",
    "\n",
    "plt.show()"
   ]
  },
  {
   "cell_type": "markdown",
   "metadata": {
    "colab_type": "text",
    "id": "NwOGYU-3wyuz"
   },
   "source": [
    "# End"
   ]
  },
  {
   "cell_type": "code",
   "execution_count": null,
   "metadata": {
    "colab": {
     "autoexec": {
      "startup": false,
      "wait_interval": 0
     }
    },
    "colab_type": "code",
    "id": "GWie3rh_0mSn"
   },
   "outputs": [],
   "source": []
  }
 ],
 "metadata": {
  "colab": {
   "default_view": {},
   "name": "一次元データ_Conv1d_重み可視化__sinFunc.ipynb",
   "provenance": [],
   "toc_visible": true,
   "version": "0.3.2",
   "views": {}
  },
  "kernelspec": {
   "display_name": "Python 3",
   "language": "python",
   "name": "python3"
  },
  "language_info": {
   "codemirror_mode": {
    "name": "ipython",
    "version": 3
   },
   "file_extension": ".py",
   "mimetype": "text/x-python",
   "name": "python",
   "nbconvert_exporter": "python",
   "pygments_lexer": "ipython3",
   "version": "3.5.2"
  },
  "toc": {
   "base_numbering": 1,
   "nav_menu": {},
   "number_sections": true,
   "sideBar": true,
   "skip_h1_title": true,
   "title_cell": "Table of Contents",
   "title_sidebar": "Contents",
   "toc_cell": true,
   "toc_position": {
    "height": "calc(100% - 180px)",
    "left": "10px",
    "top": "150px",
    "width": "265px"
   },
   "toc_section_display": true,
   "toc_window_display": true
  }
 },
 "nbformat": 4,
 "nbformat_minor": 1
}
