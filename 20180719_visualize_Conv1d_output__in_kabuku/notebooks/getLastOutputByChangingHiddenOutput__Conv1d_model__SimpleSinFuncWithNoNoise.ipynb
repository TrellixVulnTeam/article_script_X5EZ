{
 "cells": [
  {
   "cell_type": "markdown",
   "metadata": {
    "toc": true
   },
   "source": [
    "<h1>Table of Contents<span class=\"tocSkip\"></span></h1>\n",
    "<div class=\"toc\"><ul class=\"toc-item\"><li><span><a href=\"#Setting\" data-toc-modified-id=\"Setting-1\"><span class=\"toc-item-num\">1&nbsp;&nbsp;</span>Setting</a></span><ul class=\"toc-item\"><li><span><a href=\"#Path\" data-toc-modified-id=\"Path-1.1\"><span class=\"toc-item-num\">1.1&nbsp;&nbsp;</span>Path</a></span></li></ul></li><li><span><a href=\"#時系列データ作成\" data-toc-modified-id=\"時系列データ作成-2\"><span class=\"toc-item-num\">2&nbsp;&nbsp;</span>時系列データ作成</a></span></li><li><span><a href=\"#Adjust-Input-Shape\" data-toc-modified-id=\"Adjust-Input-Shape-3\"><span class=\"toc-item-num\">3&nbsp;&nbsp;</span><code>Adjust</code> Input Shape</a></span></li><li><span><a href=\"#Load-Model\" data-toc-modified-id=\"Load-Model-4\"><span class=\"toc-item-num\">4&nbsp;&nbsp;</span>Load <code>Model</code></a></span></li><li><span><a href=\"#Visualize-conv1d_1-Outputs\" data-toc-modified-id=\"Visualize-conv1d_1-Outputs-5\"><span class=\"toc-item-num\">5&nbsp;&nbsp;</span>Visualize conv1d_1 Outputs</a></span><ul class=\"toc-item\"><li><span><a href=\"#Get-Hidden-Layer-Outputs\" data-toc-modified-id=\"Get-Hidden-Layer-Outputs-5.1\"><span class=\"toc-item-num\">5.1&nbsp;&nbsp;</span>Get Hidden Layer Outputs</a></span></li><li><span><a href=\"#ch-0\" data-toc-modified-id=\"ch-0-5.2\"><span class=\"toc-item-num\">5.2&nbsp;&nbsp;</span><code>ch 0</code></a></span></li></ul></li><li><span><a href=\"#End\" data-toc-modified-id=\"End-6\"><span class=\"toc-item-num\">6&nbsp;&nbsp;</span>End</a></span></li></ul></div>"
   ]
  },
  {
   "cell_type": "code",
   "execution_count": 17,
   "metadata": {},
   "outputs": [],
   "source": [
    "ipynb_title = \"getLastOutputByChangingHiddenOutput__Conv1d_model__SimpleSinFuncWithNoNoise\"\n",
    "model_filename = \"model__create_Conv1d_model__SimpleSinFuncWithNoNoise.h5\""
   ]
  },
  {
   "cell_type": "markdown",
   "metadata": {
    "colab_type": "text",
    "id": "X50iAsQoLofA",
    "variables": {
     "ipynb_title": "getLastOutputByChangingHiddenOutput__Conv1d_model__SimpleSinFuncWithNoNoise"
    }
   },
   "source": [
    "__{{ipynb_title}}.ipynb__\n",
    "\n",
    "1. データ作成\n",
    "  - 単なるsin関数を含んだ式\n",
    "  - ノイズを加える\n",
    "  - 異常波形作成\n",
    "1. CNN時系列予測\n",
    "  - [時系列予測を一次元畳み込みを使って解く with Keras - Qiita\n",
    "      ](https://qiita.com/niisan-tokyo/items/a94dbd3134219f19cab1)\n",
    "  - その背景を $windowsize$ 5-60程度で予測するConv1d層の作成"
   ]
  },
  {
   "cell_type": "code",
   "execution_count": 18,
   "metadata": {
    "colab": {
     "autoexec": {
      "startup": false,
      "wait_interval": 0
     },
     "base_uri": "https://localhost:8080/",
     "height": 35
    },
    "colab_type": "code",
    "executionInfo": {
     "elapsed": 578,
     "status": "ok",
     "timestamp": 1532587434700,
     "user": {
      "displayName": "杉崎弘明",
      "photoUrl": "//lh3.googleusercontent.com/-839AC8sb-Eg/AAAAAAAAAAI/AAAAAAAAAA8/wL07LaZurhY/s50-c-k-no/photo.jpg",
      "userId": "103645978051141582092"
     },
     "user_tz": -540
    },
    "id": "k9ykNILgLw8x",
    "outputId": "8df020ad-14ba-4610-e2f8-556ec20f094a"
   },
   "outputs": [
    {
     "name": "stdout",
     "output_type": "stream",
     "text": [
      "Keras version :  2.1.6\n"
     ]
    }
   ],
   "source": [
    "import os,sys\n",
    "import numpy as np\n",
    "import matplotlib.pyplot as plt\n",
    "%matplotlib inline\n",
    "from pathlib import Path\n",
    "\n",
    "import keras\n",
    "print(\"Keras version : \", keras.__version__)"
   ]
  },
  {
   "cell_type": "markdown",
   "metadata": {},
   "source": [
    "## Setting"
   ]
  },
  {
   "cell_type": "markdown",
   "metadata": {},
   "source": [
    "### Path"
   ]
  },
  {
   "cell_type": "code",
   "execution_count": 19,
   "metadata": {},
   "outputs": [
    {
     "name": "stdout",
     "output_type": "stream",
     "text": [
      "/home/pollen/workdir/git/github/article_script/20180719_visualize_Conv1d_output__in_kabuku\n"
     ]
    }
   ],
   "source": [
    "HOME = Path(os.getcwd()).parent\n",
    "print(HOME)"
   ]
  },
  {
   "cell_type": "code",
   "execution_count": 20,
   "metadata": {},
   "outputs": [
    {
     "name": "stdout",
     "output_type": "stream",
     "text": [
      "True :  /home/pollen/workdir/git/github/article_script/20180719_visualize_Conv1d_output__in_kabuku/keras_model_h5\n",
      "True :  /home/pollen/workdir/git/github/article_script/20180719_visualize_Conv1d_output__in_kabuku/data\n",
      "True :  /home/pollen/workdir/git/github/article_script/20180719_visualize_Conv1d_output__in_kabuku/data/plot_images\n"
     ]
    }
   ],
   "source": [
    "path_list = []\n",
    "keras_model_h5_Path = HOME / \"keras_model_h5\"\n",
    "path_list.append(keras_model_h5_Path)\n",
    "data_Path = HOME / \"data\"\n",
    "path_list.append(data_Path)\n",
    "plot_images_Path = data_Path / \"plot_images\"\n",
    "path_list.append(plot_images_Path)\n",
    "\n",
    "for _Path in path_list:\n",
    "    _path = str(_Path)\n",
    "    if not os.path.exists(_path):\n",
    "        os.makedirs(name=_path)\n",
    "        print(\"make a directory: \\n\\t\", _path)\n",
    "    else:\n",
    "        print(os.path.exists(_path), \": \", _path)"
   ]
  },
  {
   "cell_type": "markdown",
   "metadata": {
    "colab_type": "text",
    "id": "iOpxt7BZLrUa"
   },
   "source": [
    "## 時系列データ作成\n",
    "\n",
    "$$\n",
    "\\textbf{toyfunc(t)} = \\sin\\left( \\frac{2 \\pi}{T} t \\right)\n",
    "$$"
   ]
  },
  {
   "cell_type": "code",
   "execution_count": 21,
   "metadata": {
    "colab": {
     "autoexec": {
      "startup": false,
      "wait_interval": 0
     }
    },
    "colab_type": "code",
    "id": "sz4t5mios_5S"
   },
   "outputs": [],
   "source": [
    "def mySin(t, period=100):\n",
    "    \"\"\"\n",
    "    時刻t, 周期period\n",
    "    \"\"\"\n",
    "    return np.sin(2.0 * np.pi * t/period)"
   ]
  },
  {
   "cell_type": "code",
   "execution_count": 22,
   "metadata": {
    "colab": {
     "autoexec": {
      "startup": false,
      "wait_interval": 0
     }
    },
    "colab_type": "code",
    "id": "eYmZu2lJWfyJ"
   },
   "outputs": [],
   "source": [
    "# Add Noise\n",
    "def toy_func(tStart=0, tStop=100, tStep=1, noiseAmpl=0.05):\n",
    "    \"\"\"\n",
    "    T : \n",
    "      sin波の周期\n",
    "    ampl : \n",
    "      ノイズ振幅調整\n",
    "      \"\"\"\n",
    "    t = np.arange(start=tStart, stop=tStop, step=tStep)\n",
    "    noise = np.random.randn(t.shape[0])  # mean=0, standard_deviation=1\n",
    "    return (t,\n",
    "            + mySin(t=t, period=100)\n",
    "            + noiseAmpl * noise )"
   ]
  },
  {
   "cell_type": "markdown",
   "metadata": {
    "colab_type": "text",
    "id": "MndTp9ndw1Np"
   },
   "source": [
    "## `Adjust` Input Shape"
   ]
  },
  {
   "cell_type": "code",
   "execution_count": 23,
   "metadata": {
    "colab": {
     "autoexec": {
      "startup": false,
      "wait_interval": 0
     }
    },
    "colab_type": "code",
    "id": "XHcrodZzP-N4"
   },
   "outputs": [],
   "source": [
    "tStart = 10000\n",
    "windowsize = 100\n",
    "predictsize = 1\n",
    "wave_size = 300\n",
    "assert wave_size - windowsize > windowsize  # 後に畳み込むにはこの条件が必要"
   ]
  },
  {
   "cell_type": "code",
   "execution_count": 24,
   "metadata": {
    "scrolled": false
   },
   "outputs": [
    {
     "data": {
      "image/png": "[encoded data removed]",
      "text/plain": [
       "<Figure size 1008x360 with 1 Axes>"
      ]
     },
     "metadata": {},
     "output_type": "display_data"
    }
   ],
   "source": [
    "filename = \"{}__wave_with_noise.png\".format(ipynb_title)\n",
    "\n",
    "#----------------------------------------\n",
    "# create a wave\n",
    "#----------------------------------------\n",
    "t, wave = toy_func(tStart=tStart, tStop=tStart+wave_size, noiseAmpl=0)\n",
    "\n",
    "fig = plt.figure(figsize=(14,5))  # (width, height)\n",
    "ax = fig.add_subplot(1,1,1)\n",
    "ax.plot(t, wave)\n",
    "\n",
    "title = \"no noise\"\n",
    "ax.set_title(label=title, fontsize=30)\n",
    "ax.set_xlabel(xlabel=\"t\", fontsize=20)\n",
    "ax.set_ylabel(ylabel=\"y\", fontsize=20, rotation=0)\n",
    "ax.yaxis.set_label_coords(x=0.0, y=1.02)\n",
    "ax.tick_params(labelsize=20)\n",
    "\n",
    "fig.savefig(fname=str(plot_images_Path / filename))\n",
    "plt.show()"
   ]
  },
  {
   "cell_type": "code",
   "execution_count": 25,
   "metadata": {},
   "outputs": [
    {
     "name": "stdout",
     "output_type": "stream",
     "text": [
      "(0, 100)\n",
      "input_arr.shape  :  (200, 100)\n",
      "input_arr.shape  :  (200, 100, 1)\n"
     ]
    }
   ],
   "source": [
    "#----------------------------------------\n",
    "# create input data\n",
    "#----------------------------------------\n",
    "input_arr = np.empty(shape=(0, windowsize))\n",
    "print(input_arr.shape)\n",
    "for i in range( wave.shape[0] - (windowsize + predictsize) + 1 ):\n",
    "    input_arr = np.append(arr=input_arr,\n",
    "                           values=wave[i:(i+windowsize)].reshape(1, -1),\n",
    "                           axis=0)\n",
    "print(\"input_arr.shape  : \", input_arr.shape)\n",
    "input_arr = input_arr.reshape((-1, windowsize, 1))\n",
    "print(\"input_arr.shape  : \", input_arr.shape)"
   ]
  },
  {
   "cell_type": "markdown",
   "metadata": {
    "colab_type": "text",
    "id": "mOYgblAB9owa"
   },
   "source": [
    "## Load `Model`"
   ]
  },
  {
   "cell_type": "code",
   "execution_count": 26,
   "metadata": {},
   "outputs": [],
   "source": [
    "from keras.models import load_model"
   ]
  },
  {
   "cell_type": "code",
   "execution_count": 27,
   "metadata": {},
   "outputs": [],
   "source": [
    "modelpath = str(keras_model_h5_Path / model_filename)\n",
    "model = load_model(filepath=modelpath)"
   ]
  },
  {
   "cell_type": "code",
   "execution_count": 28,
   "metadata": {
    "colab": {
     "autoexec": {
      "startup": false,
      "wait_interval": 0
     },
     "base_uri": "https://localhost:8080/",
     "height": 428
    },
    "colab_type": "code",
    "executionInfo": {
     "elapsed": 613,
     "status": "ok",
     "timestamp": 1532589086970,
     "user": {
      "displayName": "杉崎弘明",
      "photoUrl": "//lh3.googleusercontent.com/-839AC8sb-Eg/AAAAAAAAAAI/AAAAAAAAAA8/wL07LaZurhY/s50-c-k-no/photo.jpg",
      "userId": "103645978051141582092"
     },
     "user_tz": -540
    },
    "id": "AdTUrfQjAgi3",
    "outputId": "a7ba836b-4c51-4cf1-a463-8bd5eaba8a2b"
   },
   "outputs": [
    {
     "name": "stdout",
     "output_type": "stream",
     "text": [
      "_________________________________________________________________\n",
      "Layer (type)                 Output Shape              Param #   \n",
      "=================================================================\n",
      "conv1d_6 (Conv1D)            (None, 100, 8)            88        \n",
      "_________________________________________________________________\n",
      "max_pooling1d_4 (MaxPooling1 (None, 50, 8)             0         \n",
      "_________________________________________________________________\n",
      "conv1d_7 (Conv1D)            (None, 50, 8)             648       \n",
      "_________________________________________________________________\n",
      "max_pooling1d_5 (MaxPooling1 (None, 10, 8)             0         \n",
      "_________________________________________________________________\n",
      "conv1d_8 (Conv1D)            (None, 10, 8)             648       \n",
      "_________________________________________________________________\n",
      "max_pooling1d_6 (MaxPooling1 (None, 1, 8)              0         \n",
      "_________________________________________________________________\n",
      "conv1d_9 (Conv1D)            (None, 1, 4)              324       \n",
      "_________________________________________________________________\n",
      "conv1d_10 (Conv1D)           (None, 1, 1)              33        \n",
      "=================================================================\n",
      "Total params: 1,741\n",
      "Trainable params: 1,741\n",
      "Non-trainable params: 0\n",
      "_________________________________________________________________\n"
     ]
    }
   ],
   "source": [
    "model.summary()"
   ]
  },
  {
   "cell_type": "markdown",
   "metadata": {},
   "source": [
    "## Visualize conv1d_1 Outputs"
   ]
  },
  {
   "cell_type": "markdown",
   "metadata": {},
   "source": [
    "### Get Hidden Layer Outputs\n",
    "\n",
    "- reference\n",
    "    - https://stackoverflow.com/questions/41711190/keras-how-to-get-the-output-of-each-layer"
   ]
  },
  {
   "cell_type": "code",
   "execution_count": 29,
   "metadata": {},
   "outputs": [],
   "source": [
    "from keras.models import Model\n",
    "output_layer_name = model.layers[0].name\n",
    "hidden_layer_model = Model(inputs=model.input,\n",
    "                           outputs=model.get_layer(output_layer_name).output)"
   ]
  },
  {
   "cell_type": "code",
   "execution_count": 30,
   "metadata": {},
   "outputs": [
    {
     "name": "stdout",
     "output_type": "stream",
     "text": [
      "(200, 100, 8)\n"
     ]
    }
   ],
   "source": [
    "hidden_layer_output = hidden_layer_model.predict(x=input_arr)\n",
    "print(hidden_layer_output.shape)"
   ]
  },
  {
   "cell_type": "code",
   "execution_count": 32,
   "metadata": {},
   "outputs": [],
   "source": [
    "from keras import backend as K"
   ]
  },
  {
   "cell_type": "code",
   "execution_count": 37,
   "metadata": {},
   "outputs": [],
   "source": [
    "inp = model.input"
   ]
  },
  {
   "cell_type": "code",
   "execution_count": 38,
   "metadata": {},
   "outputs": [
    {
     "data": {
      "text/plain": [
       "[<tf.Tensor 'conv1d_6_1/Relu:0' shape=(?, 100, 8) dtype=float32>,\n",
       " <tf.Tensor 'max_pooling1d_4_1/Squeeze:0' shape=(?, 50, 8) dtype=float32>,\n",
       " <tf.Tensor 'conv1d_7_1/Relu:0' shape=(?, 50, 8) dtype=float32>,\n",
       " <tf.Tensor 'max_pooling1d_5_1/Squeeze:0' shape=(?, 10, 8) dtype=float32>,\n",
       " <tf.Tensor 'conv1d_8_1/Relu:0' shape=(?, 10, 8) dtype=float32>,\n",
       " <tf.Tensor 'max_pooling1d_6_1/Squeeze:0' shape=(?, 1, 8) dtype=float32>,\n",
       " <tf.Tensor 'conv1d_9_1/Relu:0' shape=(?, 1, 4) dtype=float32>,\n",
       " <tf.Tensor 'conv1d_10_1/Tanh:0' shape=(?, 1, 1) dtype=float32>]"
      ]
     },
     "execution_count": 38,
     "metadata": {},
     "output_type": "execute_result"
    }
   ],
   "source": [
    "outputs = [layer.output for layer in model.layers]\n",
    "outputs"
   ]
  },
  {
   "cell_type": "code",
   "execution_count": 48,
   "metadata": {},
   "outputs": [
    {
     "data": {
      "text/plain": [
       "[<keras.backend.tensorflow_backend.Function at 0x7f6955257128>,\n",
       " <keras.backend.tensorflow_backend.Function at 0x7f6955257160>,\n",
       " <keras.backend.tensorflow_backend.Function at 0x7f69552571d0>,\n",
       " <keras.backend.tensorflow_backend.Function at 0x7f6955257208>,\n",
       " <keras.backend.tensorflow_backend.Function at 0x7f6955257278>,\n",
       " <keras.backend.tensorflow_backend.Function at 0x7f69552572b0>,\n",
       " <keras.backend.tensorflow_backend.Function at 0x7f69552572e8>,\n",
       " <keras.backend.tensorflow_backend.Function at 0x7f6955257320>]"
      ]
     },
     "execution_count": 48,
     "metadata": {},
     "output_type": "execute_result"
    }
   ],
   "source": [
    "functors = [K.function([inp] + [K.learning_phase()], [out]) for out in outputs]  # evaluation functions\n",
    "functors"
   ]
  },
  {
   "cell_type": "code",
   "execution_count": 40,
   "metadata": {},
   "outputs": [],
   "source": [
    "output_arr = [func([input_arr, 0]) for func in functors]"
   ]
  },
  {
   "cell_type": "code",
   "execution_count": 47,
   "metadata": {},
   "outputs": [
    {
     "name": "stdout",
     "output_type": "stream",
     "text": [
      "8\n",
      "(200, 100, 8)\n",
      "8\n",
      "(200, 50, 8)\n",
      "8\n",
      "(200, 50, 8)\n",
      "8\n",
      "(200, 10, 8)\n",
      "8\n",
      "(200, 10, 8)\n",
      "8\n",
      "(200, 1, 8)\n",
      "8\n",
      "(200, 1, 4)\n",
      "8\n",
      "(200, 1, 1)\n"
     ]
    }
   ],
   "source": [
    "for i,o in enumerate(output_arr):\n",
    "    print(len(output_arr))\n",
    "    #print(len(output_arr[i]))\n",
    "    print(output_arr[i][0].shape)"
   ]
  },
  {
   "cell_type": "code",
   "execution_count": null,
   "metadata": {},
   "outputs": [],
   "source": []
  },
  {
   "cell_type": "markdown",
   "metadata": {},
   "source": [
    "### `ch 0`"
   ]
  },
  {
   "cell_type": "markdown",
   "metadata": {
    "colab_type": "text",
    "id": "NwOGYU-3wyuz"
   },
   "source": [
    "## End"
   ]
  }
 ],
 "metadata": {
  "colab": {
   "default_view": {},
   "name": "一次元データ_Conv1d_重み可視化__sinFunc.ipynb",
   "provenance": [],
   "toc_visible": true,
   "version": "0.3.2",
   "views": {}
  },
  "kernelspec": {
   "display_name": "Python 3",
   "language": "python",
   "name": "python3"
  },
  "language_info": {
   "codemirror_mode": {
    "name": "ipython",
    "version": 3
   },
   "file_extension": ".py",
   "mimetype": "text/x-python",
   "name": "python",
   "nbconvert_exporter": "python",
   "pygments_lexer": "ipython3",
   "version": "3.5.2"
  },
  "toc": {
   "base_numbering": 1,
   "nav_menu": {},
   "number_sections": true,
   "sideBar": true,
   "skip_h1_title": true,
   "title_cell": "Table of Contents",
   "title_sidebar": "Contents",
   "toc_cell": true,
   "toc_position": {
    "height": "calc(100% - 180px)",
    "left": "10px",
    "top": "150px",
    "width": "265px"
   },
   "toc_section_display": true,
   "toc_window_display": true
  },
  "varInspector": {
   "cols": {
    "lenName": 16,
    "lenType": 16,
    "lenVar": 40
   },
   "kernels_config": {
    "python": {
     "delete_cmd_postfix": "",
     "delete_cmd_prefix": "del ",
     "library": "var_list.py",
     "varRefreshCmd": "print(var_dic_list())"
    },
    "r": {
     "delete_cmd_postfix": ") ",
     "delete_cmd_prefix": "rm(",
     "library": "var_list.r",
     "varRefreshCmd": "cat(var_dic_list()) "
    }
   },
   "oldHeight": 456.85,
   "position": {
    "height": "40px",
    "left": "744px",
    "right": "1px",
    "top": "100px",
    "width": "580px"
   },
   "types_to_exclude": [
    "module",
    "function",
    "builtin_function_or_method",
    "instance",
    "_Feature"
   ],
   "varInspector_section_display": "none",
   "window_display": false
  }
 },
 "nbformat": 4,
 "nbformat_minor": 1
}
